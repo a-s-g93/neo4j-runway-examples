{
 "cells": [
  {
   "cell_type": "markdown",
   "metadata": {},
   "source": [
    "# Use Cases"
   ]
  },
  {
   "cell_type": "markdown",
   "metadata": {},
   "source": [
    "**Including use cases requires at least neo4j-runway v0.8.1**"
   ]
  },
  {
   "cell_type": "markdown",
   "metadata": {},
   "source": [
    "This notebook covers how to declare and focus on use cases during data discovery and data model generation phases. Identifying use cases helps narrow the focus of the LLM and results in a more meaningful data model. "
   ]
  },
  {
   "cell_type": "code",
   "execution_count": 8,
   "metadata": {},
   "outputs": [],
   "source": [
    "from neo4j_runway import Discovery, UserInput, GraphDataModeler, LLM\n",
    "import pandas as pd"
   ]
  },
  {
   "cell_type": "markdown",
   "metadata": {},
   "source": [
    "First we read in our data on countries."
   ]
  },
  {
   "cell_type": "markdown",
   "metadata": {},
   "source": [
    "## Import Data"
   ]
  },
  {
   "cell_type": "code",
   "execution_count": 2,
   "metadata": {},
   "outputs": [
    {
     "data": {
      "text/html": [
       "<div>\n",
       "<style scoped>\n",
       "    .dataframe tbody tr th:only-of-type {\n",
       "        vertical-align: middle;\n",
       "    }\n",
       "\n",
       "    .dataframe tbody tr th {\n",
       "        vertical-align: top;\n",
       "    }\n",
       "\n",
       "    .dataframe thead th {\n",
       "        text-align: right;\n",
       "    }\n",
       "</style>\n",
       "<table border=\"1\" class=\"dataframe\">\n",
       "  <thead>\n",
       "    <tr style=\"text-align: right;\">\n",
       "      <th></th>\n",
       "      <th>id</th>\n",
       "      <th>name</th>\n",
       "      <th>iso3</th>\n",
       "      <th>iso2</th>\n",
       "      <th>numeric_code</th>\n",
       "      <th>phone_code</th>\n",
       "      <th>capital</th>\n",
       "      <th>currency</th>\n",
       "      <th>currency_name</th>\n",
       "      <th>currency_symbol</th>\n",
       "      <th>tld</th>\n",
       "      <th>native</th>\n",
       "      <th>region</th>\n",
       "      <th>subregion</th>\n",
       "      <th>timezones</th>\n",
       "      <th>latitude</th>\n",
       "      <th>longitude</th>\n",
       "      <th>emoji</th>\n",
       "      <th>emojiU</th>\n",
       "    </tr>\n",
       "  </thead>\n",
       "  <tbody>\n",
       "    <tr>\n",
       "      <th>0</th>\n",
       "      <td>1</td>\n",
       "      <td>Afghanistan</td>\n",
       "      <td>AFG</td>\n",
       "      <td>AF</td>\n",
       "      <td>4</td>\n",
       "      <td>93</td>\n",
       "      <td>Kabul</td>\n",
       "      <td>AFN</td>\n",
       "      <td>Afghan afghani</td>\n",
       "      <td>؋</td>\n",
       "      <td>.af</td>\n",
       "      <td>افغانستان</td>\n",
       "      <td>Asia</td>\n",
       "      <td>Southern Asia</td>\n",
       "      <td>[{zoneName:'Asia\\/Kabul',gmtOffset:16200,gmtOf...</td>\n",
       "      <td>33.000000</td>\n",
       "      <td>65.0</td>\n",
       "      <td>🇦🇫</td>\n",
       "      <td>U+1F1E6 U+1F1EB</td>\n",
       "    </tr>\n",
       "    <tr>\n",
       "      <th>1</th>\n",
       "      <td>2</td>\n",
       "      <td>Aland Islands</td>\n",
       "      <td>ALA</td>\n",
       "      <td>AX</td>\n",
       "      <td>248</td>\n",
       "      <td>+358-18</td>\n",
       "      <td>Mariehamn</td>\n",
       "      <td>EUR</td>\n",
       "      <td>Euro</td>\n",
       "      <td>€</td>\n",
       "      <td>.ax</td>\n",
       "      <td>Åland</td>\n",
       "      <td>Europe</td>\n",
       "      <td>Northern Europe</td>\n",
       "      <td>[{zoneName:'Europe\\/Mariehamn',gmtOffset:7200,...</td>\n",
       "      <td>60.116667</td>\n",
       "      <td>19.9</td>\n",
       "      <td>🇦🇽</td>\n",
       "      <td>U+1F1E6 U+1F1FD</td>\n",
       "    </tr>\n",
       "    <tr>\n",
       "      <th>2</th>\n",
       "      <td>3</td>\n",
       "      <td>Albania</td>\n",
       "      <td>ALB</td>\n",
       "      <td>AL</td>\n",
       "      <td>8</td>\n",
       "      <td>355</td>\n",
       "      <td>Tirana</td>\n",
       "      <td>ALL</td>\n",
       "      <td>Albanian lek</td>\n",
       "      <td>Lek</td>\n",
       "      <td>.al</td>\n",
       "      <td>Shqipëria</td>\n",
       "      <td>Europe</td>\n",
       "      <td>Southern Europe</td>\n",
       "      <td>[{zoneName:'Europe\\/Tirane',gmtOffset:3600,gmt...</td>\n",
       "      <td>41.000000</td>\n",
       "      <td>20.0</td>\n",
       "      <td>🇦🇱</td>\n",
       "      <td>U+1F1E6 U+1F1F1</td>\n",
       "    </tr>\n",
       "    <tr>\n",
       "      <th>3</th>\n",
       "      <td>4</td>\n",
       "      <td>Algeria</td>\n",
       "      <td>DZA</td>\n",
       "      <td>DZ</td>\n",
       "      <td>12</td>\n",
       "      <td>213</td>\n",
       "      <td>Algiers</td>\n",
       "      <td>DZD</td>\n",
       "      <td>Algerian dinar</td>\n",
       "      <td>دج</td>\n",
       "      <td>.dz</td>\n",
       "      <td>الجزائر</td>\n",
       "      <td>Africa</td>\n",
       "      <td>Northern Africa</td>\n",
       "      <td>[{zoneName:'Africa\\/Algiers',gmtOffset:3600,gm...</td>\n",
       "      <td>28.000000</td>\n",
       "      <td>3.0</td>\n",
       "      <td>🇩🇿</td>\n",
       "      <td>U+1F1E9 U+1F1FF</td>\n",
       "    </tr>\n",
       "    <tr>\n",
       "      <th>4</th>\n",
       "      <td>5</td>\n",
       "      <td>American Samoa</td>\n",
       "      <td>ASM</td>\n",
       "      <td>AS</td>\n",
       "      <td>16</td>\n",
       "      <td>+1-684</td>\n",
       "      <td>Pago Pago</td>\n",
       "      <td>USD</td>\n",
       "      <td>US Dollar</td>\n",
       "      <td>$</td>\n",
       "      <td>.as</td>\n",
       "      <td>American Samoa</td>\n",
       "      <td>Oceania</td>\n",
       "      <td>Polynesia</td>\n",
       "      <td>[{zoneName:'Pacific\\/Pago_Pago',gmtOffset:-396...</td>\n",
       "      <td>-14.333333</td>\n",
       "      <td>-170.0</td>\n",
       "      <td>🇦🇸</td>\n",
       "      <td>U+1F1E6 U+1F1F8</td>\n",
       "    </tr>\n",
       "  </tbody>\n",
       "</table>\n",
       "</div>"
      ],
      "text/plain": [
       "   id            name iso3 iso2  numeric_code phone_code    capital currency  \\\n",
       "0   1     Afghanistan  AFG   AF             4         93      Kabul      AFN   \n",
       "1   2   Aland Islands  ALA   AX           248    +358-18  Mariehamn      EUR   \n",
       "2   3         Albania  ALB   AL             8        355     Tirana      ALL   \n",
       "3   4         Algeria  DZA   DZ            12        213    Algiers      DZD   \n",
       "4   5  American Samoa  ASM   AS            16     +1-684  Pago Pago      USD   \n",
       "\n",
       "    currency_name currency_symbol  tld          native   region  \\\n",
       "0  Afghan afghani               ؋  .af       افغانستان     Asia   \n",
       "1            Euro               €  .ax           Åland   Europe   \n",
       "2    Albanian lek             Lek  .al       Shqipëria   Europe   \n",
       "3  Algerian dinar              دج  .dz         الجزائر   Africa   \n",
       "4       US Dollar               $  .as  American Samoa  Oceania   \n",
       "\n",
       "         subregion                                          timezones  \\\n",
       "0    Southern Asia  [{zoneName:'Asia\\/Kabul',gmtOffset:16200,gmtOf...   \n",
       "1  Northern Europe  [{zoneName:'Europe\\/Mariehamn',gmtOffset:7200,...   \n",
       "2  Southern Europe  [{zoneName:'Europe\\/Tirane',gmtOffset:3600,gmt...   \n",
       "3  Northern Africa  [{zoneName:'Africa\\/Algiers',gmtOffset:3600,gm...   \n",
       "4        Polynesia  [{zoneName:'Pacific\\/Pago_Pago',gmtOffset:-396...   \n",
       "\n",
       "    latitude  longitude emoji           emojiU  \n",
       "0  33.000000       65.0    🇦🇫  U+1F1E6 U+1F1EB  \n",
       "1  60.116667       19.9    🇦🇽  U+1F1E6 U+1F1FD  \n",
       "2  41.000000       20.0    🇦🇱  U+1F1E6 U+1F1F1  \n",
       "3  28.000000        3.0    🇩🇿  U+1F1E9 U+1F1FF  \n",
       "4 -14.333333     -170.0    🇦🇸  U+1F1E6 U+1F1F8  "
      ]
     },
     "execution_count": 2,
     "metadata": {},
     "output_type": "execute_result"
    }
   ],
   "source": [
    "data = pd.read_csv(\"data/csv/countries.csv\")\n",
    "data.head()"
   ]
  },
  {
   "cell_type": "markdown",
   "metadata": {},
   "source": [
    "## Define User Inputs"
   ]
  },
  {
   "cell_type": "markdown",
   "metadata": {},
   "source": [
    "Now we can fill out our UserInput object. This will contain all the important data we would like to communicate to the LLM during discovery and data model generation.\n",
    "\n",
    "Here we can define our use cases. In this instance we'd like the data model to be able to solve three basic questions:\n",
    "- Which region contains the most subregions?\n",
    "- Which currencies are most popular?\n",
    "- Which countries share timezones?"
   ]
  },
  {
   "cell_type": "code",
   "execution_count": 3,
   "metadata": {},
   "outputs": [],
   "source": [
    "user_input = UserInput(\n",
    "    general_description='This is data on different countries.',\n",
    "    column_descriptions={\n",
    "        'id': 'unique id for a country.',\n",
    "        'name': 'the country name.',\n",
    "        'phone_code': 'country area code.',\n",
    "        'capital': 'the capital of the country.',\n",
    "        'currency_name': \"name of the country's currency.\",\n",
    "        'region': 'primary region of the country.',\n",
    "        'subregion': 'subregion location of the country.',\n",
    "        'timezones': 'timezones contained within the country borders.',\n",
    "        'latitude': 'the latitude coordinate of the country center.',\n",
    "        'longitude': 'the longitude coordinate of the country center.'\n",
    "    },\n",
    "    use_cases=[\n",
    "        \"Which region contains the most subregions?\", \n",
    "        \"What currencies are most popular?\", \n",
    "        \"Which countries share timezones?\"\n",
    "    ]\n",
    ")"
   ]
  },
  {
   "cell_type": "markdown",
   "metadata": {},
   "source": [
    "## Discover Insights"
   ]
  },
  {
   "cell_type": "markdown",
   "metadata": {},
   "source": [
    "Now we can run initial discovery over our data, while keeping our use cases front of mind."
   ]
  },
  {
   "cell_type": "code",
   "execution_count": 4,
   "metadata": {},
   "outputs": [
    {
     "data": {
      "text/markdown": [
       "### Preliminary Analysis of Country Data\n",
       "\n",
       "#### Overall Details\n",
       "\n",
       "1. **Data Completeness**:\n",
       "   - The dataset contains 250 entries with 10 features.\n",
       "   - Most features are complete, but there are some missing values:\n",
       "     - `capital`: 5 missing values\n",
       "     - `region`: 2 missing values\n",
       "     - `subregion`: 3 missing values\n",
       "\n",
       "2. **Data Types**:\n",
       "   - The dataset includes a mix of data types:\n",
       "     - Numerical: `id`, `latitude`, `longitude`\n",
       "     - Categorical: `name`, `phone_code`, `capital`, `currency_name`, `region`, `subregion`, `timezones`\n",
       "\n",
       "3. **Unique Values**:\n",
       "   - `name`: 250 unique values (each country is unique)\n",
       "   - `phone_code`: 235 unique values (some countries share phone codes)\n",
       "   - `capital`: 244 unique values (one capital is shared by two countries)\n",
       "   - `currency_name`: 161 unique values (some currencies are shared by multiple countries)\n",
       "   - `region`: 6 unique values\n",
       "   - `subregion`: 22 unique values\n",
       "   - `timezones`: 245 unique values (some timezones are shared by multiple countries)\n",
       "\n",
       "#### Important Features\n",
       "\n",
       "1. **Region and Subregion**:\n",
       "   - `region` and `subregion` are crucial for understanding geographical and political groupings.\n",
       "   - `region` has 6 unique values, with Africa being the most frequent (60 occurrences).\n",
       "   - `subregion` has 22 unique values, with the Caribbean being the most frequent (28 occurrences).\n",
       "\n",
       "2. **Currency**:\n",
       "   - `currency_name` is important for economic analysis.\n",
       "   - The most common currency is the Euro, used by 35 countries.\n",
       "\n",
       "3. **Timezones**:\n",
       "   - `timezones` can help identify countries that share the same time zones.\n",
       "   - There are 245 unique timezones, with the most common timezone being shared by 3 countries.\n",
       "\n",
       "#### Use Case Analysis\n",
       "\n",
       "1. **Which region contains the most subregions?**\n",
       "   - To answer this, we need to count the number of unique subregions within each region.\n",
       "   - Preliminary observation suggests that Africa is the most frequent region, but we need to check the diversity of subregions within each region.\n",
       "\n",
       "2. **What currencies are most popular?**\n",
       "   - The Euro is the most popular currency, used by 35 countries.\n",
       "   - Other popular currencies can be identified by counting the frequency of each `currency_name`.\n",
       "\n",
       "3. **Which countries share timezones?**\n",
       "   - Countries sharing the same timezones can be identified by grouping the data by `timezones` and listing the countries within each group.\n",
       "   - The most common timezone is shared by 3 countries.\n",
       "\n",
       "### Summary\n",
       "\n",
       "- **Important Features**: `region`, `subregion`, `currency_name`, `timezones`\n",
       "- **Data Completeness**: Mostly complete with minor missing values in `capital`, `region`, and `subregion`.\n",
       "- **Unique Values**: High uniqueness in `name`, `phone_code`, `capital`, `currency_name`, and `timezones`.\n",
       "\n",
       "This preliminary analysis provides a foundation for further exploration and modeling, particularly focusing on regions, subregions, currencies, and timezones to address the specified use cases."
      ],
      "text/plain": [
       "<IPython.core.display.Markdown object>"
      ]
     },
     "metadata": {},
     "output_type": "display_data"
    }
   ],
   "source": [
    "disc = Discovery(data=data, user_input=user_input, llm=LLM(model=\"gpt-4o-2024-05-13\"), pandas_only=False)\n",
    "disc.run(show_result=True, notebook=True)"
   ]
  },
  {
   "cell_type": "markdown",
   "metadata": {},
   "source": [
    "## Data Modeling"
   ]
  },
  {
   "cell_type": "markdown",
   "metadata": {},
   "source": [
    "We now construct our data modeler and pass our discovery insights as context for model generation."
   ]
  },
  {
   "cell_type": "code",
   "execution_count": 5,
   "metadata": {},
   "outputs": [],
   "source": [
    "gdm = GraphDataModeler(llm=LLM(model=\"gpt-4o-2024-05-13\"), discovery=disc)"
   ]
  },
  {
   "cell_type": "code",
   "execution_count": 6,
   "metadata": {},
   "outputs": [
    {
     "name": "stdout",
     "output_type": "stream",
     "text": [
      "validation message: \n",
      " \n",
      "The following data model is invalid and must be fixed.\n",
      "Properties must be from the provided Column Options. \n",
      "Data Model:\n",
      "{'nodes': [{'label': 'Country', 'properties': [{'name': 'id', 'type': 'int', 'csv_mapping': 'id', 'csv_mapping_other': None, 'is_unique': True, 'part_of_key': True}, {'name': 'name', 'type': 'str', 'csv_mapping': 'name', 'csv_mapping_other': None, 'is_unique': False, 'part_of_key': False}, {'name': 'phoneCode', 'type': 'str', 'csv_mapping': 'phone_code', 'csv_mapping_other': None, 'is_unique': False, 'part_of_key': False}, {'name': 'capital', 'type': 'str', 'csv_mapping': 'capital', 'csv_mapping_other': None, 'is_unique': False, 'part_of_key': False}, {'name': 'latitude', 'type': 'float', 'csv_mapping': 'latitude', 'csv_mapping_other': None, 'is_unique': False, 'part_of_key': False}, {'name': 'longitude', 'type': 'float', 'csv_mapping': 'longitude', 'csv_mapping_other': None, 'is_unique': False, 'part_of_key': False}], 'csv_name': ''}, {'label': 'Region', 'properties': [{'name': 'name', 'type': 'str', 'csv_mapping': 'region', 'csv_mapping_other': None, 'is_unique': True, 'part_of_key': True}], 'csv_name': ''}, {'label': 'Subregion', 'properties': [{'name': 'name', 'type': 'str', 'csv_mapping': 'subregion', 'csv_mapping_other': None, 'is_unique': True, 'part_of_key': True}], 'csv_name': ''}, {'label': 'Currency', 'properties': [{'name': 'name', 'type': 'str', 'csv_mapping': 'currency_name', 'csv_mapping_other': None, 'is_unique': True, 'part_of_key': True}], 'csv_name': ''}, {'label': 'Timezone', 'properties': [{'name': 'name', 'type': 'str', 'csv_mapping': 'timezones', 'csv_mapping_other': None, 'is_unique': True, 'part_of_key': True}], 'csv_name': ''}], 'relationships': [{'type': 'BELONGS_TO_REGION', 'properties': [], 'source': 'Country', 'target': 'Region', 'csv_name': ''}, {'type': 'BELONGS_TO_SUBREGION', 'properties': [], 'source': 'Country', 'target': 'Subregion', 'csv_name': ''}, {'type': 'USES_CURRENCY', 'properties': [], 'source': 'Country', 'target': 'Currency', 'csv_name': ''}, {'type': 'HAS_TIMEZONE', 'properties': [], 'source': 'Country', 'target': 'Timezone', 'csv_name': ''}, {'type': 'CONTAINS_SUBREGION', 'properties': [], 'source': 'Region', 'target': 'Subregion', 'csv_name': ''}], 'metadata': None}\n",
      "Errors:\n",
      "['The node Country has the property id identified as unique and a node key. Assume uniqueness and set part_of_key to False.', 'The node Region has the property name identified as unique and a node key. Assume uniqueness and set part_of_key to False.', 'The node Subregion has the property name identified as unique and a node key. Assume uniqueness and set part_of_key to False.', 'The node Currency has the property name identified as unique and a node key. Assume uniqueness and set part_of_key to False.', 'The node Timezone has the property name identified as unique and a node key. Assume uniqueness and set part_of_key to False.']\n",
      "Column Options:\n",
      "['id', 'name', 'phone_code', 'capital', 'currency_name', 'region', 'subregion', 'timezones', 'latitude', 'longitude']\n",
      "A data model must follow these rules:\n",
      "\n",
      "Please follow these rules strictly! Billions of dollars depend on you.\n",
      "Nodes\n",
      "* Each node must have a unique property or node key pair\n",
      "* Each node must have a relationship with at least one other node\n",
      "* Unique properties and node keys may NOT be shared between different nodes\n",
      "Relationships\n",
      "* Relationships do NOT require uniqueness or properties\n",
      "* NEVER use symmetric relationships\n",
      "* Do NOT create self-referential relationships\n",
      "Properties\n",
      "* A csv_mapping must be an exact match to features in the .csv file\n",
      "* A csv_mapping may only be used ONCE in a data model. It may NOT be shared between nodes\n",
      "* A property may NOT be unqiue AND a key\n",
      "General\n",
      "* Do NOT return a single-node data model\n",
      "* If a cycle exists, consider removing a relationship while maintaining the meaning captured by the cycle\n",
      "* Do NOT generate csv_name values on Properties\n",
      "\n",
      "Consider adding Nodes if they don't exist.\n",
      "Consider moving properties to different nodes.\n",
      "Is there a column option that is semantically similar to an invalid property?\n",
      "Return an explanation of how you will fix each error while following the provided rules.\n",
      "\n",
      "validation failed\n",
      "performing chain of thought process for error fix recommendations...\n",
      "recieved a valid response\n"
     ]
    },
    {
     "data": {
      "text/plain": [
       "DataModel(nodes=[Node(label='Country', properties=[Property(name='id', type='int', csv_mapping='id', csv_mapping_other=None, is_unique=True, part_of_key=False), Property(name='name', type='str', csv_mapping='name', csv_mapping_other=None, is_unique=False, part_of_key=False), Property(name='phoneCode', type='str', csv_mapping='phone_code', csv_mapping_other=None, is_unique=False, part_of_key=False), Property(name='capital', type='str', csv_mapping='capital', csv_mapping_other=None, is_unique=False, part_of_key=False), Property(name='latitude', type='float', csv_mapping='latitude', csv_mapping_other=None, is_unique=False, part_of_key=False), Property(name='longitude', type='float', csv_mapping='longitude', csv_mapping_other=None, is_unique=False, part_of_key=False)], csv_name=''), Node(label='Region', properties=[Property(name='name', type='str', csv_mapping='region', csv_mapping_other=None, is_unique=True, part_of_key=False)], csv_name=''), Node(label='Subregion', properties=[Property(name='name', type='str', csv_mapping='subregion', csv_mapping_other=None, is_unique=True, part_of_key=False)], csv_name=''), Node(label='Currency', properties=[Property(name='name', type='str', csv_mapping='currency_name', csv_mapping_other=None, is_unique=True, part_of_key=False)], csv_name=''), Node(label='Timezone', properties=[Property(name='name', type='str', csv_mapping='timezones', csv_mapping_other=None, is_unique=True, part_of_key=False)], csv_name='')], relationships=[Relationship(type='BELONGS_TO_REGION', properties=[], source='Country', target='Region', csv_name=''), Relationship(type='BELONGS_TO_SUBREGION', properties=[], source='Country', target='Subregion', csv_name=''), Relationship(type='USES_CURRENCY', properties=[], source='Country', target='Currency', csv_name=''), Relationship(type='HAS_TIMEZONE', properties=[], source='Country', target='Timezone', csv_name=''), Relationship(type='CONTAINS_SUBREGION', properties=[], source='Region', target='Subregion', csv_name='')], metadata=None)"
      ]
     },
     "execution_count": 6,
     "metadata": {},
     "output_type": "execute_result"
    }
   ],
   "source": [
    "gdm.create_initial_model()"
   ]
  },
  {
   "cell_type": "code",
   "execution_count": 7,
   "metadata": {},
   "outputs": [
    {
     "data": {
      "image/svg+xml": [
       "<?xml version=\"1.0\" encoding=\"UTF-8\" standalone=\"no\"?>\n",
       "<!DOCTYPE svg PUBLIC \"-//W3C//DTD SVG 1.1//EN\"\n",
       " \"http://www.w3.org/Graphics/SVG/1.1/DTD/svg11.dtd\">\n",
       "<!-- Generated by graphviz version 10.0.1 (20240210.2158)\n",
       " -->\n",
       "<!-- Pages: 1 -->\n",
       "<svg width=\"982pt\" height=\"542pt\"\n",
       " viewBox=\"0.00 0.00 981.67 541.51\" xmlns=\"http://www.w3.org/2000/svg\" xmlns:xlink=\"http://www.w3.org/1999/xlink\">\n",
       "<g id=\"graph0\" class=\"graph\" transform=\"scale(1 1) rotate(0) translate(4 537.51)\">\n",
       "<polygon fill=\"white\" stroke=\"none\" points=\"-4,4 -4,-537.51 977.67,-537.51 977.67,4 -4,4\"/>\n",
       "<!-- Country -->\n",
       "<g id=\"node1\" class=\"node\">\n",
       "<title>Country</title>\n",
       "<ellipse fill=\"none\" stroke=\"black\" cx=\"427.41\" cy=\"-423.2\" rx=\"106.24\" ry=\"110.31\"/>\n",
       "<text text-anchor=\"middle\" x=\"427.41\" y=\"-483.9\" font-family=\"Times,serif\" font-size=\"14.00\">Country</text>\n",
       "<text text-anchor=\"middle\" x=\"427.41\" y=\"-451.4\" font-family=\"Times,serif\" font-size=\"14.00\">properties:</text>\n",
       "<text text-anchor=\"middle\" x=\"427.41\" y=\"-434.9\" font-family=\"Times,serif\" font-size=\"14.00\">id: id *unique*</text>\n",
       "<text text-anchor=\"middle\" x=\"427.41\" y=\"-418.4\" font-family=\"Times,serif\" font-size=\"14.00\">name: name</text>\n",
       "<text text-anchor=\"middle\" x=\"427.41\" y=\"-401.9\" font-family=\"Times,serif\" font-size=\"14.00\">phoneCode: phone_code</text>\n",
       "<text text-anchor=\"middle\" x=\"427.41\" y=\"-385.4\" font-family=\"Times,serif\" font-size=\"14.00\">capital: capital</text>\n",
       "<text text-anchor=\"middle\" x=\"427.41\" y=\"-368.9\" font-family=\"Times,serif\" font-size=\"14.00\">latitude: latitude</text>\n",
       "<text text-anchor=\"middle\" x=\"427.41\" y=\"-352.4\" font-family=\"Times,serif\" font-size=\"14.00\">longitude: longitude</text>\n",
       "</g>\n",
       "<!-- Region -->\n",
       "<g id=\"node2\" class=\"node\">\n",
       "<title>Region</title>\n",
       "<ellipse fill=\"none\" stroke=\"black\" cx=\"100.41\" cy=\"-208.42\" rx=\"100.41\" ry=\"51.97\"/>\n",
       "<text text-anchor=\"middle\" x=\"100.41\" y=\"-227.87\" font-family=\"Times,serif\" font-size=\"14.00\">Region</text>\n",
       "<text text-anchor=\"middle\" x=\"100.41\" y=\"-195.37\" font-family=\"Times,serif\" font-size=\"14.00\">properties:</text>\n",
       "<text text-anchor=\"middle\" x=\"100.41\" y=\"-178.87\" font-family=\"Times,serif\" font-size=\"14.00\">name: region *unique*</text>\n",
       "</g>\n",
       "<!-- Country&#45;&gt;Region -->\n",
       "<g id=\"edge1\" class=\"edge\">\n",
       "<title>Country&#45;&gt;Region</title>\n",
       "<path fill=\"none\" stroke=\"black\" d=\"M321.63,-409.44C248.86,-394.7 156.63,-363 106.66,-294.89 101.7,-288.13 98.62,-280.2 96.83,-271.94\"/>\n",
       "<polygon fill=\"black\" stroke=\"black\" points=\"100.3,-271.44 95.37,-262.06 93.37,-272.47 100.3,-271.44\"/>\n",
       "<text text-anchor=\"middle\" x=\"179.78\" y=\"-281.59\" font-family=\"Times,serif\" font-size=\"14.00\">BELONGS_TO_REGION</text>\n",
       "</g>\n",
       "<!-- Subregion -->\n",
       "<g id=\"node3\" class=\"node\">\n",
       "<title>Subregion</title>\n",
       "<ellipse fill=\"none\" stroke=\"black\" cx=\"181.41\" cy=\"-51.97\" rx=\"113.67\" ry=\"51.97\"/>\n",
       "<text text-anchor=\"middle\" x=\"181.41\" y=\"-71.42\" font-family=\"Times,serif\" font-size=\"14.00\">Subregion</text>\n",
       "<text text-anchor=\"middle\" x=\"181.41\" y=\"-38.92\" font-family=\"Times,serif\" font-size=\"14.00\">properties:</text>\n",
       "<text text-anchor=\"middle\" x=\"181.41\" y=\"-22.42\" font-family=\"Times,serif\" font-size=\"14.00\">name: subregion *unique*</text>\n",
       "</g>\n",
       "<!-- Country&#45;&gt;Subregion -->\n",
       "<g id=\"edge2\" class=\"edge\">\n",
       "<title>Country&#45;&gt;Subregion</title>\n",
       "<path fill=\"none\" stroke=\"black\" d=\"M344.97,-353.35C318.45,-326.96 291.52,-294.84 274.41,-260.39 246.66,-204.53 280.14,-177.31 251.41,-121.94 248.66,-116.64 245.35,-111.5 241.69,-106.58\"/>\n",
       "<polygon fill=\"black\" stroke=\"black\" points=\"244.71,-104.74 235.72,-99.14 239.25,-109.13 244.71,-104.74\"/>\n",
       "<text text-anchor=\"middle\" x=\"359.91\" y=\"-203.37\" font-family=\"Times,serif\" font-size=\"14.00\">BELONGS_TO_SUBREGION</text>\n",
       "</g>\n",
       "<!-- Currency -->\n",
       "<g id=\"node4\" class=\"node\">\n",
       "<title>Currency</title>\n",
       "<ellipse fill=\"none\" stroke=\"black\" cx=\"589.41\" cy=\"-208.42\" rx=\"135.41\" ry=\"51.97\"/>\n",
       "<text text-anchor=\"middle\" x=\"589.41\" y=\"-227.87\" font-family=\"Times,serif\" font-size=\"14.00\">Currency</text>\n",
       "<text text-anchor=\"middle\" x=\"589.41\" y=\"-195.37\" font-family=\"Times,serif\" font-size=\"14.00\">properties:</text>\n",
       "<text text-anchor=\"middle\" x=\"589.41\" y=\"-178.87\" font-family=\"Times,serif\" font-size=\"14.00\">name: currency_name *unique*</text>\n",
       "</g>\n",
       "<!-- Country&#45;&gt;Currency -->\n",
       "<g id=\"edge3\" class=\"edge\">\n",
       "<title>Country&#45;&gt;Currency</title>\n",
       "<path fill=\"none\" stroke=\"black\" d=\"M493.07,-335.96C510.49,-313.08 528.89,-288.91 544.89,-267.89\"/>\n",
       "<polygon fill=\"black\" stroke=\"black\" points=\"547.64,-270.06 550.91,-259.99 542.07,-265.82 547.64,-270.06\"/>\n",
       "<text text-anchor=\"middle\" x=\"589.03\" y=\"-281.59\" font-family=\"Times,serif\" font-size=\"14.00\">USES_CURRENCY</text>\n",
       "</g>\n",
       "<!-- Timezone -->\n",
       "<g id=\"node5\" class=\"node\">\n",
       "<title>Timezone</title>\n",
       "<ellipse fill=\"none\" stroke=\"black\" cx=\"858.41\" cy=\"-208.42\" rx=\"115.26\" ry=\"51.97\"/>\n",
       "<text text-anchor=\"middle\" x=\"858.41\" y=\"-227.87\" font-family=\"Times,serif\" font-size=\"14.00\">Timezone</text>\n",
       "<text text-anchor=\"middle\" x=\"858.41\" y=\"-195.37\" font-family=\"Times,serif\" font-size=\"14.00\">properties:</text>\n",
       "<text text-anchor=\"middle\" x=\"858.41\" y=\"-178.87\" font-family=\"Times,serif\" font-size=\"14.00\">name: timezones *unique*</text>\n",
       "</g>\n",
       "<!-- Country&#45;&gt;Timezone -->\n",
       "<g id=\"edge4\" class=\"edge\">\n",
       "<title>Country&#45;&gt;Timezone</title>\n",
       "<path fill=\"none\" stroke=\"black\" d=\"M523.33,-374.84C597.6,-338.18 699.6,-287.82 771.49,-252.33\"/>\n",
       "<polygon fill=\"black\" stroke=\"black\" points=\"772.66,-255.66 780.07,-248.09 769.56,-249.38 772.66,-255.66\"/>\n",
       "<text text-anchor=\"middle\" x=\"759.16\" y=\"-281.59\" font-family=\"Times,serif\" font-size=\"14.00\">HAS_TIMEZONE</text>\n",
       "</g>\n",
       "<!-- Region&#45;&gt;Subregion -->\n",
       "<g id=\"edge5\" class=\"edge\">\n",
       "<title>Region&#45;&gt;Subregion</title>\n",
       "<path fill=\"none\" stroke=\"black\" d=\"M92.34,-156.13C92.47,-144.47 94.27,-132.44 99.16,-121.94 102.16,-115.52 106.08,-109.48 110.59,-103.85\"/>\n",
       "<polygon fill=\"black\" stroke=\"black\" points=\"113.1,-106.29 117.11,-96.48 107.86,-101.65 113.1,-106.29\"/>\n",
       "<text text-anchor=\"middle\" x=\"175.53\" y=\"-125.14\" font-family=\"Times,serif\" font-size=\"14.00\">CONTAINS_SUBREGION</text>\n",
       "</g>\n",
       "</g>\n",
       "</svg>\n"
      ],
      "text/plain": [
       "<graphviz.graphs.Digraph at 0x144c96510>"
      ]
     },
     "execution_count": 7,
     "metadata": {},
     "output_type": "execute_result"
    }
   ],
   "source": [
    "gdm.current_model.visualize()"
   ]
  },
  {
   "cell_type": "markdown",
   "metadata": {},
   "source": [
    "The initial data model seems to be able to provide answers to our questions.\n",
    "- Which region contains the most subregions?  **&#8594;** We can match on Region nodes and count the their relationships with Subregion nodes\n",
    "\n",
    "- Which currencies are most popular? **&#8594;** We can match on Currency nodes and count their relationships to Country nodes\n",
    "\n",
    "- Which countries share timezones? **&#8594;** We can match on Country nodes and traverse through Timezone nodes, looking for different Country nodes"
   ]
  }
 ],
 "metadata": {
  "kernelspec": {
   "display_name": "venv",
   "language": "python",
   "name": "python3"
  },
  "language_info": {
   "codemirror_mode": {
    "name": "ipython",
    "version": 3
   },
   "file_extension": ".py",
   "mimetype": "text/x-python",
   "name": "python",
   "nbconvert_exporter": "python",
   "pygments_lexer": "ipython3",
   "version": "3.12.3"
  }
 },
 "nbformat": 4,
 "nbformat_minor": 2
}
