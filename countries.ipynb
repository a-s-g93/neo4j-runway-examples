{
 "cells": [
  {
   "cell_type": "markdown",
   "metadata": {},
   "source": [
    "# CSV --> Graph Demo"
   ]
  },
  {
   "cell_type": "markdown",
   "metadata": {},
   "source": [
    "This notebooks demonstrates the data flow of generating a graph from a CSV file. "
   ]
  },
  {
   "cell_type": "code",
   "execution_count": 1,
   "metadata": {},
   "outputs": [
    {
     "data": {
      "text/plain": [
       "True"
      ]
     },
     "execution_count": 1,
     "metadata": {},
     "output_type": "execute_result"
    }
   ],
   "source": [
    "import os\n",
    "\n",
    "import pandas as pd\n",
    "from dotenv import load_dotenv\n",
    "\n",
    "from neo4j_runway import Discovery, GraphDataModeler, IngestionGenerator, LLM, PyIngest\n",
    "from neo4j_runway.utils import test_database_connection\n",
    "\n",
    "load_dotenv()"
   ]
  },
  {
   "cell_type": "markdown",
   "metadata": {},
   "source": [
    "## Initialize Test Data"
   ]
  },
  {
   "cell_type": "markdown",
   "metadata": {},
   "source": [
    "The USER_GENERATED_INPUT variable contains a General Discription and feature descriptions for each feature we'd like to use in our graph."
   ]
  },
  {
   "cell_type": "code",
   "execution_count": 2,
   "metadata": {},
   "outputs": [],
   "source": [
    "USER_GENERATED_INPUT = {\n",
    "    'General Description': 'This is data on different countries.',\n",
    "    'id': 'unique id for a country.',\n",
    "    'name': 'the country name.',\n",
    "    'phone_code': 'country area code.',\n",
    "    'capital': 'the capital of the country.',\n",
    "    'currency_name': \"name of the country's currency.\",\n",
    "    'region': 'primary region of the country.',\n",
    "    'subregion': 'subregion location of the country.',\n",
    "    'timezones': 'timezones contained within the country borders.',\n",
    "    'latitude': 'the latitude coordinate of the country center.',\n",
    "    'longitude': 'the longitude coordinate of the country center.'\n",
    "}"
   ]
  },
  {
   "cell_type": "code",
   "execution_count": 3,
   "metadata": {},
   "outputs": [],
   "source": [
    "data = pd.read_csv(\"data/csv/countries.csv\")"
   ]
  },
  {
   "cell_type": "markdown",
   "metadata": {},
   "source": [
    "## Initialize LLM"
   ]
  },
  {
   "cell_type": "markdown",
   "metadata": {},
   "source": [
    "We now initialize the LLM to use in data discovery and data model creation."
   ]
  },
  {
   "cell_type": "code",
   "execution_count": 4,
   "metadata": {},
   "outputs": [],
   "source": [
    "llm = LLM()"
   ]
  },
  {
   "cell_type": "markdown",
   "metadata": {},
   "source": [
    "## Discovery"
   ]
  },
  {
   "cell_type": "markdown",
   "metadata": {},
   "source": [
    "We now load the above data into a Discovery object."
   ]
  },
  {
   "cell_type": "code",
   "execution_count": 5,
   "metadata": {},
   "outputs": [],
   "source": [
    "disc = Discovery(llm=llm, user_input=USER_GENERATED_INPUT, data=data)"
   ]
  },
  {
   "cell_type": "code",
   "execution_count": 6,
   "metadata": {},
   "outputs": [
    {
     "name": "stdout",
     "output_type": "stream",
     "text": [
      "Your dataset provides a comprehensive overview of various attributes related to countries around the world. Here's a preliminary analysis based on the summary you've provided:\n",
      "\n",
      "### General Characteristics:\n",
      "- **Entries and Completeness**: The dataset consists of 250 entries, each representing a country. Most columns are fully populated, but there are a few missing values in `capital`, `region`, and `subregion`. Specifically, `capital` is missing in 5 entries, `region` in 2, and `subregion` in 3. These missing values could be due to various reasons, such as territories without a designated capital or regions that are difficult to classify.\n",
      "- **Data Types**: The dataset features a mix of numerical (`int64` and `float64`) and categorical (`object`) data types. This variety suggests that the dataset captures both quantitative measures (like `latitude` and `longitude`) and qualitative attributes (like `name`, `capital`, and `currency_name`).\n",
      "\n",
      "### Key Features:\n",
      "1. **Unique Identifiers and Names**:\n",
      "   - `id`: Serves as a unique identifier for each country, ranging from 1 to 250. This is crucial for distinguishing between countries and ensuring data integrity.\n",
      "   - `name`: Each country name is unique, which is expected and confirms there are no duplicate entries based on the country name.\n",
      "\n",
      "2. **Geographical Coordinates**:\n",
      "   - `latitude` and `longitude`: These features provide the geographical center of each country. The wide range of values reflects the global distribution of countries. The mean values near 16 (latitude) and 13 (longitude) suggest a slight northern and eastern hemisphere bias in the dataset, which could be interesting for geographical analyses.\n",
      "\n",
      "3. **Communication and Economy**:\n",
      "   - `phone_code`: While mostly unique, there are some duplicates, indicating that multiple countries may share the same phone code (e.g., the United States, Canada, and several smaller countries share the code +1).\n",
      "   - `currency_name`: With 161 unique values out of 250 countries, this feature highlights the diversity of currencies. The Euro being the most common currency (appearing 35 times) reflects the European Union's influence.\n",
      "\n",
      "4. **Political and Geographical Classification**:\n",
      "   - `capital`: Almost unique, with only one capital appearing twice, which could indicate a shared capital or possibly an error.\n",
      "   - `region` and `subregion`: These categorical features classify countries into broader geopolitical areas. The presence of only a few unique values (6 for `region` and 22 for `subregion`) suggests a high-level categorization, with `Africa` being the most common region and `Caribbean` the most common subregion.\n",
      "\n",
      "5. **Timezones**:\n",
      "   - `timezones`: Highly unique, indicating a detailed recording of all time zones a country spans. This could be useful for applications requiring precise time calculations.\n",
      "\n",
      "### Preliminary Conclusions:\n",
      "- The dataset is well-structured and comprehensive, covering essential aspects of countries from geographical coordinates to political and economic classifications.\n",
      "- The most important features for further analysis depend on the specific application but generally include `id` (for unique identification), `name`, `latitude` and `longitude` (for geographical analysis), `region` and `subregion` (for regional analysis), and `currency_name` (for economic studies).\n",
      "- The presence of unique and nearly unique features like `name`, `capital`, and `currency_name` suggests that the dataset can support detailed country-level analyses.\n",
      "- The minor issues with missing values in `capital`, `region`, and `subregion` should be addressed, possibly through imputation or additional research, to ensure completeness.\n",
      "\n",
      "This dataset offers a solid foundation for a wide range of analyses, from geopolitical studies to economic research, and could be particularly valuable for creating a graph data model that captures the complex relationships between countries, their geographical attributes, and economic indicators.\n"
     ]
    }
   ],
   "source": [
    "discovery = disc.run()\n",
    "print(discovery)"
   ]
  },
  {
   "cell_type": "markdown",
   "metadata": {},
   "source": [
    "## Data Modeling"
   ]
  },
  {
   "cell_type": "markdown",
   "metadata": {},
   "source": [
    "We can now use our Discovery object to provide context to the LLM for data model generation. We don't *need* the discovery information for this step to work, but it provides much better models."
   ]
  },
  {
   "cell_type": "code",
   "execution_count": 7,
   "metadata": {},
   "outputs": [],
   "source": [
    "gdm = GraphDataModeler(\n",
    "    llm=llm,\n",
    "    user_input=USER_GENERATED_INPUT,\n",
    "    discovery=disc.discovery,\n",
    "    general_data_description=disc.general_description,\n",
    "    categorical_data_description=disc.categorical_data_description,\n",
    "    numeric_data_description=disc.numeric_data_description,\n",
    "    feature_descriptions=disc.feature_descriptions\n",
    ")"
   ]
  },
  {
   "cell_type": "markdown",
   "metadata": {},
   "source": [
    "We now generate our first pass data model."
   ]
  },
  {
   "cell_type": "code",
   "execution_count": 8,
   "metadata": {},
   "outputs": [
    {
     "name": "stdout",
     "output_type": "stream",
     "text": [
      "recieved a valid response\n"
     ]
    }
   ],
   "source": [
    "initial_model = gdm.create_initial_model()"
   ]
  },
  {
   "cell_type": "code",
   "execution_count": 9,
   "metadata": {},
   "outputs": [
    {
     "data": {
      "text/plain": [
       "DataModel(nodes=[Node(label='Country', properties=[Property(name='id', type='int', csv_mapping='id', is_unique=True), Property(name='name', type='str', csv_mapping='name', is_unique=False)]), Node(label='Capital', properties=[Property(name='capital', type='str', csv_mapping='capital', is_unique=True)]), Node(label='Region', properties=[Property(name='region', type='str', csv_mapping='region', is_unique=True)]), Node(label='Subregion', properties=[Property(name='subregion', type='str', csv_mapping='subregion', is_unique=True)]), Node(label='Currency', properties=[Property(name='currencyName', type='str', csv_mapping='currency_name', is_unique=True)])], relationships=[Relationship(type='HAS_CAPITAL', properties=[], source='Country', target='Capital'), Relationship(type='LOCATED_IN_REGION', properties=[], source='Country', target='Region'), Relationship(type='PART_OF_SUBREGION', properties=[], source='Country', target='Subregion'), Relationship(type='USES_CURRENCY', properties=[], source='Country', target='Currency')])"
      ]
     },
     "execution_count": 9,
     "metadata": {},
     "output_type": "execute_result"
    }
   ],
   "source": [
    "gdm.current_model"
   ]
  },
  {
   "cell_type": "code",
   "execution_count": 10,
   "metadata": {},
   "outputs": [
    {
     "data": {
      "image/svg+xml": [
       "<?xml version=\"1.0\" encoding=\"UTF-8\" standalone=\"no\"?>\n",
       "<!DOCTYPE svg PUBLIC \"-//W3C//DTD SVG 1.1//EN\"\n",
       " \"http://www.w3.org/Graphics/SVG/1.1/DTD/svg11.dtd\">\n",
       "<!-- Generated by graphviz version 10.0.1 (20240210.2158)\n",
       " -->\n",
       "<!-- Pages: 1 -->\n",
       "<svg width=\"1083pt\" height=\"292pt\"\n",
       " viewBox=\"0.00 0.00 1082.66 291.72\" xmlns=\"http://www.w3.org/2000/svg\" xmlns:xlink=\"http://www.w3.org/1999/xlink\">\n",
       "<g id=\"graph0\" class=\"graph\" transform=\"scale(1 1) rotate(0) translate(4 287.72)\">\n",
       "<polygon fill=\"white\" stroke=\"none\" points=\"-4,4 -4,-287.72 1078.66,-287.72 1078.66,4 -4,4\"/>\n",
       "<!-- Country -->\n",
       "<g id=\"node1\" class=\"node\">\n",
       "<title>Country</title>\n",
       "<ellipse fill=\"none\" stroke=\"black\" cx=\"458.71\" cy=\"-220.08\" rx=\"69.65\" ry=\"63.64\"/>\n",
       "<text text-anchor=\"middle\" x=\"458.71\" y=\"-247.78\" font-family=\"Times,serif\" font-size=\"14.00\">Country</text>\n",
       "<text text-anchor=\"middle\" x=\"458.71\" y=\"-215.28\" font-family=\"Times,serif\" font-size=\"14.00\">properties:</text>\n",
       "<text text-anchor=\"middle\" x=\"458.71\" y=\"-198.78\" font-family=\"Times,serif\" font-size=\"14.00\">id: id *unique*</text>\n",
       "<text text-anchor=\"middle\" x=\"458.71\" y=\"-182.28\" font-family=\"Times,serif\" font-size=\"14.00\">name: name</text>\n",
       "</g>\n",
       "<!-- Capital -->\n",
       "<g id=\"node2\" class=\"node\">\n",
       "<title>Capital</title>\n",
       "<ellipse fill=\"none\" stroke=\"black\" cx=\"105.71\" cy=\"-51.97\" rx=\"105.71\" ry=\"51.97\"/>\n",
       "<text text-anchor=\"middle\" x=\"105.71\" y=\"-71.42\" font-family=\"Times,serif\" font-size=\"14.00\">Capital</text>\n",
       "<text text-anchor=\"middle\" x=\"105.71\" y=\"-38.92\" font-family=\"Times,serif\" font-size=\"14.00\">properties:</text>\n",
       "<text text-anchor=\"middle\" x=\"105.71\" y=\"-22.42\" font-family=\"Times,serif\" font-size=\"14.00\">capital: capital *unique*</text>\n",
       "</g>\n",
       "<!-- Country&#45;&gt;Capital -->\n",
       "<g id=\"edge1\" class=\"edge\">\n",
       "<title>Country&#45;&gt;Capital</title>\n",
       "<path fill=\"none\" stroke=\"black\" d=\"M396.82,-189.96C339.97,-163.21 255.18,-123.31 191.75,-93.46\"/>\n",
       "<polygon fill=\"black\" stroke=\"black\" points=\"193.27,-90.31 182.73,-89.22 190.29,-96.64 193.27,-90.31\"/>\n",
       "<text text-anchor=\"middle\" x=\"328.09\" y=\"-125.14\" font-family=\"Times,serif\" font-size=\"14.00\">HAS_CAPITAL</text>\n",
       "</g>\n",
       "<!-- Region -->\n",
       "<g id=\"node3\" class=\"node\">\n",
       "<title>Region</title>\n",
       "<ellipse fill=\"none\" stroke=\"black\" cx=\"332.71\" cy=\"-51.97\" rx=\"103.59\" ry=\"51.97\"/>\n",
       "<text text-anchor=\"middle\" x=\"332.71\" y=\"-71.42\" font-family=\"Times,serif\" font-size=\"14.00\">Region</text>\n",
       "<text text-anchor=\"middle\" x=\"332.71\" y=\"-38.92\" font-family=\"Times,serif\" font-size=\"14.00\">properties:</text>\n",
       "<text text-anchor=\"middle\" x=\"332.71\" y=\"-22.42\" font-family=\"Times,serif\" font-size=\"14.00\">region: region *unique*</text>\n",
       "</g>\n",
       "<!-- Country&#45;&gt;Region -->\n",
       "<g id=\"edge2\" class=\"edge\">\n",
       "<title>Country&#45;&gt;Region</title>\n",
       "<path fill=\"none\" stroke=\"black\" d=\"M419.54,-167.44C405.69,-149.18 390.05,-128.56 375.89,-109.9\"/>\n",
       "<polygon fill=\"black\" stroke=\"black\" points=\"378.82,-107.97 369.99,-102.11 373.24,-112.2 378.82,-107.97\"/>\n",
       "<text text-anchor=\"middle\" x=\"465.84\" y=\"-125.14\" font-family=\"Times,serif\" font-size=\"14.00\">LOCATED_IN_REGION</text>\n",
       "</g>\n",
       "<!-- Subregion -->\n",
       "<g id=\"node4\" class=\"node\">\n",
       "<title>Subregion</title>\n",
       "<ellipse fill=\"none\" stroke=\"black\" cx=\"584.71\" cy=\"-51.97\" rx=\"130.11\" ry=\"51.97\"/>\n",
       "<text text-anchor=\"middle\" x=\"584.71\" y=\"-71.42\" font-family=\"Times,serif\" font-size=\"14.00\">Subregion</text>\n",
       "<text text-anchor=\"middle\" x=\"584.71\" y=\"-38.92\" font-family=\"Times,serif\" font-size=\"14.00\">properties:</text>\n",
       "<text text-anchor=\"middle\" x=\"584.71\" y=\"-22.42\" font-family=\"Times,serif\" font-size=\"14.00\">subregion: subregion *unique*</text>\n",
       "</g>\n",
       "<!-- Country&#45;&gt;Subregion -->\n",
       "<g id=\"edge3\" class=\"edge\">\n",
       "<title>Country&#45;&gt;Subregion</title>\n",
       "<path fill=\"none\" stroke=\"black\" d=\"M507.98,-174.83C519.12,-163.56 530.4,-151.05 539.71,-138.44 545.5,-130.6 550.98,-121.92 556,-113.17\"/>\n",
       "<polygon fill=\"black\" stroke=\"black\" points=\"558.94,-115.09 560.72,-104.64 552.81,-111.7 558.94,-115.09\"/>\n",
       "<text text-anchor=\"middle\" x=\"621.96\" y=\"-125.14\" font-family=\"Times,serif\" font-size=\"14.00\">PART_OF_SUBREGION</text>\n",
       "</g>\n",
       "<!-- Currency -->\n",
       "<g id=\"node5\" class=\"node\">\n",
       "<title>Currency</title>\n",
       "<ellipse fill=\"none\" stroke=\"black\" cx=\"903.71\" cy=\"-51.97\" rx=\"170.94\" ry=\"51.97\"/>\n",
       "<text text-anchor=\"middle\" x=\"903.71\" y=\"-71.42\" font-family=\"Times,serif\" font-size=\"14.00\">Currency</text>\n",
       "<text text-anchor=\"middle\" x=\"903.71\" y=\"-38.92\" font-family=\"Times,serif\" font-size=\"14.00\">properties:</text>\n",
       "<text text-anchor=\"middle\" x=\"903.71\" y=\"-22.42\" font-family=\"Times,serif\" font-size=\"14.00\">currencyName: currency_name *unique*</text>\n",
       "</g>\n",
       "<!-- Country&#45;&gt;Currency -->\n",
       "<g id=\"edge4\" class=\"edge\">\n",
       "<title>Country&#45;&gt;Currency</title>\n",
       "<path fill=\"none\" stroke=\"black\" d=\"M524.53,-198.06C572.54,-182.41 639.02,-160.1 696.71,-138.44 728.93,-126.35 763.6,-112.41 795.19,-99.33\"/>\n",
       "<polygon fill=\"black\" stroke=\"black\" points=\"796.49,-102.58 804.38,-95.52 793.8,-96.12 796.49,-102.58\"/>\n",
       "<text text-anchor=\"middle\" x=\"793.34\" y=\"-125.14\" font-family=\"Times,serif\" font-size=\"14.00\">USES_CURRENCY</text>\n",
       "</g>\n",
       "</g>\n",
       "</svg>\n"
      ],
      "text/plain": [
       "<graphviz.graphs.Digraph at 0x12fcab9b0>"
      ]
     },
     "execution_count": 10,
     "metadata": {},
     "output_type": "execute_result"
    }
   ],
   "source": [
    "gdm.current_model.visualize()"
   ]
  },
  {
   "cell_type": "markdown",
   "metadata": {},
   "source": [
    "This doesn't look quite right, so let's prompt the LLM to make some corrections."
   ]
  },
  {
   "cell_type": "code",
   "execution_count": 11,
   "metadata": {},
   "outputs": [
    {
     "name": "stdout",
     "output_type": "stream",
     "text": [
      "recieved a valid response\n"
     ]
    },
    {
     "data": {
      "text/plain": [
       "DataModel(nodes=[Node(label='Country', properties=[Property(name='id', type='int', csv_mapping='id', is_unique=True), Property(name='name', type='str', csv_mapping='name', is_unique=False), Property(name='phoneCode', type='str', csv_mapping='phone_code', is_unique=False), Property(name='latitude', type='float', csv_mapping='latitude', is_unique=False), Property(name='longitude', type='float', csv_mapping='longitude', is_unique=False)]), Node(label='Capital', properties=[Property(name='capital', type='str', csv_mapping='capital', is_unique=True)]), Node(label='Region', properties=[Property(name='region', type='str', csv_mapping='region', is_unique=True)]), Node(label='Subregion', properties=[Property(name='subregion', type='str', csv_mapping='subregion', is_unique=True)]), Node(label='Currency', properties=[Property(name='currencyName', type='str', csv_mapping='currency_name', is_unique=True)]), Node(label='Timezone', properties=[Property(name='timezones', type='str', csv_mapping='timezones', is_unique=True)])], relationships=[Relationship(type='HAS_CAPITAL', properties=[], source='Country', target='Capital'), Relationship(type='PART_OF_SUBREGION', properties=[], source='Country', target='Subregion'), Relationship(type='USES_CURRENCY', properties=[], source='Country', target='Currency'), Relationship(type='HAS_TIMEZONE', properties=[], source='Country', target='Timezone'), Relationship(type='HAS_SUBREGION', properties=[], source='Region', target='Subregion')])"
      ]
     },
     "execution_count": 11,
     "metadata": {},
     "output_type": "execute_result"
    }
   ],
   "source": [
    "gdm.iterate_model(iterations=1, user_corrections=\"Make Region node have a HAS_SUBREGION relationship with Subregion node. Remove The relationship between Country and Region.\")"
   ]
  },
  {
   "cell_type": "code",
   "execution_count": 12,
   "metadata": {},
   "outputs": [
    {
     "data": {
      "text/plain": [
       "DataModel(nodes=[Node(label='Country', properties=[Property(name='id', type='int', csv_mapping='id', is_unique=True), Property(name='name', type='str', csv_mapping='name', is_unique=False), Property(name='phoneCode', type='str', csv_mapping='phone_code', is_unique=False), Property(name='latitude', type='float', csv_mapping='latitude', is_unique=False), Property(name='longitude', type='float', csv_mapping='longitude', is_unique=False)]), Node(label='Capital', properties=[Property(name='capital', type='str', csv_mapping='capital', is_unique=True)]), Node(label='Region', properties=[Property(name='region', type='str', csv_mapping='region', is_unique=True)]), Node(label='Subregion', properties=[Property(name='subregion', type='str', csv_mapping='subregion', is_unique=True)]), Node(label='Currency', properties=[Property(name='currencyName', type='str', csv_mapping='currency_name', is_unique=True)]), Node(label='Timezone', properties=[Property(name='timezones', type='str', csv_mapping='timezones', is_unique=True)])], relationships=[Relationship(type='HAS_CAPITAL', properties=[], source='Country', target='Capital'), Relationship(type='PART_OF_SUBREGION', properties=[], source='Country', target='Subregion'), Relationship(type='USES_CURRENCY', properties=[], source='Country', target='Currency'), Relationship(type='HAS_TIMEZONE', properties=[], source='Country', target='Timezone'), Relationship(type='HAS_SUBREGION', properties=[], source='Region', target='Subregion')])"
      ]
     },
     "execution_count": 12,
     "metadata": {},
     "output_type": "execute_result"
    }
   ],
   "source": [
    "gdm.current_model"
   ]
  },
  {
   "cell_type": "code",
   "execution_count": 13,
   "metadata": {},
   "outputs": [
    {
     "data": {
      "image/svg+xml": [
       "<?xml version=\"1.0\" encoding=\"UTF-8\" standalone=\"no\"?>\n",
       "<!DOCTYPE svg PUBLIC \"-//W3C//DTD SVG 1.1//EN\"\n",
       " \"http://www.w3.org/Graphics/SVG/1.1/DTD/svg11.dtd\">\n",
       "<!-- Generated by graphviz version 10.0.1 (20240210.2158)\n",
       " -->\n",
       "<!-- Pages: 1 -->\n",
       "<svg width=\"1142pt\" height=\"362pt\"\n",
       " viewBox=\"0.00 0.00 1141.82 361.73\" xmlns=\"http://www.w3.org/2000/svg\" xmlns:xlink=\"http://www.w3.org/1999/xlink\">\n",
       "<g id=\"graph0\" class=\"graph\" transform=\"scale(1 1) rotate(0) translate(4 357.73)\">\n",
       "<polygon fill=\"white\" stroke=\"none\" points=\"-4,4 -4,-357.73 1137.82,-357.73 1137.82,4 -4,4\"/>\n",
       "<!-- Country -->\n",
       "<g id=\"node1\" class=\"node\">\n",
       "<title>Country</title>\n",
       "<ellipse fill=\"none\" stroke=\"black\" cx=\"610.11\" cy=\"-255.09\" rx=\"106.24\" ry=\"98.64\"/>\n",
       "<text text-anchor=\"middle\" x=\"610.11\" y=\"-307.54\" font-family=\"Times,serif\" font-size=\"14.00\">Country</text>\n",
       "<text text-anchor=\"middle\" x=\"610.11\" y=\"-275.04\" font-family=\"Times,serif\" font-size=\"14.00\">properties:</text>\n",
       "<text text-anchor=\"middle\" x=\"610.11\" y=\"-258.54\" font-family=\"Times,serif\" font-size=\"14.00\">id: id *unique*</text>\n",
       "<text text-anchor=\"middle\" x=\"610.11\" y=\"-242.04\" font-family=\"Times,serif\" font-size=\"14.00\">name: name</text>\n",
       "<text text-anchor=\"middle\" x=\"610.11\" y=\"-225.54\" font-family=\"Times,serif\" font-size=\"14.00\">phoneCode: phone_code</text>\n",
       "<text text-anchor=\"middle\" x=\"610.11\" y=\"-209.04\" font-family=\"Times,serif\" font-size=\"14.00\">latitude: latitude</text>\n",
       "<text text-anchor=\"middle\" x=\"610.11\" y=\"-192.54\" font-family=\"Times,serif\" font-size=\"14.00\">longitude: longitude</text>\n",
       "</g>\n",
       "<!-- Capital -->\n",
       "<g id=\"node2\" class=\"node\">\n",
       "<title>Capital</title>\n",
       "<ellipse fill=\"none\" stroke=\"black\" cx=\"1028.11\" cy=\"-51.97\" rx=\"105.71\" ry=\"51.97\"/>\n",
       "<text text-anchor=\"middle\" x=\"1028.11\" y=\"-71.42\" font-family=\"Times,serif\" font-size=\"14.00\">Capital</text>\n",
       "<text text-anchor=\"middle\" x=\"1028.11\" y=\"-38.92\" font-family=\"Times,serif\" font-size=\"14.00\">properties:</text>\n",
       "<text text-anchor=\"middle\" x=\"1028.11\" y=\"-22.42\" font-family=\"Times,serif\" font-size=\"14.00\">capital: capital *unique*</text>\n",
       "</g>\n",
       "<!-- Country&#45;&gt;Capital -->\n",
       "<g id=\"edge1\" class=\"edge\">\n",
       "<title>Country&#45;&gt;Capital</title>\n",
       "<path fill=\"none\" stroke=\"black\" d=\"M704.44,-208.7C776.16,-174.19 873.97,-127.13 943.24,-93.8\"/>\n",
       "<polygon fill=\"black\" stroke=\"black\" points=\"944.39,-97.13 951.89,-89.64 941.36,-90.83 944.39,-97.13\"/>\n",
       "<text text-anchor=\"middle\" x=\"925.48\" y=\"-125.14\" font-family=\"Times,serif\" font-size=\"14.00\">HAS_CAPITAL</text>\n",
       "</g>\n",
       "<!-- Subregion -->\n",
       "<g id=\"node4\" class=\"node\">\n",
       "<title>Subregion</title>\n",
       "<ellipse fill=\"none\" stroke=\"black\" cx=\"130.11\" cy=\"-51.97\" rx=\"130.11\" ry=\"51.97\"/>\n",
       "<text text-anchor=\"middle\" x=\"130.11\" y=\"-71.42\" font-family=\"Times,serif\" font-size=\"14.00\">Subregion</text>\n",
       "<text text-anchor=\"middle\" x=\"130.11\" y=\"-38.92\" font-family=\"Times,serif\" font-size=\"14.00\">properties:</text>\n",
       "<text text-anchor=\"middle\" x=\"130.11\" y=\"-22.42\" font-family=\"Times,serif\" font-size=\"14.00\">subregion: subregion *unique*</text>\n",
       "</g>\n",
       "<!-- Country&#45;&gt;Subregion -->\n",
       "<g id=\"edge2\" class=\"edge\">\n",
       "<title>Country&#45;&gt;Subregion</title>\n",
       "<path fill=\"none\" stroke=\"black\" d=\"M513.26,-213.51C430.8,-178.96 312.8,-129.52 229.59,-94.66\"/>\n",
       "<polygon fill=\"black\" stroke=\"black\" points=\"231.08,-91.49 220.51,-90.85 228.38,-97.94 231.08,-91.49\"/>\n",
       "<text text-anchor=\"middle\" x=\"399.36\" y=\"-125.14\" font-family=\"Times,serif\" font-size=\"14.00\">PART_OF_SUBREGION</text>\n",
       "</g>\n",
       "<!-- Currency -->\n",
       "<g id=\"node5\" class=\"node\">\n",
       "<title>Currency</title>\n",
       "<ellipse fill=\"none\" stroke=\"black\" cx=\"449.11\" cy=\"-51.97\" rx=\"170.94\" ry=\"51.97\"/>\n",
       "<text text-anchor=\"middle\" x=\"449.11\" y=\"-71.42\" font-family=\"Times,serif\" font-size=\"14.00\">Currency</text>\n",
       "<text text-anchor=\"middle\" x=\"449.11\" y=\"-38.92\" font-family=\"Times,serif\" font-size=\"14.00\">properties:</text>\n",
       "<text text-anchor=\"middle\" x=\"449.11\" y=\"-22.42\" font-family=\"Times,serif\" font-size=\"14.00\">currencyName: currency_name *unique*</text>\n",
       "</g>\n",
       "<!-- Country&#45;&gt;Currency -->\n",
       "<g id=\"edge3\" class=\"edge\">\n",
       "<title>Country&#45;&gt;Currency</title>\n",
       "<path fill=\"none\" stroke=\"black\" d=\"M546.94,-175.18C530.05,-154.09 512.1,-131.66 496.25,-111.86\"/>\n",
       "<polygon fill=\"black\" stroke=\"black\" points=\"499.05,-109.76 490.07,-104.14 493.59,-114.13 499.05,-109.76\"/>\n",
       "<text text-anchor=\"middle\" x=\"572.73\" y=\"-125.14\" font-family=\"Times,serif\" font-size=\"14.00\">USES_CURRENCY</text>\n",
       "</g>\n",
       "<!-- Timezone -->\n",
       "<g id=\"node6\" class=\"node\">\n",
       "<title>Timezone</title>\n",
       "<ellipse fill=\"none\" stroke=\"black\" cx=\"771.11\" cy=\"-51.97\" rx=\"133.29\" ry=\"51.97\"/>\n",
       "<text text-anchor=\"middle\" x=\"771.11\" y=\"-71.42\" font-family=\"Times,serif\" font-size=\"14.00\">Timezone</text>\n",
       "<text text-anchor=\"middle\" x=\"771.11\" y=\"-38.92\" font-family=\"Times,serif\" font-size=\"14.00\">properties:</text>\n",
       "<text text-anchor=\"middle\" x=\"771.11\" y=\"-22.42\" font-family=\"Times,serif\" font-size=\"14.00\">timezones: timezones *unique*</text>\n",
       "</g>\n",
       "<!-- Country&#45;&gt;Timezone -->\n",
       "<g id=\"edge4\" class=\"edge\">\n",
       "<title>Country&#45;&gt;Timezone</title>\n",
       "<path fill=\"none\" stroke=\"black\" d=\"M673.28,-175.18C690.39,-153.8 708.6,-131.06 724.61,-111.05\"/>\n",
       "<polygon fill=\"black\" stroke=\"black\" points=\"727.34,-113.25 730.85,-103.26 721.87,-108.87 727.34,-113.25\"/>\n",
       "<text text-anchor=\"middle\" x=\"765.86\" y=\"-125.14\" font-family=\"Times,serif\" font-size=\"14.00\">HAS_TIMEZONE</text>\n",
       "</g>\n",
       "<!-- Region -->\n",
       "<g id=\"node3\" class=\"node\">\n",
       "<title>Region</title>\n",
       "<ellipse fill=\"none\" stroke=\"black\" cx=\"130.11\" cy=\"-255.09\" rx=\"103.59\" ry=\"51.97\"/>\n",
       "<text text-anchor=\"middle\" x=\"130.11\" y=\"-274.54\" font-family=\"Times,serif\" font-size=\"14.00\">Region</text>\n",
       "<text text-anchor=\"middle\" x=\"130.11\" y=\"-242.04\" font-family=\"Times,serif\" font-size=\"14.00\">properties:</text>\n",
       "<text text-anchor=\"middle\" x=\"130.11\" y=\"-225.54\" font-family=\"Times,serif\" font-size=\"14.00\">region: region *unique*</text>\n",
       "</g>\n",
       "<!-- Region&#45;&gt;Subregion -->\n",
       "<g id=\"edge5\" class=\"edge\">\n",
       "<title>Region&#45;&gt;Subregion</title>\n",
       "<path fill=\"none\" stroke=\"black\" d=\"M130.11,-202.82C130.11,-176.22 130.11,-143.52 130.11,-115.46\"/>\n",
       "<polygon fill=\"black\" stroke=\"black\" points=\"133.61,-115.66 130.11,-105.66 126.61,-115.66 133.61,-115.66\"/>\n",
       "<text text-anchor=\"middle\" x=\"185.61\" y=\"-125.14\" font-family=\"Times,serif\" font-size=\"14.00\">HAS_SUBREGION</text>\n",
       "</g>\n",
       "</g>\n",
       "</svg>\n"
      ],
      "text/plain": [
       "<graphviz.graphs.Digraph at 0x12fce9f40>"
      ]
     },
     "execution_count": 13,
     "metadata": {},
     "output_type": "execute_result"
    }
   ],
   "source": [
    "gdm.current_model.visualize()"
   ]
  },
  {
   "cell_type": "markdown",
   "metadata": {},
   "source": [
    "This is good enough for our demo. We can now create some ingestion code to get our data into our database."
   ]
  },
  {
   "cell_type": "markdown",
   "metadata": {},
   "source": [
    "## Ingestion Code Generation"
   ]
  },
  {
   "cell_type": "markdown",
   "metadata": {},
   "source": [
    "We should provide our credentials here in this step if we plan on using PyIngest to load our data. This will inject our credentials into the generated YAML file. If we leave the credential fields blank, then we can just fill in the blanks in the generated YAML file later."
   ]
  },
  {
   "cell_type": "code",
   "execution_count": 14,
   "metadata": {},
   "outputs": [],
   "source": [
    "\n",
    "gen = IngestionGenerator(data_model=gdm.current_model, \n",
    "                         username=os.environ.get(\"NEO4J_USERNAME\"), \n",
    "                         password=os.environ.get(\"NEO4J_PASSWORD\"), \n",
    "                         uri=os.environ.get(\"NEO4J_URI\"), \n",
    "                         database=os.environ.get(\"NEO4J_DATABASE\"), \n",
    "                         csv_dir=\"data/csv/\", csv_name=\"countries.csv\")"
   ]
  },
  {
   "cell_type": "code",
   "execution_count": 15,
   "metadata": {},
   "outputs": [
    {
     "name": "stdout",
     "output_type": "stream",
     "text": [
      "server_uri: bolt://localhost:7687\n",
      "admin_user: neo4j\n",
      "admin_pass: password\n",
      "database: neo4j\n",
      "basepath: file:./\n",
      "\n",
      "pre_ingest:\n",
      "  - CREATE CONSTRAINT country_id IF NOT EXISTS FOR (n:Country) REQUIRE n.id IS UNIQUE;\n",
      "  - CREATE CONSTRAINT capital_capital IF NOT EXISTS FOR (n:Capital) REQUIRE n.capital IS UNIQUE;\n",
      "  - CREATE CONSTRAINT region_region IF NOT EXISTS FOR (n:Region) REQUIRE n.region IS UNIQUE;\n",
      "  - CREATE CONSTRAINT subregion_subregion IF NOT EXISTS FOR (n:Subregion) REQUIRE n.subregion IS UNIQUE;\n",
      "  - CREATE CONSTRAINT currency_currencyname IF NOT EXISTS FOR (n:Currency) REQUIRE n.currencyName IS UNIQUE;\n",
      "  - CREATE CONSTRAINT timezone_timezones IF NOT EXISTS FOR (n:Timezone) REQUIRE n.timezones IS UNIQUE;\n",
      "files:\n",
      "- chunk_size: 100\n",
      "  cql: |-\n",
      "    WITH $dict.rows AS rows\n",
      "    UNWIND rows AS row\n",
      "    MERGE (n:Country {id: row.id})\n",
      "    SET n.name = row.name, n.phoneCode = row.phone_code, n.latitude = row.latitude, n.longitude = row.longitude\n",
      "  url: $BASE/data/csv/countries.csv\n",
      "- chunk_size: 100\n",
      "  cql: |\n",
      "    WITH $dict.rows AS rows\n",
      "    UNWIND rows AS row\n",
      "    MERGE (n:Capital {capital: row.capital})\n",
      "  url: $BASE/data/csv/countries.csv\n",
      "- chunk_size: 100\n",
      "  cql: |\n",
      "    WITH $dict.rows AS rows\n",
      "    UNWIND rows AS row\n",
      "    MERGE (n:Region {region: row.region})\n",
      "  url: $BASE/data/csv/countries.csv\n",
      "- chunk_size: 100\n",
      "  cql: |\n",
      "    WITH $dict.rows AS rows\n",
      "    UNWIND rows AS row\n",
      "    MERGE (n:Subregion {subregion: row.subregion})\n",
      "  url: $BASE/data/csv/countries.csv\n",
      "- chunk_size: 100\n",
      "  cql: |\n",
      "    WITH $dict.rows AS rows\n",
      "    UNWIND rows AS row\n",
      "    MERGE (n:Currency {currencyName: row.currency_name})\n",
      "  url: $BASE/data/csv/countries.csv\n",
      "- chunk_size: 100\n",
      "  cql: |\n",
      "    WITH $dict.rows AS rows\n",
      "    UNWIND rows AS row\n",
      "    MERGE (n:Timezone {timezones: row.timezones})\n",
      "  url: $BASE/data/csv/countries.csv\n",
      "- chunk_size: 100\n",
      "  cql: |\n",
      "    WITH $dict.rows AS rows\n",
      "    UNWIND rows as row\n",
      "    MATCH (source:Country {id: row.id})\n",
      "    MATCH (target:Capital {capital: row.capital})\n",
      "    MERGE (source)-[n:HAS_CAPITAL]->(target)\n",
      "  url: $BASE/data/csv/countries.csv\n",
      "- chunk_size: 100\n",
      "  cql: |\n",
      "    WITH $dict.rows AS rows\n",
      "    UNWIND rows as row\n",
      "    MATCH (source:Country {id: row.id})\n",
      "    MATCH (target:Subregion {subregion: row.subregion})\n",
      "    MERGE (source)-[n:PART_OF_SUBREGION]->(target)\n",
      "  url: $BASE/data/csv/countries.csv\n",
      "- chunk_size: 100\n",
      "  cql: |\n",
      "    WITH $dict.rows AS rows\n",
      "    UNWIND rows as row\n",
      "    MATCH (source:Country {id: row.id})\n",
      "    MATCH (target:Currency {currencyName: row.currency_name})\n",
      "    MERGE (source)-[n:USES_CURRENCY]->(target)\n",
      "  url: $BASE/data/csv/countries.csv\n",
      "- chunk_size: 100\n",
      "  cql: |\n",
      "    WITH $dict.rows AS rows\n",
      "    UNWIND rows as row\n",
      "    MATCH (source:Country {id: row.id})\n",
      "    MATCH (target:Timezone {timezones: row.timezones})\n",
      "    MERGE (source)-[n:HAS_TIMEZONE]->(target)\n",
      "  url: $BASE/data/csv/countries.csv\n",
      "- chunk_size: 100\n",
      "  cql: |\n",
      "    WITH $dict.rows AS rows\n",
      "    UNWIND rows as row\n",
      "    MATCH (source:Region {region: row.region})\n",
      "    MATCH (target:Subregion {subregion: row.subregion})\n",
      "    MERGE (source)-[n:HAS_SUBREGION]->(target)\n",
      "  url: $BASE/data/csv/countries.csv\n",
      "\n"
     ]
    }
   ],
   "source": [
    "pyingest_yaml = gen.generate_pyingest_yaml_string()\n",
    "# gen.generate_pyingest_yaml_file(file_name=\"countries\")\n",
    "print(pyingest_yaml)"
   ]
  },
  {
   "cell_type": "markdown",
   "metadata": {},
   "source": [
    "## Ingest Data"
   ]
  },
  {
   "cell_type": "markdown",
   "metadata": {},
   "source": [
    "We can use the generated yaml string above to orchestrate the data loading via a modified PyIngest function. This version of PyIngest works only with pre-loaded Pandas DataFrames. First let's confirm our connection though."
   ]
  },
  {
   "cell_type": "code",
   "execution_count": 16,
   "metadata": {},
   "outputs": [
    {
     "data": {
      "text/plain": [
       "{'valid': True, 'message': 'Connection and Auth Verified!'}"
      ]
     },
     "execution_count": 16,
     "metadata": {},
     "output_type": "execute_result"
    }
   ],
   "source": [
    "test_database_connection(credentials={\"username\": os.environ.get(\"NEO4J_USERNAME\"), \"password\": os.environ.get(\"NEO4J_PASSWORD\"), \"uri\": os.environ.get(\"NEO4J_URI\")})"
   ]
  },
  {
   "cell_type": "code",
   "execution_count": 17,
   "metadata": {},
   "outputs": [
    {
     "name": "stdout",
     "output_type": "stream",
     "text": [
      "File {} file:.//data/csv/countries.csv\n",
      "loading... 0 2024-05-01 08:22:39.827408\n"
     ]
    },
    {
     "name": "stderr",
     "output_type": "stream",
     "text": [
      "/Users/alexandergilmore/Documents/projects/neo4j-runway-examples/venv/lib/python3.12/site-packages/numpy/core/fromnumeric.py:59: FutureWarning: 'DataFrame.swapaxes' is deprecated and will be removed in a future version. Please use 'DataFrame.transpose' instead.\n",
      "  return bound(*args, **kwds)\n"
     ]
    },
    {
     "name": "stdout",
     "output_type": "stream",
     "text": [
      "loading... 1 2024-05-01 08:22:40.125561\n",
      "{} : Completed file 2024-05-01 08:22:40.167858\n",
      "File {} file:.//data/csv/countries.csv\n",
      "loading... 0 2024-05-01 08:22:40.168291\n",
      "loading... 1 2024-05-01 08:22:40.221640\n",
      "{} : Completed file 2024-05-01 08:22:40.254571\n",
      "File {} file:.//data/csv/countries.csv\n",
      "loading... 0 2024-05-01 08:22:40.255168\n",
      "loading... 1 2024-05-01 08:22:40.292997\n",
      "{} : Completed file 2024-05-01 08:22:40.305638\n",
      "File {} file:.//data/csv/countries.csv\n",
      "loading... 0 2024-05-01 08:22:40.306033\n",
      "loading... 1 2024-05-01 08:22:40.343980\n",
      "{} : Completed file 2024-05-01 08:22:40.363183\n",
      "File {} file:.//data/csv/countries.csv\n",
      "loading... 0 2024-05-01 08:22:40.363928\n"
     ]
    },
    {
     "name": "stderr",
     "output_type": "stream",
     "text": [
      "/Users/alexandergilmore/Documents/projects/neo4j-runway-examples/venv/lib/python3.12/site-packages/numpy/core/fromnumeric.py:59: FutureWarning: 'DataFrame.swapaxes' is deprecated and will be removed in a future version. Please use 'DataFrame.transpose' instead.\n",
      "  return bound(*args, **kwds)\n",
      "/Users/alexandergilmore/Documents/projects/neo4j-runway-examples/venv/lib/python3.12/site-packages/numpy/core/fromnumeric.py:59: FutureWarning: 'DataFrame.swapaxes' is deprecated and will be removed in a future version. Please use 'DataFrame.transpose' instead.\n",
      "  return bound(*args, **kwds)\n",
      "/Users/alexandergilmore/Documents/projects/neo4j-runway-examples/venv/lib/python3.12/site-packages/numpy/core/fromnumeric.py:59: FutureWarning: 'DataFrame.swapaxes' is deprecated and will be removed in a future version. Please use 'DataFrame.transpose' instead.\n",
      "  return bound(*args, **kwds)\n",
      "/Users/alexandergilmore/Documents/projects/neo4j-runway-examples/venv/lib/python3.12/site-packages/numpy/core/fromnumeric.py:59: FutureWarning: 'DataFrame.swapaxes' is deprecated and will be removed in a future version. Please use 'DataFrame.transpose' instead.\n",
      "  return bound(*args, **kwds)\n"
     ]
    },
    {
     "name": "stdout",
     "output_type": "stream",
     "text": [
      "loading... 1 2024-05-01 08:22:40.408383\n",
      "{} : Completed file 2024-05-01 08:22:40.432961\n",
      "File {} file:.//data/csv/countries.csv\n",
      "loading... 0 2024-05-01 08:22:40.433556\n",
      "loading... 1 2024-05-01 08:22:40.486280\n",
      "{} : Completed file 2024-05-01 08:22:40.514072\n",
      "File {} file:.//data/csv/countries.csv\n",
      "loading... 0 2024-05-01 08:22:40.514731\n"
     ]
    },
    {
     "name": "stderr",
     "output_type": "stream",
     "text": [
      "/Users/alexandergilmore/Documents/projects/neo4j-runway-examples/venv/lib/python3.12/site-packages/numpy/core/fromnumeric.py:59: FutureWarning: 'DataFrame.swapaxes' is deprecated and will be removed in a future version. Please use 'DataFrame.transpose' instead.\n",
      "  return bound(*args, **kwds)\n",
      "/Users/alexandergilmore/Documents/projects/neo4j-runway-examples/venv/lib/python3.12/site-packages/numpy/core/fromnumeric.py:59: FutureWarning: 'DataFrame.swapaxes' is deprecated and will be removed in a future version. Please use 'DataFrame.transpose' instead.\n",
      "  return bound(*args, **kwds)\n"
     ]
    },
    {
     "name": "stdout",
     "output_type": "stream",
     "text": [
      "loading... 1 2024-05-01 08:22:40.643983\n",
      "{} : Completed file 2024-05-01 08:22:40.672019\n",
      "File {} file:.//data/csv/countries.csv\n",
      "loading... 0 2024-05-01 08:22:40.672436\n",
      "loading... 1 2024-05-01 08:22:40.757121\n",
      "{} : Completed file 2024-05-01 08:22:40.790761\n",
      "File {} file:.//data/csv/countries.csv\n",
      "loading... 0 2024-05-01 08:22:40.791222\n",
      "loading... 1 2024-05-01 08:22:40.851345\n"
     ]
    },
    {
     "name": "stderr",
     "output_type": "stream",
     "text": [
      "/Users/alexandergilmore/Documents/projects/neo4j-runway-examples/venv/lib/python3.12/site-packages/numpy/core/fromnumeric.py:59: FutureWarning: 'DataFrame.swapaxes' is deprecated and will be removed in a future version. Please use 'DataFrame.transpose' instead.\n",
      "  return bound(*args, **kwds)\n",
      "/Users/alexandergilmore/Documents/projects/neo4j-runway-examples/venv/lib/python3.12/site-packages/numpy/core/fromnumeric.py:59: FutureWarning: 'DataFrame.swapaxes' is deprecated and will be removed in a future version. Please use 'DataFrame.transpose' instead.\n",
      "  return bound(*args, **kwds)\n"
     ]
    },
    {
     "name": "stdout",
     "output_type": "stream",
     "text": [
      "{} : Completed file 2024-05-01 08:22:40.874286\n",
      "File {} file:.//data/csv/countries.csv\n",
      "loading... 0 2024-05-01 08:22:40.874825\n",
      "loading... 1 2024-05-01 08:22:40.958156\n",
      "{} : Completed file 2024-05-01 08:22:40.981538\n",
      "File {} file:.//data/csv/countries.csv\n",
      "loading... 0 2024-05-01 08:22:40.982212\n",
      "loading... 1 2024-05-01 08:22:41.041406\n",
      "{} : Completed file 2024-05-01 08:22:41.055082\n"
     ]
    },
    {
     "name": "stderr",
     "output_type": "stream",
     "text": [
      "/Users/alexandergilmore/Documents/projects/neo4j-runway-examples/venv/lib/python3.12/site-packages/numpy/core/fromnumeric.py:59: FutureWarning: 'DataFrame.swapaxes' is deprecated and will be removed in a future version. Please use 'DataFrame.transpose' instead.\n",
      "  return bound(*args, **kwds)\n",
      "/Users/alexandergilmore/Documents/projects/neo4j-runway-examples/venv/lib/python3.12/site-packages/numpy/core/fromnumeric.py:59: FutureWarning: 'DataFrame.swapaxes' is deprecated and will be removed in a future version. Please use 'DataFrame.transpose' instead.\n",
      "  return bound(*args, **kwds)\n"
     ]
    }
   ],
   "source": [
    "PyIngest(yaml_string=pyingest_yaml, dataframe=data)"
   ]
  },
  {
   "cell_type": "markdown",
   "metadata": {},
   "source": [
    "If we check our database we can see that we've ingested our CSV according to the data model we've created!"
   ]
  },
  {
   "cell_type": "markdown",
   "metadata": {},
   "source": [
    "![countries-graph.png](./images/countries-graph-white-background.png)"
   ]
  }
 ],
 "metadata": {
  "kernelspec": {
   "display_name": "venv",
   "language": "python",
   "name": "python3"
  },
  "language_info": {
   "codemirror_mode": {
    "name": "ipython",
    "version": 3
   },
   "file_extension": ".py",
   "mimetype": "text/x-python",
   "name": "python",
   "nbconvert_exporter": "python",
   "pygments_lexer": "ipython3",
   "version": "3.12.3"
  }
 },
 "nbformat": 4,
 "nbformat_minor": 2
}
