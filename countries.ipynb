{
 "cells": [
  {
   "cell_type": "markdown",
   "metadata": {},
   "source": [
    "# End To End Demo"
   ]
  },
  {
   "cell_type": "markdown",
   "metadata": {},
   "source": [
    "This notebooks demonstrates the data flow of generating a graph from a CSV file using Runway v0.7.0"
   ]
  },
  {
   "cell_type": "code",
   "execution_count": 2,
   "metadata": {},
   "outputs": [
    {
     "data": {
      "text/plain": [
       "True"
      ]
     },
     "execution_count": 2,
     "metadata": {},
     "output_type": "execute_result"
    }
   ],
   "source": [
    "import os\n",
    "\n",
    "import pandas as pd\n",
    "from dotenv import load_dotenv\n",
    "\n",
    "from neo4j_runway import Discovery, GraphDataModeler, LLM, PyIngest, UserInput\n",
    "from neo4j_runway.code_generation import PyIngestConfigGenerator\n",
    "from neo4j_runway.utils import test_database_connection\n",
    "\n",
    "load_dotenv()"
   ]
  },
  {
   "cell_type": "markdown",
   "metadata": {},
   "source": [
    "## Load and Describe Data"
   ]
  },
  {
   "cell_type": "markdown",
   "metadata": {},
   "source": [
    "The USER_GENERATED_INPUT variable contains a general discription and feature descriptions for each feature we'd like to use in our graph."
   ]
  },
  {
   "cell_type": "code",
   "execution_count": 3,
   "metadata": {},
   "outputs": [],
   "source": [
    "USER_GENERATED_INPUT = UserInput(general_description='This is data on different countries.',\n",
    "                                 column_descriptions={\n",
    "                                     'id': 'unique id for a country.',\n",
    "                                    'name': 'the country name.',\n",
    "                                    'phone_code': 'country area code.',\n",
    "                                    'capital': 'the capital of the country.',\n",
    "                                    'currency_name': \"name of the country's currency.\",\n",
    "                                    'region': 'primary region of the country.',\n",
    "                                    'subregion': 'subregion location of the country.',\n",
    "                                    'timezones': 'timezones contained within the country borders.',\n",
    "                                    'latitude': 'the latitude coordinate of the country center.',\n",
    "                                    'longitude': 'the longitude coordinate of the country center.'\n",
    "                                    }   \n",
    "                                )"
   ]
  },
  {
   "cell_type": "code",
   "execution_count": 4,
   "metadata": {},
   "outputs": [],
   "source": [
    "data = pd.read_csv(\"data/csv/countries.csv\")"
   ]
  },
  {
   "cell_type": "code",
   "execution_count": 5,
   "metadata": {},
   "outputs": [
    {
     "data": {
      "text/html": [
       "<div>\n",
       "<style scoped>\n",
       "    .dataframe tbody tr th:only-of-type {\n",
       "        vertical-align: middle;\n",
       "    }\n",
       "\n",
       "    .dataframe tbody tr th {\n",
       "        vertical-align: top;\n",
       "    }\n",
       "\n",
       "    .dataframe thead th {\n",
       "        text-align: right;\n",
       "    }\n",
       "</style>\n",
       "<table border=\"1\" class=\"dataframe\">\n",
       "  <thead>\n",
       "    <tr style=\"text-align: right;\">\n",
       "      <th></th>\n",
       "      <th>id</th>\n",
       "      <th>name</th>\n",
       "      <th>iso3</th>\n",
       "      <th>iso2</th>\n",
       "      <th>numeric_code</th>\n",
       "      <th>phone_code</th>\n",
       "      <th>capital</th>\n",
       "      <th>currency</th>\n",
       "      <th>currency_name</th>\n",
       "      <th>currency_symbol</th>\n",
       "      <th>tld</th>\n",
       "      <th>native</th>\n",
       "      <th>region</th>\n",
       "      <th>subregion</th>\n",
       "      <th>timezones</th>\n",
       "      <th>latitude</th>\n",
       "      <th>longitude</th>\n",
       "      <th>emoji</th>\n",
       "      <th>emojiU</th>\n",
       "    </tr>\n",
       "  </thead>\n",
       "  <tbody>\n",
       "    <tr>\n",
       "      <th>0</th>\n",
       "      <td>1</td>\n",
       "      <td>Afghanistan</td>\n",
       "      <td>AFG</td>\n",
       "      <td>AF</td>\n",
       "      <td>4</td>\n",
       "      <td>93</td>\n",
       "      <td>Kabul</td>\n",
       "      <td>AFN</td>\n",
       "      <td>Afghan afghani</td>\n",
       "      <td>؋</td>\n",
       "      <td>.af</td>\n",
       "      <td>افغانستان</td>\n",
       "      <td>Asia</td>\n",
       "      <td>Southern Asia</td>\n",
       "      <td>[{zoneName:'Asia\\/Kabul',gmtOffset:16200,gmtOf...</td>\n",
       "      <td>33.000000</td>\n",
       "      <td>65.0</td>\n",
       "      <td>🇦🇫</td>\n",
       "      <td>U+1F1E6 U+1F1EB</td>\n",
       "    </tr>\n",
       "    <tr>\n",
       "      <th>1</th>\n",
       "      <td>2</td>\n",
       "      <td>Aland Islands</td>\n",
       "      <td>ALA</td>\n",
       "      <td>AX</td>\n",
       "      <td>248</td>\n",
       "      <td>+358-18</td>\n",
       "      <td>Mariehamn</td>\n",
       "      <td>EUR</td>\n",
       "      <td>Euro</td>\n",
       "      <td>€</td>\n",
       "      <td>.ax</td>\n",
       "      <td>Åland</td>\n",
       "      <td>Europe</td>\n",
       "      <td>Northern Europe</td>\n",
       "      <td>[{zoneName:'Europe\\/Mariehamn',gmtOffset:7200,...</td>\n",
       "      <td>60.116667</td>\n",
       "      <td>19.9</td>\n",
       "      <td>🇦🇽</td>\n",
       "      <td>U+1F1E6 U+1F1FD</td>\n",
       "    </tr>\n",
       "    <tr>\n",
       "      <th>2</th>\n",
       "      <td>3</td>\n",
       "      <td>Albania</td>\n",
       "      <td>ALB</td>\n",
       "      <td>AL</td>\n",
       "      <td>8</td>\n",
       "      <td>355</td>\n",
       "      <td>Tirana</td>\n",
       "      <td>ALL</td>\n",
       "      <td>Albanian lek</td>\n",
       "      <td>Lek</td>\n",
       "      <td>.al</td>\n",
       "      <td>Shqipëria</td>\n",
       "      <td>Europe</td>\n",
       "      <td>Southern Europe</td>\n",
       "      <td>[{zoneName:'Europe\\/Tirane',gmtOffset:3600,gmt...</td>\n",
       "      <td>41.000000</td>\n",
       "      <td>20.0</td>\n",
       "      <td>🇦🇱</td>\n",
       "      <td>U+1F1E6 U+1F1F1</td>\n",
       "    </tr>\n",
       "    <tr>\n",
       "      <th>3</th>\n",
       "      <td>4</td>\n",
       "      <td>Algeria</td>\n",
       "      <td>DZA</td>\n",
       "      <td>DZ</td>\n",
       "      <td>12</td>\n",
       "      <td>213</td>\n",
       "      <td>Algiers</td>\n",
       "      <td>DZD</td>\n",
       "      <td>Algerian dinar</td>\n",
       "      <td>دج</td>\n",
       "      <td>.dz</td>\n",
       "      <td>الجزائر</td>\n",
       "      <td>Africa</td>\n",
       "      <td>Northern Africa</td>\n",
       "      <td>[{zoneName:'Africa\\/Algiers',gmtOffset:3600,gm...</td>\n",
       "      <td>28.000000</td>\n",
       "      <td>3.0</td>\n",
       "      <td>🇩🇿</td>\n",
       "      <td>U+1F1E9 U+1F1FF</td>\n",
       "    </tr>\n",
       "    <tr>\n",
       "      <th>4</th>\n",
       "      <td>5</td>\n",
       "      <td>American Samoa</td>\n",
       "      <td>ASM</td>\n",
       "      <td>AS</td>\n",
       "      <td>16</td>\n",
       "      <td>+1-684</td>\n",
       "      <td>Pago Pago</td>\n",
       "      <td>USD</td>\n",
       "      <td>US Dollar</td>\n",
       "      <td>$</td>\n",
       "      <td>.as</td>\n",
       "      <td>American Samoa</td>\n",
       "      <td>Oceania</td>\n",
       "      <td>Polynesia</td>\n",
       "      <td>[{zoneName:'Pacific\\/Pago_Pago',gmtOffset:-396...</td>\n",
       "      <td>-14.333333</td>\n",
       "      <td>-170.0</td>\n",
       "      <td>🇦🇸</td>\n",
       "      <td>U+1F1E6 U+1F1F8</td>\n",
       "    </tr>\n",
       "  </tbody>\n",
       "</table>\n",
       "</div>"
      ],
      "text/plain": [
       "   id            name iso3 iso2  ...   latitude longitude emoji           emojiU\n",
       "0   1     Afghanistan  AFG   AF  ...  33.000000      65.0    🇦🇫  U+1F1E6 U+1F1EB\n",
       "1   2   Aland Islands  ALA   AX  ...  60.116667      19.9    🇦🇽  U+1F1E6 U+1F1FD\n",
       "2   3         Albania  ALB   AL  ...  41.000000      20.0    🇦🇱  U+1F1E6 U+1F1F1\n",
       "3   4         Algeria  DZA   DZ  ...  28.000000       3.0    🇩🇿  U+1F1E9 U+1F1FF\n",
       "4   5  American Samoa  ASM   AS  ... -14.333333    -170.0    🇦🇸  U+1F1E6 U+1F1F8\n",
       "\n",
       "[5 rows x 19 columns]"
      ]
     },
     "execution_count": 5,
     "metadata": {},
     "output_type": "execute_result"
    }
   ],
   "source": [
    "data.head()"
   ]
  },
  {
   "cell_type": "markdown",
   "metadata": {},
   "source": [
    "## Initialize LLM"
   ]
  },
  {
   "cell_type": "markdown",
   "metadata": {},
   "source": [
    "We now initialize the LLM to use in data discovery and data model creation."
   ]
  },
  {
   "cell_type": "code",
   "execution_count": 6,
   "metadata": {},
   "outputs": [],
   "source": [
    "llm = LLM(model='gpt-4o-2024-05-13')"
   ]
  },
  {
   "cell_type": "markdown",
   "metadata": {},
   "source": [
    "## Discovery"
   ]
  },
  {
   "cell_type": "markdown",
   "metadata": {},
   "source": [
    "We now load the above data into a Discovery object."
   ]
  },
  {
   "cell_type": "code",
   "execution_count": 7,
   "metadata": {},
   "outputs": [],
   "source": [
    "disc = Discovery(llm=llm, user_input=USER_GENERATED_INPUT, data=data)"
   ]
  },
  {
   "cell_type": "code",
   "execution_count": 8,
   "metadata": {},
   "outputs": [
    {
     "data": {
      "text/markdown": [
       "Based on the provided summary and description of the data, here is a preliminary analysis:\n",
       "\n",
       "### Overall Details\n",
       "\n",
       "1. **Data Completeness**:\n",
       "   - The dataset contains 250 entries (countries).\n",
       "   - Most columns are complete, but there are some missing values in the `capital`, `region`, and `subregion` columns.\n",
       "     - `capital`: 245 non-null (5 missing)\n",
       "     - `region`: 248 non-null (2 missing)\n",
       "     - `subregion`: 247 non-null (3 missing)\n",
       "\n",
       "2. **Data Types**:\n",
       "   - The dataset includes a mix of data types:\n",
       "     - Numerical: `id`, `latitude`, `longitude`\n",
       "     - Categorical: `name`, `phone_code`, `capital`, `currency_name`, `region`, `subregion`, `timezones`\n",
       "\n",
       "3. **Unique Values**:\n",
       "   - `name` (country names) and `id` are unique for each entry.\n",
       "   - `phone_code` has 235 unique values, indicating some countries share the same phone code.\n",
       "   - `capital` has 244 unique values, with \"Kingston\" appearing twice.\n",
       "   - `currency_name` has 161 unique values, with \"Euro\" being the most frequent (35 occurrences).\n",
       "   - `region` has 6 unique values, with \"Africa\" being the most frequent (60 occurrences).\n",
       "   - `subregion` has 22 unique values, with \"Caribbean\" being the most frequent (28 occurrences).\n",
       "   - `timezones` has 245 unique values, with the most frequent timezone appearing 3 times.\n",
       "\n",
       "### Important Features\n",
       "\n",
       "1. **Geographical Coordinates**:\n",
       "   - `latitude` and `longitude` provide the geographical center of each country. These are crucial for spatial analysis and mapping.\n",
       "\n",
       "2. **Country Identifiers**:\n",
       "   - `id` and `name` uniquely identify each country. These are essential for referencing and linking data.\n",
       "\n",
       "3. **Phone Code**:\n",
       "   - `phone_code` is important for telecommunications and can be used to analyze regional calling patterns.\n",
       "\n",
       "4. **Capital**:\n",
       "   - `capital` provides the primary city of governance, which is often a focal point for political and economic activities.\n",
       "\n",
       "5. **Currency**:\n",
       "   - `currency_name` is vital for economic analysis, especially in understanding trade and financial systems.\n",
       "\n",
       "6. **Region and Subregion**:\n",
       "   - `region` and `subregion` help in categorizing countries into broader geographical and cultural areas. This is useful for regional analysis and comparisons.\n",
       "\n",
       "7. **Timezones**:\n",
       "   - `timezones` indicate the time zones within a country, which is important for understanding time-related data and scheduling.\n",
       "\n",
       "### Summary\n",
       "\n",
       "- The dataset is relatively complete with a few missing values in `capital`, `region`, and `subregion`.\n",
       "- The data types are appropriate for the features, with a mix of numerical and categorical data.\n",
       "- Key features for analysis include geographical coordinates (`latitude`, `longitude`), country identifiers (`id`, `name`), and categorical attributes like `phone_code`, `capital`, `currency_name`, `region`, `subregion`, and `timezones`.\n",
       "- The dataset provides a comprehensive overview of countries, which can be used for various types of analysis, including geographical, economic, and regional studies.\n",
       "\n",
       "This preliminary analysis sets the stage for further exploration and potential modeling, including the creation of a graph data model."
      ],
      "text/plain": [
       "<IPython.core.display.Markdown object>"
      ]
     },
     "metadata": {},
     "output_type": "display_data"
    }
   ],
   "source": [
    "disc.run(show_result=True, notebook=True)"
   ]
  },
  {
   "cell_type": "markdown",
   "metadata": {},
   "source": [
    "## Data Modeling"
   ]
  },
  {
   "cell_type": "markdown",
   "metadata": {},
   "source": [
    "We can now use our Discovery object to provide context to the LLM for data model generation. We don't *need* the discovery information for this step to work, but it provides much better models."
   ]
  },
  {
   "cell_type": "code",
   "execution_count": 9,
   "metadata": {},
   "outputs": [],
   "source": [
    "gdm = GraphDataModeler(\n",
    "    llm=llm,\n",
    "    discovery=disc\n",
    ")"
   ]
  },
  {
   "cell_type": "markdown",
   "metadata": {},
   "source": [
    "We now generate our first pass data model."
   ]
  },
  {
   "cell_type": "code",
   "execution_count": 13,
   "metadata": {},
   "outputs": [
    {
     "name": "stdout",
     "output_type": "stream",
     "text": [
      "recieved a valid response\n"
     ]
    },
    {
     "data": {
      "text/plain": [
       "DataModel(nodes=[Node(label='Country', properties=[Property(name='id', type='int', csv_mapping='id', csv_mapping_other=None, is_unique=True, part_of_key=True), Property(name='name', type='str', csv_mapping='name', csv_mapping_other=None, is_unique=False, part_of_key=False), Property(name='latitude', type='float', csv_mapping='latitude', csv_mapping_other=None, is_unique=False, part_of_key=False), Property(name='longitude', type='float', csv_mapping='longitude', csv_mapping_other=None, is_unique=False, part_of_key=False)], csv_name=''), Node(label='Capital', properties=[Property(name='name', type='str', csv_mapping='capital', csv_mapping_other=None, is_unique=True, part_of_key=True)], csv_name=''), Node(label='Currency', properties=[Property(name='name', type='str', csv_mapping='currency_name', csv_mapping_other=None, is_unique=True, part_of_key=True)], csv_name=''), Node(label='Region', properties=[Property(name='name', type='str', csv_mapping='region', csv_mapping_other=None, is_unique=True, part_of_key=True)], csv_name=''), Node(label='Subregion', properties=[Property(name='name', type='str', csv_mapping='subregion', csv_mapping_other=None, is_unique=True, part_of_key=True)], csv_name=''), Node(label='PhoneCode', properties=[Property(name='code', type='str', csv_mapping='phone_code', csv_mapping_other=None, is_unique=True, part_of_key=True)], csv_name=''), Node(label='Timezone', properties=[Property(name='zone', type='str', csv_mapping='timezones', csv_mapping_other=None, is_unique=True, part_of_key=True)], csv_name='')], relationships=[Relationship(type='HAS_CAPITAL', properties=[], source='Country', target='Capital', csv_name=''), Relationship(type='USES_CURRENCY', properties=[], source='Country', target='Currency', csv_name=''), Relationship(type='BELONGS_TO_REGION', properties=[], source='Country', target='Region', csv_name=''), Relationship(type='BELONGS_TO_SUBREGION', properties=[], source='Country', target='Subregion', csv_name=''), Relationship(type='HAS_PHONE_CODE', properties=[], source='Country', target='PhoneCode', csv_name=''), Relationship(type='HAS_TIMEZONE', properties=[], source='Country', target='Timezone', csv_name='')], metadata=None)"
      ]
     },
     "execution_count": 13,
     "metadata": {},
     "output_type": "execute_result"
    }
   ],
   "source": [
    "gdm.create_initial_model()"
   ]
  },
  {
   "cell_type": "code",
   "execution_count": 14,
   "metadata": {},
   "outputs": [
    {
     "data": {
      "text/plain": [
       "DataModel(nodes=[Node(label='Country', properties=[Property(name='id', type='int', csv_mapping='id', csv_mapping_other=None, is_unique=True, part_of_key=True), Property(name='name', type='str', csv_mapping='name', csv_mapping_other=None, is_unique=False, part_of_key=False), Property(name='latitude', type='float', csv_mapping='latitude', csv_mapping_other=None, is_unique=False, part_of_key=False), Property(name='longitude', type='float', csv_mapping='longitude', csv_mapping_other=None, is_unique=False, part_of_key=False)], csv_name=''), Node(label='Capital', properties=[Property(name='name', type='str', csv_mapping='capital', csv_mapping_other=None, is_unique=True, part_of_key=True)], csv_name=''), Node(label='Currency', properties=[Property(name='name', type='str', csv_mapping='currency_name', csv_mapping_other=None, is_unique=True, part_of_key=True)], csv_name=''), Node(label='Region', properties=[Property(name='name', type='str', csv_mapping='region', csv_mapping_other=None, is_unique=True, part_of_key=True)], csv_name=''), Node(label='Subregion', properties=[Property(name='name', type='str', csv_mapping='subregion', csv_mapping_other=None, is_unique=True, part_of_key=True)], csv_name=''), Node(label='PhoneCode', properties=[Property(name='code', type='str', csv_mapping='phone_code', csv_mapping_other=None, is_unique=True, part_of_key=True)], csv_name=''), Node(label='Timezone', properties=[Property(name='zone', type='str', csv_mapping='timezones', csv_mapping_other=None, is_unique=True, part_of_key=True)], csv_name='')], relationships=[Relationship(type='HAS_CAPITAL', properties=[], source='Country', target='Capital', csv_name=''), Relationship(type='USES_CURRENCY', properties=[], source='Country', target='Currency', csv_name=''), Relationship(type='BELONGS_TO_REGION', properties=[], source='Country', target='Region', csv_name=''), Relationship(type='BELONGS_TO_SUBREGION', properties=[], source='Country', target='Subregion', csv_name=''), Relationship(type='HAS_PHONE_CODE', properties=[], source='Country', target='PhoneCode', csv_name=''), Relationship(type='HAS_TIMEZONE', properties=[], source='Country', target='Timezone', csv_name='')], metadata=None)"
      ]
     },
     "execution_count": 14,
     "metadata": {},
     "output_type": "execute_result"
    }
   ],
   "source": [
    "gdm.current_model"
   ]
  },
  {
   "cell_type": "code",
   "execution_count": 15,
   "metadata": {},
   "outputs": [
    {
     "data": {
      "image/svg+xml": [
       "<?xml version=\"1.0\" encoding=\"UTF-8\" standalone=\"no\"?>\n",
       "<!DOCTYPE svg PUBLIC \"-//W3C//DTD SVG 1.1//EN\"\n",
       " \"http://www.w3.org/Graphics/SVG/1.1/DTD/svg11.dtd\">\n",
       "<!-- Generated by graphviz version 10.0.1 (20240210.2158)\n",
       " -->\n",
       "<!-- Pages: 1 -->\n",
       "<svg width=\"1775pt\" height=\"338pt\"\n",
       " viewBox=\"0.00 0.00 1774.52 338.39\" xmlns=\"http://www.w3.org/2000/svg\" xmlns:xlink=\"http://www.w3.org/1999/xlink\">\n",
       "<g id=\"graph0\" class=\"graph\" transform=\"scale(1 1) rotate(0) translate(4 334.39)\">\n",
       "<polygon fill=\"white\" stroke=\"none\" points=\"-4,4 -4,-334.39 1770.52,-334.39 1770.52,4 -4,4\"/>\n",
       "<!-- Country -->\n",
       "<g id=\"node1\" class=\"node\">\n",
       "<title>Country</title>\n",
       "<ellipse fill=\"none\" stroke=\"black\" cx=\"882.46\" cy=\"-243.42\" rx=\"95.64\" ry=\"86.97\"/>\n",
       "<text text-anchor=\"middle\" x=\"882.46\" y=\"-287.62\" font-family=\"Times,serif\" font-size=\"14.00\">Country</text>\n",
       "<text text-anchor=\"middle\" x=\"882.46\" y=\"-255.12\" font-family=\"Times,serif\" font-size=\"14.00\">properties:</text>\n",
       "<text text-anchor=\"middle\" x=\"882.46\" y=\"-238.62\" font-family=\"Times,serif\" font-size=\"14.00\">id: id *unique* *key*</text>\n",
       "<text text-anchor=\"middle\" x=\"882.46\" y=\"-222.12\" font-family=\"Times,serif\" font-size=\"14.00\">name: name</text>\n",
       "<text text-anchor=\"middle\" x=\"882.46\" y=\"-205.62\" font-family=\"Times,serif\" font-size=\"14.00\">latitude: latitude</text>\n",
       "<text text-anchor=\"middle\" x=\"882.46\" y=\"-189.12\" font-family=\"Times,serif\" font-size=\"14.00\">longitude: longitude</text>\n",
       "</g>\n",
       "<!-- Capital -->\n",
       "<g id=\"node2\" class=\"node\">\n",
       "<title>Capital</title>\n",
       "<ellipse fill=\"none\" stroke=\"black\" cx=\"127.46\" cy=\"-51.97\" rx=\"127.46\" ry=\"51.97\"/>\n",
       "<text text-anchor=\"middle\" x=\"127.46\" y=\"-71.42\" font-family=\"Times,serif\" font-size=\"14.00\">Capital</text>\n",
       "<text text-anchor=\"middle\" x=\"127.46\" y=\"-38.92\" font-family=\"Times,serif\" font-size=\"14.00\">properties:</text>\n",
       "<text text-anchor=\"middle\" x=\"127.46\" y=\"-22.42\" font-family=\"Times,serif\" font-size=\"14.00\">name: capital *unique* *key*</text>\n",
       "</g>\n",
       "<!-- Country&#45;&gt;Capital -->\n",
       "<g id=\"edge1\" class=\"edge\">\n",
       "<title>Country&#45;&gt;Capital</title>\n",
       "<path fill=\"none\" stroke=\"black\" d=\"M788.52,-225.49C666.51,-202.57 447.48,-158.22 264.46,-103.94 252.91,-100.52 240.93,-96.61 229.08,-92.52\"/>\n",
       "<polygon fill=\"black\" stroke=\"black\" points=\"230.28,-89.23 219.68,-89.22 227.96,-95.83 230.28,-89.23\"/>\n",
       "<text text-anchor=\"middle\" x=\"426.83\" y=\"-125.14\" font-family=\"Times,serif\" font-size=\"14.00\">HAS_CAPITAL</text>\n",
       "</g>\n",
       "<!-- Currency -->\n",
       "<g id=\"node3\" class=\"node\">\n",
       "<title>Currency</title>\n",
       "<ellipse fill=\"none\" stroke=\"black\" cx=\"434.46\" cy=\"-51.97\" rx=\"161.4\" ry=\"51.97\"/>\n",
       "<text text-anchor=\"middle\" x=\"434.46\" y=\"-71.42\" font-family=\"Times,serif\" font-size=\"14.00\">Currency</text>\n",
       "<text text-anchor=\"middle\" x=\"434.46\" y=\"-38.92\" font-family=\"Times,serif\" font-size=\"14.00\">properties:</text>\n",
       "<text text-anchor=\"middle\" x=\"434.46\" y=\"-22.42\" font-family=\"Times,serif\" font-size=\"14.00\">name: currency_name *unique* *key*</text>\n",
       "</g>\n",
       "<!-- Country&#45;&gt;Currency -->\n",
       "<g id=\"edge2\" class=\"edge\">\n",
       "<title>Country&#45;&gt;Currency</title>\n",
       "<path fill=\"none\" stroke=\"black\" d=\"M795.81,-205.78C723.27,-175.1 619.42,-131.19 541.66,-98.3\"/>\n",
       "<polygon fill=\"black\" stroke=\"black\" points=\"543.31,-95.2 532.74,-94.53 540.58,-101.65 543.31,-95.2\"/>\n",
       "<text text-anchor=\"middle\" x=\"689.08\" y=\"-125.14\" font-family=\"Times,serif\" font-size=\"14.00\">USES_CURRENCY</text>\n",
       "</g>\n",
       "<!-- Region -->\n",
       "<g id=\"node4\" class=\"node\">\n",
       "<title>Region</title>\n",
       "<ellipse fill=\"none\" stroke=\"black\" cx=\"740.46\" cy=\"-51.97\" rx=\"126.4\" ry=\"51.97\"/>\n",
       "<text text-anchor=\"middle\" x=\"740.46\" y=\"-71.42\" font-family=\"Times,serif\" font-size=\"14.00\">Region</text>\n",
       "<text text-anchor=\"middle\" x=\"740.46\" y=\"-38.92\" font-family=\"Times,serif\" font-size=\"14.00\">properties:</text>\n",
       "<text text-anchor=\"middle\" x=\"740.46\" y=\"-22.42\" font-family=\"Times,serif\" font-size=\"14.00\">name: region *unique* *key*</text>\n",
       "</g>\n",
       "<!-- Country&#45;&gt;Region -->\n",
       "<g id=\"edge3\" class=\"edge\">\n",
       "<title>Country&#45;&gt;Region</title>\n",
       "<path fill=\"none\" stroke=\"black\" d=\"M828.97,-171.07C814.18,-151.33 798.3,-130.14 784.13,-111.24\"/>\n",
       "<polygon fill=\"black\" stroke=\"black\" points=\"787.03,-109.28 778.24,-103.38 781.43,-113.48 787.03,-109.28\"/>\n",
       "<text text-anchor=\"middle\" x=\"875.83\" y=\"-125.14\" font-family=\"Times,serif\" font-size=\"14.00\">BELONGS_TO_REGION</text>\n",
       "</g>\n",
       "<!-- Subregion -->\n",
       "<g id=\"node5\" class=\"node\">\n",
       "<title>Subregion</title>\n",
       "<ellipse fill=\"none\" stroke=\"black\" cx=\"1024.46\" cy=\"-51.97\" rx=\"139.65\" ry=\"51.97\"/>\n",
       "<text text-anchor=\"middle\" x=\"1024.46\" y=\"-71.42\" font-family=\"Times,serif\" font-size=\"14.00\">Subregion</text>\n",
       "<text text-anchor=\"middle\" x=\"1024.46\" y=\"-38.92\" font-family=\"Times,serif\" font-size=\"14.00\">properties:</text>\n",
       "<text text-anchor=\"middle\" x=\"1024.46\" y=\"-22.42\" font-family=\"Times,serif\" font-size=\"14.00\">name: subregion *unique* *key*</text>\n",
       "</g>\n",
       "<!-- Country&#45;&gt;Subregion -->\n",
       "<g id=\"edge4\" class=\"edge\">\n",
       "<title>Country&#45;&gt;Subregion</title>\n",
       "<path fill=\"none\" stroke=\"black\" d=\"M935.94,-171.07C950.67,-151.42 966.47,-130.34 980.59,-111.5\"/>\n",
       "<polygon fill=\"black\" stroke=\"black\" points=\"983.26,-113.76 986.46,-103.66 977.66,-109.57 983.26,-113.76\"/>\n",
       "<text text-anchor=\"middle\" x=\"1055.96\" y=\"-125.14\" font-family=\"Times,serif\" font-size=\"14.00\">BELONGS_TO_SUBREGION</text>\n",
       "</g>\n",
       "<!-- PhoneCode -->\n",
       "<g id=\"node6\" class=\"node\">\n",
       "<title>PhoneCode</title>\n",
       "<ellipse fill=\"none\" stroke=\"black\" cx=\"1327.46\" cy=\"-51.97\" rx=\"144.96\" ry=\"51.97\"/>\n",
       "<text text-anchor=\"middle\" x=\"1327.46\" y=\"-71.42\" font-family=\"Times,serif\" font-size=\"14.00\">PhoneCode</text>\n",
       "<text text-anchor=\"middle\" x=\"1327.46\" y=\"-38.92\" font-family=\"Times,serif\" font-size=\"14.00\">properties:</text>\n",
       "<text text-anchor=\"middle\" x=\"1327.46\" y=\"-22.42\" font-family=\"Times,serif\" font-size=\"14.00\">code: phone_code *unique* *key*</text>\n",
       "</g>\n",
       "<!-- Country&#45;&gt;PhoneCode -->\n",
       "<g id=\"edge5\" class=\"edge\">\n",
       "<title>Country&#45;&gt;PhoneCode</title>\n",
       "<path fill=\"none\" stroke=\"black\" d=\"M970.69,-209.12C1022.01,-189.36 1087.76,-163.37 1145.46,-138.44 1173.85,-126.18 1204.4,-112.16 1232.2,-99.08\"/>\n",
       "<polygon fill=\"black\" stroke=\"black\" points=\"1233.4,-102.38 1240.95,-94.95 1230.41,-96.05 1233.4,-102.38\"/>\n",
       "<text text-anchor=\"middle\" x=\"1242.58\" y=\"-125.14\" font-family=\"Times,serif\" font-size=\"14.00\">HAS_PHONE_CODE</text>\n",
       "</g>\n",
       "<!-- Timezone -->\n",
       "<g id=\"node7\" class=\"node\">\n",
       "<title>Timezone</title>\n",
       "<ellipse fill=\"none\" stroke=\"black\" cx=\"1628.46\" cy=\"-51.97\" rx=\"138.06\" ry=\"51.97\"/>\n",
       "<text text-anchor=\"middle\" x=\"1628.46\" y=\"-71.42\" font-family=\"Times,serif\" font-size=\"14.00\">Timezone</text>\n",
       "<text text-anchor=\"middle\" x=\"1628.46\" y=\"-38.92\" font-family=\"Times,serif\" font-size=\"14.00\">properties:</text>\n",
       "<text text-anchor=\"middle\" x=\"1628.46\" y=\"-22.42\" font-family=\"Times,serif\" font-size=\"14.00\">zone: timezones *unique* *key*</text>\n",
       "</g>\n",
       "<!-- Country&#45;&gt;Timezone -->\n",
       "<g id=\"edge6\" class=\"edge\">\n",
       "<title>Country&#45;&gt;Timezone</title>\n",
       "<path fill=\"none\" stroke=\"black\" d=\"M976.11,-224C1094.68,-199.94 1304.79,-154.84 1481.46,-103.94 1493.83,-100.38 1506.68,-96.38 1519.42,-92.22\"/>\n",
       "<polygon fill=\"black\" stroke=\"black\" points=\"1520.24,-95.64 1528.64,-89.18 1518.05,-88.99 1520.24,-95.64\"/>\n",
       "<text text-anchor=\"middle\" x=\"1453.21\" y=\"-125.14\" font-family=\"Times,serif\" font-size=\"14.00\">HAS_TIMEZONE</text>\n",
       "</g>\n",
       "</g>\n",
       "</svg>\n"
      ],
      "text/plain": [
       "<graphviz.graphs.Digraph at 0x147215b20>"
      ]
     },
     "execution_count": 15,
     "metadata": {},
     "output_type": "execute_result"
    }
   ],
   "source": [
    "gdm.current_model.visualize()"
   ]
  },
  {
   "cell_type": "markdown",
   "metadata": {},
   "source": [
    "This doesn't look quite right, so let's prompt the LLM to make some corrections."
   ]
  },
  {
   "cell_type": "code",
   "execution_count": 22,
   "metadata": {},
   "outputs": [
    {
     "name": "stdout",
     "output_type": "stream",
     "text": [
      "recieved a valid response\n"
     ]
    },
    {
     "data": {
      "text/plain": [
       "DataModel(nodes=[Node(label='Country', properties=[Property(name='id', type='int', csv_mapping='id', csv_mapping_other=None, is_unique=True, part_of_key=False), Property(name='name', type='str', csv_mapping='name', csv_mapping_other=None, is_unique=False, part_of_key=False), Property(name='latitude', type='float', csv_mapping='latitude', csv_mapping_other=None, is_unique=False, part_of_key=False), Property(name='longitude', type='float', csv_mapping='longitude', csv_mapping_other=None, is_unique=False, part_of_key=False)], csv_name=''), Node(label='Capital', properties=[Property(name='name', type='str', csv_mapping='capital', csv_mapping_other=None, is_unique=True, part_of_key=False)], csv_name=''), Node(label='Currency', properties=[Property(name='name', type='str', csv_mapping='currency_name', csv_mapping_other=None, is_unique=True, part_of_key=False)], csv_name=''), Node(label='Region', properties=[Property(name='name', type='str', csv_mapping='region', csv_mapping_other=None, is_unique=True, part_of_key=False)], csv_name=''), Node(label='Subregion', properties=[Property(name='name', type='str', csv_mapping='subregion', csv_mapping_other=None, is_unique=True, part_of_key=False)], csv_name=''), Node(label='PhoneCode', properties=[Property(name='code', type='str', csv_mapping='phone_code', csv_mapping_other=None, is_unique=True, part_of_key=False)], csv_name=''), Node(label='Timezone', properties=[Property(name='zone', type='str', csv_mapping='timezones', csv_mapping_other=None, is_unique=True, part_of_key=False)], csv_name='')], relationships=[Relationship(type='HAS_CAPITAL', properties=[], source='Country', target='Capital', csv_name=''), Relationship(type='USES_CURRENCY', properties=[], source='Country', target='Currency', csv_name=''), Relationship(type='BELONGS_TO_SUBREGION', properties=[], source='Country', target='Subregion', csv_name=''), Relationship(type='HAS_PHONE_CODE', properties=[], source='Country', target='PhoneCode', csv_name=''), Relationship(type='HAS_TIMEZONE', properties=[], source='Country', target='Timezone', csv_name=''), Relationship(type='HAS_SUBREGION', properties=[], source='Region', target='Subregion', csv_name='')], metadata=None)"
      ]
     },
     "execution_count": 22,
     "metadata": {},
     "output_type": "execute_result"
    }
   ],
   "source": [
    "gdm.iterate_model(user_corrections=\"\"\"Make Region node have a HAS_SUBREGION relationship with Subregion node. \n",
    "                  Remove The relationship between Country and Region.\n",
    "                  Set key = False for all properties.\"\"\")"
   ]
  },
  {
   "cell_type": "code",
   "execution_count": 23,
   "metadata": {},
   "outputs": [
    {
     "data": {
      "text/plain": [
       "DataModel(nodes=[Node(label='Country', properties=[Property(name='id', type='int', csv_mapping='id', csv_mapping_other=None, is_unique=True, part_of_key=False), Property(name='name', type='str', csv_mapping='name', csv_mapping_other=None, is_unique=False, part_of_key=False), Property(name='latitude', type='float', csv_mapping='latitude', csv_mapping_other=None, is_unique=False, part_of_key=False), Property(name='longitude', type='float', csv_mapping='longitude', csv_mapping_other=None, is_unique=False, part_of_key=False)], csv_name=''), Node(label='Capital', properties=[Property(name='name', type='str', csv_mapping='capital', csv_mapping_other=None, is_unique=True, part_of_key=False)], csv_name=''), Node(label='Currency', properties=[Property(name='name', type='str', csv_mapping='currency_name', csv_mapping_other=None, is_unique=True, part_of_key=False)], csv_name=''), Node(label='Region', properties=[Property(name='name', type='str', csv_mapping='region', csv_mapping_other=None, is_unique=True, part_of_key=False)], csv_name=''), Node(label='Subregion', properties=[Property(name='name', type='str', csv_mapping='subregion', csv_mapping_other=None, is_unique=True, part_of_key=False)], csv_name=''), Node(label='PhoneCode', properties=[Property(name='code', type='str', csv_mapping='phone_code', csv_mapping_other=None, is_unique=True, part_of_key=False)], csv_name=''), Node(label='Timezone', properties=[Property(name='zone', type='str', csv_mapping='timezones', csv_mapping_other=None, is_unique=True, part_of_key=False)], csv_name='')], relationships=[Relationship(type='HAS_CAPITAL', properties=[], source='Country', target='Capital', csv_name=''), Relationship(type='USES_CURRENCY', properties=[], source='Country', target='Currency', csv_name=''), Relationship(type='BELONGS_TO_SUBREGION', properties=[], source='Country', target='Subregion', csv_name=''), Relationship(type='HAS_PHONE_CODE', properties=[], source='Country', target='PhoneCode', csv_name=''), Relationship(type='HAS_TIMEZONE', properties=[], source='Country', target='Timezone', csv_name=''), Relationship(type='HAS_SUBREGION', properties=[], source='Region', target='Subregion', csv_name='')], metadata=None)"
      ]
     },
     "execution_count": 23,
     "metadata": {},
     "output_type": "execute_result"
    }
   ],
   "source": [
    "gdm.current_model"
   ]
  },
  {
   "cell_type": "code",
   "execution_count": 24,
   "metadata": {},
   "outputs": [
    {
     "data": {
      "image/svg+xml": [
       "<?xml version=\"1.0\" encoding=\"UTF-8\" standalone=\"no\"?>\n",
       "<!DOCTYPE svg PUBLIC \"-//W3C//DTD SVG 1.1//EN\"\n",
       " \"http://www.w3.org/Graphics/SVG/1.1/DTD/svg11.dtd\">\n",
       "<!-- Generated by graphviz version 10.0.1 (20240210.2158)\n",
       " -->\n",
       "<!-- Pages: 1 -->\n",
       "<svg width=\"1286pt\" height=\"338pt\"\n",
       " viewBox=\"0.00 0.00 1285.82 338.39\" xmlns=\"http://www.w3.org/2000/svg\" xmlns:xlink=\"http://www.w3.org/1999/xlink\">\n",
       "<g id=\"graph0\" class=\"graph\" transform=\"scale(1 1) rotate(0) translate(4 334.39)\">\n",
       "<polygon fill=\"white\" stroke=\"none\" points=\"-4,4 -4,-334.39 1281.82,-334.39 1281.82,4 -4,4\"/>\n",
       "<!-- Country -->\n",
       "<g id=\"node1\" class=\"node\">\n",
       "<title>Country</title>\n",
       "<ellipse fill=\"none\" stroke=\"black\" cx=\"656.41\" cy=\"-243.42\" rx=\"88.74\" ry=\"86.97\"/>\n",
       "<text text-anchor=\"middle\" x=\"656.41\" y=\"-287.62\" font-family=\"Times,serif\" font-size=\"14.00\">Country</text>\n",
       "<text text-anchor=\"middle\" x=\"656.41\" y=\"-255.12\" font-family=\"Times,serif\" font-size=\"14.00\">properties:</text>\n",
       "<text text-anchor=\"middle\" x=\"656.41\" y=\"-238.62\" font-family=\"Times,serif\" font-size=\"14.00\">id: id *unique*</text>\n",
       "<text text-anchor=\"middle\" x=\"656.41\" y=\"-222.12\" font-family=\"Times,serif\" font-size=\"14.00\">name: name</text>\n",
       "<text text-anchor=\"middle\" x=\"656.41\" y=\"-205.62\" font-family=\"Times,serif\" font-size=\"14.00\">latitude: latitude</text>\n",
       "<text text-anchor=\"middle\" x=\"656.41\" y=\"-189.12\" font-family=\"Times,serif\" font-size=\"14.00\">longitude: longitude</text>\n",
       "</g>\n",
       "<!-- Capital -->\n",
       "<g id=\"node2\" class=\"node\">\n",
       "<title>Capital</title>\n",
       "<ellipse fill=\"none\" stroke=\"black\" cx=\"888.41\" cy=\"-51.97\" rx=\"101.47\" ry=\"51.97\"/>\n",
       "<text text-anchor=\"middle\" x=\"888.41\" y=\"-71.42\" font-family=\"Times,serif\" font-size=\"14.00\">Capital</text>\n",
       "<text text-anchor=\"middle\" x=\"888.41\" y=\"-38.92\" font-family=\"Times,serif\" font-size=\"14.00\">properties:</text>\n",
       "<text text-anchor=\"middle\" x=\"888.41\" y=\"-22.42\" font-family=\"Times,serif\" font-size=\"14.00\">name: capital *unique*</text>\n",
       "</g>\n",
       "<!-- Country&#45;&gt;Capital -->\n",
       "<g id=\"edge1\" class=\"edge\">\n",
       "<title>Country&#45;&gt;Capital</title>\n",
       "<path fill=\"none\" stroke=\"black\" d=\"M724.45,-186.86C756.72,-160.51 794.99,-129.26 826.44,-103.58\"/>\n",
       "<polygon fill=\"black\" stroke=\"black\" points=\"828.41,-106.48 833.94,-97.45 823.99,-101.06 828.41,-106.48\"/>\n",
       "<text text-anchor=\"middle\" x=\"844.79\" y=\"-125.14\" font-family=\"Times,serif\" font-size=\"14.00\">HAS_CAPITAL</text>\n",
       "</g>\n",
       "<!-- Currency -->\n",
       "<g id=\"node3\" class=\"node\">\n",
       "<title>Currency</title>\n",
       "<ellipse fill=\"none\" stroke=\"black\" cx=\"135.41\" cy=\"-51.97\" rx=\"135.41\" ry=\"51.97\"/>\n",
       "<text text-anchor=\"middle\" x=\"135.41\" y=\"-71.42\" font-family=\"Times,serif\" font-size=\"14.00\">Currency</text>\n",
       "<text text-anchor=\"middle\" x=\"135.41\" y=\"-38.92\" font-family=\"Times,serif\" font-size=\"14.00\">properties:</text>\n",
       "<text text-anchor=\"middle\" x=\"135.41\" y=\"-22.42\" font-family=\"Times,serif\" font-size=\"14.00\">name: currency_name *unique*</text>\n",
       "</g>\n",
       "<!-- Country&#45;&gt;Currency -->\n",
       "<g id=\"edge2\" class=\"edge\">\n",
       "<title>Country&#45;&gt;Currency</title>\n",
       "<path fill=\"none\" stroke=\"black\" d=\"M573.28,-212.19C483.89,-179.69 341.42,-127.88 243.41,-92.24\"/>\n",
       "<polygon fill=\"black\" stroke=\"black\" points=\"244.9,-89.06 234.3,-88.93 242.51,-95.64 244.9,-89.06\"/>\n",
       "<text text-anchor=\"middle\" x=\"422.04\" y=\"-125.14\" font-family=\"Times,serif\" font-size=\"14.00\">USES_CURRENCY</text>\n",
       "</g>\n",
       "<!-- Subregion -->\n",
       "<g id=\"node5\" class=\"node\">\n",
       "<title>Subregion</title>\n",
       "<ellipse fill=\"none\" stroke=\"black\" cx=\"1158.41\" cy=\"-51.97\" rx=\"113.67\" ry=\"51.97\"/>\n",
       "<text text-anchor=\"middle\" x=\"1158.41\" y=\"-71.42\" font-family=\"Times,serif\" font-size=\"14.00\">Subregion</text>\n",
       "<text text-anchor=\"middle\" x=\"1158.41\" y=\"-38.92\" font-family=\"Times,serif\" font-size=\"14.00\">properties:</text>\n",
       "<text text-anchor=\"middle\" x=\"1158.41\" y=\"-22.42\" font-family=\"Times,serif\" font-size=\"14.00\">name: subregion *unique*</text>\n",
       "</g>\n",
       "<!-- Country&#45;&gt;Subregion -->\n",
       "<g id=\"edge3\" class=\"edge\">\n",
       "<title>Country&#45;&gt;Subregion</title>\n",
       "<path fill=\"none\" stroke=\"black\" d=\"M739.31,-211.14C827.66,-177.79 967.45,-125.04 1061,-89.74\"/>\n",
       "<polygon fill=\"black\" stroke=\"black\" points=\"1062.06,-93.07 1070.18,-86.27 1059.59,-86.52 1062.06,-93.07\"/>\n",
       "<text text-anchor=\"middle\" x=\"1051.91\" y=\"-125.14\" font-family=\"Times,serif\" font-size=\"14.00\">BELONGS_TO_SUBREGION</text>\n",
       "</g>\n",
       "<!-- PhoneCode -->\n",
       "<g id=\"node6\" class=\"node\">\n",
       "<title>PhoneCode</title>\n",
       "<ellipse fill=\"none\" stroke=\"black\" cx=\"407.41\" cy=\"-51.97\" rx=\"118.97\" ry=\"51.97\"/>\n",
       "<text text-anchor=\"middle\" x=\"407.41\" y=\"-71.42\" font-family=\"Times,serif\" font-size=\"14.00\">PhoneCode</text>\n",
       "<text text-anchor=\"middle\" x=\"407.41\" y=\"-38.92\" font-family=\"Times,serif\" font-size=\"14.00\">properties:</text>\n",
       "<text text-anchor=\"middle\" x=\"407.41\" y=\"-22.42\" font-family=\"Times,serif\" font-size=\"14.00\">code: phone_code *unique*</text>\n",
       "</g>\n",
       "<!-- Country&#45;&gt;PhoneCode -->\n",
       "<g id=\"edge4\" class=\"edge\">\n",
       "<title>Country&#45;&gt;PhoneCode</title>\n",
       "<path fill=\"none\" stroke=\"black\" d=\"M586.72,-189.4C551.85,-162.87 509.82,-130.89 475.22,-104.56\"/>\n",
       "<polygon fill=\"black\" stroke=\"black\" points=\"477.41,-101.83 467.33,-98.56 473.17,-107.4 477.41,-101.83\"/>\n",
       "<text text-anchor=\"middle\" x=\"577.54\" y=\"-125.14\" font-family=\"Times,serif\" font-size=\"14.00\">HAS_PHONE_CODE</text>\n",
       "</g>\n",
       "<!-- Timezone -->\n",
       "<g id=\"node7\" class=\"node\">\n",
       "<title>Timezone</title>\n",
       "<ellipse fill=\"none\" stroke=\"black\" cx=\"656.41\" cy=\"-51.97\" rx=\"112.08\" ry=\"51.97\"/>\n",
       "<text text-anchor=\"middle\" x=\"656.41\" y=\"-71.42\" font-family=\"Times,serif\" font-size=\"14.00\">Timezone</text>\n",
       "<text text-anchor=\"middle\" x=\"656.41\" y=\"-38.92\" font-family=\"Times,serif\" font-size=\"14.00\">properties:</text>\n",
       "<text text-anchor=\"middle\" x=\"656.41\" y=\"-22.42\" font-family=\"Times,serif\" font-size=\"14.00\">zone: timezones *unique*</text>\n",
       "</g>\n",
       "<!-- Country&#45;&gt;Timezone -->\n",
       "<g id=\"edge5\" class=\"edge\">\n",
       "<title>Country&#45;&gt;Timezone</title>\n",
       "<path fill=\"none\" stroke=\"black\" d=\"M656.41,-156.01C656.41,-142.35 656.41,-128.46 656.41,-115.48\"/>\n",
       "<polygon fill=\"black\" stroke=\"black\" points=\"659.91,-115.85 656.41,-105.85 652.91,-115.85 659.91,-115.85\"/>\n",
       "<text text-anchor=\"middle\" x=\"708.16\" y=\"-125.14\" font-family=\"Times,serif\" font-size=\"14.00\">HAS_TIMEZONE</text>\n",
       "</g>\n",
       "<!-- Region -->\n",
       "<g id=\"node4\" class=\"node\">\n",
       "<title>Region</title>\n",
       "<ellipse fill=\"none\" stroke=\"black\" cx=\"1177.41\" cy=\"-243.42\" rx=\"100.41\" ry=\"51.97\"/>\n",
       "<text text-anchor=\"middle\" x=\"1177.41\" y=\"-262.87\" font-family=\"Times,serif\" font-size=\"14.00\">Region</text>\n",
       "<text text-anchor=\"middle\" x=\"1177.41\" y=\"-230.37\" font-family=\"Times,serif\" font-size=\"14.00\">properties:</text>\n",
       "<text text-anchor=\"middle\" x=\"1177.41\" y=\"-213.87\" font-family=\"Times,serif\" font-size=\"14.00\">name: region *unique*</text>\n",
       "</g>\n",
       "<!-- Region&#45;&gt;Subregion -->\n",
       "<g id=\"edge6\" class=\"edge\">\n",
       "<title>Region&#45;&gt;Subregion</title>\n",
       "<path fill=\"none\" stroke=\"black\" d=\"M1172.27,-191.15C1169.94,-167.88 1167.15,-140.14 1164.7,-115.64\"/>\n",
       "<polygon fill=\"black\" stroke=\"black\" points=\"1168.19,-115.39 1163.71,-105.79 1161.22,-116.09 1168.19,-115.39\"/>\n",
       "<text text-anchor=\"middle\" x=\"1221.91\" y=\"-125.14\" font-family=\"Times,serif\" font-size=\"14.00\">HAS_SUBREGION</text>\n",
       "</g>\n",
       "</g>\n",
       "</svg>\n"
      ],
      "text/plain": [
       "<graphviz.graphs.Digraph at 0x14734a4b0>"
      ]
     },
     "execution_count": 24,
     "metadata": {},
     "output_type": "execute_result"
    }
   ],
   "source": [
    "gdm.current_model.visualize()"
   ]
  },
  {
   "cell_type": "markdown",
   "metadata": {},
   "source": [
    "This is good enough for our demo. We can now create some ingestion code to get our data into our database."
   ]
  },
  {
   "cell_type": "markdown",
   "metadata": {},
   "source": [
    "## Ingestion Code Generation"
   ]
  },
  {
   "cell_type": "markdown",
   "metadata": {},
   "source": [
    "We can provide our credentials here in this step if we plan on using PyIngest to load our data. This will inject our credentials into the generated YAML file. If we leave the credential fields blank, then we can just fill in the blanks in the generated YAML file later."
   ]
  },
  {
   "cell_type": "code",
   "execution_count": 25,
   "metadata": {},
   "outputs": [],
   "source": [
    "\n",
    "gen = PyIngestConfigGenerator(data_model=gdm.current_model, \n",
    "                         username=os.environ.get(\"NEO4J_USERNAME\"), \n",
    "                         password=os.environ.get(\"NEO4J_PASSWORD\"), \n",
    "                         uri=os.environ.get(\"NEO4J_URI\"), \n",
    "                         database=os.environ.get(\"NEO4J_DATABASE\"), \n",
    "                         file_directory=\"data/csv/\", csv_name=\"countries.csv\")"
   ]
  },
  {
   "cell_type": "code",
   "execution_count": 26,
   "metadata": {},
   "outputs": [
    {
     "name": "stdout",
     "output_type": "stream",
     "text": [
      "server_uri: bolt://localhost:7687\n",
      "admin_user: neo4j\n",
      "admin_pass: password\n",
      "database: neo4j\n",
      "basepath: ./\n",
      "\n",
      "pre_ingest:\n",
      "  - CREATE CONSTRAINT country_id IF NOT EXISTS FOR (n:Country) REQUIRE n.id IS UNIQUE;\n",
      "  - CREATE CONSTRAINT capital_name IF NOT EXISTS FOR (n:Capital) REQUIRE n.name IS UNIQUE;\n",
      "  - CREATE CONSTRAINT currency_name IF NOT EXISTS FOR (n:Currency) REQUIRE n.name IS UNIQUE;\n",
      "  - CREATE CONSTRAINT region_name IF NOT EXISTS FOR (n:Region) REQUIRE n.name IS UNIQUE;\n",
      "  - CREATE CONSTRAINT subregion_name IF NOT EXISTS FOR (n:Subregion) REQUIRE n.name IS UNIQUE;\n",
      "  - CREATE CONSTRAINT phonecode_code IF NOT EXISTS FOR (n:PhoneCode) REQUIRE n.code IS UNIQUE;\n",
      "  - CREATE CONSTRAINT timezone_zone IF NOT EXISTS FOR (n:Timezone) REQUIRE n.zone IS UNIQUE;\n",
      "files:\n",
      "- chunk_size: 100\n",
      "  cql: |-\n",
      "    WITH $dict.rows AS rows\n",
      "    UNWIND rows AS row\n",
      "    MERGE (n:Country {id: toIntegerOrNull(row.id)})\n",
      "    SET n.name = row.name, n.latitude = toFloatOrNull(row.latitude), n.longitude = toFloatOrNull(row.longitude)\n",
      "  url: $BASE/data/csv/countries.csv\n",
      "- chunk_size: 100\n",
      "  cql: |\n",
      "    WITH $dict.rows AS rows\n",
      "    UNWIND rows AS row\n",
      "    MERGE (n:Capital {name: row.capital})\n",
      "  url: $BASE/data/csv/countries.csv\n",
      "- chunk_size: 100\n",
      "  cql: |\n",
      "    WITH $dict.rows AS rows\n",
      "    UNWIND rows AS row\n",
      "    MERGE (n:Currency {name: row.currency_name})\n",
      "  url: $BASE/data/csv/countries.csv\n",
      "- chunk_size: 100\n",
      "  cql: |\n",
      "    WITH $dict.rows AS rows\n",
      "    UNWIND rows AS row\n",
      "    MERGE (n:Region {name: row.region})\n",
      "  url: $BASE/data/csv/countries.csv\n",
      "- chunk_size: 100\n",
      "  cql: |\n",
      "    WITH $dict.rows AS rows\n",
      "    UNWIND rows AS row\n",
      "    MERGE (n:Subregion {name: row.subregion})\n",
      "  url: $BASE/data/csv/countries.csv\n",
      "- chunk_size: 100\n",
      "  cql: |\n",
      "    WITH $dict.rows AS rows\n",
      "    UNWIND rows AS row\n",
      "    MERGE (n:PhoneCode {code: row.phone_code})\n",
      "  url: $BASE/data/csv/countries.csv\n",
      "- chunk_size: 100\n",
      "  cql: |\n",
      "    WITH $dict.rows AS rows\n",
      "    UNWIND rows AS row\n",
      "    MERGE (n:Timezone {zone: row.timezones})\n",
      "  url: $BASE/data/csv/countries.csv\n",
      "- chunk_size: 100\n",
      "  cql: |\n",
      "    WITH $dict.rows AS rows\n",
      "    UNWIND rows as row\n",
      "    MATCH (source:Country {id: toIntegerOrNull(row.id)})\n",
      "    MATCH (target:Capital {name: row.capital})\n",
      "    MERGE (source)-[n:HAS_CAPITAL]->(target)\n",
      "  url: $BASE/data/csv/countries.csv\n",
      "- chunk_size: 100\n",
      "  cql: |\n",
      "    WITH $dict.rows AS rows\n",
      "    UNWIND rows as row\n",
      "    MATCH (source:Country {id: toIntegerOrNull(row.id)})\n",
      "    MATCH (target:Currency {name: row.currency_name})\n",
      "    MERGE (source)-[n:USES_CURRENCY]->(target)\n",
      "  url: $BASE/data/csv/countries.csv\n",
      "- chunk_size: 100\n",
      "  cql: |\n",
      "    WITH $dict.rows AS rows\n",
      "    UNWIND rows as row\n",
      "    MATCH (source:Country {id: toIntegerOrNull(row.id)})\n",
      "    MATCH (target:Subregion {name: row.subregion})\n",
      "    MERGE (source)-[n:BELONGS_TO_SUBREGION]->(target)\n",
      "  url: $BASE/data/csv/countries.csv\n",
      "- chunk_size: 100\n",
      "  cql: |\n",
      "    WITH $dict.rows AS rows\n",
      "    UNWIND rows as row\n",
      "    MATCH (source:Country {id: toIntegerOrNull(row.id)})\n",
      "    MATCH (target:PhoneCode {code: row.phone_code})\n",
      "    MERGE (source)-[n:HAS_PHONE_CODE]->(target)\n",
      "  url: $BASE/data/csv/countries.csv\n",
      "- chunk_size: 100\n",
      "  cql: |\n",
      "    WITH $dict.rows AS rows\n",
      "    UNWIND rows as row\n",
      "    MATCH (source:Country {id: toIntegerOrNull(row.id)})\n",
      "    MATCH (target:Timezone {zone: row.timezones})\n",
      "    MERGE (source)-[n:HAS_TIMEZONE]->(target)\n",
      "  url: $BASE/data/csv/countries.csv\n",
      "- chunk_size: 100\n",
      "  cql: |\n",
      "    WITH $dict.rows AS rows\n",
      "    UNWIND rows as row\n",
      "    MATCH (source:Region {name: row.region})\n",
      "    MATCH (target:Subregion {name: row.subregion})\n",
      "    MERGE (source)-[n:HAS_SUBREGION]->(target)\n",
      "  url: $BASE/data/csv/countries.csv\n",
      "\n"
     ]
    }
   ],
   "source": [
    "pyingest_yaml = gen.generate_config_string()\n",
    "# gen.generate_pyingest_yaml_file(file_name=\"countries\")\n",
    "print(pyingest_yaml)"
   ]
  },
  {
   "cell_type": "markdown",
   "metadata": {},
   "source": [
    "## Ingest Data"
   ]
  },
  {
   "cell_type": "markdown",
   "metadata": {},
   "source": [
    "We can use the generated yaml string above to orchestrate the data loading via a modified PyIngest function. First let's confirm our connection though."
   ]
  },
  {
   "cell_type": "code",
   "execution_count": 27,
   "metadata": {},
   "outputs": [
    {
     "data": {
      "text/plain": [
       "{'valid': True, 'message': 'Connection and Auth Verified!'}"
      ]
     },
     "execution_count": 27,
     "metadata": {},
     "output_type": "execute_result"
    }
   ],
   "source": [
    "test_database_connection(credentials={\"username\": os.environ.get(\"NEO4J_USERNAME\"), \"password\": os.environ.get(\"NEO4J_PASSWORD\"), \"uri\": os.environ.get(\"NEO4J_URI\")})"
   ]
  },
  {
   "cell_type": "code",
   "execution_count": 28,
   "metadata": {},
   "outputs": [
    {
     "name": "stderr",
     "output_type": "stream",
     "text": [
      "/Users/alexandergilmore/Documents/projects/neo4j-runway-examples/venv/lib/python3.12/site-packages/neo4j_runway/ingestion/pyingest.py:161: UserWarning: the yaml_string parameter will be depreciated in future releases. Please use the 'config' to identify the YAML file instead.\n",
      "  warnings.warn(\n"
     ]
    },
    {
     "name": "stdout",
     "output_type": "stream",
     "text": [
      "File {} .//data/csv/countries.csv\n",
      "loading... 0 2024-07-25 10:27:25.710875\n",
      "loading... 1 2024-07-25 10:27:25.831961\n",
      "{} : Completed file 2024-07-25 10:27:25.874371\n",
      "File {} .//data/csv/countries.csv\n",
      "loading... 0 2024-07-25 10:27:25.874948\n"
     ]
    },
    {
     "name": "stderr",
     "output_type": "stream",
     "text": [
      "/Users/alexandergilmore/Documents/projects/neo4j-runway-examples/venv/lib/python3.12/site-packages/numpy/core/fromnumeric.py:59: FutureWarning: 'DataFrame.swapaxes' is deprecated and will be removed in a future version. Please use 'DataFrame.transpose' instead.\n",
      "  return bound(*args, **kwds)\n",
      "/Users/alexandergilmore/Documents/projects/neo4j-runway-examples/venv/lib/python3.12/site-packages/numpy/core/fromnumeric.py:59: FutureWarning: 'DataFrame.swapaxes' is deprecated and will be removed in a future version. Please use 'DataFrame.transpose' instead.\n",
      "  return bound(*args, **kwds)\n"
     ]
    },
    {
     "name": "stdout",
     "output_type": "stream",
     "text": [
      "loading... 1 2024-07-25 10:27:25.920787\n",
      "{} : Completed file 2024-07-25 10:27:25.947479\n",
      "File {} .//data/csv/countries.csv\n",
      "loading... 0 2024-07-25 10:27:25.947894\n",
      "loading... 1 2024-07-25 10:27:26.000605\n",
      "{} : Completed file 2024-07-25 10:27:26.026412\n",
      "File {} .//data/csv/countries.csv\n",
      "loading... 0 2024-07-25 10:27:26.027022\n",
      "loading... 1 2024-07-25 10:27:26.066024\n",
      "{} : Completed file 2024-07-25 10:27:26.087253\n",
      "File {} .//data/csv/countries.csv\n",
      "loading... 0 2024-07-25 10:27:26.087689\n",
      "loading... 1 2024-07-25 10:27:26.139537\n"
     ]
    },
    {
     "name": "stderr",
     "output_type": "stream",
     "text": [
      "/Users/alexandergilmore/Documents/projects/neo4j-runway-examples/venv/lib/python3.12/site-packages/numpy/core/fromnumeric.py:59: FutureWarning: 'DataFrame.swapaxes' is deprecated and will be removed in a future version. Please use 'DataFrame.transpose' instead.\n",
      "  return bound(*args, **kwds)\n",
      "/Users/alexandergilmore/Documents/projects/neo4j-runway-examples/venv/lib/python3.12/site-packages/numpy/core/fromnumeric.py:59: FutureWarning: 'DataFrame.swapaxes' is deprecated and will be removed in a future version. Please use 'DataFrame.transpose' instead.\n",
      "  return bound(*args, **kwds)\n",
      "/Users/alexandergilmore/Documents/projects/neo4j-runway-examples/venv/lib/python3.12/site-packages/numpy/core/fromnumeric.py:59: FutureWarning: 'DataFrame.swapaxes' is deprecated and will be removed in a future version. Please use 'DataFrame.transpose' instead.\n",
      "  return bound(*args, **kwds)\n"
     ]
    },
    {
     "name": "stdout",
     "output_type": "stream",
     "text": [
      "{} : Completed file 2024-07-25 10:27:26.152920\n",
      "File {} .//data/csv/countries.csv\n",
      "loading... 0 2024-07-25 10:27:26.153506\n",
      "loading... 1 2024-07-25 10:27:26.194226\n",
      "{} : Completed file 2024-07-25 10:27:26.217579\n",
      "File {} .//data/csv/countries.csv\n",
      "loading... 0 2024-07-25 10:27:26.217974\n",
      "loading... 1 2024-07-25 10:27:26.258016\n",
      "{} : Completed file 2024-07-25 10:27:26.281699\n",
      "File {} .//data/csv/countries.csv\n",
      "loading... 0 2024-07-25 10:27:26.282296\n",
      "loading... 1 2024-07-25 10:27:26.349784\n"
     ]
    },
    {
     "name": "stderr",
     "output_type": "stream",
     "text": [
      "/Users/alexandergilmore/Documents/projects/neo4j-runway-examples/venv/lib/python3.12/site-packages/numpy/core/fromnumeric.py:59: FutureWarning: 'DataFrame.swapaxes' is deprecated and will be removed in a future version. Please use 'DataFrame.transpose' instead.\n",
      "  return bound(*args, **kwds)\n",
      "/Users/alexandergilmore/Documents/projects/neo4j-runway-examples/venv/lib/python3.12/site-packages/numpy/core/fromnumeric.py:59: FutureWarning: 'DataFrame.swapaxes' is deprecated and will be removed in a future version. Please use 'DataFrame.transpose' instead.\n",
      "  return bound(*args, **kwds)\n",
      "/Users/alexandergilmore/Documents/projects/neo4j-runway-examples/venv/lib/python3.12/site-packages/numpy/core/fromnumeric.py:59: FutureWarning: 'DataFrame.swapaxes' is deprecated and will be removed in a future version. Please use 'DataFrame.transpose' instead.\n",
      "  return bound(*args, **kwds)\n"
     ]
    },
    {
     "name": "stdout",
     "output_type": "stream",
     "text": [
      "{} : Completed file 2024-07-25 10:27:26.376528\n",
      "File {} .//data/csv/countries.csv\n",
      "loading... 0 2024-07-25 10:27:26.376950\n",
      "loading... 1 2024-07-25 10:27:26.435613\n",
      "{} : Completed file 2024-07-25 10:27:26.459099\n",
      "File {} .//data/csv/countries.csv\n",
      "loading... 0 2024-07-25 10:27:26.459632\n",
      "loading... 1 2024-07-25 10:27:26.514643\n",
      "{} : Completed file 2024-07-25 10:27:26.535583\n",
      "File {} .//data/csv/countries.csv\n",
      "loading... 0 2024-07-25 10:27:26.536075\n"
     ]
    },
    {
     "name": "stderr",
     "output_type": "stream",
     "text": [
      "/Users/alexandergilmore/Documents/projects/neo4j-runway-examples/venv/lib/python3.12/site-packages/numpy/core/fromnumeric.py:59: FutureWarning: 'DataFrame.swapaxes' is deprecated and will be removed in a future version. Please use 'DataFrame.transpose' instead.\n",
      "  return bound(*args, **kwds)\n",
      "/Users/alexandergilmore/Documents/projects/neo4j-runway-examples/venv/lib/python3.12/site-packages/numpy/core/fromnumeric.py:59: FutureWarning: 'DataFrame.swapaxes' is deprecated and will be removed in a future version. Please use 'DataFrame.transpose' instead.\n",
      "  return bound(*args, **kwds)\n",
      "/Users/alexandergilmore/Documents/projects/neo4j-runway-examples/venv/lib/python3.12/site-packages/numpy/core/fromnumeric.py:59: FutureWarning: 'DataFrame.swapaxes' is deprecated and will be removed in a future version. Please use 'DataFrame.transpose' instead.\n",
      "  return bound(*args, **kwds)\n"
     ]
    },
    {
     "name": "stdout",
     "output_type": "stream",
     "text": [
      "loading... 1 2024-07-25 10:27:26.588542\n",
      "{} : Completed file 2024-07-25 10:27:26.610934\n",
      "File {} .//data/csv/countries.csv\n",
      "loading... 0 2024-07-25 10:27:26.611535\n",
      "loading... 1 2024-07-25 10:27:26.663684\n",
      "{} : Completed file 2024-07-25 10:27:26.687132\n",
      "File {} .//data/csv/countries.csv\n",
      "loading... 0 2024-07-25 10:27:26.687787\n",
      "loading... 1 2024-07-25 10:27:26.738352\n",
      "{} : Completed file 2024-07-25 10:27:26.751575\n"
     ]
    },
    {
     "name": "stderr",
     "output_type": "stream",
     "text": [
      "/Users/alexandergilmore/Documents/projects/neo4j-runway-examples/venv/lib/python3.12/site-packages/numpy/core/fromnumeric.py:59: FutureWarning: 'DataFrame.swapaxes' is deprecated and will be removed in a future version. Please use 'DataFrame.transpose' instead.\n",
      "  return bound(*args, **kwds)\n",
      "/Users/alexandergilmore/Documents/projects/neo4j-runway-examples/venv/lib/python3.12/site-packages/numpy/core/fromnumeric.py:59: FutureWarning: 'DataFrame.swapaxes' is deprecated and will be removed in a future version. Please use 'DataFrame.transpose' instead.\n",
      "  return bound(*args, **kwds)\n"
     ]
    }
   ],
   "source": [
    "PyIngest(yaml_string=pyingest_yaml, dataframe=data)"
   ]
  },
  {
   "cell_type": "markdown",
   "metadata": {},
   "source": [
    "If we check our database we can see that we've ingested our CSV according to the data model we've created!"
   ]
  },
  {
   "cell_type": "markdown",
   "metadata": {},
   "source": [
    "![countries-graph-0.7.0.png](./images/countries-graph-0.7.0.png)"
   ]
  }
 ],
 "metadata": {
  "kernelspec": {
   "display_name": "venv",
   "language": "python",
   "name": "python3"
  },
  "language_info": {
   "codemirror_mode": {
    "name": "ipython",
    "version": 3
   },
   "file_extension": ".py",
   "mimetype": "text/x-python",
   "name": "python",
   "nbconvert_exporter": "python",
   "pygments_lexer": "ipython3",
   "version": "3.12.3"
  }
 },
 "nbformat": 4,
 "nbformat_minor": 2
}
