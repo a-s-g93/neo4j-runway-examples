{
 "cells": [
  {
   "cell_type": "markdown",
   "metadata": {},
   "source": [
    "# Demo CSV --> Graph Notebook"
   ]
  },
  {
   "cell_type": "markdown",
   "metadata": {},
   "source": [
    "This notebooks demonstrates the data flow of generating a graph from a CSV file. "
   ]
  },
  {
   "cell_type": "code",
   "execution_count": 1,
   "metadata": {},
   "outputs": [],
   "source": [
    "import os\n",
    "\n",
    "import json\n",
    "import pandas as pd\n",
    "import regex as re\n",
    "\n",
    "from neo4j_runway.modeler import GraphDataModeler\n",
    "from neo4j_runway.discovery import Discovery\n",
    "from neo4j_runway.llm import LLM"
   ]
  },
  {
   "cell_type": "markdown",
   "metadata": {},
   "source": [
    "## Initialize Test Data"
   ]
  },
  {
   "cell_type": "code",
   "execution_count": 2,
   "metadata": {},
   "outputs": [],
   "source": [
    "USER_GENERATED_INPUT = {\n",
    "    'General Description': 'This is data on different countries.',\n",
    "    'id': 'unique id for a country.',\n",
    "    'name': 'the country name.',\n",
    "    'phone_code': 'country area code.',\n",
    "    'capital': 'the capital of the country.',\n",
    "    'currency_name': \"name of the country's currency\",\n",
    "    'region': 'primary region of the country.',\n",
    "    'subregion': 'subregion location of the country.',\n",
    "    'timezones': 'timezones contained within the country borders.',\n",
    "    'latitude': 'the latitude coordinate of the country center.',\n",
    "    'longitude': 'the longitude coordinate of the country center.'\n",
    "}"
   ]
  },
  {
   "cell_type": "code",
   "execution_count": 3,
   "metadata": {},
   "outputs": [],
   "source": [
    "data = pd.read_csv(\"data/csv/countries.csv\")"
   ]
  },
  {
   "cell_type": "markdown",
   "metadata": {},
   "source": [
    "## Initialize LLM"
   ]
  },
  {
   "cell_type": "code",
   "execution_count": 4,
   "metadata": {},
   "outputs": [],
   "source": [
    "llm = LLM()"
   ]
  },
  {
   "cell_type": "code",
   "execution_count": 5,
   "metadata": {},
   "outputs": [],
   "source": [
    "disc = Discovery(llm=llm, \n",
    "                      user_input=USER_GENERATED_INPUT, \n",
    "                      data=data\n",
    "                      )"
   ]
  },
  {
   "cell_type": "code",
   "execution_count": 6,
   "metadata": {},
   "outputs": [
    {
     "name": "stdout",
     "output_type": "stream",
     "text": [
      "Based on the provided summary of your dataset, here are some key observations and insights regarding the characteristics of your data:\n",
      "\n",
      "### General Overview\n",
      "- Your dataset consists of information on 250 countries, with a total of 10 features for each country. These features include both numerical and categorical data types, providing a comprehensive overview of various country attributes such as geographical, political, and economic characteristics.\n",
      "\n",
      "### Data Completeness\n",
      "- Most of your columns are fully populated, with `id`, `name`, `phone_code`, `currency_name`, `timezones`, `latitude`, and `longitude` having no missing values across all 250 entries. This indicates a high level of data completeness for these attributes.\n",
      "- There are a few columns with missing values: `capital` (5 missing), `region` (2 missing), and `subregion` (3 missing). These missing values are relatively few in number and could potentially be filled in with additional research or inferred from other data sources if necessary.\n",
      "\n",
      "### Unique and Non-Unique Values\n",
      "- The `id` and `name` columns are unique for each country, which is expected as they serve as identifiers. The uniqueness of `name` suggests it could also serve as a natural identifier for countries in your dataset.\n",
      "- `phone_code` has fewer unique values (235) than there are countries, indicating that some countries share the same phone code. This is common with countries within certain regions or political unions.\n",
      "- `capital` has one less unique value than its non-null count, suggesting that at least two countries share the same capital name. This could be due to city-states or unique geopolitical situations.\n",
      "- `currency_name` shows that several countries share the same currency, with \"Euro\" being the most common, reflecting the economic unions present in the world.\n",
      "- `region` and `subregion` have a limited number of unique values, indicating these are categorical fields with predefined values. These fields are crucial for geographical and regional analysis.\n",
      "\n",
      "### Statistical Distribution of Numerical Features\n",
      "- The `id` field is evenly distributed, as it's a sequential identifier for countries.\n",
      "- `latitude` and `longitude` fields show a wide range of values, reflecting the global distribution of countries. The mean values are relatively central, but the standard deviation, especially for longitude, indicates a broad spread across the globe.\n",
      "\n",
      "### Important Features for Analysis\n",
      "- **Geographical Features (`latitude`, `longitude`)**: Essential for any spatial analysis or for understanding the geographical distribution of countries.\n",
      "- **Political/Economic Features (`capital`, `currency_name`)**: Important for analyses focusing on economic or political aspects.\n",
      "- **Regional Classification (`region`, `subregion`)**: Crucial for regional analysis or when aggregating countries by geographical areas.\n",
      "- **Identifiers (`id`, `name`)**: Essential for uniquely identifying records and for joining with other datasets.\n",
      "- **`timezones`**: While more complex due to its structure, it's vital for any time-based analysis or operations that consider local times across the world.\n",
      "\n",
      "### Preliminary Recommendations\n",
      "- **Data Cleaning**: Address the missing values in `capital`, `region`, and `subregion` either by imputation or additional data collection.\n",
      "- **Data Enrichment**: Consider adding more socio-economic indicators or environmental data to enrich the analysis capabilities.\n",
      "- **Analysis Focus**: Depending on your objectives, focusing on geographical, political, or economic features could provide valuable insights. For instance, analyzing the relationship between geographical location and economic indicators, or understanding regional political structures through the lens of capital cities and currencies.\n",
      "\n",
      "This preliminary analysis suggests that your dataset is well-structured and comprehensive, offering a solid foundation for a wide range of analyses related to countries' geographical, political, and economic characteristics.\n"
     ]
    }
   ],
   "source": [
    "discovery = disc.run()\n",
    "print(discovery)"
   ]
  },
  {
   "cell_type": "code",
   "execution_count": 7,
   "metadata": {},
   "outputs": [],
   "source": [
    "gdm = GraphDataModeler(\n",
    "    llm=llm,\n",
    "    user_input=USER_GENERATED_INPUT,\n",
    "    discovery=disc.discovery,\n",
    "    general_data_description=disc.general_description,\n",
    "    categorical_data_description=disc.categorical_data_description,\n",
    "    numeric_data_description=disc.numeric_data_description,\n",
    "    feature_descriptions=disc.feature_descriptions\n",
    ")"
   ]
  },
  {
   "cell_type": "code",
   "execution_count": 8,
   "metadata": {},
   "outputs": [
    {
     "name": "stdout",
     "output_type": "stream",
     "text": [
      "recieved a valid response\n",
      "nodes=[Node(label='Country', properties=[Property(name='id', type='int', csv_mapping='id', is_unique=True), Property(name='name', type='str', csv_mapping='name', is_unique=False)]), Node(label='Capital', properties=[Property(name='capital', type='str', csv_mapping='capital', is_unique=True)]), Node(label='Currency', properties=[Property(name='currencyName', type='str', csv_mapping='currency_name', is_unique=False)]), Node(label='Region', properties=[Property(name='region', type='str', csv_mapping='region', is_unique=False)]), Node(label='Subregion', properties=[Property(name='subregion', type='str', csv_mapping='subregion', is_unique=False)]), Node(label='Timezone', properties=[Property(name='timezones', type='str', csv_mapping='timezones', is_unique=False)])] relationships=[Relationship(type='HAS_CAPITAL', properties=[], source='Country', target='Capital'), Relationship(type='USES_CURRENCY', properties=[], source='Country', target='Currency'), Relationship(type='LOCATED_IN_REGION', properties=[], source='Country', target='Region'), Relationship(type='PART_OF_SUBREGION', properties=[], source='Country', target='Subregion'), Relationship(type='HAS_TIMEZONE', properties=[], source='Country', target='Timezone')]\n"
     ]
    }
   ],
   "source": [
    "initial_model = gdm.create_initial_model()\n",
    "print(initial_model)"
   ]
  },
  {
   "cell_type": "code",
   "execution_count": 9,
   "metadata": {},
   "outputs": [
    {
     "data": {
      "text/plain": [
       "DataModel(nodes=[Node(label='Country', properties=[Property(name='id', type='int', csv_mapping='id', is_unique=True), Property(name='name', type='str', csv_mapping='name', is_unique=False)]), Node(label='Capital', properties=[Property(name='capital', type='str', csv_mapping='capital', is_unique=True)]), Node(label='Currency', properties=[Property(name='currencyName', type='str', csv_mapping='currency_name', is_unique=False)]), Node(label='Region', properties=[Property(name='region', type='str', csv_mapping='region', is_unique=False)]), Node(label='Subregion', properties=[Property(name='subregion', type='str', csv_mapping='subregion', is_unique=False)]), Node(label='Timezone', properties=[Property(name='timezones', type='str', csv_mapping='timezones', is_unique=False)])], relationships=[Relationship(type='HAS_CAPITAL', properties=[], source='Country', target='Capital'), Relationship(type='USES_CURRENCY', properties=[], source='Country', target='Currency'), Relationship(type='LOCATED_IN_REGION', properties=[], source='Country', target='Region'), Relationship(type='PART_OF_SUBREGION', properties=[], source='Country', target='Subregion'), Relationship(type='HAS_TIMEZONE', properties=[], source='Country', target='Timezone')])"
      ]
     },
     "execution_count": 9,
     "metadata": {},
     "output_type": "execute_result"
    }
   ],
   "source": [
    "gdm.current_model"
   ]
  },
  {
   "cell_type": "code",
   "execution_count": 11,
   "metadata": {},
   "outputs": [
    {
     "data": {
      "image/svg+xml": [
       "<?xml version=\"1.0\" encoding=\"UTF-8\" standalone=\"no\"?>\n",
       "<!DOCTYPE svg PUBLIC \"-//W3C//DTD SVG 1.1//EN\"\n",
       " \"http://www.w3.org/Graphics/SVG/1.1/DTD/svg11.dtd\">\n",
       "<!-- Generated by graphviz version 10.0.1 (20240210.2158)\n",
       " -->\n",
       "<!-- Pages: 1 -->\n",
       "<svg width=\"1061pt\" height=\"292pt\"\n",
       " viewBox=\"0.00 0.00 1060.82 291.72\" xmlns=\"http://www.w3.org/2000/svg\" xmlns:xlink=\"http://www.w3.org/1999/xlink\">\n",
       "<g id=\"graph0\" class=\"graph\" transform=\"scale(1 1) rotate(0) translate(4 287.72)\">\n",
       "<polygon fill=\"white\" stroke=\"none\" points=\"-4,4 -4,-287.72 1056.82,-287.72 1056.82,4 -4,4\"/>\n",
       "<!-- Country -->\n",
       "<g id=\"node1\" class=\"node\">\n",
       "<title>Country</title>\n",
       "<ellipse fill=\"none\" stroke=\"black\" cx=\"577.71\" cy=\"-220.08\" rx=\"69.65\" ry=\"63.64\"/>\n",
       "<text text-anchor=\"middle\" x=\"577.71\" y=\"-247.78\" font-family=\"Times,serif\" font-size=\"14.00\">Country</text>\n",
       "<text text-anchor=\"middle\" x=\"577.71\" y=\"-215.28\" font-family=\"Times,serif\" font-size=\"14.00\">properties:</text>\n",
       "<text text-anchor=\"middle\" x=\"577.71\" y=\"-198.78\" font-family=\"Times,serif\" font-size=\"14.00\">id: id *unique*</text>\n",
       "<text text-anchor=\"middle\" x=\"577.71\" y=\"-182.28\" font-family=\"Times,serif\" font-size=\"14.00\">name: name</text>\n",
       "</g>\n",
       "<!-- Capital -->\n",
       "<g id=\"node2\" class=\"node\">\n",
       "<title>Capital</title>\n",
       "<ellipse fill=\"none\" stroke=\"black\" cx=\"105.71\" cy=\"-51.97\" rx=\"105.71\" ry=\"51.97\"/>\n",
       "<text text-anchor=\"middle\" x=\"105.71\" y=\"-71.42\" font-family=\"Times,serif\" font-size=\"14.00\">Capital</text>\n",
       "<text text-anchor=\"middle\" x=\"105.71\" y=\"-38.92\" font-family=\"Times,serif\" font-size=\"14.00\">properties:</text>\n",
       "<text text-anchor=\"middle\" x=\"105.71\" y=\"-22.42\" font-family=\"Times,serif\" font-size=\"14.00\">capital: capital *unique*</text>\n",
       "</g>\n",
       "<!-- Country&#45;&gt;Capital -->\n",
       "<g id=\"edge1\" class=\"edge\">\n",
       "<title>Country&#45;&gt;Capital</title>\n",
       "<path fill=\"none\" stroke=\"black\" d=\"M511.31,-200.1C438.86,-178.84 319.85,-142.3 219.71,-103.94 210.74,-100.51 201.46,-96.73 192.24,-92.84\"/>\n",
       "<polygon fill=\"black\" stroke=\"black\" points=\"193.84,-89.72 183.27,-89 191.09,-96.16 193.84,-89.72\"/>\n",
       "<text text-anchor=\"middle\" x=\"353.09\" y=\"-125.14\" font-family=\"Times,serif\" font-size=\"14.00\">HAS_CAPITAL</text>\n",
       "</g>\n",
       "<!-- Currency -->\n",
       "<g id=\"node3\" class=\"node\">\n",
       "<title>Currency</title>\n",
       "<ellipse fill=\"none\" stroke=\"black\" cx=\"361.71\" cy=\"-51.97\" rx=\"132.76\" ry=\"51.97\"/>\n",
       "<text text-anchor=\"middle\" x=\"361.71\" y=\"-71.42\" font-family=\"Times,serif\" font-size=\"14.00\">Currency</text>\n",
       "<text text-anchor=\"middle\" x=\"361.71\" y=\"-38.92\" font-family=\"Times,serif\" font-size=\"14.00\">properties:</text>\n",
       "<text text-anchor=\"middle\" x=\"361.71\" y=\"-22.42\" font-family=\"Times,serif\" font-size=\"14.00\">currencyName: currency_name</text>\n",
       "</g>\n",
       "<!-- Country&#45;&gt;Currency -->\n",
       "<g id=\"edge2\" class=\"edge\">\n",
       "<title>Country&#45;&gt;Currency</title>\n",
       "<path fill=\"none\" stroke=\"black\" d=\"M521.34,-182.17C501.73,-168.85 479.82,-153.4 460.46,-138.44 447.93,-128.76 434.88,-117.99 422.53,-107.45\"/>\n",
       "<polygon fill=\"black\" stroke=\"black\" points=\"425.12,-105.06 415.25,-101.2 420.55,-110.37 425.12,-105.06\"/>\n",
       "<text text-anchor=\"middle\" x=\"517.34\" y=\"-125.14\" font-family=\"Times,serif\" font-size=\"14.00\">USES_CURRENCY</text>\n",
       "</g>\n",
       "<!-- Region -->\n",
       "<g id=\"node4\" class=\"node\">\n",
       "<title>Region</title>\n",
       "<ellipse fill=\"none\" stroke=\"black\" cx=\"577.71\" cy=\"-51.97\" rx=\"65.41\" ry=\"51.97\"/>\n",
       "<text text-anchor=\"middle\" x=\"577.71\" y=\"-71.42\" font-family=\"Times,serif\" font-size=\"14.00\">Region</text>\n",
       "<text text-anchor=\"middle\" x=\"577.71\" y=\"-38.92\" font-family=\"Times,serif\" font-size=\"14.00\">properties:</text>\n",
       "<text text-anchor=\"middle\" x=\"577.71\" y=\"-22.42\" font-family=\"Times,serif\" font-size=\"14.00\">region: region</text>\n",
       "</g>\n",
       "<!-- Country&#45;&gt;Region -->\n",
       "<g id=\"edge3\" class=\"edge\">\n",
       "<title>Country&#45;&gt;Region</title>\n",
       "<path fill=\"none\" stroke=\"black\" d=\"M577.71,-156.28C577.71,-143 577.71,-128.97 577.71,-115.69\"/>\n",
       "<polygon fill=\"black\" stroke=\"black\" points=\"581.21,-115.75 577.71,-105.75 574.21,-115.75 581.21,-115.75\"/>\n",
       "<text text-anchor=\"middle\" x=\"647.84\" y=\"-125.14\" font-family=\"Times,serif\" font-size=\"14.00\">LOCATED_IN_REGION</text>\n",
       "</g>\n",
       "<!-- Subregion -->\n",
       "<g id=\"node5\" class=\"node\">\n",
       "<title>Subregion</title>\n",
       "<ellipse fill=\"none\" stroke=\"black\" cx=\"752.71\" cy=\"-51.97\" rx=\"91.92\" ry=\"51.97\"/>\n",
       "<text text-anchor=\"middle\" x=\"752.71\" y=\"-71.42\" font-family=\"Times,serif\" font-size=\"14.00\">Subregion</text>\n",
       "<text text-anchor=\"middle\" x=\"752.71\" y=\"-38.92\" font-family=\"Times,serif\" font-size=\"14.00\">properties:</text>\n",
       "<text text-anchor=\"middle\" x=\"752.71\" y=\"-22.42\" font-family=\"Times,serif\" font-size=\"14.00\">subregion: subregion</text>\n",
       "</g>\n",
       "<!-- Country&#45;&gt;Subregion -->\n",
       "<g id=\"edge4\" class=\"edge\">\n",
       "<title>Country&#45;&gt;Subregion</title>\n",
       "<path fill=\"none\" stroke=\"black\" d=\"M641.96,-195.16C669.7,-182.06 700.57,-163.34 721.71,-138.44 727.81,-131.27 732.75,-122.79 736.74,-114.02\"/>\n",
       "<polygon fill=\"black\" stroke=\"black\" points=\"739.86,-115.62 740.42,-105.04 733.39,-112.96 739.86,-115.62\"/>\n",
       "<text text-anchor=\"middle\" x=\"803.96\" y=\"-125.14\" font-family=\"Times,serif\" font-size=\"14.00\">PART_OF_SUBREGION</text>\n",
       "</g>\n",
       "<!-- Timezone -->\n",
       "<g id=\"node6\" class=\"node\">\n",
       "<title>Timezone</title>\n",
       "<ellipse fill=\"none\" stroke=\"black\" cx=\"957.71\" cy=\"-51.97\" rx=\"95.11\" ry=\"51.97\"/>\n",
       "<text text-anchor=\"middle\" x=\"957.71\" y=\"-71.42\" font-family=\"Times,serif\" font-size=\"14.00\">Timezone</text>\n",
       "<text text-anchor=\"middle\" x=\"957.71\" y=\"-38.92\" font-family=\"Times,serif\" font-size=\"14.00\">properties:</text>\n",
       "<text text-anchor=\"middle\" x=\"957.71\" y=\"-22.42\" font-family=\"Times,serif\" font-size=\"14.00\">timezones: timezones</text>\n",
       "</g>\n",
       "<!-- Country&#45;&gt;Timezone -->\n",
       "<g id=\"edge5\" class=\"edge\">\n",
       "<title>Country&#45;&gt;Timezone</title>\n",
       "<path fill=\"none\" stroke=\"black\" d=\"M647.15,-211.86C711.35,-202.67 807.48,-182.33 879.71,-138.44 892.7,-130.55 904.82,-119.86 915.45,-108.72\"/>\n",
       "<polygon fill=\"black\" stroke=\"black\" points=\"917.73,-111.41 921.9,-101.67 912.57,-106.69 917.73,-111.41\"/>\n",
       "<text text-anchor=\"middle\" x=\"951.46\" y=\"-125.14\" font-family=\"Times,serif\" font-size=\"14.00\">HAS_TIMEZONE</text>\n",
       "</g>\n",
       "</g>\n",
       "</svg>\n"
      ],
      "text/plain": [
       "<graphviz.graphs.Digraph at 0x16bb852b0>"
      ]
     },
     "execution_count": 11,
     "metadata": {},
     "output_type": "execute_result"
    }
   ],
   "source": [
    "gdm.current_model.visualize()"
   ]
  },
  {
   "cell_type": "code",
   "execution_count": 12,
   "metadata": {},
   "outputs": [
    {
     "name": "stdout",
     "output_type": "stream",
     "text": [
      "\n"
     ]
    }
   ],
   "source": [
    "print(gdm.model_history[-1].validate_model(csv_columns=list(USER_GENERATED_INPUT.keys())[1:])['message'])"
   ]
  },
  {
   "cell_type": "code",
   "execution_count": 16,
   "metadata": {},
   "outputs": [
    {
     "name": "stdout",
     "output_type": "stream",
     "text": [
      "recieved a valid response\n"
     ]
    },
    {
     "data": {
      "text/plain": [
       "DataModel(nodes=[Node(label='Country', properties=[Property(name='id', type='int', csv_mapping='id', is_unique=True), Property(name='name', type='str', csv_mapping='name', is_unique=False), Property(name='phoneCode', type='str', csv_mapping='phone_code', is_unique=False), Property(name='latitude', type='float', csv_mapping='latitude', is_unique=False), Property(name='longitude', type='float', csv_mapping='longitude', is_unique=False)]), Node(label='Capital', properties=[Property(name='name', type='str', csv_mapping='capital', is_unique=True)]), Node(label='Currency', properties=[Property(name='name', type='str', csv_mapping='currency_name', is_unique=True)]), Node(label='Region', properties=[Property(name='name', type='str', csv_mapping='region', is_unique=True)]), Node(label='Subregion', properties=[Property(name='name', type='str', csv_mapping='subregion', is_unique=True)]), Node(label='Timezone', properties=[Property(name='name', type='str', csv_mapping='timezones', is_unique=True)])], relationships=[Relationship(type='HAS_CAPITAL', properties=[], source='Country', target='Capital'), Relationship(type='USES_CURRENCY', properties=[], source='Country', target='Currency'), Relationship(type='PART_OF', properties=[], source='Country', target='Subregion'), Relationship(type='HAS_TIMEZONE', properties=[], source='Country', target='Timezone'), Relationship(type='HAS_SUBREGION', properties=[], source='Region', target='Subregion')])"
      ]
     },
     "execution_count": 16,
     "metadata": {},
     "output_type": "execute_result"
    }
   ],
   "source": [
    "gdm.iterate_model(iterations=1, user_corrections=\"Make Region node have a HAS_SUBREGION relationship with Subregion node. Remove The relationship between Country and Region.\")"
   ]
  },
  {
   "cell_type": "code",
   "execution_count": 17,
   "metadata": {},
   "outputs": [
    {
     "data": {
      "text/plain": [
       "DataModel(nodes=[Node(label='Country', properties=[Property(name='id', type='int', csv_mapping='id', is_unique=True), Property(name='name', type='str', csv_mapping='name', is_unique=False), Property(name='phoneCode', type='str', csv_mapping='phone_code', is_unique=False), Property(name='latitude', type='float', csv_mapping='latitude', is_unique=False), Property(name='longitude', type='float', csv_mapping='longitude', is_unique=False)]), Node(label='Capital', properties=[Property(name='name', type='str', csv_mapping='capital', is_unique=True)]), Node(label='Currency', properties=[Property(name='name', type='str', csv_mapping='currency_name', is_unique=True)]), Node(label='Region', properties=[Property(name='name', type='str', csv_mapping='region', is_unique=True)]), Node(label='Subregion', properties=[Property(name='name', type='str', csv_mapping='subregion', is_unique=True)]), Node(label='Timezone', properties=[Property(name='name', type='str', csv_mapping='timezones', is_unique=True)])], relationships=[Relationship(type='HAS_CAPITAL', properties=[], source='Country', target='Capital'), Relationship(type='USES_CURRENCY', properties=[], source='Country', target='Currency'), Relationship(type='PART_OF', properties=[], source='Country', target='Subregion'), Relationship(type='HAS_TIMEZONE', properties=[], source='Country', target='Timezone'), Relationship(type='HAS_SUBREGION', properties=[], source='Region', target='Subregion')])"
      ]
     },
     "execution_count": 17,
     "metadata": {},
     "output_type": "execute_result"
    }
   ],
   "source": [
    "gdm.current_model"
   ]
  },
  {
   "cell_type": "code",
   "execution_count": 18,
   "metadata": {},
   "outputs": [
    {
     "data": {
      "image/svg+xml": [
       "<?xml version=\"1.0\" encoding=\"UTF-8\" standalone=\"no\"?>\n",
       "<!DOCTYPE svg PUBLIC \"-//W3C//DTD SVG 1.1//EN\"\n",
       " \"http://www.w3.org/Graphics/SVG/1.1/DTD/svg11.dtd\">\n",
       "<!-- Generated by graphviz version 10.0.1 (20240210.2158)\n",
       " -->\n",
       "<!-- Pages: 1 -->\n",
       "<svg width=\"994pt\" height=\"362pt\"\n",
       " viewBox=\"0.00 0.00 993.93 361.73\" xmlns=\"http://www.w3.org/2000/svg\" xmlns:xlink=\"http://www.w3.org/1999/xlink\">\n",
       "<g id=\"graph0\" class=\"graph\" transform=\"scale(1 1) rotate(0) translate(4 357.73)\">\n",
       "<polygon fill=\"white\" stroke=\"none\" points=\"-4,4 -4,-357.73 989.93,-357.73 989.93,4 -4,4\"/>\n",
       "<!-- Country -->\n",
       "<g id=\"node1\" class=\"node\">\n",
       "<title>Country</title>\n",
       "<ellipse fill=\"none\" stroke=\"black\" cx=\"512.26\" cy=\"-255.09\" rx=\"106.24\" ry=\"98.64\"/>\n",
       "<text text-anchor=\"middle\" x=\"512.26\" y=\"-307.54\" font-family=\"Times,serif\" font-size=\"14.00\">Country</text>\n",
       "<text text-anchor=\"middle\" x=\"512.26\" y=\"-275.04\" font-family=\"Times,serif\" font-size=\"14.00\">properties:</text>\n",
       "<text text-anchor=\"middle\" x=\"512.26\" y=\"-258.54\" font-family=\"Times,serif\" font-size=\"14.00\">id: id *unique*</text>\n",
       "<text text-anchor=\"middle\" x=\"512.26\" y=\"-242.04\" font-family=\"Times,serif\" font-size=\"14.00\">name: name</text>\n",
       "<text text-anchor=\"middle\" x=\"512.26\" y=\"-225.54\" font-family=\"Times,serif\" font-size=\"14.00\">phoneCode: phone_code</text>\n",
       "<text text-anchor=\"middle\" x=\"512.26\" y=\"-209.04\" font-family=\"Times,serif\" font-size=\"14.00\">latitude: latitude</text>\n",
       "<text text-anchor=\"middle\" x=\"512.26\" y=\"-192.54\" font-family=\"Times,serif\" font-size=\"14.00\">longitude: longitude</text>\n",
       "</g>\n",
       "<!-- Capital -->\n",
       "<g id=\"node2\" class=\"node\">\n",
       "<title>Capital</title>\n",
       "<ellipse fill=\"none\" stroke=\"black\" cx=\"639.26\" cy=\"-51.97\" rx=\"101.47\" ry=\"51.97\"/>\n",
       "<text text-anchor=\"middle\" x=\"639.26\" y=\"-71.42\" font-family=\"Times,serif\" font-size=\"14.00\">Capital</text>\n",
       "<text text-anchor=\"middle\" x=\"639.26\" y=\"-38.92\" font-family=\"Times,serif\" font-size=\"14.00\">properties:</text>\n",
       "<text text-anchor=\"middle\" x=\"639.26\" y=\"-22.42\" font-family=\"Times,serif\" font-size=\"14.00\">name: capital *unique*</text>\n",
       "</g>\n",
       "<!-- Country&#45;&gt;Capital -->\n",
       "<g id=\"edge1\" class=\"edge\">\n",
       "<title>Country&#45;&gt;Capital</title>\n",
       "<path fill=\"none\" stroke=\"black\" d=\"M565.75,-169.38C578.1,-149.81 590.98,-129.43 602.43,-111.29\"/>\n",
       "<polygon fill=\"black\" stroke=\"black\" points=\"605.27,-113.34 607.65,-103.02 599.36,-109.61 605.27,-113.34\"/>\n",
       "<text text-anchor=\"middle\" x=\"639.63\" y=\"-125.14\" font-family=\"Times,serif\" font-size=\"14.00\">HAS_CAPITAL</text>\n",
       "</g>\n",
       "<!-- Currency -->\n",
       "<g id=\"node3\" class=\"node\">\n",
       "<title>Currency</title>\n",
       "<ellipse fill=\"none\" stroke=\"black\" cx=\"384.26\" cy=\"-51.97\" rx=\"135.41\" ry=\"51.97\"/>\n",
       "<text text-anchor=\"middle\" x=\"384.26\" y=\"-71.42\" font-family=\"Times,serif\" font-size=\"14.00\">Currency</text>\n",
       "<text text-anchor=\"middle\" x=\"384.26\" y=\"-38.92\" font-family=\"Times,serif\" font-size=\"14.00\">properties:</text>\n",
       "<text text-anchor=\"middle\" x=\"384.26\" y=\"-22.42\" font-family=\"Times,serif\" font-size=\"14.00\">name: currency_name *unique*</text>\n",
       "</g>\n",
       "<!-- Country&#45;&gt;Currency -->\n",
       "<g id=\"edge2\" class=\"edge\">\n",
       "<title>Country&#45;&gt;Currency</title>\n",
       "<path fill=\"none\" stroke=\"black\" d=\"M458.53,-169.67C446.18,-150.26 433.3,-130.03 421.81,-111.97\"/>\n",
       "<polygon fill=\"black\" stroke=\"black\" points=\"425.07,-110.58 416.75,-104.02 419.17,-114.34 425.07,-110.58\"/>\n",
       "<text text-anchor=\"middle\" x=\"492.88\" y=\"-125.14\" font-family=\"Times,serif\" font-size=\"14.00\">USES_CURRENCY</text>\n",
       "</g>\n",
       "<!-- Subregion -->\n",
       "<g id=\"node5\" class=\"node\">\n",
       "<title>Subregion</title>\n",
       "<ellipse fill=\"none\" stroke=\"black\" cx=\"872.26\" cy=\"-51.97\" rx=\"113.67\" ry=\"51.97\"/>\n",
       "<text text-anchor=\"middle\" x=\"872.26\" y=\"-71.42\" font-family=\"Times,serif\" font-size=\"14.00\">Subregion</text>\n",
       "<text text-anchor=\"middle\" x=\"872.26\" y=\"-38.92\" font-family=\"Times,serif\" font-size=\"14.00\">properties:</text>\n",
       "<text text-anchor=\"middle\" x=\"872.26\" y=\"-22.42\" font-family=\"Times,serif\" font-size=\"14.00\">name: subregion *unique*</text>\n",
       "</g>\n",
       "<!-- Country&#45;&gt;Subregion -->\n",
       "<g id=\"edge3\" class=\"edge\">\n",
       "<title>Country&#45;&gt;Subregion</title>\n",
       "<path fill=\"none\" stroke=\"black\" d=\"M603.1,-203.34C660.97,-171.01 735.29,-129.49 791.16,-98.28\"/>\n",
       "<polygon fill=\"black\" stroke=\"black\" points=\"792.68,-101.44 799.7,-93.51 789.26,-95.33 792.68,-101.44\"/>\n",
       "<text text-anchor=\"middle\" x=\"774.51\" y=\"-125.14\" font-family=\"Times,serif\" font-size=\"14.00\">PART_OF</text>\n",
       "</g>\n",
       "<!-- Timezone -->\n",
       "<g id=\"node6\" class=\"node\">\n",
       "<title>Timezone</title>\n",
       "<ellipse fill=\"none\" stroke=\"black\" cx=\"115.26\" cy=\"-51.97\" rx=\"115.26\" ry=\"51.97\"/>\n",
       "<text text-anchor=\"middle\" x=\"115.26\" y=\"-71.42\" font-family=\"Times,serif\" font-size=\"14.00\">Timezone</text>\n",
       "<text text-anchor=\"middle\" x=\"115.26\" y=\"-38.92\" font-family=\"Times,serif\" font-size=\"14.00\">properties:</text>\n",
       "<text text-anchor=\"middle\" x=\"115.26\" y=\"-22.42\" font-family=\"Times,serif\" font-size=\"14.00\">name: timezones *unique*</text>\n",
       "</g>\n",
       "<!-- Country&#45;&gt;Timezone -->\n",
       "<g id=\"edge4\" class=\"edge\">\n",
       "<title>Country&#45;&gt;Timezone</title>\n",
       "<path fill=\"none\" stroke=\"black\" d=\"M419.18,-206.93C353.26,-173.54 265.5,-129.08 201.23,-96.53\"/>\n",
       "<polygon fill=\"black\" stroke=\"black\" points=\"202.98,-93.49 192.48,-92.09 199.82,-99.73 202.98,-93.49\"/>\n",
       "<text text-anchor=\"middle\" x=\"330.01\" y=\"-125.14\" font-family=\"Times,serif\" font-size=\"14.00\">HAS_TIMEZONE</text>\n",
       "</g>\n",
       "<!-- Region -->\n",
       "<g id=\"node4\" class=\"node\">\n",
       "<title>Region</title>\n",
       "<ellipse fill=\"none\" stroke=\"black\" cx=\"872.26\" cy=\"-255.09\" rx=\"100.41\" ry=\"51.97\"/>\n",
       "<text text-anchor=\"middle\" x=\"872.26\" y=\"-274.54\" font-family=\"Times,serif\" font-size=\"14.00\">Region</text>\n",
       "<text text-anchor=\"middle\" x=\"872.26\" y=\"-242.04\" font-family=\"Times,serif\" font-size=\"14.00\">properties:</text>\n",
       "<text text-anchor=\"middle\" x=\"872.26\" y=\"-225.54\" font-family=\"Times,serif\" font-size=\"14.00\">name: region *unique*</text>\n",
       "</g>\n",
       "<!-- Region&#45;&gt;Subregion -->\n",
       "<g id=\"edge5\" class=\"edge\">\n",
       "<title>Region&#45;&gt;Subregion</title>\n",
       "<path fill=\"none\" stroke=\"black\" d=\"M872.26,-202.82C872.26,-176.22 872.26,-143.52 872.26,-115.46\"/>\n",
       "<polygon fill=\"black\" stroke=\"black\" points=\"875.76,-115.66 872.26,-105.66 868.76,-115.66 875.76,-115.66\"/>\n",
       "<text text-anchor=\"middle\" x=\"927.76\" y=\"-125.14\" font-family=\"Times,serif\" font-size=\"14.00\">HAS_SUBREGION</text>\n",
       "</g>\n",
       "</g>\n",
       "</svg>\n"
      ],
      "text/plain": [
       "<graphviz.graphs.Digraph at 0x16bc99b20>"
      ]
     },
     "execution_count": 18,
     "metadata": {},
     "output_type": "execute_result"
    }
   ],
   "source": [
    "gdm.current_model.visualize()"
   ]
  },
  {
   "cell_type": "code",
   "execution_count": null,
   "metadata": {},
   "outputs": [],
   "source": []
  }
 ],
 "metadata": {
  "kernelspec": {
   "display_name": "venv",
   "language": "python",
   "name": "python3"
  },
  "language_info": {
   "codemirror_mode": {
    "name": "ipython",
    "version": 3
   },
   "file_extension": ".py",
   "mimetype": "text/x-python",
   "name": "python",
   "nbconvert_exporter": "python",
   "pygments_lexer": "ipython3",
   "version": "3.12.3"
  }
 },
 "nbformat": 4,
 "nbformat_minor": 2
}
