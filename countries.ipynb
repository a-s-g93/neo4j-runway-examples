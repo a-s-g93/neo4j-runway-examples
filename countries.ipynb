{
 "cells": [
  {
   "cell_type": "markdown",
   "metadata": {},
   "source": [
    "# End To End Demo"
   ]
  },
  {
   "cell_type": "markdown",
   "metadata": {},
   "source": [
    "This notebooks demonstrates the data flow of generating a graph from a CSV file using Runway v0.9.0"
   ]
  },
  {
   "cell_type": "code",
   "execution_count": 1,
   "metadata": {},
   "outputs": [
    {
     "data": {
      "text/plain": [
       "True"
      ]
     },
     "execution_count": 1,
     "metadata": {},
     "output_type": "execute_result"
    }
   ],
   "source": [
    "import os\n",
    "\n",
    "import pandas as pd\n",
    "from dotenv import load_dotenv\n",
    "\n",
    "from neo4j_runway import Discovery, GraphDataModeler, PyIngest, UserInput\n",
    "from neo4j_runway.code_generation import PyIngestConfigGenerator\n",
    "from neo4j_runway.llm.openai import OpenAIDataModelingLLM, OpenAIDiscoveryLLM\n",
    "from neo4j_runway.utils import test_database_connection\n",
    "\n",
    "load_dotenv()"
   ]
  },
  {
   "cell_type": "markdown",
   "metadata": {},
   "source": [
    "## Load and Describe Data"
   ]
  },
  {
   "cell_type": "markdown",
   "metadata": {},
   "source": [
    "The USER_GENERATED_INPUT variable contains a general discription and feature descriptions for each feature we'd like to use in our graph."
   ]
  },
  {
   "cell_type": "code",
   "execution_count": 2,
   "metadata": {},
   "outputs": [],
   "source": [
    "USER_GENERATED_INPUT = UserInput(general_description='This is data on different countries.',\n",
    "                                 column_descriptions={\n",
    "                                     'id': 'unique id for a country.',\n",
    "                                    'name': 'the country name.',\n",
    "                                    'phone_code': 'country area code.',\n",
    "                                    'capital': 'the capital of the country.',\n",
    "                                    'currency_name': \"name of the country's currency.\",\n",
    "                                    'region': 'primary region of the country.',\n",
    "                                    'subregion': 'subregion location of the country.',\n",
    "                                    'timezones': 'timezones contained within the country borders.',\n",
    "                                    'latitude': 'the latitude coordinate of the country center.',\n",
    "                                    'longitude': 'the longitude coordinate of the country center.'\n",
    "                                    },\n",
    "                                use_cases=[\n",
    "        \"Which region contains the most subregions?\", \n",
    "        \"What currencies are most popular?\", \n",
    "        \"Which countries share timezones?\"\n",
    "    ]  \n",
    "                                )"
   ]
  },
  {
   "cell_type": "code",
   "execution_count": 3,
   "metadata": {},
   "outputs": [],
   "source": [
    "data = pd.read_csv(\"data/csv/countries.csv\")"
   ]
  },
  {
   "cell_type": "code",
   "execution_count": 4,
   "metadata": {},
   "outputs": [
    {
     "data": {
      "text/html": [
       "<div>\n",
       "<style scoped>\n",
       "    .dataframe tbody tr th:only-of-type {\n",
       "        vertical-align: middle;\n",
       "    }\n",
       "\n",
       "    .dataframe tbody tr th {\n",
       "        vertical-align: top;\n",
       "    }\n",
       "\n",
       "    .dataframe thead th {\n",
       "        text-align: right;\n",
       "    }\n",
       "</style>\n",
       "<table border=\"1\" class=\"dataframe\">\n",
       "  <thead>\n",
       "    <tr style=\"text-align: right;\">\n",
       "      <th></th>\n",
       "      <th>id</th>\n",
       "      <th>name</th>\n",
       "      <th>iso3</th>\n",
       "      <th>iso2</th>\n",
       "      <th>numeric_code</th>\n",
       "      <th>phone_code</th>\n",
       "      <th>capital</th>\n",
       "      <th>currency</th>\n",
       "      <th>currency_name</th>\n",
       "      <th>currency_symbol</th>\n",
       "      <th>tld</th>\n",
       "      <th>native</th>\n",
       "      <th>region</th>\n",
       "      <th>subregion</th>\n",
       "      <th>timezones</th>\n",
       "      <th>latitude</th>\n",
       "      <th>longitude</th>\n",
       "      <th>emoji</th>\n",
       "      <th>emojiU</th>\n",
       "    </tr>\n",
       "  </thead>\n",
       "  <tbody>\n",
       "    <tr>\n",
       "      <th>0</th>\n",
       "      <td>1</td>\n",
       "      <td>Afghanistan</td>\n",
       "      <td>AFG</td>\n",
       "      <td>AF</td>\n",
       "      <td>4</td>\n",
       "      <td>93</td>\n",
       "      <td>Kabul</td>\n",
       "      <td>AFN</td>\n",
       "      <td>Afghan afghani</td>\n",
       "      <td>؋</td>\n",
       "      <td>.af</td>\n",
       "      <td>افغانستان</td>\n",
       "      <td>Asia</td>\n",
       "      <td>Southern Asia</td>\n",
       "      <td>[{zoneName:'Asia\\/Kabul',gmtOffset:16200,gmtOf...</td>\n",
       "      <td>33.000000</td>\n",
       "      <td>65.0</td>\n",
       "      <td>🇦🇫</td>\n",
       "      <td>U+1F1E6 U+1F1EB</td>\n",
       "    </tr>\n",
       "    <tr>\n",
       "      <th>1</th>\n",
       "      <td>2</td>\n",
       "      <td>Aland Islands</td>\n",
       "      <td>ALA</td>\n",
       "      <td>AX</td>\n",
       "      <td>248</td>\n",
       "      <td>+358-18</td>\n",
       "      <td>Mariehamn</td>\n",
       "      <td>EUR</td>\n",
       "      <td>Euro</td>\n",
       "      <td>€</td>\n",
       "      <td>.ax</td>\n",
       "      <td>Åland</td>\n",
       "      <td>Europe</td>\n",
       "      <td>Northern Europe</td>\n",
       "      <td>[{zoneName:'Europe\\/Mariehamn',gmtOffset:7200,...</td>\n",
       "      <td>60.116667</td>\n",
       "      <td>19.9</td>\n",
       "      <td>🇦🇽</td>\n",
       "      <td>U+1F1E6 U+1F1FD</td>\n",
       "    </tr>\n",
       "    <tr>\n",
       "      <th>2</th>\n",
       "      <td>3</td>\n",
       "      <td>Albania</td>\n",
       "      <td>ALB</td>\n",
       "      <td>AL</td>\n",
       "      <td>8</td>\n",
       "      <td>355</td>\n",
       "      <td>Tirana</td>\n",
       "      <td>ALL</td>\n",
       "      <td>Albanian lek</td>\n",
       "      <td>Lek</td>\n",
       "      <td>.al</td>\n",
       "      <td>Shqipëria</td>\n",
       "      <td>Europe</td>\n",
       "      <td>Southern Europe</td>\n",
       "      <td>[{zoneName:'Europe\\/Tirane',gmtOffset:3600,gmt...</td>\n",
       "      <td>41.000000</td>\n",
       "      <td>20.0</td>\n",
       "      <td>🇦🇱</td>\n",
       "      <td>U+1F1E6 U+1F1F1</td>\n",
       "    </tr>\n",
       "    <tr>\n",
       "      <th>3</th>\n",
       "      <td>4</td>\n",
       "      <td>Algeria</td>\n",
       "      <td>DZA</td>\n",
       "      <td>DZ</td>\n",
       "      <td>12</td>\n",
       "      <td>213</td>\n",
       "      <td>Algiers</td>\n",
       "      <td>DZD</td>\n",
       "      <td>Algerian dinar</td>\n",
       "      <td>دج</td>\n",
       "      <td>.dz</td>\n",
       "      <td>الجزائر</td>\n",
       "      <td>Africa</td>\n",
       "      <td>Northern Africa</td>\n",
       "      <td>[{zoneName:'Africa\\/Algiers',gmtOffset:3600,gm...</td>\n",
       "      <td>28.000000</td>\n",
       "      <td>3.0</td>\n",
       "      <td>🇩🇿</td>\n",
       "      <td>U+1F1E9 U+1F1FF</td>\n",
       "    </tr>\n",
       "    <tr>\n",
       "      <th>4</th>\n",
       "      <td>5</td>\n",
       "      <td>American Samoa</td>\n",
       "      <td>ASM</td>\n",
       "      <td>AS</td>\n",
       "      <td>16</td>\n",
       "      <td>+1-684</td>\n",
       "      <td>Pago Pago</td>\n",
       "      <td>USD</td>\n",
       "      <td>US Dollar</td>\n",
       "      <td>$</td>\n",
       "      <td>.as</td>\n",
       "      <td>American Samoa</td>\n",
       "      <td>Oceania</td>\n",
       "      <td>Polynesia</td>\n",
       "      <td>[{zoneName:'Pacific\\/Pago_Pago',gmtOffset:-396...</td>\n",
       "      <td>-14.333333</td>\n",
       "      <td>-170.0</td>\n",
       "      <td>🇦🇸</td>\n",
       "      <td>U+1F1E6 U+1F1F8</td>\n",
       "    </tr>\n",
       "  </tbody>\n",
       "</table>\n",
       "</div>"
      ],
      "text/plain": [
       "   id            name iso3 iso2  ...   latitude longitude emoji           emojiU\n",
       "0   1     Afghanistan  AFG   AF  ...  33.000000      65.0    🇦🇫  U+1F1E6 U+1F1EB\n",
       "1   2   Aland Islands  ALA   AX  ...  60.116667      19.9    🇦🇽  U+1F1E6 U+1F1FD\n",
       "2   3         Albania  ALB   AL  ...  41.000000      20.0    🇦🇱  U+1F1E6 U+1F1F1\n",
       "3   4         Algeria  DZA   DZ  ...  28.000000       3.0    🇩🇿  U+1F1E9 U+1F1FF\n",
       "4   5  American Samoa  ASM   AS  ... -14.333333    -170.0    🇦🇸  U+1F1E6 U+1F1F8\n",
       "\n",
       "[5 rows x 19 columns]"
      ]
     },
     "execution_count": 4,
     "metadata": {},
     "output_type": "execute_result"
    }
   ],
   "source": [
    "data.head()"
   ]
  },
  {
   "cell_type": "markdown",
   "metadata": {},
   "source": [
    "## Initialize LLMs"
   ]
  },
  {
   "cell_type": "markdown",
   "metadata": {},
   "source": [
    "We now initialize the LLMs to use in data discovery and data model creation."
   ]
  },
  {
   "cell_type": "code",
   "execution_count": 5,
   "metadata": {},
   "outputs": [],
   "source": [
    "llm_disc = OpenAIDiscoveryLLM(model_name='gpt-4o-2024-05-13', model_params={\"temperature\": 0})\n",
    "llm_dm = OpenAIDataModelingLLM(model_name='gpt-4o-2024-05-13', model_params={\"temperature\": 0.5})"
   ]
  },
  {
   "cell_type": "markdown",
   "metadata": {},
   "source": [
    "## Discovery"
   ]
  },
  {
   "cell_type": "markdown",
   "metadata": {},
   "source": [
    "We now load the above data into a Discovery object."
   ]
  },
  {
   "cell_type": "code",
   "execution_count": 6,
   "metadata": {},
   "outputs": [],
   "source": [
    "disc = Discovery(llm=llm_disc, user_input=USER_GENERATED_INPUT, data=data)"
   ]
  },
  {
   "cell_type": "code",
   "execution_count": 7,
   "metadata": {},
   "outputs": [
    {
     "data": {
      "text/markdown": [
       "### Preliminary Analysis of Country Data\n",
       "\n",
       "#### Overall Details\n",
       "\n",
       "1. **Data Completeness**:\n",
       "   - The dataset contains 250 entries with 10 features.\n",
       "   - Most features are complete, but there are some missing values:\n",
       "     - `capital`: 5 missing values\n",
       "     - `region`: 2 missing values\n",
       "     - `subregion`: 3 missing values\n",
       "\n",
       "2. **Data Types**:\n",
       "   - `id`: Integer\n",
       "   - `name`, `phone_code`, `capital`, `currency_name`, `region`, `subregion`, `timezones`: String (Object)\n",
       "   - `latitude`, `longitude`: Float\n",
       "\n",
       "3. **Unique Values**:\n",
       "   - `name`: 250 unique values (each country is unique)\n",
       "   - `phone_code`: 235 unique values (some countries share phone codes)\n",
       "   - `capital`: 244 unique values (one capital is shared by two countries)\n",
       "   - `currency_name`: 161 unique values (some currencies are shared by multiple countries)\n",
       "   - `region`: 6 unique values\n",
       "   - `subregion`: 22 unique values\n",
       "   - `timezones`: 245 unique values (some timezones are shared by multiple countries)\n",
       "\n",
       "#### Use Case Analysis\n",
       "\n",
       "1. **Which region contains the most subregions?**\n",
       "   - The `region` and `subregion` columns are crucial for this analysis.\n",
       "   - We need to count the number of unique subregions within each region.\n",
       "\n",
       "2. **What currencies are most popular?**\n",
       "   - The `currency_name` column is essential for this analysis.\n",
       "   - We need to count the frequency of each currency to determine the most popular ones.\n",
       "\n",
       "3. **Which countries share timezones?**\n",
       "   - The `timezones` column is key for this analysis.\n",
       "   - We need to identify countries that have overlapping timezones.\n",
       "\n",
       "#### Important Features\n",
       "\n",
       "1. **Region and Subregion**:\n",
       "   - These features help in understanding the geographical and political divisions of the countries.\n",
       "   - They are essential for analyzing the distribution of subregions within regions.\n",
       "\n",
       "2. **Currency Name**:\n",
       "   - This feature is important for economic analysis and understanding the monetary systems of different countries.\n",
       "   - It helps in identifying the most commonly used currencies.\n",
       "\n",
       "3. **Timezones**:\n",
       "   - This feature is crucial for understanding the temporal aspects and time-related relationships between countries.\n",
       "   - It helps in identifying countries that share the same timezones, which can be important for various applications like business operations, travel, and communication.\n",
       "\n",
       "4. **Capital**:\n",
       "   - Although not directly related to the use cases, the capital city is an important feature for general knowledge and can be useful in various analyses.\n",
       "\n",
       "5. **Latitude and Longitude**:\n",
       "   - These features provide geographical coordinates, which can be useful for spatial analysis and mapping.\n",
       "\n",
       "#### Summary\n",
       "\n",
       "- The dataset is relatively complete with a few missing values in the `capital`, `region`, and `subregion` columns.\n",
       "- The most important features for the given use cases are `region`, `subregion`, `currency_name`, and `timezones`.\n",
       "- Additional features like `latitude`, `longitude`, and `capital` can provide valuable context and support further analyses.\n",
       "\n",
       "Next steps would involve:\n",
       "- Cleaning the data to handle missing values.\n",
       "- Aggregating and analyzing the data to answer the specific use cases.\n",
       "- Considering how to represent these relationships in a graph data model for Neo4j."
      ],
      "text/plain": [
       "<IPython.core.display.Markdown object>"
      ]
     },
     "metadata": {},
     "output_type": "display_data"
    }
   ],
   "source": [
    "disc.run(show_result=True, notebook=True)"
   ]
  },
  {
   "cell_type": "markdown",
   "metadata": {},
   "source": [
    "## Data Modeling"
   ]
  },
  {
   "cell_type": "markdown",
   "metadata": {},
   "source": [
    "We can now use our Discovery object to provide context to the LLM for data model generation. We don't *need* the discovery information for this step to work, but it provides much better models."
   ]
  },
  {
   "cell_type": "code",
   "execution_count": 8,
   "metadata": {},
   "outputs": [],
   "source": [
    "gdm = GraphDataModeler(\n",
    "    llm=llm_dm,\n",
    "    discovery=disc\n",
    ")"
   ]
  },
  {
   "cell_type": "markdown",
   "metadata": {},
   "source": [
    "We now generate our first pass data model."
   ]
  },
  {
   "cell_type": "code",
   "execution_count": 9,
   "metadata": {},
   "outputs": [
    {
     "name": "stdout",
     "output_type": "stream",
     "text": [
      "validation failed\n",
      "performing chain of thought process for error fix recommendations...\n",
      "recieved a valid response\n"
     ]
    },
    {
     "data": {
      "text/plain": [
       "DataModel(nodes=[Node(label='Country', properties=[Property(name='id', type='int', csv_mapping='id', csv_mapping_other=None, is_unique=True, part_of_key=False), Property(name='name', type='str', csv_mapping='name', csv_mapping_other=None, is_unique=False, part_of_key=False), Property(name='phoneCode', type='str', csv_mapping='phone_code', csv_mapping_other=None, is_unique=False, part_of_key=False), Property(name='capital', type='str', csv_mapping='capital', csv_mapping_other=None, is_unique=False, part_of_key=False), Property(name='latitude', type='float', csv_mapping='latitude', csv_mapping_other=None, is_unique=False, part_of_key=False), Property(name='longitude', type='float', csv_mapping='longitude', csv_mapping_other=None, is_unique=False, part_of_key=False)], csv_name=''), Node(label='Region', properties=[Property(name='region', type='str', csv_mapping='region', csv_mapping_other=None, is_unique=True, part_of_key=False)], csv_name=''), Node(label='Subregion', properties=[Property(name='subregion', type='str', csv_mapping='subregion', csv_mapping_other=None, is_unique=True, part_of_key=False)], csv_name=''), Node(label='Currency', properties=[Property(name='currencyName', type='str', csv_mapping='currency_name', csv_mapping_other=None, is_unique=True, part_of_key=False)], csv_name=''), Node(label='Timezone', properties=[Property(name='timezones', type='str', csv_mapping='timezones', csv_mapping_other=None, is_unique=True, part_of_key=False)], csv_name='')], relationships=[Relationship(type='BELONGS_TO_REGION', properties=[], source='Country', target='Region', csv_name=''), Relationship(type='BELONGS_TO_SUBREGION', properties=[], source='Country', target='Subregion', csv_name=''), Relationship(type='USES_CURRENCY', properties=[], source='Country', target='Currency', csv_name=''), Relationship(type='HAS_TIMEZONE', properties=[], source='Country', target='Timezone', csv_name=''), Relationship(type='HAS_SUBREGION', properties=[], source='Region', target='Subregion', csv_name='')], metadata=None)"
      ]
     },
     "execution_count": 9,
     "metadata": {},
     "output_type": "execute_result"
    }
   ],
   "source": [
    "gdm.create_initial_model()"
   ]
  },
  {
   "cell_type": "code",
   "execution_count": 10,
   "metadata": {},
   "outputs": [
    {
     "data": {
      "text/plain": [
       "DataModel(nodes=[Node(label='Country', properties=[Property(name='id', type='int', csv_mapping='id', csv_mapping_other=None, is_unique=True, part_of_key=False), Property(name='name', type='str', csv_mapping='name', csv_mapping_other=None, is_unique=False, part_of_key=False), Property(name='phoneCode', type='str', csv_mapping='phone_code', csv_mapping_other=None, is_unique=False, part_of_key=False), Property(name='capital', type='str', csv_mapping='capital', csv_mapping_other=None, is_unique=False, part_of_key=False), Property(name='latitude', type='float', csv_mapping='latitude', csv_mapping_other=None, is_unique=False, part_of_key=False), Property(name='longitude', type='float', csv_mapping='longitude', csv_mapping_other=None, is_unique=False, part_of_key=False)], csv_name=''), Node(label='Region', properties=[Property(name='region', type='str', csv_mapping='region', csv_mapping_other=None, is_unique=True, part_of_key=False)], csv_name=''), Node(label='Subregion', properties=[Property(name='subregion', type='str', csv_mapping='subregion', csv_mapping_other=None, is_unique=True, part_of_key=False)], csv_name=''), Node(label='Currency', properties=[Property(name='currencyName', type='str', csv_mapping='currency_name', csv_mapping_other=None, is_unique=True, part_of_key=False)], csv_name=''), Node(label='Timezone', properties=[Property(name='timezones', type='str', csv_mapping='timezones', csv_mapping_other=None, is_unique=True, part_of_key=False)], csv_name='')], relationships=[Relationship(type='BELONGS_TO_REGION', properties=[], source='Country', target='Region', csv_name=''), Relationship(type='BELONGS_TO_SUBREGION', properties=[], source='Country', target='Subregion', csv_name=''), Relationship(type='USES_CURRENCY', properties=[], source='Country', target='Currency', csv_name=''), Relationship(type='HAS_TIMEZONE', properties=[], source='Country', target='Timezone', csv_name=''), Relationship(type='HAS_SUBREGION', properties=[], source='Region', target='Subregion', csv_name='')], metadata=None)"
      ]
     },
     "execution_count": 10,
     "metadata": {},
     "output_type": "execute_result"
    }
   ],
   "source": [
    "gdm.current_model"
   ]
  },
  {
   "cell_type": "code",
   "execution_count": 11,
   "metadata": {},
   "outputs": [
    {
     "data": {
      "image/svg+xml": [
       "<?xml version=\"1.0\" encoding=\"UTF-8\" standalone=\"no\"?>\n",
       "<!DOCTYPE svg PUBLIC \"-//W3C//DTD SVG 1.1//EN\"\n",
       " \"http://www.w3.org/Graphics/SVG/1.1/DTD/svg11.dtd\">\n",
       "<!-- Generated by graphviz version 10.0.1 (20240210.2158)\n",
       " -->\n",
       "<!-- Pages: 1 -->\n",
       "<svg width=\"1077pt\" height=\"542pt\"\n",
       " viewBox=\"0.00 0.00 1076.88 541.51\" xmlns=\"http://www.w3.org/2000/svg\" xmlns:xlink=\"http://www.w3.org/1999/xlink\">\n",
       "<g id=\"graph0\" class=\"graph\" transform=\"scale(1 1) rotate(0) translate(4 537.51)\">\n",
       "<polygon fill=\"white\" stroke=\"none\" points=\"-4,4 -4,-537.51 1072.88,-537.51 1072.88,4 -4,4\"/>\n",
       "<!-- Country -->\n",
       "<g id=\"node1\" class=\"node\">\n",
       "<title>Country</title>\n",
       "<ellipse fill=\"none\" stroke=\"black\" cx=\"433.59\" cy=\"-423.2\" rx=\"106.24\" ry=\"110.31\"/>\n",
       "<text text-anchor=\"middle\" x=\"433.59\" y=\"-483.9\" font-family=\"Times,serif\" font-size=\"14.00\">Country</text>\n",
       "<text text-anchor=\"middle\" x=\"433.59\" y=\"-451.4\" font-family=\"Times,serif\" font-size=\"14.00\">properties:</text>\n",
       "<text text-anchor=\"middle\" x=\"433.59\" y=\"-434.9\" font-family=\"Times,serif\" font-size=\"14.00\">id: id *unique*</text>\n",
       "<text text-anchor=\"middle\" x=\"433.59\" y=\"-418.4\" font-family=\"Times,serif\" font-size=\"14.00\">name: name</text>\n",
       "<text text-anchor=\"middle\" x=\"433.59\" y=\"-401.9\" font-family=\"Times,serif\" font-size=\"14.00\">phoneCode: phone_code</text>\n",
       "<text text-anchor=\"middle\" x=\"433.59\" y=\"-385.4\" font-family=\"Times,serif\" font-size=\"14.00\">capital: capital</text>\n",
       "<text text-anchor=\"middle\" x=\"433.59\" y=\"-368.9\" font-family=\"Times,serif\" font-size=\"14.00\">latitude: latitude</text>\n",
       "<text text-anchor=\"middle\" x=\"433.59\" y=\"-352.4\" font-family=\"Times,serif\" font-size=\"14.00\">longitude: longitude</text>\n",
       "</g>\n",
       "<!-- Region -->\n",
       "<g id=\"node2\" class=\"node\">\n",
       "<title>Region</title>\n",
       "<ellipse fill=\"none\" stroke=\"black\" cx=\"103.59\" cy=\"-208.42\" rx=\"103.59\" ry=\"51.97\"/>\n",
       "<text text-anchor=\"middle\" x=\"103.59\" y=\"-227.87\" font-family=\"Times,serif\" font-size=\"14.00\">Region</text>\n",
       "<text text-anchor=\"middle\" x=\"103.59\" y=\"-195.37\" font-family=\"Times,serif\" font-size=\"14.00\">properties:</text>\n",
       "<text text-anchor=\"middle\" x=\"103.59\" y=\"-178.87\" font-family=\"Times,serif\" font-size=\"14.00\">region: region *unique*</text>\n",
       "</g>\n",
       "<!-- Country&#45;&gt;Region -->\n",
       "<g id=\"edge1\" class=\"edge\">\n",
       "<title>Country&#45;&gt;Region</title>\n",
       "<path fill=\"none\" stroke=\"black\" d=\"M327.42,-413.46C248.84,-400.79 146.79,-369.91 94.84,-294.89 89.94,-287.81 87.69,-279.58 87.15,-271.08\"/>\n",
       "<polygon fill=\"black\" stroke=\"black\" points=\"90.65,-271.39 87.32,-261.33 83.65,-271.27 90.65,-271.39\"/>\n",
       "<text text-anchor=\"middle\" x=\"167.97\" y=\"-281.59\" font-family=\"Times,serif\" font-size=\"14.00\">BELONGS_TO_REGION</text>\n",
       "</g>\n",
       "<!-- Subregion -->\n",
       "<g id=\"node3\" class=\"node\">\n",
       "<title>Subregion</title>\n",
       "<ellipse fill=\"none\" stroke=\"black\" cx=\"178.59\" cy=\"-51.97\" rx=\"130.11\" ry=\"51.97\"/>\n",
       "<text text-anchor=\"middle\" x=\"178.59\" y=\"-71.42\" font-family=\"Times,serif\" font-size=\"14.00\">Subregion</text>\n",
       "<text text-anchor=\"middle\" x=\"178.59\" y=\"-38.92\" font-family=\"Times,serif\" font-size=\"14.00\">properties:</text>\n",
       "<text text-anchor=\"middle\" x=\"178.59\" y=\"-22.42\" font-family=\"Times,serif\" font-size=\"14.00\">subregion: subregion *unique*</text>\n",
       "</g>\n",
       "<!-- Country&#45;&gt;Subregion -->\n",
       "<g id=\"edge2\" class=\"edge\">\n",
       "<title>Country&#45;&gt;Subregion</title>\n",
       "<path fill=\"none\" stroke=\"black\" d=\"M346.77,-359.65C315.44,-332.63 282.84,-298.46 262.59,-260.39 233.3,-205.32 266.41,-178.26 239.59,-121.94 237.67,-117.92 235.45,-113.95 233.01,-110.08\"/>\n",
       "<polygon fill=\"black\" stroke=\"black\" points=\"235.95,-108.18 227.41,-101.91 230.18,-112.14 235.95,-108.18\"/>\n",
       "<text text-anchor=\"middle\" x=\"348.09\" y=\"-203.37\" font-family=\"Times,serif\" font-size=\"14.00\">BELONGS_TO_SUBREGION</text>\n",
       "</g>\n",
       "<!-- Currency -->\n",
       "<g id=\"node4\" class=\"node\">\n",
       "<title>Currency</title>\n",
       "<ellipse fill=\"none\" stroke=\"black\" cx=\"613.59\" cy=\"-208.42\" rx=\"170.94\" ry=\"51.97\"/>\n",
       "<text text-anchor=\"middle\" x=\"613.59\" y=\"-227.87\" font-family=\"Times,serif\" font-size=\"14.00\">Currency</text>\n",
       "<text text-anchor=\"middle\" x=\"613.59\" y=\"-195.37\" font-family=\"Times,serif\" font-size=\"14.00\">properties:</text>\n",
       "<text text-anchor=\"middle\" x=\"613.59\" y=\"-178.87\" font-family=\"Times,serif\" font-size=\"14.00\">currencyName: currency_name *unique*</text>\n",
       "</g>\n",
       "<!-- Country&#45;&gt;Currency -->\n",
       "<g id=\"edge3\" class=\"edge\">\n",
       "<title>Country&#45;&gt;Currency</title>\n",
       "<path fill=\"none\" stroke=\"black\" d=\"M503.44,-339.63C523.77,-315.6 545.54,-289.86 564.32,-267.66\"/>\n",
       "<polygon fill=\"black\" stroke=\"black\" points=\"566.86,-270.08 570.65,-260.18 561.52,-265.55 566.86,-270.08\"/>\n",
       "<text text-anchor=\"middle\" x=\"607.22\" y=\"-281.59\" font-family=\"Times,serif\" font-size=\"14.00\">USES_CURRENCY</text>\n",
       "</g>\n",
       "<!-- Timezone -->\n",
       "<g id=\"node5\" class=\"node\">\n",
       "<title>Timezone</title>\n",
       "<ellipse fill=\"none\" stroke=\"black\" cx=\"935.59\" cy=\"-208.42\" rx=\"133.29\" ry=\"51.97\"/>\n",
       "<text text-anchor=\"middle\" x=\"935.59\" y=\"-227.87\" font-family=\"Times,serif\" font-size=\"14.00\">Timezone</text>\n",
       "<text text-anchor=\"middle\" x=\"935.59\" y=\"-195.37\" font-family=\"Times,serif\" font-size=\"14.00\">properties:</text>\n",
       "<text text-anchor=\"middle\" x=\"935.59\" y=\"-178.87\" font-family=\"Times,serif\" font-size=\"14.00\">timezones: timezones *unique*</text>\n",
       "</g>\n",
       "<!-- Country&#45;&gt;Timezone -->\n",
       "<g id=\"edge4\" class=\"edge\">\n",
       "<title>Country&#45;&gt;Timezone</title>\n",
       "<path fill=\"none\" stroke=\"black\" d=\"M531.87,-380.54C619.64,-343.34 747.61,-289.1 835.83,-251.7\"/>\n",
       "<polygon fill=\"black\" stroke=\"black\" points=\"837.15,-254.94 844.99,-247.82 834.42,-248.5 837.15,-254.94\"/>\n",
       "<text text-anchor=\"middle\" x=\"811.34\" y=\"-281.59\" font-family=\"Times,serif\" font-size=\"14.00\">HAS_TIMEZONE</text>\n",
       "</g>\n",
       "<!-- Region&#45;&gt;Subregion -->\n",
       "<g id=\"edge5\" class=\"edge\">\n",
       "<title>Region&#45;&gt;Subregion</title>\n",
       "<path fill=\"none\" stroke=\"black\" d=\"M115.34,-156.62C118.89,-144.94 123.28,-132.77 128.59,-121.94 130.3,-118.45 132.19,-114.95 134.2,-111.48\"/>\n",
       "<polygon fill=\"black\" stroke=\"black\" points=\"137.1,-113.44 139.35,-103.08 131.14,-109.78 137.1,-113.44\"/>\n",
       "<text text-anchor=\"middle\" x=\"184.09\" y=\"-125.14\" font-family=\"Times,serif\" font-size=\"14.00\">HAS_SUBREGION</text>\n",
       "</g>\n",
       "</g>\n",
       "</svg>\n"
      ],
      "text/plain": [
       "<graphviz.graphs.Digraph at 0x148c739b0>"
      ]
     },
     "execution_count": 11,
     "metadata": {},
     "output_type": "execute_result"
    }
   ],
   "source": [
    "gdm.current_model.visualize()"
   ]
  },
  {
   "cell_type": "markdown",
   "metadata": {},
   "source": [
    "We can clean this up a bit, so let's prompt the LLM to make some corrections."
   ]
  },
  {
   "cell_type": "code",
   "execution_count": 12,
   "metadata": {},
   "outputs": [
    {
     "name": "stdout",
     "output_type": "stream",
     "text": [
      "recieved a valid response\n"
     ]
    },
    {
     "data": {
      "text/plain": [
       "DataModel(nodes=[Node(label='Country', properties=[Property(name='id', type='int', csv_mapping='id', csv_mapping_other=None, is_unique=True, part_of_key=False), Property(name='name', type='str', csv_mapping='name', csv_mapping_other=None, is_unique=False, part_of_key=False), Property(name='phoneCode', type='str', csv_mapping='phone_code', csv_mapping_other=None, is_unique=False, part_of_key=False), Property(name='capital', type='str', csv_mapping='capital', csv_mapping_other=None, is_unique=False, part_of_key=False), Property(name='latitude', type='float', csv_mapping='latitude', csv_mapping_other=None, is_unique=False, part_of_key=False), Property(name='longitude', type='float', csv_mapping='longitude', csv_mapping_other=None, is_unique=False, part_of_key=False)], csv_name=''), Node(label='Subregion', properties=[Property(name='subregion', type='str', csv_mapping='subregion', csv_mapping_other=None, is_unique=True, part_of_key=False)], csv_name=''), Node(label='Currency', properties=[Property(name='currencyName', type='str', csv_mapping='currency_name', csv_mapping_other=None, is_unique=True, part_of_key=False)], csv_name=''), Node(label='Timezone', properties=[Property(name='timezones', type='str', csv_mapping='timezones', csv_mapping_other=None, is_unique=True, part_of_key=False)], csv_name=''), Node(label='Region', properties=[Property(name='region', type='str', csv_mapping='region', csv_mapping_other=None, is_unique=True, part_of_key=False)], csv_name='')], relationships=[Relationship(type='BELONGS_TO_SUBREGION', properties=[], source='Country', target='Subregion', csv_name=''), Relationship(type='USES_CURRENCY', properties=[], source='Country', target='Currency', csv_name=''), Relationship(type='HAS_TIMEZONE', properties=[], source='Country', target='Timezone', csv_name=''), Relationship(type='HAS_SUBREGION', properties=[], source='Region', target='Subregion', csv_name='')], metadata=None)"
      ]
     },
     "execution_count": 12,
     "metadata": {},
     "output_type": "execute_result"
    }
   ],
   "source": [
    "gdm.iterate_model(user_corrections=\"\"\"Remove The relationship between Country and Region.\"\"\")"
   ]
  },
  {
   "cell_type": "code",
   "execution_count": 13,
   "metadata": {},
   "outputs": [
    {
     "data": {
      "text/plain": [
       "DataModel(nodes=[Node(label='Country', properties=[Property(name='id', type='int', csv_mapping='id', csv_mapping_other=None, is_unique=True, part_of_key=False), Property(name='name', type='str', csv_mapping='name', csv_mapping_other=None, is_unique=False, part_of_key=False), Property(name='phoneCode', type='str', csv_mapping='phone_code', csv_mapping_other=None, is_unique=False, part_of_key=False), Property(name='capital', type='str', csv_mapping='capital', csv_mapping_other=None, is_unique=False, part_of_key=False), Property(name='latitude', type='float', csv_mapping='latitude', csv_mapping_other=None, is_unique=False, part_of_key=False), Property(name='longitude', type='float', csv_mapping='longitude', csv_mapping_other=None, is_unique=False, part_of_key=False)], csv_name=''), Node(label='Subregion', properties=[Property(name='subregion', type='str', csv_mapping='subregion', csv_mapping_other=None, is_unique=True, part_of_key=False)], csv_name=''), Node(label='Currency', properties=[Property(name='currencyName', type='str', csv_mapping='currency_name', csv_mapping_other=None, is_unique=True, part_of_key=False)], csv_name=''), Node(label='Timezone', properties=[Property(name='timezones', type='str', csv_mapping='timezones', csv_mapping_other=None, is_unique=True, part_of_key=False)], csv_name=''), Node(label='Region', properties=[Property(name='region', type='str', csv_mapping='region', csv_mapping_other=None, is_unique=True, part_of_key=False)], csv_name='')], relationships=[Relationship(type='BELONGS_TO_SUBREGION', properties=[], source='Country', target='Subregion', csv_name=''), Relationship(type='USES_CURRENCY', properties=[], source='Country', target='Currency', csv_name=''), Relationship(type='HAS_TIMEZONE', properties=[], source='Country', target='Timezone', csv_name=''), Relationship(type='HAS_SUBREGION', properties=[], source='Region', target='Subregion', csv_name='')], metadata=None)"
      ]
     },
     "execution_count": 13,
     "metadata": {},
     "output_type": "execute_result"
    }
   ],
   "source": [
    "gdm.current_model"
   ]
  },
  {
   "cell_type": "code",
   "execution_count": 14,
   "metadata": {},
   "outputs": [
    {
     "data": {
      "image/svg+xml": [
       "<?xml version=\"1.0\" encoding=\"UTF-8\" standalone=\"no\"?>\n",
       "<!DOCTYPE svg PUBLIC \"-//W3C//DTD SVG 1.1//EN\"\n",
       " \"http://www.w3.org/Graphics/SVG/1.1/DTD/svg11.dtd\">\n",
       "<!-- Generated by graphviz version 10.0.1 (20240210.2158)\n",
       " -->\n",
       "<!-- Pages: 1 -->\n",
       "<svg width=\"932pt\" height=\"385pt\"\n",
       " viewBox=\"0.00 0.00 932.05 385.06\" xmlns=\"http://www.w3.org/2000/svg\" xmlns:xlink=\"http://www.w3.org/1999/xlink\">\n",
       "<g id=\"graph0\" class=\"graph\" transform=\"scale(1 1) rotate(0) translate(4 381.06)\">\n",
       "<polygon fill=\"white\" stroke=\"none\" points=\"-4,4 -4,-381.06 928.05,-381.06 928.05,4 -4,4\"/>\n",
       "<!-- Country -->\n",
       "<g id=\"node1\" class=\"node\">\n",
       "<title>Country</title>\n",
       "<ellipse fill=\"none\" stroke=\"black\" cx=\"492.94\" cy=\"-266.75\" rx=\"106.24\" ry=\"110.31\"/>\n",
       "<text text-anchor=\"middle\" x=\"492.94\" y=\"-327.45\" font-family=\"Times,serif\" font-size=\"14.00\">Country</text>\n",
       "<text text-anchor=\"middle\" x=\"492.94\" y=\"-294.95\" font-family=\"Times,serif\" font-size=\"14.00\">properties:</text>\n",
       "<text text-anchor=\"middle\" x=\"492.94\" y=\"-278.45\" font-family=\"Times,serif\" font-size=\"14.00\">id: id *unique*</text>\n",
       "<text text-anchor=\"middle\" x=\"492.94\" y=\"-261.95\" font-family=\"Times,serif\" font-size=\"14.00\">name: name</text>\n",
       "<text text-anchor=\"middle\" x=\"492.94\" y=\"-245.45\" font-family=\"Times,serif\" font-size=\"14.00\">phoneCode: phone_code</text>\n",
       "<text text-anchor=\"middle\" x=\"492.94\" y=\"-228.95\" font-family=\"Times,serif\" font-size=\"14.00\">capital: capital</text>\n",
       "<text text-anchor=\"middle\" x=\"492.94\" y=\"-212.45\" font-family=\"Times,serif\" font-size=\"14.00\">latitude: latitude</text>\n",
       "<text text-anchor=\"middle\" x=\"492.94\" y=\"-195.95\" font-family=\"Times,serif\" font-size=\"14.00\">longitude: longitude</text>\n",
       "</g>\n",
       "<!-- Subregion -->\n",
       "<g id=\"node2\" class=\"node\">\n",
       "<title>Subregion</title>\n",
       "<ellipse fill=\"none\" stroke=\"black\" cx=\"793.94\" cy=\"-51.97\" rx=\"130.11\" ry=\"51.97\"/>\n",
       "<text text-anchor=\"middle\" x=\"793.94\" y=\"-71.42\" font-family=\"Times,serif\" font-size=\"14.00\">Subregion</text>\n",
       "<text text-anchor=\"middle\" x=\"793.94\" y=\"-38.92\" font-family=\"Times,serif\" font-size=\"14.00\">properties:</text>\n",
       "<text text-anchor=\"middle\" x=\"793.94\" y=\"-22.42\" font-family=\"Times,serif\" font-size=\"14.00\">subregion: subregion *unique*</text>\n",
       "</g>\n",
       "<!-- Country&#45;&gt;Subregion -->\n",
       "<g id=\"edge1\" class=\"edge\">\n",
       "<title>Country&#45;&gt;Subregion</title>\n",
       "<path fill=\"none\" stroke=\"black\" d=\"M559.91,-181.05C579.56,-159.83 602.2,-138.43 625.94,-121.94 643.59,-109.69 663.73,-99.08 683.81,-90.1\"/>\n",
       "<polygon fill=\"black\" stroke=\"black\" points=\"685.12,-93.34 692.9,-86.15 682.33,-86.92 685.12,-93.34\"/>\n",
       "<text text-anchor=\"middle\" x=\"711.44\" y=\"-125.14\" font-family=\"Times,serif\" font-size=\"14.00\">BELONGS_TO_SUBREGION</text>\n",
       "</g>\n",
       "<!-- Currency -->\n",
       "<g id=\"node3\" class=\"node\">\n",
       "<title>Currency</title>\n",
       "<ellipse fill=\"none\" stroke=\"black\" cx=\"170.94\" cy=\"-51.97\" rx=\"170.94\" ry=\"51.97\"/>\n",
       "<text text-anchor=\"middle\" x=\"170.94\" y=\"-71.42\" font-family=\"Times,serif\" font-size=\"14.00\">Currency</text>\n",
       "<text text-anchor=\"middle\" x=\"170.94\" y=\"-38.92\" font-family=\"Times,serif\" font-size=\"14.00\">properties:</text>\n",
       "<text text-anchor=\"middle\" x=\"170.94\" y=\"-22.42\" font-family=\"Times,serif\" font-size=\"14.00\">currencyName: currency_name *unique*</text>\n",
       "</g>\n",
       "<!-- Country&#45;&gt;Currency -->\n",
       "<g id=\"edge2\" class=\"edge\">\n",
       "<title>Country&#45;&gt;Currency</title>\n",
       "<path fill=\"none\" stroke=\"black\" d=\"M403.68,-206.76C355.88,-175.18 297.48,-136.59 251.14,-105.97\"/>\n",
       "<polygon fill=\"black\" stroke=\"black\" points=\"253.27,-103.18 243,-100.59 249.41,-109.02 253.27,-103.18\"/>\n",
       "<text text-anchor=\"middle\" x=\"350.57\" y=\"-125.14\" font-family=\"Times,serif\" font-size=\"14.00\">USES_CURRENCY</text>\n",
       "</g>\n",
       "<!-- Timezone -->\n",
       "<g id=\"node4\" class=\"node\">\n",
       "<title>Timezone</title>\n",
       "<ellipse fill=\"none\" stroke=\"black\" cx=\"492.94\" cy=\"-51.97\" rx=\"133.29\" ry=\"51.97\"/>\n",
       "<text text-anchor=\"middle\" x=\"492.94\" y=\"-71.42\" font-family=\"Times,serif\" font-size=\"14.00\">Timezone</text>\n",
       "<text text-anchor=\"middle\" x=\"492.94\" y=\"-38.92\" font-family=\"Times,serif\" font-size=\"14.00\">properties:</text>\n",
       "<text text-anchor=\"middle\" x=\"492.94\" y=\"-22.42\" font-family=\"Times,serif\" font-size=\"14.00\">timezones: timezones *unique*</text>\n",
       "</g>\n",
       "<!-- Country&#45;&gt;Timezone -->\n",
       "<g id=\"edge3\" class=\"edge\">\n",
       "<title>Country&#45;&gt;Timezone</title>\n",
       "<path fill=\"none\" stroke=\"black\" d=\"M492.94,-156.25C492.94,-142.37 492.94,-128.56 492.94,-115.77\"/>\n",
       "<polygon fill=\"black\" stroke=\"black\" points=\"496.44,-115.85 492.94,-105.85 489.44,-115.85 496.44,-115.85\"/>\n",
       "<text text-anchor=\"middle\" x=\"544.69\" y=\"-125.14\" font-family=\"Times,serif\" font-size=\"14.00\">HAS_TIMEZONE</text>\n",
       "</g>\n",
       "<!-- Region -->\n",
       "<g id=\"node5\" class=\"node\">\n",
       "<title>Region</title>\n",
       "<ellipse fill=\"none\" stroke=\"black\" cx=\"813.94\" cy=\"-266.75\" rx=\"103.59\" ry=\"51.97\"/>\n",
       "<text text-anchor=\"middle\" x=\"813.94\" y=\"-286.2\" font-family=\"Times,serif\" font-size=\"14.00\">Region</text>\n",
       "<text text-anchor=\"middle\" x=\"813.94\" y=\"-253.7\" font-family=\"Times,serif\" font-size=\"14.00\">properties:</text>\n",
       "<text text-anchor=\"middle\" x=\"813.94\" y=\"-237.2\" font-family=\"Times,serif\" font-size=\"14.00\">region: region *unique*</text>\n",
       "</g>\n",
       "<!-- Region&#45;&gt;Subregion -->\n",
       "<g id=\"edge4\" class=\"edge\">\n",
       "<title>Region&#45;&gt;Subregion</title>\n",
       "<path fill=\"none\" stroke=\"black\" d=\"M809.13,-214.52C806.33,-184.73 802.78,-146.96 799.81,-115.44\"/>\n",
       "<polygon fill=\"black\" stroke=\"black\" points=\"803.31,-115.27 798.89,-105.64 796.34,-115.92 803.31,-115.27\"/>\n",
       "<text text-anchor=\"middle\" x=\"856.44\" y=\"-125.14\" font-family=\"Times,serif\" font-size=\"14.00\">HAS_SUBREGION</text>\n",
       "</g>\n",
       "</g>\n",
       "</svg>\n"
      ],
      "text/plain": [
       "<graphviz.graphs.Digraph at 0x148f3f7a0>"
      ]
     },
     "execution_count": 14,
     "metadata": {},
     "output_type": "execute_result"
    }
   ],
   "source": [
    "gdm.current_model.visualize()"
   ]
  },
  {
   "cell_type": "markdown",
   "metadata": {},
   "source": [
    "We can now create some ingestion code to get our data into our database."
   ]
  },
  {
   "cell_type": "markdown",
   "metadata": {},
   "source": [
    "## Ingestion Code Generation"
   ]
  },
  {
   "cell_type": "markdown",
   "metadata": {},
   "source": [
    "We can provide our credentials here in this step if we plan on using PyIngest to load our data. This will inject our credentials into the generated YAML file. If we leave the credential fields blank, then we can just fill in the blanks in the generated YAML file later."
   ]
  },
  {
   "cell_type": "code",
   "execution_count": 15,
   "metadata": {},
   "outputs": [],
   "source": [
    "gen = PyIngestConfigGenerator(data_model=gdm.current_model, \n",
    "                         username=os.environ.get(\"NEO4J_USERNAME\"), \n",
    "                         password=os.environ.get(\"NEO4J_PASSWORD\"), \n",
    "                         uri=os.environ.get(\"NEO4J_URI\"), \n",
    "                         database=os.environ.get(\"NEO4J_DATABASE\"), \n",
    "                         file_directory=\"data/csv/\", csv_name=\"countries.csv\")"
   ]
  },
  {
   "cell_type": "code",
   "execution_count": 19,
   "metadata": {},
   "outputs": [
    {
     "name": "stdout",
     "output_type": "stream",
     "text": [
      "server_uri: bolt://localhost:7687\n",
      "admin_user: neo4j\n",
      "admin_pass: password\n",
      "database: neo4j\n",
      "basepath: ./\n",
      "\n",
      "pre_ingest:\n",
      "  - CREATE CONSTRAINT country_id IF NOT EXISTS FOR (n:Country) REQUIRE n.id IS UNIQUE;\n",
      "  - CREATE CONSTRAINT subregion_subregion IF NOT EXISTS FOR (n:Subregion) REQUIRE n.subregion IS UNIQUE;\n",
      "  - CREATE CONSTRAINT currency_currencyname IF NOT EXISTS FOR (n:Currency) REQUIRE n.currencyName IS UNIQUE;\n",
      "  - CREATE CONSTRAINT timezone_timezones IF NOT EXISTS FOR (n:Timezone) REQUIRE n.timezones IS UNIQUE;\n",
      "  - CREATE CONSTRAINT region_region IF NOT EXISTS FOR (n:Region) REQUIRE n.region IS UNIQUE;\n",
      "files:\n",
      "- chunk_size: 100\n",
      "  cql: |-\n",
      "    WITH $dict.rows AS rows\n",
      "    UNWIND rows AS row\n",
      "    MERGE (n:Country {id: toIntegerOrNull(row.id)})\n",
      "    SET n.name = row.name, n.phoneCode = row.phone_code, n.capital = row.capital, n.latitude = toFloatOrNull(row.latitude), n.longitude = toFloatOrNull(row.longitude)\n",
      "  url: $BASE/data/csv/countries.csv\n",
      "- chunk_size: 100\n",
      "  cql: |\n",
      "    WITH $dict.rows AS rows\n",
      "    UNWIND rows AS row\n",
      "    MERGE (n:Subregion {subregion: row.subregion})\n",
      "  url: $BASE/data/csv/countries.csv\n",
      "- chunk_size: 100\n",
      "  cql: |\n",
      "    WITH $dict.rows AS rows\n",
      "    UNWIND rows AS row\n",
      "    MERGE (n:Currency {currencyName: row.currency_name})\n",
      "  url: $BASE/data/csv/countries.csv\n",
      "- chunk_size: 100\n",
      "  cql: |\n",
      "    WITH $dict.rows AS rows\n",
      "    UNWIND rows AS row\n",
      "    MERGE (n:Timezone {timezones: row.timezones})\n",
      "  url: $BASE/data/csv/countries.csv\n",
      "- chunk_size: 100\n",
      "  cql: |\n",
      "    WITH $dict.rows AS rows\n",
      "    UNWIND rows AS row\n",
      "    MERGE (n:Region {region: row.region})\n",
      "  url: $BASE/data/csv/countries.csv\n",
      "- chunk_size: 100\n",
      "  cql: |\n",
      "    WITH $dict.rows AS rows\n",
      "    UNWIND rows as row\n",
      "    MATCH (source:Country {id: toIntegerOrNull(row.id)})\n",
      "    MATCH (target:Subregion {subregion: row.subregion})\n",
      "    MERGE (source)-[n:BELONGS_TO_SUBREGION]->(target)\n",
      "  url: $BASE/data/csv/countries.csv\n",
      "- chunk_size: 100\n",
      "  cql: |\n",
      "    WITH $dict.rows AS rows\n",
      "    UNWIND rows as row\n",
      "    MATCH (source:Country {id: toIntegerOrNull(row.id)})\n",
      "    MATCH (target:Currency {currencyName: row.currency_name})\n",
      "    MERGE (source)-[n:USES_CURRENCY]->(target)\n",
      "  url: $BASE/data/csv/countries.csv\n",
      "- chunk_size: 100\n",
      "  cql: |\n",
      "    WITH $dict.rows AS rows\n",
      "    UNWIND rows as row\n",
      "    MATCH (source:Country {id: toIntegerOrNull(row.id)})\n",
      "    MATCH (target:Timezone {timezones: row.timezones})\n",
      "    MERGE (source)-[n:HAS_TIMEZONE]->(target)\n",
      "  url: $BASE/data/csv/countries.csv\n",
      "- chunk_size: 100\n",
      "  cql: |\n",
      "    WITH $dict.rows AS rows\n",
      "    UNWIND rows as row\n",
      "    MATCH (source:Region {region: row.region})\n",
      "    MATCH (target:Subregion {subregion: row.subregion})\n",
      "    MERGE (source)-[n:HAS_SUBREGION]->(target)\n",
      "  url: $BASE/data/csv/countries.csv\n",
      "\n"
     ]
    }
   ],
   "source": [
    "pyingest_yaml = gen.generate_config_string()\n",
    "print(pyingest_yaml)"
   ]
  },
  {
   "cell_type": "markdown",
   "metadata": {},
   "source": [
    "## Ingest Data"
   ]
  },
  {
   "cell_type": "markdown",
   "metadata": {},
   "source": [
    "We can use the generated yaml string above to orchestrate the data loading via a modified PyIngest function. First let's confirm our connection though."
   ]
  },
  {
   "cell_type": "code",
   "execution_count": 20,
   "metadata": {},
   "outputs": [
    {
     "data": {
      "text/plain": [
       "{'valid': True, 'message': 'Connection and Auth Verified!'}"
      ]
     },
     "execution_count": 20,
     "metadata": {},
     "output_type": "execute_result"
    }
   ],
   "source": [
    "test_database_connection(credentials={\"username\": os.environ.get(\"NEO4J_USERNAME\"), \"password\": os.environ.get(\"NEO4J_PASSWORD\"), \"uri\": os.environ.get(\"NEO4J_URI\")})"
   ]
  },
  {
   "cell_type": "code",
   "execution_count": 22,
   "metadata": {},
   "outputs": [
    {
     "name": "stdout",
     "output_type": "stream",
     "text": [
      "File {} .//data/csv/countries.csv\n",
      "loading... 0 2024-08-08 13:30:47.801049\n",
      "loading... 1 2024-08-08 13:30:47.880631\n",
      "{} : Completed file 2024-08-08 13:30:47.903632\n",
      "File {} .//data/csv/countries.csv\n",
      "loading... 0 2024-08-08 13:30:47.904284\n",
      "loading... 1 2024-08-08 13:30:47.943986\n",
      "{} : Completed file 2024-08-08 13:30:47.957237\n",
      "File {} .//data/csv/countries.csv\n",
      "loading... 0 2024-08-08 13:30:47.957757\n",
      "loading... 1 2024-08-08 13:30:47.987587\n",
      "{} : Completed file 2024-08-08 13:30:48.007453\n",
      "File {} .//data/csv/countries.csv\n",
      "loading... 0 2024-08-08 13:30:48.007837\n",
      "loading... 1 2024-08-08 13:30:48.038595\n",
      "{} : Completed file 2024-08-08 13:30:48.059046\n",
      "File {} .//data/csv/countries.csv\n",
      "loading... 0 2024-08-08 13:30:48.059566\n",
      "loading... 1 2024-08-08 13:30:48.087154\n",
      "{} : Completed file 2024-08-08 13:30:48.099672\n",
      "File {} .//data/csv/countries.csv\n",
      "loading... 0 2024-08-08 13:30:48.100013\n",
      "loading... 1 2024-08-08 13:30:48.134636\n",
      "{} : Completed file 2024-08-08 13:30:48.158952\n",
      "File {} .//data/csv/countries.csv\n",
      "loading... 0 2024-08-08 13:30:48.159475\n",
      "loading... 1 2024-08-08 13:30:48.194488\n",
      "{} : Completed file 2024-08-08 13:30:48.214928\n",
      "File {} .//data/csv/countries.csv\n",
      "loading... 0 2024-08-08 13:30:48.215646\n",
      "loading... 1 2024-08-08 13:30:48.266017\n",
      "{} : Completed file 2024-08-08 13:30:48.285937\n",
      "File {} .//data/csv/countries.csv\n",
      "loading... 0 2024-08-08 13:30:48.286428\n",
      "loading... 1 2024-08-08 13:30:48.321062\n",
      "{} : Completed file 2024-08-08 13:30:48.333758\n"
     ]
    }
   ],
   "source": [
    "PyIngest(config=pyingest_yaml, dataframe=data)"
   ]
  },
  {
   "cell_type": "markdown",
   "metadata": {},
   "source": [
    "If we check our database we can see that we've ingested our CSV according to the data model we've created!"
   ]
  },
  {
   "cell_type": "markdown",
   "metadata": {},
   "source": [
    "![countries-graph-0.9.0.png](./images/countries-graph-0.9.0.png)"
   ]
  }
 ],
 "metadata": {
  "kernelspec": {
   "display_name": "venv",
   "language": "python",
   "name": "python3"
  },
  "language_info": {
   "codemirror_mode": {
    "name": "ipython",
    "version": 3
   },
   "file_extension": ".py",
   "mimetype": "text/x-python",
   "name": "python",
   "nbconvert_exporter": "python",
   "pygments_lexer": "ipython3",
   "version": "3.12.3"
  }
 },
 "nbformat": 4,
 "nbformat_minor": 2
}
