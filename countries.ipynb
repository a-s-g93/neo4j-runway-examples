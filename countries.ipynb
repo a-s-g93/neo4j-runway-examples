{
 "cells": [
  {
   "cell_type": "markdown",
   "metadata": {},
   "source": [
    "# CSV --> Graph Demo"
   ]
  },
  {
   "cell_type": "markdown",
   "metadata": {},
   "source": [
    "This notebooks demonstrates the data flow of generating a graph from a CSV file. "
   ]
  },
  {
   "cell_type": "code",
   "execution_count": 1,
   "metadata": {},
   "outputs": [
    {
     "data": {
      "text/plain": [
       "True"
      ]
     },
     "execution_count": 1,
     "metadata": {},
     "output_type": "execute_result"
    }
   ],
   "source": [
    "import os\n",
    "\n",
    "import pandas as pd\n",
    "from dotenv import load_dotenv\n",
    "\n",
    "from neo4j_runway import Discovery, GraphDataModeler, IngestionGenerator, LLM, PyIngest\n",
    "from neo4j_runway.utils import test_database_connection\n",
    "\n",
    "load_dotenv()"
   ]
  },
  {
   "cell_type": "markdown",
   "metadata": {},
   "source": [
    "## Initialize Test Data"
   ]
  },
  {
   "cell_type": "markdown",
   "metadata": {},
   "source": [
    "The USER_GENERATED_INPUT variable contains a General Discription and feature descriptions for each feature we'd like to use in our graph."
   ]
  },
  {
   "cell_type": "code",
   "execution_count": 6,
   "metadata": {},
   "outputs": [],
   "source": [
    "USER_GENERATED_INPUT = {\n",
    "    'general_description': 'This is data on different countries.',\n",
    "    'id': 'unique id for a country.',\n",
    "    'name': 'the country name.',\n",
    "    'phone_code': 'country area code.',\n",
    "    'capital': 'the capital of the country.',\n",
    "    'currency_name': \"name of the country's currency.\",\n",
    "    'region': 'primary region of the country.',\n",
    "    'subregion': 'subregion location of the country.',\n",
    "    'timezones': 'timezones contained within the country borders.',\n",
    "    'latitude': 'the latitude coordinate of the country center.',\n",
    "    'longitude': 'the longitude coordinate of the country center.'\n",
    "}"
   ]
  },
  {
   "cell_type": "code",
   "execution_count": 7,
   "metadata": {},
   "outputs": [],
   "source": [
    "data = pd.read_csv(\"data/csv/countries.csv\")"
   ]
  },
  {
   "cell_type": "markdown",
   "metadata": {},
   "source": [
    "## Initialize LLM"
   ]
  },
  {
   "cell_type": "markdown",
   "metadata": {},
   "source": [
    "We now initialize the LLM to use in data discovery and data model creation."
   ]
  },
  {
   "cell_type": "code",
   "execution_count": 8,
   "metadata": {},
   "outputs": [],
   "source": [
    "llm = LLM()"
   ]
  },
  {
   "cell_type": "markdown",
   "metadata": {},
   "source": [
    "## Discovery"
   ]
  },
  {
   "cell_type": "markdown",
   "metadata": {},
   "source": [
    "We now load the above data into a Discovery object."
   ]
  },
  {
   "cell_type": "code",
   "execution_count": 9,
   "metadata": {},
   "outputs": [],
   "source": [
    "disc = Discovery(llm=llm, user_input=USER_GENERATED_INPUT, data=data)"
   ]
  },
  {
   "cell_type": "code",
   "execution_count": 10,
   "metadata": {},
   "outputs": [
    {
     "name": "stdout",
     "output_type": "stream",
     "text": [
      "Based on the provided summary and description of the data, here is a preliminary analysis:\n",
      "\n",
      "### Overall Details:\n",
      "1. **Data Completeness**:\n",
      "   - The dataset contains 250 entries (countries) and 10 features.\n",
      "   - Most features are complete, but there are some missing values:\n",
      "     - `capital`: 5 missing values.\n",
      "     - `region`: 2 missing values.\n",
      "     - `subregion`: 3 missing values.\n",
      "\n",
      "2. **Data Types**:\n",
      "   - The dataset includes a mix of data types:\n",
      "     - Numerical: `id`, `latitude`, `longitude`.\n",
      "     - Categorical: `name`, `phone_code`, `capital`, `currency_name`, `region`, `subregion`, `timezones`.\n",
      "\n",
      "3. **Unique Values**:\n",
      "   - `name`: All 250 entries are unique.\n",
      "   - `phone_code`: 235 unique values, with the most common code appearing 3 times.\n",
      "   - `capital`: 244 unique values, with one capital appearing twice.\n",
      "   - `currency_name`: 161 unique values, with \"Euro\" being the most common (35 occurrences).\n",
      "   - `region`: 6 unique values, with \"Africa\" being the most common (60 occurrences).\n",
      "   - `subregion`: 22 unique values, with \"Caribbean\" being the most common (28 occurrences).\n",
      "   - `timezones`: 245 unique values, with the most common timezone appearing 3 times.\n",
      "\n",
      "### Important Features:\n",
      "1. **Geographical Coordinates**:\n",
      "   - `latitude` and `longitude` provide the geographical center of each country. These features are crucial for spatial analysis and mapping.\n",
      "\n",
      "2. **Country Identification**:\n",
      "   - `id` and `name` uniquely identify each country. These are essential for referencing and linking data.\n",
      "\n",
      "3. **Administrative and Political Information**:\n",
      "   - `capital`: Provides the capital city, which is often a key administrative and political center.\n",
      "   - `region` and `subregion`: These features categorize countries into broader geographical and political groupings, useful for regional analysis.\n",
      "\n",
      "4. **Economic Information**:\n",
      "   - `currency_name`: Indicates the currency used, which can be important for economic and financial analysis.\n",
      "\n",
      "5. **Communication**:\n",
      "   - `phone_code`: Provides the country’s area code, useful for telecommunications and international dialing.\n",
      "\n",
      "6. **Time Zones**:\n",
      "   - `timezones`: Lists the time zones within each country, which is important for understanding temporal differences and scheduling across regions.\n",
      "\n",
      "### Summary:\n",
      "- The dataset is relatively complete with only a few missing values.\n",
      "- It contains a mix of numerical and categorical data, with unique identifiers for each country.\n",
      "- Key features include geographical coordinates, administrative information (capital, region, subregion), economic data (currency), and communication details (phone code, timezones).\n",
      "- The data is well-suited for geographical, political, and economic analysis, and can be used to explore relationships between countries based on these features.\n",
      "\n",
      "This preliminary analysis provides a foundation for further exploration and potential modeling, including the creation of a graph data model.\n"
     ]
    }
   ],
   "source": [
    "discovery = disc.run()\n",
    "print(discovery)"
   ]
  },
  {
   "cell_type": "markdown",
   "metadata": {},
   "source": [
    "## Data Modeling"
   ]
  },
  {
   "cell_type": "markdown",
   "metadata": {},
   "source": [
    "We can now use our Discovery object to provide context to the LLM for data model generation. We don't *need* the discovery information for this step to work, but it provides much better models."
   ]
  },
  {
   "cell_type": "code",
   "execution_count": 12,
   "metadata": {},
   "outputs": [],
   "source": [
    "gdm = GraphDataModeler(\n",
    "    llm=llm,\n",
    "    user_input=USER_GENERATED_INPUT,\n",
    "    discovery=disc\n",
    ")"
   ]
  },
  {
   "cell_type": "markdown",
   "metadata": {},
   "source": [
    "We now generate our first pass data model."
   ]
  },
  {
   "cell_type": "code",
   "execution_count": 13,
   "metadata": {},
   "outputs": [
    {
     "name": "stdout",
     "output_type": "stream",
     "text": [
      "recieved a valid response\n"
     ]
    }
   ],
   "source": [
    "initial_model = gdm.create_initial_model()"
   ]
  },
  {
   "cell_type": "code",
   "execution_count": 14,
   "metadata": {},
   "outputs": [
    {
     "data": {
      "text/plain": [
       "DataModel(nodes=[Node(label='Country', properties=[Property(name='id', type='int', csv_mapping='id', is_unique=True, part_of_key=False), Property(name='name', type='str', csv_mapping='name', is_unique=False, part_of_key=False)], csv_name=''), Node(label='Capital', properties=[Property(name='capitalName', type='str', csv_mapping='capital', is_unique=True, part_of_key=False)], csv_name=''), Node(label='Currency', properties=[Property(name='currencyName', type='str', csv_mapping='currency_name', is_unique=True, part_of_key=False)], csv_name=''), Node(label='Region', properties=[Property(name='regionName', type='str', csv_mapping='region', is_unique=True, part_of_key=False)], csv_name=''), Node(label='Subregion', properties=[Property(name='subregionName', type='str', csv_mapping='subregion', is_unique=True, part_of_key=False)], csv_name=''), Node(label='PhoneCode', properties=[Property(name='phoneCode', type='str', csv_mapping='phone_code', is_unique=True, part_of_key=False)], csv_name=''), Node(label='Timezone', properties=[Property(name='timezone', type='str', csv_mapping='timezones', is_unique=True, part_of_key=False)], csv_name=''), Node(label='Geolocation', properties=[Property(name='latitude', type='float', csv_mapping='latitude', is_unique=False, part_of_key=True), Property(name='longitude', type='float', csv_mapping='longitude', is_unique=False, part_of_key=True)], csv_name='')], relationships=[Relationship(type='HAS_CAPITAL', properties=[], source='Country', target='Capital', csv_name=''), Relationship(type='USES_CURRENCY', properties=[], source='Country', target='Currency', csv_name=''), Relationship(type='BELONGS_TO_REGION', properties=[], source='Country', target='Region', csv_name=''), Relationship(type='BELONGS_TO_SUBREGION', properties=[], source='Country', target='Subregion', csv_name=''), Relationship(type='HAS_PHONE_CODE', properties=[], source='Country', target='PhoneCode', csv_name=''), Relationship(type='HAS_TIMEZONE', properties=[], source='Country', target='Timezone', csv_name=''), Relationship(type='HAS_GEOLOCATION', properties=[], source='Country', target='Geolocation', csv_name='')])"
      ]
     },
     "execution_count": 14,
     "metadata": {},
     "output_type": "execute_result"
    }
   ],
   "source": [
    "gdm.current_model"
   ]
  },
  {
   "cell_type": "code",
   "execution_count": 15,
   "metadata": {},
   "outputs": [
    {
     "data": {
      "image/svg+xml": [
       "<?xml version=\"1.0\" encoding=\"UTF-8\" standalone=\"no\"?>\n",
       "<!DOCTYPE svg PUBLIC \"-//W3C//DTD SVG 1.1//EN\"\n",
       " \"http://www.w3.org/Graphics/SVG/1.1/DTD/svg11.dtd\">\n",
       "<!-- Generated by graphviz version 10.0.1 (20240210.2158)\n",
       " -->\n",
       "<!-- Pages: 1 -->\n",
       "<svg width=\"2054pt\" height=\"315pt\"\n",
       " viewBox=\"0.00 0.00 2053.78 315.06\" xmlns=\"http://www.w3.org/2000/svg\" xmlns:xlink=\"http://www.w3.org/1999/xlink\">\n",
       "<g id=\"graph0\" class=\"graph\" transform=\"scale(1 1) rotate(0) translate(4 311.06)\">\n",
       "<polygon fill=\"white\" stroke=\"none\" points=\"-4,4 -4,-311.06 2049.78,-311.06 2049.78,4 -4,4\"/>\n",
       "<!-- Country -->\n",
       "<g id=\"node1\" class=\"node\">\n",
       "<title>Country</title>\n",
       "<ellipse fill=\"none\" stroke=\"black\" cx=\"1061.05\" cy=\"-243.42\" rx=\"69.65\" ry=\"63.64\"/>\n",
       "<text text-anchor=\"middle\" x=\"1061.05\" y=\"-271.12\" font-family=\"Times,serif\" font-size=\"14.00\">Country</text>\n",
       "<text text-anchor=\"middle\" x=\"1061.05\" y=\"-238.62\" font-family=\"Times,serif\" font-size=\"14.00\">properties:</text>\n",
       "<text text-anchor=\"middle\" x=\"1061.05\" y=\"-222.12\" font-family=\"Times,serif\" font-size=\"14.00\">id: id *unique*</text>\n",
       "<text text-anchor=\"middle\" x=\"1061.05\" y=\"-205.62\" font-family=\"Times,serif\" font-size=\"14.00\">name: name</text>\n",
       "</g>\n",
       "<!-- Capital -->\n",
       "<g id=\"node2\" class=\"node\">\n",
       "<title>Capital</title>\n",
       "<ellipse fill=\"none\" stroke=\"black\" cx=\"129.05\" cy=\"-63.64\" rx=\"129.05\" ry=\"51.97\"/>\n",
       "<text text-anchor=\"middle\" x=\"129.05\" y=\"-83.09\" font-family=\"Times,serif\" font-size=\"14.00\">Capital</text>\n",
       "<text text-anchor=\"middle\" x=\"129.05\" y=\"-50.59\" font-family=\"Times,serif\" font-size=\"14.00\">properties:</text>\n",
       "<text text-anchor=\"middle\" x=\"129.05\" y=\"-34.09\" font-family=\"Times,serif\" font-size=\"14.00\">capitalName: capital *unique*</text>\n",
       "</g>\n",
       "<!-- Country&#45;&gt;Capital -->\n",
       "<g id=\"edge1\" class=\"edge\">\n",
       "<title>Country&#45;&gt;Capital</title>\n",
       "<path fill=\"none\" stroke=\"black\" d=\"M991.15,-238.9C851.12,-230.42 527.37,-203.56 267.05,-127.28 251,-122.58 234.4,-116.34 218.53,-109.64\"/>\n",
       "<polygon fill=\"black\" stroke=\"black\" points=\"220.18,-106.53 209.61,-105.77 217.4,-112.96 220.18,-106.53\"/>\n",
       "<text text-anchor=\"middle\" x=\"439.42\" y=\"-148.48\" font-family=\"Times,serif\" font-size=\"14.00\">HAS_CAPITAL</text>\n",
       "</g>\n",
       "<!-- Currency -->\n",
       "<g id=\"node3\" class=\"node\">\n",
       "<title>Currency</title>\n",
       "<ellipse fill=\"none\" stroke=\"black\" cx=\"447.05\" cy=\"-63.64\" rx=\"170.94\" ry=\"51.97\"/>\n",
       "<text text-anchor=\"middle\" x=\"447.05\" y=\"-83.09\" font-family=\"Times,serif\" font-size=\"14.00\">Currency</text>\n",
       "<text text-anchor=\"middle\" x=\"447.05\" y=\"-50.59\" font-family=\"Times,serif\" font-size=\"14.00\">properties:</text>\n",
       "<text text-anchor=\"middle\" x=\"447.05\" y=\"-34.09\" font-family=\"Times,serif\" font-size=\"14.00\">currencyName: currency_name *unique*</text>\n",
       "</g>\n",
       "<!-- Country&#45;&gt;Currency -->\n",
       "<g id=\"edge2\" class=\"edge\">\n",
       "<title>Country&#45;&gt;Currency</title>\n",
       "<path fill=\"none\" stroke=\"black\" d=\"M993.69,-226.23C907.98,-205.24 755.63,-166.65 627.05,-127.28 607.47,-121.29 586.84,-114.53 566.81,-107.73\"/>\n",
       "<polygon fill=\"black\" stroke=\"black\" points=\"568.11,-104.47 557.51,-104.55 565.84,-111.1 568.11,-104.47\"/>\n",
       "<text text-anchor=\"middle\" x=\"802.67\" y=\"-148.48\" font-family=\"Times,serif\" font-size=\"14.00\">USES_CURRENCY</text>\n",
       "</g>\n",
       "<!-- Region -->\n",
       "<g id=\"node4\" class=\"node\">\n",
       "<title>Region</title>\n",
       "<ellipse fill=\"none\" stroke=\"black\" cx=\"763.05\" cy=\"-63.64\" rx=\"126.93\" ry=\"51.97\"/>\n",
       "<text text-anchor=\"middle\" x=\"763.05\" y=\"-83.09\" font-family=\"Times,serif\" font-size=\"14.00\">Region</text>\n",
       "<text text-anchor=\"middle\" x=\"763.05\" y=\"-50.59\" font-family=\"Times,serif\" font-size=\"14.00\">properties:</text>\n",
       "<text text-anchor=\"middle\" x=\"763.05\" y=\"-34.09\" font-family=\"Times,serif\" font-size=\"14.00\">regionName: region *unique*</text>\n",
       "</g>\n",
       "<!-- Country&#45;&gt;Region -->\n",
       "<g id=\"edge3\" class=\"edge\">\n",
       "<title>Country&#45;&gt;Region</title>\n",
       "<path fill=\"none\" stroke=\"black\" d=\"M1000.72,-211.13C973.43,-196.61 940.95,-178.83 912.3,-161.78 887.66,-147.12 861.29,-130.33 837.68,-114.89\"/>\n",
       "<polygon fill=\"black\" stroke=\"black\" points=\"839.63,-111.98 829.35,-109.42 835.79,-117.83 839.63,-111.98\"/>\n",
       "<text text-anchor=\"middle\" x=\"985.42\" y=\"-148.48\" font-family=\"Times,serif\" font-size=\"14.00\">BELONGS_TO_REGION</text>\n",
       "</g>\n",
       "<!-- Subregion -->\n",
       "<g id=\"node5\" class=\"node\">\n",
       "<title>Subregion</title>\n",
       "<ellipse fill=\"none\" stroke=\"black\" cx=\"1061.05\" cy=\"-63.64\" rx=\"153.44\" ry=\"51.97\"/>\n",
       "<text text-anchor=\"middle\" x=\"1061.05\" y=\"-83.09\" font-family=\"Times,serif\" font-size=\"14.00\">Subregion</text>\n",
       "<text text-anchor=\"middle\" x=\"1061.05\" y=\"-50.59\" font-family=\"Times,serif\" font-size=\"14.00\">properties:</text>\n",
       "<text text-anchor=\"middle\" x=\"1061.05\" y=\"-34.09\" font-family=\"Times,serif\" font-size=\"14.00\">subregionName: subregion *unique*</text>\n",
       "</g>\n",
       "<!-- Country&#45;&gt;Subregion -->\n",
       "<g id=\"edge4\" class=\"edge\">\n",
       "<title>Country&#45;&gt;Subregion</title>\n",
       "<path fill=\"none\" stroke=\"black\" d=\"M1061.05,-179.49C1061.05,-162.61 1061.05,-144.36 1061.05,-127.48\"/>\n",
       "<polygon fill=\"black\" stroke=\"black\" points=\"1064.55,-127.57 1061.05,-117.57 1057.55,-127.57 1064.55,-127.57\"/>\n",
       "<text text-anchor=\"middle\" x=\"1146.55\" y=\"-148.48\" font-family=\"Times,serif\" font-size=\"14.00\">BELONGS_TO_SUBREGION</text>\n",
       "</g>\n",
       "<!-- PhoneCode -->\n",
       "<g id=\"node6\" class=\"node\">\n",
       "<title>PhoneCode</title>\n",
       "<ellipse fill=\"none\" stroke=\"black\" cx=\"1377.05\" cy=\"-63.64\" rx=\"144.43\" ry=\"51.97\"/>\n",
       "<text text-anchor=\"middle\" x=\"1377.05\" y=\"-83.09\" font-family=\"Times,serif\" font-size=\"14.00\">PhoneCode</text>\n",
       "<text text-anchor=\"middle\" x=\"1377.05\" y=\"-50.59\" font-family=\"Times,serif\" font-size=\"14.00\">properties:</text>\n",
       "<text text-anchor=\"middle\" x=\"1377.05\" y=\"-34.09\" font-family=\"Times,serif\" font-size=\"14.00\">phoneCode: phone_code *unique*</text>\n",
       "</g>\n",
       "<!-- Country&#45;&gt;PhoneCode -->\n",
       "<g id=\"edge5\" class=\"edge\">\n",
       "<title>Country&#45;&gt;PhoneCode</title>\n",
       "<path fill=\"none\" stroke=\"black\" d=\"M1124.31,-216.4C1158.15,-201.7 1200.14,-182.22 1236.05,-161.78 1259.44,-148.46 1283.93,-132.41 1305.81,-117.22\"/>\n",
       "<polygon fill=\"black\" stroke=\"black\" points=\"1307.59,-120.25 1313.78,-111.65 1303.58,-114.51 1307.59,-120.25\"/>\n",
       "<text text-anchor=\"middle\" x=\"1322.17\" y=\"-148.48\" font-family=\"Times,serif\" font-size=\"14.00\">HAS_PHONE_CODE</text>\n",
       "</g>\n",
       "<!-- Timezone -->\n",
       "<g id=\"node7\" class=\"node\">\n",
       "<title>Timezone</title>\n",
       "<ellipse fill=\"none\" stroke=\"black\" cx=\"1669.05\" cy=\"-63.64\" rx=\"129.58\" ry=\"51.97\"/>\n",
       "<text text-anchor=\"middle\" x=\"1669.05\" y=\"-83.09\" font-family=\"Times,serif\" font-size=\"14.00\">Timezone</text>\n",
       "<text text-anchor=\"middle\" x=\"1669.05\" y=\"-50.59\" font-family=\"Times,serif\" font-size=\"14.00\">properties:</text>\n",
       "<text text-anchor=\"middle\" x=\"1669.05\" y=\"-34.09\" font-family=\"Times,serif\" font-size=\"14.00\">timezone: timezones *unique*</text>\n",
       "</g>\n",
       "<!-- Country&#45;&gt;Timezone -->\n",
       "<g id=\"edge6\" class=\"edge\">\n",
       "<title>Country&#45;&gt;Timezone</title>\n",
       "<path fill=\"none\" stroke=\"black\" d=\"M1129.35,-229.73C1221.66,-211.66 1390.75,-175.32 1530.05,-127.28 1545.54,-121.94 1561.68,-115.51 1577.24,-108.84\"/>\n",
       "<polygon fill=\"black\" stroke=\"black\" points=\"1578.2,-112.24 1585.97,-105.04 1575.41,-105.82 1578.2,-112.24\"/>\n",
       "<text text-anchor=\"middle\" x=\"1519.8\" y=\"-148.48\" font-family=\"Times,serif\" font-size=\"14.00\">HAS_TIMEZONE</text>\n",
       "</g>\n",
       "<!-- Geolocation -->\n",
       "<g id=\"node8\" class=\"node\">\n",
       "<title>Geolocation</title>\n",
       "<ellipse fill=\"none\" stroke=\"black\" cx=\"1931.05\" cy=\"-63.64\" rx=\"114.73\" ry=\"63.64\"/>\n",
       "<text text-anchor=\"middle\" x=\"1931.05\" y=\"-91.34\" font-family=\"Times,serif\" font-size=\"14.00\">Geolocation</text>\n",
       "<text text-anchor=\"middle\" x=\"1931.05\" y=\"-58.84\" font-family=\"Times,serif\" font-size=\"14.00\">properties:</text>\n",
       "<text text-anchor=\"middle\" x=\"1931.05\" y=\"-42.34\" font-family=\"Times,serif\" font-size=\"14.00\">latitude: latitude *key*</text>\n",
       "<text text-anchor=\"middle\" x=\"1931.05\" y=\"-25.84\" font-family=\"Times,serif\" font-size=\"14.00\">longitude: longitude *key*</text>\n",
       "</g>\n",
       "<!-- Country&#45;&gt;Geolocation -->\n",
       "<g id=\"edge7\" class=\"edge\">\n",
       "<title>Country&#45;&gt;Geolocation</title>\n",
       "<path fill=\"none\" stroke=\"black\" d=\"M1130.97,-239.04C1265.23,-230.95 1567.18,-204.96 1808.05,-127.28 1818.94,-123.77 1830.04,-119.39 1840.9,-114.58\"/>\n",
       "<polygon fill=\"black\" stroke=\"black\" points=\"1842.21,-117.83 1849.85,-110.49 1839.3,-111.47 1842.21,-117.83\"/>\n",
       "<text text-anchor=\"middle\" x=\"1794.55\" y=\"-148.48\" font-family=\"Times,serif\" font-size=\"14.00\">HAS_GEOLOCATION</text>\n",
       "</g>\n",
       "</g>\n",
       "</svg>\n"
      ],
      "text/plain": [
       "<graphviz.graphs.Digraph at 0x148dc7290>"
      ]
     },
     "execution_count": 15,
     "metadata": {},
     "output_type": "execute_result"
    }
   ],
   "source": [
    "gdm.current_model.visualize()"
   ]
  },
  {
   "cell_type": "markdown",
   "metadata": {},
   "source": [
    "This doesn't look quite right, so let's prompt the LLM to make some corrections."
   ]
  },
  {
   "cell_type": "code",
   "execution_count": 19,
   "metadata": {},
   "outputs": [
    {
     "name": "stdout",
     "output_type": "stream",
     "text": [
      "recieved a valid response\n"
     ]
    },
    {
     "data": {
      "text/plain": [
       "DataModel(nodes=[Node(label='Country', properties=[Property(name='id', type='int', csv_mapping='id', is_unique=True, part_of_key=False), Property(name='name', type='str', csv_mapping='name', is_unique=False, part_of_key=False)], csv_name=''), Node(label='Capital', properties=[Property(name='capitalName', type='str', csv_mapping='capital', is_unique=True, part_of_key=False)], csv_name=''), Node(label='Currency', properties=[Property(name='currencyName', type='str', csv_mapping='currency_name', is_unique=True, part_of_key=False)], csv_name=''), Node(label='Region', properties=[Property(name='regionName', type='str', csv_mapping='region', is_unique=True, part_of_key=False)], csv_name=''), Node(label='Subregion', properties=[Property(name='subregionName', type='str', csv_mapping='subregion', is_unique=True, part_of_key=False)], csv_name=''), Node(label='PhoneCode', properties=[Property(name='phoneCode', type='str', csv_mapping='phone_code', is_unique=True, part_of_key=False)], csv_name=''), Node(label='Timezone', properties=[Property(name='timezone', type='str', csv_mapping='timezones', is_unique=True, part_of_key=False)], csv_name=''), Node(label='Geolocation', properties=[Property(name='latitude', type='float', csv_mapping='latitude', is_unique=False, part_of_key=True), Property(name='longitude', type='float', csv_mapping='longitude', is_unique=False, part_of_key=True)], csv_name='')], relationships=[Relationship(type='HAS_CAPITAL', properties=[], source='Country', target='Capital', csv_name=''), Relationship(type='USES_CURRENCY', properties=[], source='Country', target='Currency', csv_name=''), Relationship(type='BELONGS_TO_SUBREGION', properties=[], source='Country', target='Subregion', csv_name=''), Relationship(type='HAS_PHONE_CODE', properties=[], source='Country', target='PhoneCode', csv_name=''), Relationship(type='HAS_TIMEZONE', properties=[], source='Country', target='Timezone', csv_name=''), Relationship(type='HAS_GEOLOCATION', properties=[], source='Country', target='Geolocation', csv_name=''), Relationship(type='HAS_SUBREGION', properties=[], source='Region', target='Subregion', csv_name='')])"
      ]
     },
     "execution_count": 19,
     "metadata": {},
     "output_type": "execute_result"
    }
   ],
   "source": [
    "gdm.iterate_model(iterations=1, user_corrections=\"Make Region node have a HAS_SUBREGION relationship with Subregion node. Remove The relationship between Country and Region. Both the latitude and longitude properties on Geolocation should be node keys.\")"
   ]
  },
  {
   "cell_type": "code",
   "execution_count": 20,
   "metadata": {},
   "outputs": [
    {
     "data": {
      "text/plain": [
       "DataModel(nodes=[Node(label='Country', properties=[Property(name='id', type='int', csv_mapping='id', is_unique=True, part_of_key=False), Property(name='name', type='str', csv_mapping='name', is_unique=False, part_of_key=False)], csv_name=''), Node(label='Capital', properties=[Property(name='capitalName', type='str', csv_mapping='capital', is_unique=True, part_of_key=False)], csv_name=''), Node(label='Currency', properties=[Property(name='currencyName', type='str', csv_mapping='currency_name', is_unique=True, part_of_key=False)], csv_name=''), Node(label='Region', properties=[Property(name='regionName', type='str', csv_mapping='region', is_unique=True, part_of_key=False)], csv_name=''), Node(label='Subregion', properties=[Property(name='subregionName', type='str', csv_mapping='subregion', is_unique=True, part_of_key=False)], csv_name=''), Node(label='PhoneCode', properties=[Property(name='phoneCode', type='str', csv_mapping='phone_code', is_unique=True, part_of_key=False)], csv_name=''), Node(label='Timezone', properties=[Property(name='timezone', type='str', csv_mapping='timezones', is_unique=True, part_of_key=False)], csv_name=''), Node(label='Geolocation', properties=[Property(name='latitude', type='float', csv_mapping='latitude', is_unique=False, part_of_key=True), Property(name='longitude', type='float', csv_mapping='longitude', is_unique=False, part_of_key=True)], csv_name='')], relationships=[Relationship(type='HAS_CAPITAL', properties=[], source='Country', target='Capital', csv_name=''), Relationship(type='USES_CURRENCY', properties=[], source='Country', target='Currency', csv_name=''), Relationship(type='BELONGS_TO_SUBREGION', properties=[], source='Country', target='Subregion', csv_name=''), Relationship(type='HAS_PHONE_CODE', properties=[], source='Country', target='PhoneCode', csv_name=''), Relationship(type='HAS_TIMEZONE', properties=[], source='Country', target='Timezone', csv_name=''), Relationship(type='HAS_GEOLOCATION', properties=[], source='Country', target='Geolocation', csv_name=''), Relationship(type='HAS_SUBREGION', properties=[], source='Region', target='Subregion', csv_name='')])"
      ]
     },
     "execution_count": 20,
     "metadata": {},
     "output_type": "execute_result"
    }
   ],
   "source": [
    "gdm.current_model"
   ]
  },
  {
   "cell_type": "code",
   "execution_count": 21,
   "metadata": {},
   "outputs": [
    {
     "data": {
      "image/svg+xml": [
       "<?xml version=\"1.0\" encoding=\"UTF-8\" standalone=\"no\"?>\n",
       "<!DOCTYPE svg PUBLIC \"-//W3C//DTD SVG 1.1//EN\"\n",
       " \"http://www.w3.org/Graphics/SVG/1.1/DTD/svg11.dtd\">\n",
       "<!-- Generated by graphviz version 10.0.1 (20240210.2158)\n",
       " -->\n",
       "<!-- Pages: 1 -->\n",
       "<svg width=\"1785pt\" height=\"315pt\"\n",
       " viewBox=\"0.00 0.00 1785.39 315.06\" xmlns=\"http://www.w3.org/2000/svg\" xmlns:xlink=\"http://www.w3.org/1999/xlink\">\n",
       "<g id=\"graph0\" class=\"graph\" transform=\"scale(1 1) rotate(0) translate(4 311.06)\">\n",
       "<polygon fill=\"white\" stroke=\"none\" points=\"-4,4 -4,-311.06 1781.39,-311.06 1781.39,4 -4,4\"/>\n",
       "<!-- Country -->\n",
       "<g id=\"node1\" class=\"node\">\n",
       "<title>Country</title>\n",
       "<ellipse fill=\"none\" stroke=\"black\" cx=\"926.94\" cy=\"-243.42\" rx=\"69.65\" ry=\"63.64\"/>\n",
       "<text text-anchor=\"middle\" x=\"926.94\" y=\"-271.12\" font-family=\"Times,serif\" font-size=\"14.00\">Country</text>\n",
       "<text text-anchor=\"middle\" x=\"926.94\" y=\"-238.62\" font-family=\"Times,serif\" font-size=\"14.00\">properties:</text>\n",
       "<text text-anchor=\"middle\" x=\"926.94\" y=\"-222.12\" font-family=\"Times,serif\" font-size=\"14.00\">id: id *unique*</text>\n",
       "<text text-anchor=\"middle\" x=\"926.94\" y=\"-205.62\" font-family=\"Times,serif\" font-size=\"14.00\">name: name</text>\n",
       "</g>\n",
       "<!-- Capital -->\n",
       "<g id=\"node2\" class=\"node\">\n",
       "<title>Capital</title>\n",
       "<ellipse fill=\"none\" stroke=\"black\" cx=\"1319.94\" cy=\"-63.64\" rx=\"129.05\" ry=\"51.97\"/>\n",
       "<text text-anchor=\"middle\" x=\"1319.94\" y=\"-83.09\" font-family=\"Times,serif\" font-size=\"14.00\">Capital</text>\n",
       "<text text-anchor=\"middle\" x=\"1319.94\" y=\"-50.59\" font-family=\"Times,serif\" font-size=\"14.00\">properties:</text>\n",
       "<text text-anchor=\"middle\" x=\"1319.94\" y=\"-34.09\" font-family=\"Times,serif\" font-size=\"14.00\">capitalName: capital *unique*</text>\n",
       "</g>\n",
       "<!-- Country&#45;&gt;Capital -->\n",
       "<g id=\"edge1\" class=\"edge\">\n",
       "<title>Country&#45;&gt;Capital</title>\n",
       "<path fill=\"none\" stroke=\"black\" d=\"M991.25,-218.46C1031.25,-203.14 1083.54,-182.34 1128.94,-161.78 1163.49,-146.14 1200.82,-127.54 1233.23,-110.84\"/>\n",
       "<polygon fill=\"black\" stroke=\"black\" points=\"1234.5,-114.12 1241.78,-106.41 1231.29,-107.9 1234.5,-114.12\"/>\n",
       "<text text-anchor=\"middle\" x=\"1205.32\" y=\"-148.48\" font-family=\"Times,serif\" font-size=\"14.00\">HAS_CAPITAL</text>\n",
       "</g>\n",
       "<!-- Currency -->\n",
       "<g id=\"node3\" class=\"node\">\n",
       "<title>Currency</title>\n",
       "<ellipse fill=\"none\" stroke=\"black\" cx=\"170.94\" cy=\"-63.64\" rx=\"170.94\" ry=\"51.97\"/>\n",
       "<text text-anchor=\"middle\" x=\"170.94\" y=\"-83.09\" font-family=\"Times,serif\" font-size=\"14.00\">Currency</text>\n",
       "<text text-anchor=\"middle\" x=\"170.94\" y=\"-50.59\" font-family=\"Times,serif\" font-size=\"14.00\">properties:</text>\n",
       "<text text-anchor=\"middle\" x=\"170.94\" y=\"-34.09\" font-family=\"Times,serif\" font-size=\"14.00\">currencyName: currency_name *unique*</text>\n",
       "</g>\n",
       "<!-- Country&#45;&gt;Currency -->\n",
       "<g id=\"edge2\" class=\"edge\">\n",
       "<title>Country&#45;&gt;Currency</title>\n",
       "<path fill=\"none\" stroke=\"black\" d=\"M857.96,-231.79C749.15,-214.31 531.49,-176.49 350.94,-127.28 330.55,-121.72 309.14,-115.04 288.47,-108.14\"/>\n",
       "<polygon fill=\"black\" stroke=\"black\" points=\"289.77,-104.88 279.17,-105 287.53,-111.51 289.77,-104.88\"/>\n",
       "<text text-anchor=\"middle\" x=\"532.57\" y=\"-148.48\" font-family=\"Times,serif\" font-size=\"14.00\">USES_CURRENCY</text>\n",
       "</g>\n",
       "<!-- Subregion -->\n",
       "<g id=\"node5\" class=\"node\">\n",
       "<title>Subregion</title>\n",
       "<ellipse fill=\"none\" stroke=\"black\" cx=\"1623.94\" cy=\"-63.64\" rx=\"153.44\" ry=\"51.97\"/>\n",
       "<text text-anchor=\"middle\" x=\"1623.94\" y=\"-83.09\" font-family=\"Times,serif\" font-size=\"14.00\">Subregion</text>\n",
       "<text text-anchor=\"middle\" x=\"1623.94\" y=\"-50.59\" font-family=\"Times,serif\" font-size=\"14.00\">properties:</text>\n",
       "<text text-anchor=\"middle\" x=\"1623.94\" y=\"-34.09\" font-family=\"Times,serif\" font-size=\"14.00\">subregionName: subregion *unique*</text>\n",
       "</g>\n",
       "<!-- Country&#45;&gt;Subregion -->\n",
       "<g id=\"edge3\" class=\"edge\">\n",
       "<title>Country&#45;&gt;Subregion</title>\n",
       "<path fill=\"none\" stroke=\"black\" d=\"M995.65,-230.87C1097.65,-212.97 1294.65,-175.51 1457.94,-127.28 1476.89,-121.68 1496.76,-114.96 1515.9,-108.03\"/>\n",
       "<polygon fill=\"black\" stroke=\"black\" points=\"1516.84,-111.41 1525.03,-104.68 1514.43,-104.84 1516.84,-111.41\"/>\n",
       "<text text-anchor=\"middle\" x=\"1471.44\" y=\"-148.48\" font-family=\"Times,serif\" font-size=\"14.00\">BELONGS_TO_SUBREGION</text>\n",
       "</g>\n",
       "<!-- PhoneCode -->\n",
       "<g id=\"node6\" class=\"node\">\n",
       "<title>PhoneCode</title>\n",
       "<ellipse fill=\"none\" stroke=\"black\" cx=\"503.94\" cy=\"-63.64\" rx=\"144.43\" ry=\"51.97\"/>\n",
       "<text text-anchor=\"middle\" x=\"503.94\" y=\"-83.09\" font-family=\"Times,serif\" font-size=\"14.00\">PhoneCode</text>\n",
       "<text text-anchor=\"middle\" x=\"503.94\" y=\"-50.59\" font-family=\"Times,serif\" font-size=\"14.00\">properties:</text>\n",
       "<text text-anchor=\"middle\" x=\"503.94\" y=\"-34.09\" font-family=\"Times,serif\" font-size=\"14.00\">phoneCode: phone_code *unique*</text>\n",
       "</g>\n",
       "<!-- Country&#45;&gt;PhoneCode -->\n",
       "<g id=\"edge4\" class=\"edge\">\n",
       "<title>Country&#45;&gt;PhoneCode</title>\n",
       "<path fill=\"none\" stroke=\"black\" d=\"M863.55,-216.45C825.32,-200.74 775.65,-180.23 731.69,-161.78 690.58,-144.52 645.39,-125.3 606.18,-108.54\"/>\n",
       "<polygon fill=\"black\" stroke=\"black\" points=\"607.78,-105.42 597.21,-104.7 605.03,-111.85 607.78,-105.42\"/>\n",
       "<text text-anchor=\"middle\" x=\"793.07\" y=\"-148.48\" font-family=\"Times,serif\" font-size=\"14.00\">HAS_PHONE_CODE</text>\n",
       "</g>\n",
       "<!-- Timezone -->\n",
       "<g id=\"node7\" class=\"node\">\n",
       "<title>Timezone</title>\n",
       "<ellipse fill=\"none\" stroke=\"black\" cx=\"795.94\" cy=\"-63.64\" rx=\"129.58\" ry=\"51.97\"/>\n",
       "<text text-anchor=\"middle\" x=\"795.94\" y=\"-83.09\" font-family=\"Times,serif\" font-size=\"14.00\">Timezone</text>\n",
       "<text text-anchor=\"middle\" x=\"795.94\" y=\"-50.59\" font-family=\"Times,serif\" font-size=\"14.00\">properties:</text>\n",
       "<text text-anchor=\"middle\" x=\"795.94\" y=\"-34.09\" font-family=\"Times,serif\" font-size=\"14.00\">timezone: timezones *unique*</text>\n",
       "</g>\n",
       "<!-- Country&#45;&gt;Timezone -->\n",
       "<g id=\"edge5\" class=\"edge\">\n",
       "<title>Country&#45;&gt;Timezone</title>\n",
       "<path fill=\"none\" stroke=\"black\" d=\"M888.35,-190.04C872.83,-168.98 854.87,-144.61 838.94,-122.98\"/>\n",
       "<polygon fill=\"black\" stroke=\"black\" points=\"841.89,-121.1 833.14,-115.12 836.26,-125.25 841.89,-121.1\"/>\n",
       "<text text-anchor=\"middle\" x=\"917.69\" y=\"-148.48\" font-family=\"Times,serif\" font-size=\"14.00\">HAS_TIMEZONE</text>\n",
       "</g>\n",
       "<!-- Geolocation -->\n",
       "<g id=\"node8\" class=\"node\">\n",
       "<title>Geolocation</title>\n",
       "<ellipse fill=\"none\" stroke=\"black\" cx=\"1057.94\" cy=\"-63.64\" rx=\"114.73\" ry=\"63.64\"/>\n",
       "<text text-anchor=\"middle\" x=\"1057.94\" y=\"-91.34\" font-family=\"Times,serif\" font-size=\"14.00\">Geolocation</text>\n",
       "<text text-anchor=\"middle\" x=\"1057.94\" y=\"-58.84\" font-family=\"Times,serif\" font-size=\"14.00\">properties:</text>\n",
       "<text text-anchor=\"middle\" x=\"1057.94\" y=\"-42.34\" font-family=\"Times,serif\" font-size=\"14.00\">latitude: latitude *key*</text>\n",
       "<text text-anchor=\"middle\" x=\"1057.94\" y=\"-25.84\" font-family=\"Times,serif\" font-size=\"14.00\">longitude: longitude *key*</text>\n",
       "</g>\n",
       "<!-- Country&#45;&gt;Geolocation -->\n",
       "<g id=\"edge6\" class=\"edge\">\n",
       "<title>Country&#45;&gt;Geolocation</title>\n",
       "<path fill=\"none\" stroke=\"black\" d=\"M965.54,-190.04C978.96,-171.83 994.21,-151.14 1008.39,-131.89\"/>\n",
       "<polygon fill=\"black\" stroke=\"black\" points=\"1011.03,-134.21 1014.14,-124.09 1005.39,-130.06 1011.03,-134.21\"/>\n",
       "<text text-anchor=\"middle\" x=\"1060.44\" y=\"-148.48\" font-family=\"Times,serif\" font-size=\"14.00\">HAS_GEOLOCATION</text>\n",
       "</g>\n",
       "<!-- Region -->\n",
       "<g id=\"node4\" class=\"node\">\n",
       "<title>Region</title>\n",
       "<ellipse fill=\"none\" stroke=\"black\" cx=\"1625.94\" cy=\"-243.42\" rx=\"126.93\" ry=\"51.97\"/>\n",
       "<text text-anchor=\"middle\" x=\"1625.94\" y=\"-262.87\" font-family=\"Times,serif\" font-size=\"14.00\">Region</text>\n",
       "<text text-anchor=\"middle\" x=\"1625.94\" y=\"-230.37\" font-family=\"Times,serif\" font-size=\"14.00\">properties:</text>\n",
       "<text text-anchor=\"middle\" x=\"1625.94\" y=\"-213.87\" font-family=\"Times,serif\" font-size=\"14.00\">regionName: region *unique*</text>\n",
       "</g>\n",
       "<!-- Region&#45;&gt;Subregion -->\n",
       "<g id=\"edge7\" class=\"edge\">\n",
       "<title>Region&#45;&gt;Subregion</title>\n",
       "<path fill=\"none\" stroke=\"black\" d=\"M1625.36,-191C1625.14,-171.1 1624.88,-148.13 1624.65,-127.28\"/>\n",
       "<polygon fill=\"black\" stroke=\"black\" points=\"1628.15,-127.42 1624.54,-117.46 1621.15,-127.5 1628.15,-127.42\"/>\n",
       "<text text-anchor=\"middle\" x=\"1680.44\" y=\"-148.48\" font-family=\"Times,serif\" font-size=\"14.00\">HAS_SUBREGION</text>\n",
       "</g>\n",
       "</g>\n",
       "</svg>\n"
      ],
      "text/plain": [
       "<graphviz.graphs.Digraph at 0x148f60e90>"
      ]
     },
     "execution_count": 21,
     "metadata": {},
     "output_type": "execute_result"
    }
   ],
   "source": [
    "gdm.current_model.visualize()"
   ]
  },
  {
   "cell_type": "markdown",
   "metadata": {},
   "source": [
    "This is good enough for our demo. We can now create some ingestion code to get our data into our database."
   ]
  },
  {
   "cell_type": "markdown",
   "metadata": {},
   "source": [
    "## Ingestion Code Generation"
   ]
  },
  {
   "cell_type": "markdown",
   "metadata": {},
   "source": [
    "We should provide our credentials here in this step if we plan on using PyIngest to load our data. This will inject our credentials into the generated YAML file. If we leave the credential fields blank, then we can just fill in the blanks in the generated YAML file later."
   ]
  },
  {
   "cell_type": "code",
   "execution_count": 22,
   "metadata": {},
   "outputs": [],
   "source": [
    "\n",
    "gen = IngestionGenerator(data_model=gdm.current_model, \n",
    "                         username=os.environ.get(\"NEO4J_USERNAME\"), \n",
    "                         password=os.environ.get(\"NEO4J_PASSWORD\"), \n",
    "                         uri=os.environ.get(\"NEO4J_URI\"), \n",
    "                         database=os.environ.get(\"NEO4J_DATABASE\"), \n",
    "                         csv_dir=\"data/csv/\", csv_name=\"countries.csv\")"
   ]
  },
  {
   "cell_type": "code",
   "execution_count": 23,
   "metadata": {},
   "outputs": [
    {
     "name": "stdout",
     "output_type": "stream",
     "text": [
      "server_uri: bolt://localhost:7687\n",
      "admin_user: neo4j\n",
      "admin_pass: password\n",
      "database: neo4j\n",
      "basepath: ./\n",
      "\n",
      "pre_ingest:\n",
      "  - CREATE CONSTRAINT country_id IF NOT EXISTS FOR (n:Country) REQUIRE n.id IS UNIQUE;\n",
      "  - CREATE CONSTRAINT capital_capitalname IF NOT EXISTS FOR (n:Capital) REQUIRE n.capitalName IS UNIQUE;\n",
      "  - CREATE CONSTRAINT currency_currencyname IF NOT EXISTS FOR (n:Currency) REQUIRE n.currencyName IS UNIQUE;\n",
      "  - CREATE CONSTRAINT region_regionname IF NOT EXISTS FOR (n:Region) REQUIRE n.regionName IS UNIQUE;\n",
      "  - CREATE CONSTRAINT subregion_subregionname IF NOT EXISTS FOR (n:Subregion) REQUIRE n.subregionName IS UNIQUE;\n",
      "  - CREATE CONSTRAINT phonecode_phonecode IF NOT EXISTS FOR (n:PhoneCode) REQUIRE n.phoneCode IS UNIQUE;\n",
      "  - CREATE CONSTRAINT timezone_timezone IF NOT EXISTS FOR (n:Timezone) REQUIRE n.timezone IS UNIQUE;\n",
      "  - CREATE CONSTRAINT geolocation_latitude_longitude IF NOT EXISTS FOR (n:Geolocation) REQUIRE (n.latitude, n.longitude) IS NODE KEY;\n",
      "files:\n",
      "- chunk_size: 100\n",
      "  cql: |-\n",
      "    WITH $dict.rows AS rows\n",
      "    UNWIND rows AS row\n",
      "    MERGE (n:Country {id: row.id})\n",
      "    SET n.name = row.name\n",
      "  url: $BASE/data/csv/countries.csv\n",
      "- chunk_size: 100\n",
      "  cql: |\n",
      "    WITH $dict.rows AS rows\n",
      "    UNWIND rows AS row\n",
      "    MERGE (n:Capital {capitalName: row.capital})\n",
      "  url: $BASE/data/csv/countries.csv\n",
      "- chunk_size: 100\n",
      "  cql: |\n",
      "    WITH $dict.rows AS rows\n",
      "    UNWIND rows AS row\n",
      "    MERGE (n:Currency {currencyName: row.currency_name})\n",
      "  url: $BASE/data/csv/countries.csv\n",
      "- chunk_size: 100\n",
      "  cql: |\n",
      "    WITH $dict.rows AS rows\n",
      "    UNWIND rows AS row\n",
      "    MERGE (n:Region {regionName: row.region})\n",
      "  url: $BASE/data/csv/countries.csv\n",
      "- chunk_size: 100\n",
      "  cql: |\n",
      "    WITH $dict.rows AS rows\n",
      "    UNWIND rows AS row\n",
      "    MERGE (n:Subregion {subregionName: row.subregion})\n",
      "  url: $BASE/data/csv/countries.csv\n",
      "- chunk_size: 100\n",
      "  cql: |\n",
      "    WITH $dict.rows AS rows\n",
      "    UNWIND rows AS row\n",
      "    MERGE (n:PhoneCode {phoneCode: row.phone_code})\n",
      "  url: $BASE/data/csv/countries.csv\n",
      "- chunk_size: 100\n",
      "  cql: |\n",
      "    WITH $dict.rows AS rows\n",
      "    UNWIND rows AS row\n",
      "    MERGE (n:Timezone {timezone: row.timezones})\n",
      "  url: $BASE/data/csv/countries.csv\n",
      "- chunk_size: 100\n",
      "  cql: |\n",
      "    WITH $dict.rows AS rows\n",
      "    UNWIND rows AS row\n",
      "    MERGE (n:Geolocation {latitude: row.latitude, longitude: row.longitude})\n",
      "  url: $BASE/data/csv/countries.csv\n",
      "- chunk_size: 100\n",
      "  cql: |\n",
      "    WITH $dict.rows AS rows\n",
      "    UNWIND rows as row\n",
      "    MATCH (source:Country {id: row.id})\n",
      "    MATCH (target:Capital {capitalName: row.capital})\n",
      "    MERGE (source)-[n:HAS_CAPITAL]->(target)\n",
      "  url: $BASE/data/csv/countries.csv\n",
      "- chunk_size: 100\n",
      "  cql: |\n",
      "    WITH $dict.rows AS rows\n",
      "    UNWIND rows as row\n",
      "    MATCH (source:Country {id: row.id})\n",
      "    MATCH (target:Currency {currencyName: row.currency_name})\n",
      "    MERGE (source)-[n:USES_CURRENCY]->(target)\n",
      "  url: $BASE/data/csv/countries.csv\n",
      "- chunk_size: 100\n",
      "  cql: |\n",
      "    WITH $dict.rows AS rows\n",
      "    UNWIND rows as row\n",
      "    MATCH (source:Country {id: row.id})\n",
      "    MATCH (target:Subregion {subregionName: row.subregion})\n",
      "    MERGE (source)-[n:BELONGS_TO_SUBREGION]->(target)\n",
      "  url: $BASE/data/csv/countries.csv\n",
      "- chunk_size: 100\n",
      "  cql: |\n",
      "    WITH $dict.rows AS rows\n",
      "    UNWIND rows as row\n",
      "    MATCH (source:Country {id: row.id})\n",
      "    MATCH (target:PhoneCode {phoneCode: row.phone_code})\n",
      "    MERGE (source)-[n:HAS_PHONE_CODE]->(target)\n",
      "  url: $BASE/data/csv/countries.csv\n",
      "- chunk_size: 100\n",
      "  cql: |\n",
      "    WITH $dict.rows AS rows\n",
      "    UNWIND rows as row\n",
      "    MATCH (source:Country {id: row.id})\n",
      "    MATCH (target:Timezone {timezone: row.timezones})\n",
      "    MERGE (source)-[n:HAS_TIMEZONE]->(target)\n",
      "  url: $BASE/data/csv/countries.csv\n",
      "- chunk_size: 100\n",
      "  cql: |\n",
      "    WITH $dict.rows AS rows\n",
      "    UNWIND rows as row\n",
      "    MATCH (source:Country {id: row.id})\n",
      "    MATCH (target:Geolocation {latitude: row.latitude, longitude: row.longitude})\n",
      "    MERGE (source)-[n:HAS_GEOLOCATION]->(target)\n",
      "  url: $BASE/data/csv/countries.csv\n",
      "- chunk_size: 100\n",
      "  cql: |\n",
      "    WITH $dict.rows AS rows\n",
      "    UNWIND rows as row\n",
      "    MATCH (source:Region {regionName: row.region})\n",
      "    MATCH (target:Subregion {subregionName: row.subregion})\n",
      "    MERGE (source)-[n:HAS_SUBREGION]->(target)\n",
      "  url: $BASE/data/csv/countries.csv\n",
      "\n"
     ]
    }
   ],
   "source": [
    "pyingest_yaml = gen.generate_pyingest_yaml_string()\n",
    "# gen.generate_pyingest_yaml_file(file_name=\"countries\")\n",
    "print(pyingest_yaml)"
   ]
  },
  {
   "cell_type": "markdown",
   "metadata": {},
   "source": [
    "## Ingest Data"
   ]
  },
  {
   "cell_type": "markdown",
   "metadata": {},
   "source": [
    "We can use the generated yaml string above to orchestrate the data loading via a modified PyIngest function. This version of PyIngest works only with pre-loaded Pandas DataFrames. First let's confirm our connection though."
   ]
  },
  {
   "cell_type": "code",
   "execution_count": 24,
   "metadata": {},
   "outputs": [
    {
     "data": {
      "text/plain": [
       "{'valid': True, 'message': 'Connection and Auth Verified!'}"
      ]
     },
     "execution_count": 24,
     "metadata": {},
     "output_type": "execute_result"
    }
   ],
   "source": [
    "test_database_connection(credentials={\"username\": os.environ.get(\"NEO4J_USERNAME\"), \"password\": os.environ.get(\"NEO4J_PASSWORD\"), \"uri\": os.environ.get(\"NEO4J_URI\")})"
   ]
  },
  {
   "cell_type": "code",
   "execution_count": 26,
   "metadata": {},
   "outputs": [
    {
     "name": "stdout",
     "output_type": "stream",
     "text": [
      "File {} .//data/csv/countries.csv\n",
      "loading... 0 2024-05-20 14:05:23.860265\n",
      "loading... 1 2024-05-20 14:05:23.936473\n",
      "{} : Completed file 2024-05-20 14:05:23.958260\n",
      "File {} .//data/csv/countries.csv\n",
      "loading... 0 2024-05-20 14:05:23.958827\n",
      "loading... 1 2024-05-20 14:05:23.990325\n",
      "{} : Completed file 2024-05-20 14:05:24.008697\n",
      "File {} .//data/csv/countries.csv\n",
      "loading... 0 2024-05-20 14:05:24.009208\n",
      "loading... 1 2024-05-20 14:05:24.038214\n",
      "{} : Completed file 2024-05-20 14:05:24.056043\n",
      "File {} .//data/csv/countries.csv\n",
      "loading... 0 2024-05-20 14:05:24.056455\n"
     ]
    },
    {
     "name": "stderr",
     "output_type": "stream",
     "text": [
      "/Users/alexandergilmore/Documents/projects/neo4j-runway-examples/venv/lib/python3.12/site-packages/numpy/core/fromnumeric.py:59: FutureWarning: 'DataFrame.swapaxes' is deprecated and will be removed in a future version. Please use 'DataFrame.transpose' instead.\n",
      "  return bound(*args, **kwds)\n",
      "/Users/alexandergilmore/Documents/projects/neo4j-runway-examples/venv/lib/python3.12/site-packages/numpy/core/fromnumeric.py:59: FutureWarning: 'DataFrame.swapaxes' is deprecated and will be removed in a future version. Please use 'DataFrame.transpose' instead.\n",
      "  return bound(*args, **kwds)\n",
      "/Users/alexandergilmore/Documents/projects/neo4j-runway-examples/venv/lib/python3.12/site-packages/numpy/core/fromnumeric.py:59: FutureWarning: 'DataFrame.swapaxes' is deprecated and will be removed in a future version. Please use 'DataFrame.transpose' instead.\n",
      "  return bound(*args, **kwds)\n",
      "/Users/alexandergilmore/Documents/projects/neo4j-runway-examples/venv/lib/python3.12/site-packages/numpy/core/fromnumeric.py:59: FutureWarning: 'DataFrame.swapaxes' is deprecated and will be removed in a future version. Please use 'DataFrame.transpose' instead.\n",
      "  return bound(*args, **kwds)\n"
     ]
    },
    {
     "name": "stdout",
     "output_type": "stream",
     "text": [
      "loading... 1 2024-05-20 14:05:24.083988\n",
      "{} : Completed file 2024-05-20 14:05:24.095477\n",
      "File {} .//data/csv/countries.csv\n",
      "loading... 0 2024-05-20 14:05:24.095866\n",
      "loading... 1 2024-05-20 14:05:24.129623\n",
      "{} : Completed file 2024-05-20 14:05:24.141679\n",
      "File {} .//data/csv/countries.csv\n",
      "loading... 0 2024-05-20 14:05:24.142192\n",
      "loading... 1 2024-05-20 14:05:24.171952\n",
      "{} : Completed file 2024-05-20 14:05:24.190068\n",
      "File {} .//data/csv/countries.csv\n",
      "loading... 0 2024-05-20 14:05:24.190598\n",
      "loading... 1 2024-05-20 14:05:24.221659\n",
      "{} : Completed file 2024-05-20 14:05:24.240913\n",
      "File {} .//data/csv/countries.csv\n",
      "loading... 0 2024-05-20 14:05:24.241376\n",
      "loading... 1 2024-05-20 14:05:24.270959\n",
      "{} : Completed file 2024-05-20 14:05:24.289059\n",
      "File {} .//data/csv/countries.csv\n",
      "loading... 0 2024-05-20 14:05:24.289576\n"
     ]
    },
    {
     "name": "stderr",
     "output_type": "stream",
     "text": [
      "/Users/alexandergilmore/Documents/projects/neo4j-runway-examples/venv/lib/python3.12/site-packages/numpy/core/fromnumeric.py:59: FutureWarning: 'DataFrame.swapaxes' is deprecated and will be removed in a future version. Please use 'DataFrame.transpose' instead.\n",
      "  return bound(*args, **kwds)\n",
      "/Users/alexandergilmore/Documents/projects/neo4j-runway-examples/venv/lib/python3.12/site-packages/numpy/core/fromnumeric.py:59: FutureWarning: 'DataFrame.swapaxes' is deprecated and will be removed in a future version. Please use 'DataFrame.transpose' instead.\n",
      "  return bound(*args, **kwds)\n",
      "/Users/alexandergilmore/Documents/projects/neo4j-runway-examples/venv/lib/python3.12/site-packages/numpy/core/fromnumeric.py:59: FutureWarning: 'DataFrame.swapaxes' is deprecated and will be removed in a future version. Please use 'DataFrame.transpose' instead.\n",
      "  return bound(*args, **kwds)\n",
      "/Users/alexandergilmore/Documents/projects/neo4j-runway-examples/venv/lib/python3.12/site-packages/numpy/core/fromnumeric.py:59: FutureWarning: 'DataFrame.swapaxes' is deprecated and will be removed in a future version. Please use 'DataFrame.transpose' instead.\n",
      "  return bound(*args, **kwds)\n",
      "/Users/alexandergilmore/Documents/projects/neo4j-runway-examples/venv/lib/python3.12/site-packages/numpy/core/fromnumeric.py:59: FutureWarning: 'DataFrame.swapaxes' is deprecated and will be removed in a future version. Please use 'DataFrame.transpose' instead.\n",
      "  return bound(*args, **kwds)\n"
     ]
    },
    {
     "name": "stdout",
     "output_type": "stream",
     "text": [
      "loading... 1 2024-05-20 14:05:24.327192\n",
      "{} : Completed file 2024-05-20 14:05:24.343518\n",
      "File {} .//data/csv/countries.csv\n",
      "loading... 0 2024-05-20 14:05:24.344110\n",
      "loading... 1 2024-05-20 14:05:24.378096\n",
      "{} : Completed file 2024-05-20 14:05:24.396121\n",
      "File {} .//data/csv/countries.csv\n",
      "loading... 0 2024-05-20 14:05:24.396630\n",
      "loading... 1 2024-05-20 14:05:24.431194\n",
      "{} : Completed file 2024-05-20 14:05:24.447650\n",
      "File {} .//data/csv/countries.csv\n",
      "loading... 0 2024-05-20 14:05:24.448132\n",
      "loading... 1 2024-05-20 14:05:24.499250\n",
      "{} : Completed file 2024-05-20 14:05:24.517146\n",
      "File {} .//data/csv/countries.csv\n",
      "loading... 0 2024-05-20 14:05:24.517540\n"
     ]
    },
    {
     "name": "stderr",
     "output_type": "stream",
     "text": [
      "/Users/alexandergilmore/Documents/projects/neo4j-runway-examples/venv/lib/python3.12/site-packages/numpy/core/fromnumeric.py:59: FutureWarning: 'DataFrame.swapaxes' is deprecated and will be removed in a future version. Please use 'DataFrame.transpose' instead.\n",
      "  return bound(*args, **kwds)\n",
      "/Users/alexandergilmore/Documents/projects/neo4j-runway-examples/venv/lib/python3.12/site-packages/numpy/core/fromnumeric.py:59: FutureWarning: 'DataFrame.swapaxes' is deprecated and will be removed in a future version. Please use 'DataFrame.transpose' instead.\n",
      "  return bound(*args, **kwds)\n",
      "/Users/alexandergilmore/Documents/projects/neo4j-runway-examples/venv/lib/python3.12/site-packages/numpy/core/fromnumeric.py:59: FutureWarning: 'DataFrame.swapaxes' is deprecated and will be removed in a future version. Please use 'DataFrame.transpose' instead.\n",
      "  return bound(*args, **kwds)\n",
      "/Users/alexandergilmore/Documents/projects/neo4j-runway-examples/venv/lib/python3.12/site-packages/numpy/core/fromnumeric.py:59: FutureWarning: 'DataFrame.swapaxes' is deprecated and will be removed in a future version. Please use 'DataFrame.transpose' instead.\n",
      "  return bound(*args, **kwds)\n"
     ]
    },
    {
     "name": "stdout",
     "output_type": "stream",
     "text": [
      "loading... 1 2024-05-20 14:05:24.552907\n",
      "{} : Completed file 2024-05-20 14:05:24.573239\n",
      "File {} .//data/csv/countries.csv\n",
      "loading... 0 2024-05-20 14:05:24.573867\n",
      "loading... 1 2024-05-20 14:05:24.628128\n",
      "{} : Completed file 2024-05-20 14:05:24.652196\n",
      "File {} .//data/csv/countries.csv\n",
      "loading... 0 2024-05-20 14:05:24.652724\n",
      "loading... 1 2024-05-20 14:05:24.684485\n",
      "{} : Completed file 2024-05-20 14:05:24.695933\n"
     ]
    },
    {
     "name": "stderr",
     "output_type": "stream",
     "text": [
      "/Users/alexandergilmore/Documents/projects/neo4j-runway-examples/venv/lib/python3.12/site-packages/numpy/core/fromnumeric.py:59: FutureWarning: 'DataFrame.swapaxes' is deprecated and will be removed in a future version. Please use 'DataFrame.transpose' instead.\n",
      "  return bound(*args, **kwds)\n",
      "/Users/alexandergilmore/Documents/projects/neo4j-runway-examples/venv/lib/python3.12/site-packages/numpy/core/fromnumeric.py:59: FutureWarning: 'DataFrame.swapaxes' is deprecated and will be removed in a future version. Please use 'DataFrame.transpose' instead.\n",
      "  return bound(*args, **kwds)\n"
     ]
    }
   ],
   "source": [
    "PyIngest(yaml_string=pyingest_yaml, dataframe=data)"
   ]
  },
  {
   "cell_type": "markdown",
   "metadata": {},
   "source": [
    "If we check our database we can see that we've ingested our CSV according to the data model we've created!"
   ]
  },
  {
   "cell_type": "markdown",
   "metadata": {},
   "source": [
    "![countries-graph-0.2.0.png](./images/countries-graph-0.2.0.png)"
   ]
  },
  {
   "cell_type": "markdown",
   "metadata": {},
   "source": []
  }
 ],
 "metadata": {
  "kernelspec": {
   "display_name": "venv",
   "language": "python",
   "name": "python3"
  },
  "language_info": {
   "codemirror_mode": {
    "name": "ipython",
    "version": 3
   },
   "file_extension": ".py",
   "mimetype": "text/x-python",
   "name": "python",
   "nbconvert_exporter": "python",
   "pygments_lexer": "ipython3",
   "version": "3.12.3"
  }
 },
 "nbformat": 4,
 "nbformat_minor": 2
}
