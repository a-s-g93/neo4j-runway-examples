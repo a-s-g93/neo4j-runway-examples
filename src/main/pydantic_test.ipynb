{
 "cells": [
  {
   "cell_type": "markdown",
   "metadata": {},
   "source": [
    "# Demo CSV --> Graph Notebook"
   ]
  },
  {
   "cell_type": "markdown",
   "metadata": {},
   "source": [
    "This notebooks demonstrates the data flow of generating a graph from a CSV file. "
   ]
  },
  {
   "cell_type": "code",
   "execution_count": 1,
   "metadata": {},
   "outputs": [],
   "source": [
    "import os\n",
    "\n",
    "import json\n",
    "import pandas as pd\n",
    "import regex as re\n",
    "\n",
    "from summarizer.summarizer import Summarizer\n",
    "from llm.llm import LLM"
   ]
  },
  {
   "cell_type": "markdown",
   "metadata": {},
   "source": [
    "## Initialize Test Data"
   ]
  },
  {
   "cell_type": "code",
   "execution_count": 2,
   "metadata": {},
   "outputs": [],
   "source": [
    "USER_GENERATED_INPUT = {\n",
    "    'General Description': 'The data in my .csv file contains information about financial loans made to businesses.',\n",
    "    'BorrowerName': 'BorrowerName contains the name of the Business that applied for the loan.',\n",
    "    'BusinessType': 'BusinessType contains the type of business (i.e., Corp, Partnership, LLC, etc.)',\n",
    "    'LoanNumber': 'LoanNumber contains the unique identifier for the loan.',\n",
    "    'CurrentApprovalAmount': 'CurrentApprovalAmount contains the financial amount of the loan.',\n",
    "    'JobsReported': 'JobsReported contains the number of jobs the loan supports.',\n",
    "    'ProjectState': 'ProjectState contains the state where the funds will be used.',\n",
    "    'OriginatingLender': 'OriginatingLender contains the lender that originated the loan.',\n",
    "    'UTILITIES_PROCEED': 'UTILITIES_PROCEED contains the amount of the loan the borrower said they will use to pay utilities.',\n",
    "    'PAYROLL_PROCEED': 'PAYROLL_PROCEED contains the amount of the loan the borrower said they will use for payroll.',\n",
    "    'MORTGAGE_INTEREST_PROCEED': 'MORTGAGE_INTEREST_PROCEED contains the amount of the loan the borrower said they will use to pay mortgage interest.',\n",
    "    'RENT_PROCEED': 'RENT_PROCEED contains the amount of the loan the borrower said they will use to pay rent.',\n",
    "    'REFINANCE_EIDL_PROCEED': 'REFINANCE_EIDL_PROCEED contains the amount of the loan the borrower said they will use to refinance an existing loan.',\n",
    "    'HEALTH_CARE_PROCEED': 'HEALTH_CARE_PROCEED contains the amount of the loan the borrower said they will use to pay employee health care.',\n",
    "    'DEBT_INTEREST_PROCEED': 'DEBT_INTEREST_PROCEED contains the amount of the loan the borrower said they will use to pay debt interest.'\n",
    "}"
   ]
  },
  {
   "cell_type": "code",
   "execution_count": 3,
   "metadata": {},
   "outputs": [],
   "source": [
    "data = pd.read_csv(\"data/csv/ppp_loan_data.csv\")"
   ]
  },
  {
   "cell_type": "markdown",
   "metadata": {},
   "source": [
    "## Initialize LLM"
   ]
  },
  {
   "cell_type": "code",
   "execution_count": 4,
   "metadata": {},
   "outputs": [],
   "source": [
    "llm = LLM()"
   ]
  },
  {
   "cell_type": "code",
   "execution_count": 5,
   "metadata": {},
   "outputs": [],
   "source": [
    "summarizer = Summarizer(llm=llm, user_input=USER_GENERATED_INPUT, data=data)"
   ]
  },
  {
   "cell_type": "code",
   "execution_count": 6,
   "metadata": {},
   "outputs": [
    {
     "name": "stdout",
     "output_type": "stream",
     "text": [
      "Based on the provided information about the financial loans data, here are some key points from the preliminary analysis:\n",
      "\n",
      "1. **Data Size and Structure**:\n",
      "   - The dataset contains 968,525 entries and 14 columns.\n",
      "   - The columns consist of a mix of data types: object (4 columns), int64 (1 column), and float64 (9 columns).\n",
      "   - There are missing values in several columns, with varying degrees of completeness.\n",
      "\n",
      "2. **Important Features**:\n",
      "   - **LoanNumber**: This column serves as a unique identifier for each loan and can be crucial for linking different entities in a graph model.\n",
      "   - **CurrentApprovalAmount**: The financial amount of the loan is a key feature that can provide insights into the scale of the loans.\n",
      "   - **JobsReported**: The number of jobs supported by each loan can be a critical metric for assessing the impact of the loans on employment.\n",
      "   - **ProjectState**: Knowing the state where the funds will be used can be important for geographical analysis.\n",
      "   - **OriginatingLender**: Understanding which lenders are originating these loans can be valuable for network analysis.\n",
      "\n",
      "3. **Loan Usage Details**:\n",
      "   - The columns like UTILITIES_PROCEED, PAYROLL_PROCEED, MORTGAGE_INTEREST_PROCEED, etc., provide information on how the loan amount is intended to be used by the borrowers.\n",
      "   - These columns can help in understanding the allocation of funds and the priorities of the businesses receiving the loans.\n",
      "\n",
      "4. **Data Distribution**:\n",
      "   - The distributions of numerical columns like CurrentApprovalAmount, JobsReported, and the various PROCEED columns provide insights into the range and spread of values within these features.\n",
      "   - Understanding these distributions can help in identifying outliers and understanding the typical values for these attributes.\n",
      "\n",
      "5. **Categorical Features**:\n",
      "   - Categorical features like BusinessType, ProjectState, and OriginatingLender provide additional context about the businesses, locations, and lenders involved in these loans.\n",
      "   - Analyzing these categorical features can reveal patterns and relationships within the data.\n",
      "\n",
      "Overall, this preliminary analysis highlights the diversity of information available in the dataset, ranging from financial details to borrower specifics. Understanding the relationships between these features will be crucial for designing an effective graph data model to represent the connections and interactions within this financial loans dataset.\n"
     ]
    }
   ],
   "source": [
    "discovery = summarizer.run_discovery()\n",
    "print(discovery)"
   ]
  },
  {
   "cell_type": "code",
   "execution_count": 8,
   "metadata": {},
   "outputs": [
    {
     "name": "stdout",
     "output_type": "stream",
     "text": [
      "nodes=[Node(label='Loan', properties=['LoanNumber', 'CurrentApprovalAmount', 'JobsReported'], unique_constraints=[]), Node(label='Business', properties=['BorrowerName', 'BusinessType'], unique_constraints=[]), Node(label='State', properties=['ProjectState'], unique_constraints=[]), Node(label='Lender', properties=['OriginatingLender'], unique_constraints=[]), Node(label='LoanUsage', properties=['UTILITIES_PROCEED', 'PAYROLL_PROCEED', 'MORTGAGE_INTEREST_PROCEED', 'RENT_PROCEED', 'REFINANCE_EIDL_PROCEED', 'HEALTH_CARE_PROCEED', 'DEBT_INTEREST_PROCEED'], unique_constraints=[])] relationships=[Relationship(type='HAS_LOAN', properties=[], unique_constraints=[], source='Business', target='Loan'), Relationship(type='LOCATED_IN', properties=[], unique_constraints=[], source='Business', target='State'), Relationship(type='ORIGINATED_BY', properties=[], unique_constraints=[], source='Loan', target='Lender'), Relationship(type='INTENDED_FOR', properties=[], unique_constraints=[], source='Loan', target='LoanUsage')]\n"
     ]
    }
   ],
   "source": [
    "initial_model = summarizer.create_initial_model()\n",
    "print(initial_model)"
   ]
  },
  {
   "cell_type": "code",
   "execution_count": 9,
   "metadata": {},
   "outputs": [
    {
     "data": {
      "text/plain": [
       "{'nodes': [{'label': 'Loan',\n",
       "   'properties': ['LoanNumber', 'CurrentApprovalAmount', 'JobsReported'],\n",
       "   'unique_constraints': []},\n",
       "  {'label': 'Business',\n",
       "   'properties': ['BorrowerName', 'BusinessType'],\n",
       "   'unique_constraints': []},\n",
       "  {'label': 'State', 'properties': ['ProjectState'], 'unique_constraints': []},\n",
       "  {'label': 'Lender',\n",
       "   'properties': ['OriginatingLender'],\n",
       "   'unique_constraints': []},\n",
       "  {'label': 'LoanUsage',\n",
       "   'properties': ['UTILITIES_PROCEED',\n",
       "    'PAYROLL_PROCEED',\n",
       "    'MORTGAGE_INTEREST_PROCEED',\n",
       "    'RENT_PROCEED',\n",
       "    'REFINANCE_EIDL_PROCEED',\n",
       "    'HEALTH_CARE_PROCEED',\n",
       "    'DEBT_INTEREST_PROCEED'],\n",
       "   'unique_constraints': []}],\n",
       " 'relationships': [{'type': 'HAS_LOAN',\n",
       "   'properties': [],\n",
       "   'unique_constraints': [],\n",
       "   'source': 'Business',\n",
       "   'target': 'Loan'},\n",
       "  {'type': 'LOCATED_IN',\n",
       "   'properties': [],\n",
       "   'unique_constraints': [],\n",
       "   'source': 'Business',\n",
       "   'target': 'State'},\n",
       "  {'type': 'ORIGINATED_BY',\n",
       "   'properties': [],\n",
       "   'unique_constraints': [],\n",
       "   'source': 'Loan',\n",
       "   'target': 'Lender'},\n",
       "  {'type': 'INTENDED_FOR',\n",
       "   'properties': [],\n",
       "   'unique_constraints': [],\n",
       "   'source': 'Loan',\n",
       "   'target': 'LoanUsage'}]}"
      ]
     },
     "execution_count": 9,
     "metadata": {},
     "output_type": "execute_result"
    }
   ],
   "source": [
    "initial_model.dict"
   ]
  },
  {
   "cell_type": "code",
   "execution_count": 10,
   "metadata": {},
   "outputs": [
    {
     "data": {
      "text/plain": [
       "{'nodes': [{'label': 'Loan',\n",
       "   'properties': ['LoanNumber', 'CurrentApprovalAmount', 'JobsReported'],\n",
       "   'unique_constraints': []},\n",
       "  {'label': 'Business',\n",
       "   'properties': ['BorrowerName', 'BusinessType'],\n",
       "   'unique_constraints': []},\n",
       "  {'label': 'State', 'properties': ['ProjectState'], 'unique_constraints': []},\n",
       "  {'label': 'Lender',\n",
       "   'properties': ['OriginatingLender'],\n",
       "   'unique_constraints': []},\n",
       "  {'label': 'LoanUsage',\n",
       "   'properties': ['UTILITIES_PROCEED',\n",
       "    'PAYROLL_PROCEED',\n",
       "    'MORTGAGE_INTEREST_PROCEED',\n",
       "    'RENT_PROCEED',\n",
       "    'REFINANCE_EIDL_PROCEED',\n",
       "    'HEALTH_CARE_PROCEED',\n",
       "    'DEBT_INTEREST_PROCEED'],\n",
       "   'unique_constraints': []}],\n",
       " 'relationships': [{'type': 'HAS_LOAN',\n",
       "   'properties': [],\n",
       "   'unique_constraints': [],\n",
       "   'source': 'Business',\n",
       "   'target': 'Loan'},\n",
       "  {'type': 'LOCATED_IN',\n",
       "   'properties': [],\n",
       "   'unique_constraints': [],\n",
       "   'source': 'Business',\n",
       "   'target': 'State'},\n",
       "  {'type': 'ORIGINATED_BY',\n",
       "   'properties': [],\n",
       "   'unique_constraints': [],\n",
       "   'source': 'Loan',\n",
       "   'target': 'Lender'},\n",
       "  {'type': 'INTENDED_FOR',\n",
       "   'properties': [],\n",
       "   'unique_constraints': [],\n",
       "   'source': 'Loan',\n",
       "   'target': 'LoanUsage'}]}"
      ]
     },
     "execution_count": 10,
     "metadata": {},
     "output_type": "execute_result"
    }
   ],
   "source": [
    "summarizer.current_model"
   ]
  },
  {
   "cell_type": "code",
   "execution_count": 11,
   "metadata": {},
   "outputs": [
    {
     "data": {
      "text/plain": [
       "DataModel(nodes=[Node(label='Loan', properties=['LoanNumber', 'CurrentApprovalAmount', 'JobsReported'], unique_constraints=[]), Node(label='Business', properties=['BorrowerName', 'BusinessType'], unique_constraints=[]), Node(label='State', properties=['ProjectState'], unique_constraints=[]), Node(label='Lender', properties=['OriginatingLender'], unique_constraints=[]), Node(label='LoanUsage', properties=['UTILITIES_PROCEED', 'PAYROLL_PROCEED', 'MORTGAGE_INTEREST_PROCEED', 'RENT_PROCEED', 'REFINANCE_EIDL_PROCEED', 'HEALTH_CARE_PROCEED', 'DEBT_INTEREST_PROCEED'], unique_constraints=[])], relationships=[Relationship(type='HAS_LOAN', properties=[], unique_constraints=[], source='Business', target='Loan'), Relationship(type='LOCATED_IN', properties=[], unique_constraints=[], source='Business', target='State'), Relationship(type='ORIGINATED_BY', properties=[], unique_constraints=[], source='Loan', target='Lender'), Relationship(type='INTENDED_FOR', properties=[], unique_constraints=[], source='Loan', target='LoanUsage')])"
      ]
     },
     "execution_count": 11,
     "metadata": {},
     "output_type": "execute_result"
    }
   ],
   "source": [
    "summarizer.iterate_model(iterations=1)"
   ]
  },
  {
   "cell_type": "code",
   "execution_count": 12,
   "metadata": {},
   "outputs": [
    {
     "data": {
      "text/plain": [
       "{'nodes': [{'label': 'Loan',\n",
       "   'properties': ['LoanNumber', 'CurrentApprovalAmount', 'JobsReported'],\n",
       "   'unique_constraints': []},\n",
       "  {'label': 'Business',\n",
       "   'properties': ['BorrowerName', 'BusinessType'],\n",
       "   'unique_constraints': []},\n",
       "  {'label': 'State', 'properties': ['ProjectState'], 'unique_constraints': []},\n",
       "  {'label': 'Lender',\n",
       "   'properties': ['OriginatingLender'],\n",
       "   'unique_constraints': []},\n",
       "  {'label': 'LoanUsage',\n",
       "   'properties': ['UTILITIES_PROCEED',\n",
       "    'PAYROLL_PROCEED',\n",
       "    'MORTGAGE_INTEREST_PROCEED',\n",
       "    'RENT_PROCEED',\n",
       "    'REFINANCE_EIDL_PROCEED',\n",
       "    'HEALTH_CARE_PROCEED',\n",
       "    'DEBT_INTEREST_PROCEED'],\n",
       "   'unique_constraints': []}],\n",
       " 'relationships': [{'type': 'HAS_LOAN',\n",
       "   'properties': [],\n",
       "   'unique_constraints': [],\n",
       "   'source': 'Business',\n",
       "   'target': 'Loan'},\n",
       "  {'type': 'LOCATED_IN',\n",
       "   'properties': [],\n",
       "   'unique_constraints': [],\n",
       "   'source': 'Business',\n",
       "   'target': 'State'},\n",
       "  {'type': 'ORIGINATED_BY',\n",
       "   'properties': [],\n",
       "   'unique_constraints': [],\n",
       "   'source': 'Loan',\n",
       "   'target': 'Lender'},\n",
       "  {'type': 'INTENDED_FOR',\n",
       "   'properties': [],\n",
       "   'unique_constraints': [],\n",
       "   'source': 'Loan',\n",
       "   'target': 'LoanUsage'}]}"
      ]
     },
     "execution_count": 12,
     "metadata": {},
     "output_type": "execute_result"
    }
   ],
   "source": [
    "summarizer.current_model"
   ]
  },
  {
   "cell_type": "code",
   "execution_count": null,
   "metadata": {},
   "outputs": [],
   "source": []
  }
 ],
 "metadata": {
  "kernelspec": {
   "display_name": "venv",
   "language": "python",
   "name": "python3"
  },
  "language_info": {
   "codemirror_mode": {
    "name": "ipython",
    "version": 3
   },
   "file_extension": ".py",
   "mimetype": "text/x-python",
   "name": "python",
   "nbconvert_exporter": "python",
   "pygments_lexer": "ipython3",
   "version": "3.11.3"
  }
 },
 "nbformat": 4,
 "nbformat_minor": 2
}
