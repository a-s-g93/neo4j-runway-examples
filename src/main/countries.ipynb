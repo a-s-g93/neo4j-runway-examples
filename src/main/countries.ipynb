{
 "cells": [
  {
   "cell_type": "markdown",
   "metadata": {},
   "source": [
    "# Demo CSV --> Graph Notebook"
   ]
  },
  {
   "cell_type": "markdown",
   "metadata": {},
   "source": [
    "This notebooks demonstrates the data flow of generating a graph from a CSV file. "
   ]
  },
  {
   "cell_type": "code",
   "execution_count": 1,
   "metadata": {},
   "outputs": [],
   "source": [
    "import os\n",
    "\n",
    "import json\n",
    "import pandas as pd\n",
    "import regex as re\n",
    "\n",
    "from summarizer.summarizer import Summarizer\n",
    "from llm.llm import LLM"
   ]
  },
  {
   "cell_type": "markdown",
   "metadata": {},
   "source": [
    "## Initialize Test Data"
   ]
  },
  {
   "cell_type": "code",
   "execution_count": 2,
   "metadata": {},
   "outputs": [],
   "source": [
    "USER_GENERATED_INPUT = {\n",
    "    'General Description': 'This is data on different countries.',\n",
    "    'id': 'unique id for a country.',\n",
    "    'name': 'the country name.',\n",
    "    'phone_code': 'country area code.',\n",
    "    'capital': 'the capital of the country.',\n",
    "    'currency_name': \"name of the country's currency\",\n",
    "    'region': 'primary region of the country.',\n",
    "    'subregion': 'subregion location of the country.',\n",
    "    'timezones': 'timezones contained within the country borders.',\n",
    "    'latitude': 'the latitude coordinate of the country center.',\n",
    "    'longitude': 'the longitude coordinate of the country center.'\n",
    "}"
   ]
  },
  {
   "cell_type": "code",
   "execution_count": 3,
   "metadata": {},
   "outputs": [],
   "source": [
    "data = pd.read_csv(\"data/csv/countries.csv\")"
   ]
  },
  {
   "cell_type": "markdown",
   "metadata": {},
   "source": [
    "## Initialize LLM"
   ]
  },
  {
   "cell_type": "code",
   "execution_count": 4,
   "metadata": {},
   "outputs": [],
   "source": [
    "llm = LLM()"
   ]
  },
  {
   "cell_type": "code",
   "execution_count": 5,
   "metadata": {},
   "outputs": [],
   "source": [
    "summarizer = Summarizer(llm=llm, user_input=USER_GENERATED_INPUT, data=data)"
   ]
  },
  {
   "cell_type": "code",
   "execution_count": 6,
   "metadata": {},
   "outputs": [
    {
     "name": "stdout",
     "output_type": "stream",
     "text": [
      "Based on the preliminary analysis of the data on different countries, here are some important overall details and key features:\n",
      "\n",
      "1. **Data Overview**:\n",
      "   - The dataset contains information on 250 countries.\n",
      "   - There are 10 columns in the dataset with varying levels of completeness.\n",
      "   - The data types include integers, floats, and objects (strings).\n",
      "\n",
      "2. **Key Features**:\n",
      "   - **id**: This column serves as a unique identifier for each country.\n",
      "   - **name**: The name of the country, with all entries being unique.\n",
      "   - **phone_code**: The country area code, with some duplicates.\n",
      "   - **capital**: The capital city of the country, with a few missing values.\n",
      "   - **currency_name**: Name of the country's currency, with some countries sharing the same currency.\n",
      "   - **region**: Primary region of the country, with 6 unique regions.\n",
      "   - **subregion**: Subregion location of the country, with 22 unique subregions.\n",
      "   - **timezones**: Information about the timezones within the country borders.\n",
      "   - **latitude** and **longitude**: Geographic coordinates of the country center.\n",
      "\n",
      "3. **Missing Values**:\n",
      "   - The columns 'capital', 'region', and 'subregion' have a few missing values that may need to be handled during data processing.\n",
      "\n",
      "4. **Numeric Features**:\n",
      "   - The 'id', 'latitude', and 'longitude' columns provide numerical data that can be used for geospatial analysis.\n",
      "\n",
      "5. **Categorical Features**:\n",
      "   - Categorical features like 'region', 'subregion', 'currency_name', and 'timezones' can be used for grouping and categorization.\n",
      "\n",
      "6. **Distribution Insights**:\n",
      "   - The distributions of 'id', 'latitude', and 'longitude' show the range and spread of values within these columns.\n",
      "\n",
      "7. **Top Values**:\n",
      "   - The most frequent values in 'region' are from Africa, and in 'subregion' are from the Caribbean.\n",
      "\n",
      "In summary, the dataset provides a comprehensive overview of various attributes of different countries. Important features for analysis could include geographic coordinates, regional classifications, and currency information. Handling missing values and leveraging the unique identifiers will be crucial for building a robust graph data model.\n"
     ]
    }
   ],
   "source": [
    "discovery = summarizer.run_discovery()\n",
    "print(discovery)"
   ]
  },
  {
   "cell_type": "code",
   "execution_count": 7,
   "metadata": {},
   "outputs": [
    {
     "name": "stdout",
     "output_type": "stream",
     "text": [
      "retry message: \n",
      " \n",
      "                    Fix the errors in following data model and return a corrected version. Do not return the same data model.\n",
      "                    Data Model:\n",
      "                    {'nodes': [{'label': 'Country', 'properties': ['id', 'name', 'phone_code', 'capital', 'currency_name', 'region', 'subregion', 'timezones', 'latitude', 'longitude'], 'unique_constraints': ['id']}, {'label': 'Region', 'properties': ['name'], 'unique_constraints': ['name']}, {'label': 'Subregion', 'properties': ['name'], 'unique_constraints': ['name']}, {'label': 'Timezone', 'properties': ['zoneName', 'gmtOffset'], 'unique_constraints': ['zoneName']}], 'relationships': [{'type': 'BELONGS_TO_REGION', 'properties': [], 'unique_constraints': [], 'source': 'Country', 'target': 'Region'}, {'type': 'BELONGS_TO_SUBREGION', 'properties': [], 'unique_constraints': [], 'source': 'Country', 'target': 'Subregion'}, {'type': 'HAS_TIMEZONE', 'properties': [], 'unique_constraints': [], 'source': 'Country', 'target': 'Timezone'}]}\n",
      "                    Errors:\n",
      "                    ['The node Timezone has the property zoneName which does not exist in csv columns.', 'The node Timezone has the property gmtOffset which does not exist in csv columns.', 'The node Timezone has a unique constraint zoneName which does not exist in csv columns.']\n",
      "                    \n",
      "validation should fail\n",
      "recieved a valid response\n",
      "nodes=[Node(label='Country', properties=['id', 'name', 'phone_code', 'capital', 'currency_name', 'region', 'subregion', 'timezones', 'latitude', 'longitude'], unique_constraints=['id']), Node(label='Region', properties=['name'], unique_constraints=['name']), Node(label='Subregion', properties=['name'], unique_constraints=['name']), Node(label='Timezone', properties=['name'], unique_constraints=[])] relationships=[Relationship(type='BELONGS_TO_REGION', properties=[], unique_constraints=[], source='Country', target='Region'), Relationship(type='BELONGS_TO_SUBREGION', properties=[], unique_constraints=[], source='Country', target='Subregion'), Relationship(type='HAS_TIMEZONE', properties=[], unique_constraints=[], source='Country', target='Timezone')]\n"
     ]
    }
   ],
   "source": [
    "initial_model = summarizer.create_initial_model()\n",
    "print(initial_model)"
   ]
  },
  {
   "cell_type": "code",
   "execution_count": 8,
   "metadata": {},
   "outputs": [
    {
     "data": {
      "text/plain": [
       "{'nodes': [{'label': 'Country',\n",
       "   'properties': ['id',\n",
       "    'name',\n",
       "    'phone_code',\n",
       "    'capital',\n",
       "    'currency_name',\n",
       "    'region',\n",
       "    'subregion',\n",
       "    'timezones',\n",
       "    'latitude',\n",
       "    'longitude'],\n",
       "   'unique_constraints': ['id']},\n",
       "  {'label': 'Region', 'properties': ['name'], 'unique_constraints': ['name']},\n",
       "  {'label': 'Subregion',\n",
       "   'properties': ['name'],\n",
       "   'unique_constraints': ['name']},\n",
       "  {'label': 'Timezone', 'properties': ['name'], 'unique_constraints': []}],\n",
       " 'relationships': [{'type': 'BELONGS_TO_REGION',\n",
       "   'properties': [],\n",
       "   'unique_constraints': [],\n",
       "   'source': 'Country',\n",
       "   'target': 'Region'},\n",
       "  {'type': 'BELONGS_TO_SUBREGION',\n",
       "   'properties': [],\n",
       "   'unique_constraints': [],\n",
       "   'source': 'Country',\n",
       "   'target': 'Subregion'},\n",
       "  {'type': 'HAS_TIMEZONE',\n",
       "   'properties': [],\n",
       "   'unique_constraints': [],\n",
       "   'source': 'Country',\n",
       "   'target': 'Timezone'}]}"
      ]
     },
     "execution_count": 8,
     "metadata": {},
     "output_type": "execute_result"
    }
   ],
   "source": [
    "summarizer.current_model"
   ]
  },
  {
   "cell_type": "code",
   "execution_count": 9,
   "metadata": {},
   "outputs": [
    {
     "data": {
      "image/svg+xml": [
       "<?xml version=\"1.0\" encoding=\"UTF-8\" standalone=\"no\"?>\n",
       "<!DOCTYPE svg PUBLIC \"-//W3C//DTD SVG 1.1//EN\"\n",
       " \"http://www.w3.org/Graphics/SVG/1.1/DTD/svg11.dtd\">\n",
       "<!-- Generated by graphviz version 10.0.1 (20240210.2158)\n",
       " -->\n",
       "<!-- Pages: 1 -->\n",
       "<svg width=\"500pt\" height=\"133pt\"\n",
       " viewBox=\"0.00 0.00 500.03 132.50\" xmlns=\"http://www.w3.org/2000/svg\" xmlns:xlink=\"http://www.w3.org/1999/xlink\">\n",
       "<g id=\"graph0\" class=\"graph\" transform=\"scale(1 1) rotate(0) translate(4 128.5)\">\n",
       "<polygon fill=\"white\" stroke=\"none\" points=\"-4,4 -4,-128.5 496.03,-128.5 496.03,4 -4,4\"/>\n",
       "<!-- Country -->\n",
       "<g id=\"node1\" class=\"node\">\n",
       "<title>Country</title>\n",
       "<ellipse fill=\"none\" stroke=\"black\" cx=\"205.53\" cy=\"-106.5\" rx=\"41.12\" ry=\"18\"/>\n",
       "<text text-anchor=\"middle\" x=\"205.53\" y=\"-101.45\" font-family=\"Times,serif\" font-size=\"14.00\">Country</text>\n",
       "</g>\n",
       "<!-- Region -->\n",
       "<g id=\"node2\" class=\"node\">\n",
       "<title>Region</title>\n",
       "<ellipse fill=\"none\" stroke=\"black\" cx=\"37.53\" cy=\"-18\" rx=\"37.53\" ry=\"18\"/>\n",
       "<text text-anchor=\"middle\" x=\"37.53\" y=\"-12.95\" font-family=\"Times,serif\" font-size=\"14.00\">Region</text>\n",
       "</g>\n",
       "<!-- Country&#45;&gt;Region -->\n",
       "<g id=\"edge1\" class=\"edge\">\n",
       "<title>Country&#45;&gt;Region</title>\n",
       "<path fill=\"none\" stroke=\"black\" d=\"M164.18,-105.92C131.36,-104.09 86.25,-96.45 56.78,-70.5 49.91,-64.45 45.48,-55.7 42.64,-47.12\"/>\n",
       "<polygon fill=\"black\" stroke=\"black\" points=\"46.07,-46.42 40.12,-37.65 39.31,-48.22 46.07,-46.42\"/>\n",
       "<text text-anchor=\"middle\" x=\"129.91\" y=\"-57.2\" font-family=\"Times,serif\" font-size=\"14.00\">BELONGS_TO_REGION</text>\n",
       "</g>\n",
       "<!-- Subregion -->\n",
       "<g id=\"node3\" class=\"node\">\n",
       "<title>Subregion</title>\n",
       "<ellipse fill=\"none\" stroke=\"black\" cx=\"205.53\" cy=\"-18\" rx=\"48.79\" ry=\"18\"/>\n",
       "<text text-anchor=\"middle\" x=\"205.53\" y=\"-12.95\" font-family=\"Times,serif\" font-size=\"14.00\">Subregion</text>\n",
       "</g>\n",
       "<!-- Country&#45;&gt;Subregion -->\n",
       "<g id=\"edge2\" class=\"edge\">\n",
       "<title>Country&#45;&gt;Subregion</title>\n",
       "<path fill=\"none\" stroke=\"black\" d=\"M205.53,-88.41C205.53,-76.76 205.53,-61.05 205.53,-47.52\"/>\n",
       "<polygon fill=\"black\" stroke=\"black\" points=\"209.03,-47.86 205.53,-37.86 202.03,-47.86 209.03,-47.86\"/>\n",
       "<text text-anchor=\"middle\" x=\"291.03\" y=\"-57.2\" font-family=\"Times,serif\" font-size=\"14.00\">BELONGS_TO_SUBREGION</text>\n",
       "</g>\n",
       "<!-- Timezone -->\n",
       "<g id=\"node4\" class=\"node\">\n",
       "<title>Timezone</title>\n",
       "<ellipse fill=\"none\" stroke=\"black\" cx=\"399.53\" cy=\"-18\" rx=\"48.28\" ry=\"18\"/>\n",
       "<text text-anchor=\"middle\" x=\"399.53\" y=\"-12.95\" font-family=\"Times,serif\" font-size=\"14.00\">Timezone</text>\n",
       "</g>\n",
       "<!-- Country&#45;&gt;Timezone -->\n",
       "<g id=\"edge3\" class=\"edge\">\n",
       "<title>Country&#45;&gt;Timezone</title>\n",
       "<path fill=\"none\" stroke=\"black\" d=\"M245.5,-101.67C289.82,-96.69 357.69,-86.67 377.53,-70.5 384.76,-64.61 389.66,-55.89 392.97,-47.31\"/>\n",
       "<polygon fill=\"black\" stroke=\"black\" points=\"396.3,-48.37 395.99,-37.78 389.63,-46.25 396.3,-48.37\"/>\n",
       "<text text-anchor=\"middle\" x=\"440.28\" y=\"-57.2\" font-family=\"Times,serif\" font-size=\"14.00\">HAS_TIMEZONE</text>\n",
       "</g>\n",
       "</g>\n",
       "</svg>\n"
      ],
      "text/plain": [
       "<graphviz.graphs.Digraph at 0x16b258bd0>"
      ]
     },
     "execution_count": 9,
     "metadata": {},
     "output_type": "execute_result"
    }
   ],
   "source": [
    "summarizer.model_history[-1].visualize()"
   ]
  },
  {
   "cell_type": "code",
   "execution_count": 10,
   "metadata": {},
   "outputs": [
    {
     "name": "stdout",
     "output_type": "stream",
     "text": [
      "\n"
     ]
    }
   ],
   "source": [
    "print(summarizer.model_history[-1].validate_model(csv_columns=list(USER_GENERATED_INPUT.keys())[1:])['message'])"
   ]
  },
  {
   "cell_type": "code",
   "execution_count": 11,
   "metadata": {},
   "outputs": [
    {
     "name": "stdout",
     "output_type": "stream",
     "text": [
      "recieved a valid response\n"
     ]
    },
    {
     "data": {
      "text/plain": [
       "DataModel(nodes=[Node(label='Country', properties=['id', 'name', 'phone_code', 'capital', 'currency_name', 'region', 'subregion', 'timezones', 'latitude', 'longitude'], unique_constraints=['id']), Node(label='Region', properties=['name'], unique_constraints=['name']), Node(label='Subregion', properties=['name'], unique_constraints=['name']), Node(label='Timezone', properties=['name'], unique_constraints=[])], relationships=[Relationship(type='BELONGS_TO_REGION', properties=[], unique_constraints=[], source='Country', target='Region'), Relationship(type='BELONGS_TO_SUBREGION', properties=[], unique_constraints=[], source='Country', target='Subregion'), Relationship(type='HAS_TIMEZONE', properties=[], unique_constraints=[], source='Country', target='Timezone')])"
      ]
     },
     "execution_count": 11,
     "metadata": {},
     "output_type": "execute_result"
    }
   ],
   "source": [
    "summarizer.iterate_model(iterations=1)"
   ]
  },
  {
   "cell_type": "code",
   "execution_count": 12,
   "metadata": {},
   "outputs": [
    {
     "data": {
      "text/plain": [
       "{'nodes': [{'label': 'Country',\n",
       "   'properties': ['id',\n",
       "    'name',\n",
       "    'phone_code',\n",
       "    'capital',\n",
       "    'currency_name',\n",
       "    'region',\n",
       "    'subregion',\n",
       "    'timezones',\n",
       "    'latitude',\n",
       "    'longitude'],\n",
       "   'unique_constraints': ['id']},\n",
       "  {'label': 'Region', 'properties': ['name'], 'unique_constraints': ['name']},\n",
       "  {'label': 'Subregion',\n",
       "   'properties': ['name'],\n",
       "   'unique_constraints': ['name']},\n",
       "  {'label': 'Timezone', 'properties': ['name'], 'unique_constraints': []}],\n",
       " 'relationships': [{'type': 'BELONGS_TO_REGION',\n",
       "   'properties': [],\n",
       "   'unique_constraints': [],\n",
       "   'source': 'Country',\n",
       "   'target': 'Region'},\n",
       "  {'type': 'BELONGS_TO_SUBREGION',\n",
       "   'properties': [],\n",
       "   'unique_constraints': [],\n",
       "   'source': 'Country',\n",
       "   'target': 'Subregion'},\n",
       "  {'type': 'HAS_TIMEZONE',\n",
       "   'properties': [],\n",
       "   'unique_constraints': [],\n",
       "   'source': 'Country',\n",
       "   'target': 'Timezone'}]}"
      ]
     },
     "execution_count": 12,
     "metadata": {},
     "output_type": "execute_result"
    }
   ],
   "source": [
    "summarizer.current_model"
   ]
  },
  {
   "cell_type": "code",
   "execution_count": null,
   "metadata": {},
   "outputs": [],
   "source": []
  }
 ],
 "metadata": {
  "kernelspec": {
   "display_name": "venv",
   "language": "python",
   "name": "python3"
  },
  "language_info": {
   "codemirror_mode": {
    "name": "ipython",
    "version": 3
   },
   "file_extension": ".py",
   "mimetype": "text/x-python",
   "name": "python",
   "nbconvert_exporter": "python",
   "pygments_lexer": "ipython3",
   "version": "3.11.3"
  }
 },
 "nbformat": 4,
 "nbformat_minor": 2
}
