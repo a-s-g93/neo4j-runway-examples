{
 "cells": [
  {
   "cell_type": "code",
   "execution_count": 1,
   "metadata": {},
   "outputs": [],
   "source": [
    "import sys\n",
    "sys.path.append(\"../../\")\n",
    "\n",
    "import json\n",
    "import pandas as pd\n",
    "from ingestion.generate_ingest import IngestionGenerator\n",
    "from pyingest.pyingest import PyIngestForStreamlit"
   ]
  },
  {
   "cell_type": "code",
   "execution_count": 2,
   "metadata": {},
   "outputs": [],
   "source": [
    "username = \"neo4j\"\n",
    "password = \"password\"\n",
    "database = \"neo4j\"\n",
    "uri = \"bolt://localhost:7687\""
   ]
  },
  {
   "cell_type": "code",
   "execution_count": 3,
   "metadata": {},
   "outputs": [],
   "source": [
    "# data_model = \"\"\"\n",
    "# {\"nodes\": [{\"label\": \"Battle\", \"properties\": [\"name\", \"year\", \"battle_number\", \"attacker_king\", \"defender_king\", \"attacker_1\", \"attacker_2\", \"attacker_3\", \"attacker_4\", \"defender_1\", \"defender_2\", \"defender_3\", \"defender_4\", \"attacker_outcome\", \"battle_type\", \"major_death\", \"major_capture\", \"attacker_size\", \"defender_size\", \"attacker_commander\", \"defender_commander\", \"summer\", \"location\", \"region\", \"note\"], \"unique_constraints\": [\"name\"]}, {\"label\": \"King\", \"properties\": [\"name\"], \"unique_constraints\": [\"name\"]}, {\"label\": \"Commander\", \"properties\": [\"name\"], \"unique_constraints\": [\"name\"]}, {\"label\": \"Location\", \"properties\": [\"name\"], \"unique_constraints\": [\"name\"]}, {\"label\": \"Region\", \"properties\": [\"name\"], \"unique_constraints\": [\"name\"]}, {\"label\": \"BattleOutcome\", \"properties\": [], \"unique_constraints\": [\"name\"]}, {\"label\": \"BattleType\", \"properties\": [], \"unique_constraints\": [\"name\"]}, {\"label\": \"MajorEvent\", \"properties\": [], \"unique_constraints\": [\"name\"]}], \"relationships\": [{\"type\": \"ATTACKED\", \"properties\": [], \"unique_constraints\": [], \"source\": \"Battle\", \"target\": \"King\"}, {\"type\": \"DEFENDED\", \"properties\": [], \"unique_constraints\": [], \"source\": \"Battle\", \"target\": \"King\"}, {\"type\": \"ATTACKED_WITH\", \"properties\": [], \"unique_constraints\": [], \"source\": \"Battle\", \"target\": \"Commander\"}, {\"type\": \"DEFENDED_WITH\", \"properties\": [], \"unique_constraints\": [], \"source\": \"Battle\", \"target\": \"Commander\"}, {\"type\": \"TOOK_PLACE_IN\", \"properties\": [], \"unique_constraints\": [], \"source\": \"Battle\", \"target\": \"Location\"}, {\"type\": \"LOCATED_IN\", \"properties\": [], \"unique_constraints\": [], \"source\": \"Location\", \"target\": \"Region\"}, {\"type\": \"HAD_OUTCOME\", \"properties\": [], \"unique_constraints\": [], \"source\": \"Battle\", \"target\": \"BattleOutcome\"}, {\"type\": \"OF_TYPE\", \"properties\": [], \"unique_constraints\": [], \"source\": \"Battle\", \"target\": \"BattleType\"}, {\"type\": \"EXPERIENCED_EVENT\", \"properties\": [], \"unique_constraints\": [], \"source\": \"Battle\", \"target\": \"MajorEvent\"}]}\n",
    "# \"\"\""
   ]
  },
  {
   "cell_type": "code",
   "execution_count": 4,
   "metadata": {},
   "outputs": [],
   "source": [
    "# countrys V4\n",
    "data_model = \"\"\"\n",
    "{\"nodes\": [{\"label\": \"Country\", \"properties\": [\"name\"], \"unique_constraints\": [\"name\"]}, {\"label\": \"Capital\", \"properties\": [\"capital\"], \"unique_constraints\": [\"capital\"]}, {\"label\": \"Currency\", \"properties\": [\"currency_name\"], \"unique_constraints\": [\"currency_name\"]}, {\"label\": \"Region\", \"properties\": [\"region\"], \"unique_constraints\": [\"region\"]}, {\"label\": \"Subregion\", \"properties\": [\"subregion\"], \"unique_constraints\": [\"subregion\"]}, {\"label\": \"Timezone\", \"properties\": [\"timezones\"], \"unique_constraints\": [\"timezones\"]}], \"relationships\": [{\"type\": \"HAS_CAPITAL\", \"properties\": [], \"unique_constraints\": [], \"source\": \"Country\", \"target\": \"Capital\"}, {\"type\": \"USES_CURRENCY\", \"properties\": [], \"unique_constraints\": [], \"source\": \"Country\", \"target\": \"Currency\"}, {\"type\": \"BELONGS_TO_REGION\", \"properties\": [], \"unique_constraints\": [], \"source\": \"Subregion\", \"target\": \"Region\"}, {\"type\": \"BELONGS_TO_SUBREGION\", \"properties\": [], \"unique_constraints\": [], \"source\": \"Country\", \"target\": \"Subregion\"}, {\"type\": \"HAS_TIMEZONE\", \"properties\": [], \"unique_constraints\": [], \"source\": \"Country\", \"target\": \"Timezone\"}]}\n",
    "\"\"\"\n",
    "csv_name = \"countries.csv\"\n",
    "csv_dir = \"../../data/csv/\""
   ]
  },
  {
   "cell_type": "code",
   "execution_count": 5,
   "metadata": {},
   "outputs": [],
   "source": [
    "# csv_name = \"got-battles.csv\"\n",
    "# csv_dir = \"../../data/csv/\""
   ]
  },
  {
   "cell_type": "code",
   "execution_count": 6,
   "metadata": {},
   "outputs": [],
   "source": [
    "input_dataframe = pd.read_csv(csv_dir+csv_name)"
   ]
  },
  {
   "cell_type": "code",
   "execution_count": 7,
   "metadata": {},
   "outputs": [
    {
     "name": "stdout",
     "output_type": "stream",
     "text": [
      "model maps:  [{'country_capital': {'source': {'node': 'MATCH (n:Country{name: row.name})'}, 'target': {'node': 'MATCH (n:Capital{capital: row.capital})'}, 'csv': 'countries.csv', 'relationship': {'rel': 'HAS_CAPITAL'}}}]\n",
      "model maps:  [{'country_capital': {'source': {'node': 'MATCH (n:Country{name: row.name})'}, 'target': {'node': 'MATCH (n:Capital{capital: row.capital})'}, 'csv': 'countries.csv', 'relationship': {'rel': 'HAS_CAPITAL'}}, 'country_currency': {'source': {'node': 'MATCH (n:Country{name: row.name})'}, 'target': {'node': 'MATCH (n:Currency{currency_name: row.currency_name})'}, 'csv': 'countries.csv', 'relationship': {'rel': 'USES_CURRENCY'}}}, {'country_capital': {'source': {'node': 'MATCH (n:Country{name: row.name})'}, 'target': {'node': 'MATCH (n:Capital{capital: row.capital})'}, 'csv': 'countries.csv', 'relationship': {'rel': 'HAS_CAPITAL'}}, 'country_currency': {'source': {'node': 'MATCH (n:Country{name: row.name})'}, 'target': {'node': 'MATCH (n:Currency{currency_name: row.currency_name})'}, 'csv': 'countries.csv', 'relationship': {'rel': 'USES_CURRENCY'}}}]\n",
      "model maps:  [{'country_capital': {'source': {'node': 'MATCH (n:Country{name: row.name})'}, 'target': {'node': 'MATCH (n:Capital{capital: row.capital})'}, 'csv': 'countries.csv', 'relationship': {'rel': 'HAS_CAPITAL'}}, 'country_currency': {'source': {'node': 'MATCH (n:Country{name: row.name})'}, 'target': {'node': 'MATCH (n:Currency{currency_name: row.currency_name})'}, 'csv': 'countries.csv', 'relationship': {'rel': 'USES_CURRENCY'}}, 'subregion_region': {'source': {'node': 'MATCH (n:Subregion{subregion: row.subregion})'}, 'target': {'node': 'MATCH (n:Region{region: row.region})'}, 'csv': 'countries.csv', 'relationship': {'rel': 'BELONGS_TO_REGION'}}}, {'country_capital': {'source': {'node': 'MATCH (n:Country{name: row.name})'}, 'target': {'node': 'MATCH (n:Capital{capital: row.capital})'}, 'csv': 'countries.csv', 'relationship': {'rel': 'HAS_CAPITAL'}}, 'country_currency': {'source': {'node': 'MATCH (n:Country{name: row.name})'}, 'target': {'node': 'MATCH (n:Currency{currency_name: row.currency_name})'}, 'csv': 'countries.csv', 'relationship': {'rel': 'USES_CURRENCY'}}, 'subregion_region': {'source': {'node': 'MATCH (n:Subregion{subregion: row.subregion})'}, 'target': {'node': 'MATCH (n:Region{region: row.region})'}, 'csv': 'countries.csv', 'relationship': {'rel': 'BELONGS_TO_REGION'}}}, {'country_capital': {'source': {'node': 'MATCH (n:Country{name: row.name})'}, 'target': {'node': 'MATCH (n:Capital{capital: row.capital})'}, 'csv': 'countries.csv', 'relationship': {'rel': 'HAS_CAPITAL'}}, 'country_currency': {'source': {'node': 'MATCH (n:Country{name: row.name})'}, 'target': {'node': 'MATCH (n:Currency{currency_name: row.currency_name})'}, 'csv': 'countries.csv', 'relationship': {'rel': 'USES_CURRENCY'}}, 'subregion_region': {'source': {'node': 'MATCH (n:Subregion{subregion: row.subregion})'}, 'target': {'node': 'MATCH (n:Region{region: row.region})'}, 'csv': 'countries.csv', 'relationship': {'rel': 'BELONGS_TO_REGION'}}}]\n",
      "model maps:  [{'country_capital': {'source': {'node': 'MATCH (n:Country{name: row.name})'}, 'target': {'node': 'MATCH (n:Capital{capital: row.capital})'}, 'csv': 'countries.csv', 'relationship': {'rel': 'HAS_CAPITAL'}}, 'country_currency': {'source': {'node': 'MATCH (n:Country{name: row.name})'}, 'target': {'node': 'MATCH (n:Currency{currency_name: row.currency_name})'}, 'csv': 'countries.csv', 'relationship': {'rel': 'USES_CURRENCY'}}, 'subregion_region': {'source': {'node': 'MATCH (n:Subregion{subregion: row.subregion})'}, 'target': {'node': 'MATCH (n:Region{region: row.region})'}, 'csv': 'countries.csv', 'relationship': {'rel': 'BELONGS_TO_REGION'}}, 'country_subregion': {'source': {'node': 'MATCH (n:Country{name: row.name})'}, 'target': {'node': 'MATCH (n:Subregion{subregion: row.subregion})'}, 'csv': 'countries.csv', 'relationship': {'rel': 'BELONGS_TO_SUBREGION'}}}, {'country_capital': {'source': {'node': 'MATCH (n:Country{name: row.name})'}, 'target': {'node': 'MATCH (n:Capital{capital: row.capital})'}, 'csv': 'countries.csv', 'relationship': {'rel': 'HAS_CAPITAL'}}, 'country_currency': {'source': {'node': 'MATCH (n:Country{name: row.name})'}, 'target': {'node': 'MATCH (n:Currency{currency_name: row.currency_name})'}, 'csv': 'countries.csv', 'relationship': {'rel': 'USES_CURRENCY'}}, 'subregion_region': {'source': {'node': 'MATCH (n:Subregion{subregion: row.subregion})'}, 'target': {'node': 'MATCH (n:Region{region: row.region})'}, 'csv': 'countries.csv', 'relationship': {'rel': 'BELONGS_TO_REGION'}}, 'country_subregion': {'source': {'node': 'MATCH (n:Country{name: row.name})'}, 'target': {'node': 'MATCH (n:Subregion{subregion: row.subregion})'}, 'csv': 'countries.csv', 'relationship': {'rel': 'BELONGS_TO_SUBREGION'}}}, {'country_capital': {'source': {'node': 'MATCH (n:Country{name: row.name})'}, 'target': {'node': 'MATCH (n:Capital{capital: row.capital})'}, 'csv': 'countries.csv', 'relationship': {'rel': 'HAS_CAPITAL'}}, 'country_currency': {'source': {'node': 'MATCH (n:Country{name: row.name})'}, 'target': {'node': 'MATCH (n:Currency{currency_name: row.currency_name})'}, 'csv': 'countries.csv', 'relationship': {'rel': 'USES_CURRENCY'}}, 'subregion_region': {'source': {'node': 'MATCH (n:Subregion{subregion: row.subregion})'}, 'target': {'node': 'MATCH (n:Region{region: row.region})'}, 'csv': 'countries.csv', 'relationship': {'rel': 'BELONGS_TO_REGION'}}, 'country_subregion': {'source': {'node': 'MATCH (n:Country{name: row.name})'}, 'target': {'node': 'MATCH (n:Subregion{subregion: row.subregion})'}, 'csv': 'countries.csv', 'relationship': {'rel': 'BELONGS_TO_SUBREGION'}}}, {'country_capital': {'source': {'node': 'MATCH (n:Country{name: row.name})'}, 'target': {'node': 'MATCH (n:Capital{capital: row.capital})'}, 'csv': 'countries.csv', 'relationship': {'rel': 'HAS_CAPITAL'}}, 'country_currency': {'source': {'node': 'MATCH (n:Country{name: row.name})'}, 'target': {'node': 'MATCH (n:Currency{currency_name: row.currency_name})'}, 'csv': 'countries.csv', 'relationship': {'rel': 'USES_CURRENCY'}}, 'subregion_region': {'source': {'node': 'MATCH (n:Subregion{subregion: row.subregion})'}, 'target': {'node': 'MATCH (n:Region{region: row.region})'}, 'csv': 'countries.csv', 'relationship': {'rel': 'BELONGS_TO_REGION'}}, 'country_subregion': {'source': {'node': 'MATCH (n:Country{name: row.name})'}, 'target': {'node': 'MATCH (n:Subregion{subregion: row.subregion})'}, 'csv': 'countries.csv', 'relationship': {'rel': 'BELONGS_TO_SUBREGION'}}}]\n",
      "model maps:  [{'country_capital': {'source': {'node': 'MATCH (n:Country{name: row.name})'}, 'target': {'node': 'MATCH (n:Capital{capital: row.capital})'}, 'csv': 'countries.csv', 'relationship': {'rel': 'HAS_CAPITAL'}}, 'country_currency': {'source': {'node': 'MATCH (n:Country{name: row.name})'}, 'target': {'node': 'MATCH (n:Currency{currency_name: row.currency_name})'}, 'csv': 'countries.csv', 'relationship': {'rel': 'USES_CURRENCY'}}, 'subregion_region': {'source': {'node': 'MATCH (n:Subregion{subregion: row.subregion})'}, 'target': {'node': 'MATCH (n:Region{region: row.region})'}, 'csv': 'countries.csv', 'relationship': {'rel': 'BELONGS_TO_REGION'}}, 'country_subregion': {'source': {'node': 'MATCH (n:Country{name: row.name})'}, 'target': {'node': 'MATCH (n:Subregion{subregion: row.subregion})'}, 'csv': 'countries.csv', 'relationship': {'rel': 'BELONGS_TO_SUBREGION'}}, 'country_timezone': {'source': {'node': 'MATCH (n:Country{name: row.name})'}, 'target': {'node': 'MATCH (n:Timezone{timezones: row.timezones})'}, 'csv': 'countries.csv', 'relationship': {'rel': 'HAS_TIMEZONE'}}}, {'country_capital': {'source': {'node': 'MATCH (n:Country{name: row.name})'}, 'target': {'node': 'MATCH (n:Capital{capital: row.capital})'}, 'csv': 'countries.csv', 'relationship': {'rel': 'HAS_CAPITAL'}}, 'country_currency': {'source': {'node': 'MATCH (n:Country{name: row.name})'}, 'target': {'node': 'MATCH (n:Currency{currency_name: row.currency_name})'}, 'csv': 'countries.csv', 'relationship': {'rel': 'USES_CURRENCY'}}, 'subregion_region': {'source': {'node': 'MATCH (n:Subregion{subregion: row.subregion})'}, 'target': {'node': 'MATCH (n:Region{region: row.region})'}, 'csv': 'countries.csv', 'relationship': {'rel': 'BELONGS_TO_REGION'}}, 'country_subregion': {'source': {'node': 'MATCH (n:Country{name: row.name})'}, 'target': {'node': 'MATCH (n:Subregion{subregion: row.subregion})'}, 'csv': 'countries.csv', 'relationship': {'rel': 'BELONGS_TO_SUBREGION'}}, 'country_timezone': {'source': {'node': 'MATCH (n:Country{name: row.name})'}, 'target': {'node': 'MATCH (n:Timezone{timezones: row.timezones})'}, 'csv': 'countries.csv', 'relationship': {'rel': 'HAS_TIMEZONE'}}}, {'country_capital': {'source': {'node': 'MATCH (n:Country{name: row.name})'}, 'target': {'node': 'MATCH (n:Capital{capital: row.capital})'}, 'csv': 'countries.csv', 'relationship': {'rel': 'HAS_CAPITAL'}}, 'country_currency': {'source': {'node': 'MATCH (n:Country{name: row.name})'}, 'target': {'node': 'MATCH (n:Currency{currency_name: row.currency_name})'}, 'csv': 'countries.csv', 'relationship': {'rel': 'USES_CURRENCY'}}, 'subregion_region': {'source': {'node': 'MATCH (n:Subregion{subregion: row.subregion})'}, 'target': {'node': 'MATCH (n:Region{region: row.region})'}, 'csv': 'countries.csv', 'relationship': {'rel': 'BELONGS_TO_REGION'}}, 'country_subregion': {'source': {'node': 'MATCH (n:Country{name: row.name})'}, 'target': {'node': 'MATCH (n:Subregion{subregion: row.subregion})'}, 'csv': 'countries.csv', 'relationship': {'rel': 'BELONGS_TO_SUBREGION'}}, 'country_timezone': {'source': {'node': 'MATCH (n:Country{name: row.name})'}, 'target': {'node': 'MATCH (n:Timezone{timezones: row.timezones})'}, 'csv': 'countries.csv', 'relationship': {'rel': 'HAS_TIMEZONE'}}}, {'country_capital': {'source': {'node': 'MATCH (n:Country{name: row.name})'}, 'target': {'node': 'MATCH (n:Capital{capital: row.capital})'}, 'csv': 'countries.csv', 'relationship': {'rel': 'HAS_CAPITAL'}}, 'country_currency': {'source': {'node': 'MATCH (n:Country{name: row.name})'}, 'target': {'node': 'MATCH (n:Currency{currency_name: row.currency_name})'}, 'csv': 'countries.csv', 'relationship': {'rel': 'USES_CURRENCY'}}, 'subregion_region': {'source': {'node': 'MATCH (n:Subregion{subregion: row.subregion})'}, 'target': {'node': 'MATCH (n:Region{region: row.region})'}, 'csv': 'countries.csv', 'relationship': {'rel': 'BELONGS_TO_REGION'}}, 'country_subregion': {'source': {'node': 'MATCH (n:Country{name: row.name})'}, 'target': {'node': 'MATCH (n:Subregion{subregion: row.subregion})'}, 'csv': 'countries.csv', 'relationship': {'rel': 'BELONGS_TO_SUBREGION'}}, 'country_timezone': {'source': {'node': 'MATCH (n:Country{name: row.name})'}, 'target': {'node': 'MATCH (n:Timezone{timezones: row.timezones})'}, 'csv': 'countries.csv', 'relationship': {'rel': 'HAS_TIMEZONE'}}}, {'country_capital': {'source': {'node': 'MATCH (n:Country{name: row.name})'}, 'target': {'node': 'MATCH (n:Capital{capital: row.capital})'}, 'csv': 'countries.csv', 'relationship': {'rel': 'HAS_CAPITAL'}}, 'country_currency': {'source': {'node': 'MATCH (n:Country{name: row.name})'}, 'target': {'node': 'MATCH (n:Currency{currency_name: row.currency_name})'}, 'csv': 'countries.csv', 'relationship': {'rel': 'USES_CURRENCY'}}, 'subregion_region': {'source': {'node': 'MATCH (n:Subregion{subregion: row.subregion})'}, 'target': {'node': 'MATCH (n:Region{region: row.region})'}, 'csv': 'countries.csv', 'relationship': {'rel': 'BELONGS_TO_REGION'}}, 'country_subregion': {'source': {'node': 'MATCH (n:Country{name: row.name})'}, 'target': {'node': 'MATCH (n:Subregion{subregion: row.subregion})'}, 'csv': 'countries.csv', 'relationship': {'rel': 'BELONGS_TO_SUBREGION'}}, 'country_timezone': {'source': {'node': 'MATCH (n:Country{name: row.name})'}, 'target': {'node': 'MATCH (n:Timezone{timezones: row.timezones})'}, 'csv': 'countries.csv', 'relationship': {'rel': 'HAS_TIMEZONE'}}}]\n"
     ]
    }
   ],
   "source": [
    "# if a model other than most recent is desired, then uncomment these lines and select the version number appropriately\n",
    "# model_version_to_use = []\n",
    "# model_to_use = summarizer.model_history[model_version_to_use-1].dict\n",
    "\n",
    "gen = IngestionGenerator(data_model=json.loads(data_model),\n",
    "                         username=username,\n",
    "                         password=password,\n",
    "                         database=database,\n",
    "                         uri=uri,\n",
    "                         csv_name=csv_name,\n",
    "                         csv_dir=csv_dir)"
   ]
  },
  {
   "cell_type": "code",
   "execution_count": 8,
   "metadata": {},
   "outputs": [],
   "source": [
    "# gen.config_files_list"
   ]
  },
  {
   "cell_type": "code",
   "execution_count": 9,
   "metadata": {},
   "outputs": [],
   "source": [
    "yaml_string = gen.generate_pyingest_yaml_string()"
   ]
  },
  {
   "cell_type": "code",
   "execution_count": 10,
   "metadata": {},
   "outputs": [
    {
     "name": "stdout",
     "output_type": "stream",
     "text": [
      "server_uri: bolt://localhost:7687\n",
      "admin_user: neo4j\n",
      "admin_pass: password\n",
      "database: neo4j\n",
      "basepath: file:./\n",
      "\n",
      "pre_ingest:\n",
      "  - CREATE CONSTRAINT country_name IF NOT EXISTS FOR (n:Country) REQUIRE n.name IS UNIQUE;\n",
      "  - CREATE CONSTRAINT capital_capital IF NOT EXISTS FOR (n:Capital) REQUIRE n.capital IS UNIQUE;\n",
      "  - CREATE CONSTRAINT currency_currency_name IF NOT EXISTS FOR (n:Currency) REQUIRE n.currency_name IS UNIQUE;\n",
      "  - CREATE CONSTRAINT region_region IF NOT EXISTS FOR (n:Region) REQUIRE n.region IS UNIQUE;\n",
      "  - CREATE CONSTRAINT subregion_subregion IF NOT EXISTS FOR (n:Subregion) REQUIRE n.subregion IS UNIQUE;\n",
      "  - CREATE CONSTRAINT timezone_timezones IF NOT EXISTS FOR (n:Timezone) REQUIRE n.timezones IS UNIQUE;\n",
      "files:\n",
      "- chunk_size: 100\n",
      "  cql: |\n",
      "    WITH $dict.rows AS rows\n",
      "    UNWIND rows AS row\n",
      "    MERGE (n:Country {name: row.name})\n",
      "  url: $BASE/../../data/csv/countries.csv\n",
      "- chunk_size: 100\n",
      "  cql: |\n",
      "    WITH $dict.rows AS rows\n",
      "    UNWIND rows AS row\n",
      "    MERGE (n:Capital {capital: row.capital})\n",
      "  url: $BASE/../../data/csv/countries.csv\n",
      "- chunk_size: 100\n",
      "  cql: |\n",
      "    WITH $dict.rows AS rows\n",
      "    UNWIND rows AS row\n",
      "    MERGE (n:Currency {currency_name: row.currency_name})\n",
      "  url: $BASE/../../data/csv/countries.csv\n",
      "- chunk_size: 100\n",
      "  cql: |\n",
      "    WITH $dict.rows AS rows\n",
      "    UNWIND rows AS row\n",
      "    MERGE (n:Region {region: row.region})\n",
      "  url: $BASE/../../data/csv/countries.csv\n",
      "- chunk_size: 100\n",
      "  cql: |\n",
      "    WITH $dict.rows AS rows\n",
      "    UNWIND rows AS row\n",
      "    MERGE (n:Subregion {subregion: row.subregion})\n",
      "  url: $BASE/../../data/csv/countries.csv\n",
      "- chunk_size: 100\n",
      "  cql: |\n",
      "    WITH $dict.rows AS rows\n",
      "    UNWIND rows AS row\n",
      "    MERGE (n:Timezone {timezones: row.timezones})\n",
      "  url: $BASE/../../data/csv/countries.csv\n",
      "- chunk_size: 100\n",
      "  cql: |-\n",
      "    WITH $dict.rows AS rows\n",
      "    UNWIND rows as row\n",
      "    MATCH (source:Country{name: row.name})\n",
      "    MATCH (target:Capital{capital: row.capital})\n",
      "    MERGE (source)-[:HAS_CAPITAL]->(target)\n",
      "  url: $BASE/../../data/csv/countries.csv\n",
      "- chunk_size: 100\n",
      "  cql: |-\n",
      "    WITH $dict.rows AS rows\n",
      "    UNWIND rows as row\n",
      "    MATCH (source:Country{name: row.name})\n",
      "    MATCH (target:Currency{currency_name: row.currency_name})\n",
      "    MERGE (source)-[:USES_CURRENCY]->(target)\n",
      "  url: $BASE/../../data/csv/countries.csv\n",
      "- chunk_size: 100\n",
      "  cql: |-\n",
      "    WITH $dict.rows AS rows\n",
      "    UNWIND rows as row\n",
      "    MATCH (source:Subregion{subregion: row.subregion})\n",
      "    MATCH (target:Region{region: row.region})\n",
      "    MERGE (source)-[:BELONGS_TO_REGION]->(target)\n",
      "  url: $BASE/../../data/csv/countries.csv\n",
      "- chunk_size: 100\n",
      "  cql: |-\n",
      "    WITH $dict.rows AS rows\n",
      "    UNWIND rows as row\n",
      "    MATCH (source:Country{name: row.name})\n",
      "    MATCH (target:Subregion{subregion: row.subregion})\n",
      "    MERGE (source)-[:BELONGS_TO_SUBREGION]->(target)\n",
      "  url: $BASE/../../data/csv/countries.csv\n",
      "- chunk_size: 100\n",
      "  cql: |-\n",
      "    WITH $dict.rows AS rows\n",
      "    UNWIND rows as row\n",
      "    MATCH (source:Country{name: row.name})\n",
      "    MATCH (target:Timezone{timezones: row.timezones})\n",
      "    MERGE (source)-[:HAS_TIMEZONE]->(target)\n",
      "  url: $BASE/../../data/csv/countries.csv\n",
      "\n"
     ]
    }
   ],
   "source": [
    "print(yaml_string)"
   ]
  },
  {
   "cell_type": "code",
   "execution_count": 10,
   "metadata": {},
   "outputs": [
    {
     "name": "stdout",
     "output_type": "stream",
     "text": [
      "{} : Reading file 2024-03-02 15:36:46.503699\n",
      "File {} file:.//../../data/csv/got-battles.csv\n",
      "file:.//../../data/csv/got-battles.csv 0 2024-03-02 15:36:46.505308\n"
     ]
    },
    {
     "name": "stdout",
     "output_type": "stream",
     "text": [
      "{} : Completed file 2024-03-02 15:36:46.594753\n",
      "{} : Reading file 2024-03-02 15:36:46.595354\n",
      "File {} file:.//../../data/csv/got-battles.csv\n",
      "file:.//../../data/csv/got-battles.csv 0 2024-03-02 15:36:46.596843\n",
      "{} : Completed file 2024-03-02 15:36:46.602816\n",
      "{} : Reading file 2024-03-02 15:36:46.603117\n",
      "File {} file:.//../../data/csv/got-battles.csv\n",
      "file:.//../../data/csv/got-battles.csv 0 2024-03-02 15:36:46.604184\n",
      "{} : Completed file 2024-03-02 15:36:46.609417\n",
      "{} : Reading file 2024-03-02 15:36:46.609671\n",
      "File {} file:.//../../data/csv/got-battles.csv\n",
      "file:.//../../data/csv/got-battles.csv 0 2024-03-02 15:36:46.610770\n",
      "{} : Completed file 2024-03-02 15:36:46.616242\n",
      "{} : Reading file 2024-03-02 15:36:46.616495\n",
      "File {} file:.//../../data/csv/got-battles.csv\n",
      "file:.//../../data/csv/got-battles.csv 0 2024-03-02 15:36:46.617556\n",
      "{} : Completed file 2024-03-02 15:36:46.623007\n",
      "{} : Reading file 2024-03-02 15:36:46.623266\n",
      "File {} file:.//../../data/csv/got-battles.csv\n",
      "file:.//../../data/csv/got-battles.csv 0 2024-03-02 15:36:46.624422\n",
      "{} : Completed file 2024-03-02 15:36:46.629747\n",
      "{} : Reading file 2024-03-02 15:36:46.630104\n",
      "File {} file:.//../../data/csv/got-battles.csv\n",
      "file:.//../../data/csv/got-battles.csv 0 2024-03-02 15:36:46.631216\n",
      "{} : Completed file 2024-03-02 15:36:46.636400\n",
      "{} : Reading file 2024-03-02 15:36:46.636668\n",
      "File {} file:.//../../data/csv/got-battles.csv\n",
      "file:.//../../data/csv/got-battles.csv 0 2024-03-02 15:36:46.637638\n",
      "{} : Completed file 2024-03-02 15:36:46.642955\n",
      "{} : Reading file 2024-03-02 15:36:46.643180\n",
      "File {} file:.//../../data/csv/got-battles.csv\n",
      "file:.//../../data/csv/got-battles.csv 0 2024-03-02 15:36:46.644138\n",
      "{} : Completed file 2024-03-02 15:36:46.655221\n",
      "{} : Reading file 2024-03-02 15:36:46.655557\n",
      "File {} file:.//../../data/csv/got-battles.csv\n",
      "file:.//../../data/csv/got-battles.csv 0 2024-03-02 15:36:46.658512\n",
      "{} : Completed file 2024-03-02 15:36:46.663995\n",
      "{} : Reading file 2024-03-02 15:36:46.664273\n",
      "File {} file:.//../../data/csv/got-battles.csv\n",
      "file:.//../../data/csv/got-battles.csv 0 2024-03-02 15:36:46.665298\n",
      "{} : Completed file 2024-03-02 15:36:46.670553\n",
      "{} : Reading file 2024-03-02 15:36:46.670768\n",
      "File {} file:.//../../data/csv/got-battles.csv\n",
      "file:.//../../data/csv/got-battles.csv 0 2024-03-02 15:36:46.671851\n",
      "{} : Completed file 2024-03-02 15:36:46.677906\n",
      "{} : Reading file 2024-03-02 15:36:46.678146\n",
      "File {} file:.//../../data/csv/got-battles.csv\n",
      "file:.//../../data/csv/got-battles.csv 0 2024-03-02 15:36:46.679198\n",
      "{} : Completed file 2024-03-02 15:36:46.684945\n",
      "{} : Reading file 2024-03-02 15:36:46.685160\n",
      "File {} file:.//../../data/csv/got-battles.csv\n",
      "file:.//../../data/csv/got-battles.csv 0 2024-03-02 15:36:46.686085\n",
      "{} : Completed file 2024-03-02 15:36:46.691734\n",
      "{} : Reading file 2024-03-02 15:36:46.691962\n",
      "File {} file:.//../../data/csv/got-battles.csv\n",
      "file:.//../../data/csv/got-battles.csv 0 2024-03-02 15:36:46.692941\n",
      "{} : Completed file 2024-03-02 15:36:46.698282\n"
     ]
    }
   ],
   "source": [
    "outputs = []\n",
    "for prog in PyIngestForStreamlit(yaml_string=yaml_string):\n",
    "    outputs.append(prog)"
   ]
  },
  {
   "cell_type": "code",
   "execution_count": 11,
   "metadata": {},
   "outputs": [
    {
     "data": {
      "text/plain": [
       "[0.06666666666666667,\n",
       " 0.13333333333333333,\n",
       " 0.2,\n",
       " 0.26666666666666666,\n",
       " 0.3333333333333333,\n",
       " 0.4,\n",
       " 0.4666666666666667,\n",
       " 0.5333333333333333,\n",
       " 0.6,\n",
       " 0.6666666666666666,\n",
       " 0.7333333333333333,\n",
       " 0.8,\n",
       " 0.8666666666666667,\n",
       " 0.9333333333333333,\n",
       " 1.0]"
      ]
     },
     "execution_count": 11,
     "metadata": {},
     "output_type": "execute_result"
    }
   ],
   "source": [
    "outputs"
   ]
  },
  {
   "cell_type": "code",
   "execution_count": null,
   "metadata": {},
   "outputs": [],
   "source": []
  }
 ],
 "metadata": {
  "kernelspec": {
   "display_name": "venv",
   "language": "python",
   "name": "python3"
  },
  "language_info": {
   "codemirror_mode": {
    "name": "ipython",
    "version": 3
   },
   "file_extension": ".py",
   "mimetype": "text/x-python",
   "name": "python",
   "nbconvert_exporter": "python",
   "pygments_lexer": "ipython3",
   "version": "3.11.3"
  }
 },
 "nbformat": 4,
 "nbformat_minor": 2
}
