{
 "cells": [
  {
   "cell_type": "markdown",
   "metadata": {},
   "source": [
    "# Demo CSV --> Graph Notebook"
   ]
  },
  {
   "cell_type": "markdown",
   "metadata": {},
   "source": [
    "This notebooks demonstrates the data flow of generating a graph from a CSV file. "
   ]
  },
  {
   "cell_type": "code",
   "execution_count": 1,
   "metadata": {},
   "outputs": [],
   "source": [
    "import os\n",
    "\n",
    "import json\n",
    "import pandas as pd\n",
    "import regex as re\n",
    "\n",
    "from summarizer.summarizer import Summarizer\n",
    "from llm.llm import LLM"
   ]
  },
  {
   "cell_type": "markdown",
   "metadata": {},
   "source": [
    "## Initialize Test Data"
   ]
  },
  {
   "cell_type": "code",
   "execution_count": 2,
   "metadata": {},
   "outputs": [],
   "source": [
    "USER_GENERATED_INPUT = {\n",
    "    'General Description': 'The data in my .csv file contains information about financial loans made to businesses.',\n",
    "    'BorrowerName': 'BorrowerName contains the name of the Business that applied for the loan.',\n",
    "    'BusinessType': 'BusinessType contains the type of business (i.e., Corp, Partnership, LLC, etc.)',\n",
    "    'LoanNumber': 'LoanNumber contains the unique identifier for the loan.',\n",
    "    'CurrentApprovalAmount': 'CurrentApprovalAmount contains the financial amount of the loan.',\n",
    "    'JobsReported': 'JobsReported contains the number of jobs the loan supports.',\n",
    "    'ProjectState': 'ProjectState contains the state where the funds will be used.',\n",
    "    'OriginatingLender': 'OriginatingLender contains the lender that originated the loan.',\n",
    "    'UTILITIES_PROCEED': 'UTILITIES_PROCEED contains the amount of the loan the borrower said they will use to pay utilities.',\n",
    "    'PAYROLL_PROCEED': 'PAYROLL_PROCEED contains the amount of the loan the borrower said they will use for payroll.',\n",
    "    'MORTGAGE_INTEREST_PROCEED': 'MORTGAGE_INTEREST_PROCEED contains the amount of the loan the borrower said they will use to pay mortgage interest.',\n",
    "    'RENT_PROCEED': 'RENT_PROCEED contains the amount of the loan the borrower said they will use to pay rent.',\n",
    "    'REFINANCE_EIDL_PROCEED': 'REFINANCE_EIDL_PROCEED contains the amount of the loan the borrower said they will use to refinance an existing loan.',\n",
    "    'HEALTH_CARE_PROCEED': 'HEALTH_CARE_PROCEED contains the amount of the loan the borrower said they will use to pay employee health care.',\n",
    "    'DEBT_INTEREST_PROCEED': 'DEBT_INTEREST_PROCEED contains the amount of the loan the borrower said they will use to pay debt interest.'\n",
    "}"
   ]
  },
  {
   "cell_type": "code",
   "execution_count": 3,
   "metadata": {},
   "outputs": [],
   "source": [
    "data = pd.read_csv(\"data/csv/ppp_loan_data.csv\")"
   ]
  },
  {
   "cell_type": "markdown",
   "metadata": {},
   "source": [
    "## Initialize LLM"
   ]
  },
  {
   "cell_type": "code",
   "execution_count": 4,
   "metadata": {},
   "outputs": [],
   "source": [
    "llm = LLM()"
   ]
  },
  {
   "cell_type": "code",
   "execution_count": 5,
   "metadata": {},
   "outputs": [],
   "source": [
    "summarizer = Summarizer(llm=llm, user_input=USER_GENERATED_INPUT, data=data)"
   ]
  },
  {
   "cell_type": "code",
   "execution_count": 6,
   "metadata": {},
   "outputs": [
    {
     "name": "stdout",
     "output_type": "stream",
     "text": [
      "Based on the provided information, here are some preliminary observations about your data:\n",
      "\n",
      "1. **Data Size and Completeness**: The dataset is quite large with 968,525 entries and 14 features. However, there are missing values in several columns that need to be addressed. The columns with the most missing values are `UTILITIES_PROCEED`, `MORTGAGE_INTEREST_PROCEED`, `RENT_PROCEED`, `REFINANCE_EIDL_PROCEED`, `HEALTH_CARE_PROCEED`, and `DEBT_INTEREST_PROCEED`. These missing values could potentially skew any analysis and should be handled appropriately.\n",
      "\n",
      "2. **Data Types**: The dataset contains a mix of numerical (float64 and int64) and categorical (object) data types. The numerical data are mostly amounts related to the loan and its intended use, while the categorical data represent the borrower's name, business type, project state, and originating lender.\n",
      "\n",
      "3. **Unique Identifiers**: The `LoanNumber` column appears to be a unique identifier for each loan, as it has no missing values and its distribution suggests a wide range of unique values.\n",
      "\n",
      "4. **Key Features**: The most important features in this dataset are likely to be `LoanNumber`, `CurrentApprovalAmount`, `JobsReported`, and the various `PROCEED` columns. These columns contain the core information about each loan: its unique identifier, the approved amount, the number of jobs it supports, and how the loan will be used.\n",
      "\n",
      "5. **Categorical Variables**: The `BorrowerName`, `BusinessType`, `ProjectState`, and `OriginatingLender` columns are categorical variables that provide context about the loan. The `BusinessType` and `ProjectState` columns have a relatively small number of unique values (25 and 56, respectively), while the `BorrowerName` and `OriginatingLender` columns have a much larger number of unique values (857,334 and 4,236, respectively).\n",
      "\n",
      "6. **Distribution of Values**: The distributions of the numerical variables show a wide range of values, with some variables like `CurrentApprovalAmount` and `JobsReported` having a relatively high standard deviation. This suggests a high level of variability in the loan amounts and the number of jobs they support.\n",
      "\n",
      "7. **Top Categories**: The most common business type is 'Corporation', the most common project state is 'CA', and the most common originating lender is 'JPMorgan Chase Bank, National Association'. This information could be useful for understanding the typical borrowers and lenders in your dataset.\n",
      "\n",
      "In the next step, we can delve deeper into the relationships between these features and how they might inform the creation of a Neo4j graph data model.\n"
     ]
    }
   ],
   "source": [
    "discovery = summarizer.run_discovery()\n",
    "print(discovery)"
   ]
  },
  {
   "cell_type": "code",
   "execution_count": 7,
   "metadata": {},
   "outputs": [
    {
     "name": "stdout",
     "output_type": "stream",
     "text": [
      "Validating response...\n",
      "```json\n",
      "{\n",
      "    \"Nodes\": [\n",
      "        {\n",
      "            \"Label\": \"Loan\",\n",
      "            \"Properties\": [\"LoanNumber\", \"CurrentApprovalAmount\", \"JobsReported\", \"UTILITIES_PROCEED\", \"MORTGAGE_INTEREST_PROCEED\", \"RENT_PROCEED\", \"REFINANCE_EIDL_PROCEED\", \"HEALTH_CARE_PROCEED\", \"DEBT_INTEREST_PROCEED\"],\n",
      "            \"Unique Constraints\": [\"LoanNumber\"],\n",
      "            \"Reasoning\": \"The 'Loan' node represents each unique loan in the dataset. The properties are all the features related to the loan itself. The 'LoanNumber' is a unique identifier for each loan, so it is used as a unique constraint.\"\n",
      "        },\n",
      "        {\n",
      "            \"Label\": \"Borrower\",\n",
      "            \"Properties\": [\"BorrowerName\", \"BusinessType\"],\n",
      "            \"Unique Constraints\": [\"BorrowerName\"],\n",
      "            \"Reasoning\": \"The 'Borrower' node represents each unique borrower in the dataset. The properties are all the features related to the borrower. The 'BorrowerName' is a unique identifier for each borrower, so it is used as a unique constraint.\"\n",
      "        },\n",
      "        {\n",
      "            \"Label\": \"Lender\",\n",
      "            \"Properties\": [\"OriginatingLender\"],\n",
      "            \"Unique Constraints\": [\"OriginatingLender\"],\n",
      "            \"Reasoning\": \"The 'Lender' node represents each unique lender in the dataset. The 'OriginatingLender' is a unique identifier for each lender, so it is used as a unique constraint.\"\n",
      "        },\n",
      "        {\n",
      "            \"Label\": \"Project\",\n",
      "            \"Properties\": [\"ProjectState\"],\n",
      "            \"Unique Constraints\": [],\n",
      "            \"Reasoning\": \"The 'Project' node represents the state where the project is located. There are no unique constraints as multiple loans can be associated with the same project state.\"\n",
      "        }\n",
      "    ],\n",
      "    \"Relationships\": [\n",
      "        {\n",
      "            \"Type\": \"BORROWED\",\n",
      "            \"Properties\": [],\n",
      "            \"Unique Constraints\": [],\n",
      "            \"From\": \"Borrower\",\n",
      "            \"To\": \"Loan\",\n",
      "            \"Reasoning\": \"The 'BORROWED' relationship represents the action of a borrower taking out a loan. There are no properties or unique constraints on this relationship.\"\n",
      "        },\n",
      "        {\n",
      "            \"Type\": \"LENT\",\n",
      "            \"Properties\": [],\n",
      "            \"Unique Constraints\": [],\n",
      "            \"From\": \"Lender\",\n",
      "            \"To\": \"Loan\",\n",
      "            \"Reasoning\": \"The 'LENT' relationship represents the action of a lender providing a loan. There are no properties or unique constraints on this relationship.\"\n",
      "        },\n",
      "        {\n",
      "            \"Type\": \"LOCATED_IN\",\n",
      "            \"Properties\": [],\n",
      "            \"Unique Constraints\": [],\n",
      "            \"From\": \"Loan\",\n",
      "            \"To\": \"Project\",\n",
      "            \"Reasoning\": \"The 'LOCATED_IN' relationship represents the location of the project associated with a loan. There are no properties or unique constraints on this relationship.\"\n",
      "        }\n",
      "    ]\n",
      "}\n",
      "```\n",
      "\n",
      "This data model captures the key entities in your dataset (loans, borrowers, lenders, and projects) and the relationships between them. It allows for complex queries about the loans, such as finding all loans associated with a particular borrower or lender, or finding all loans associated with projects in a particular state. The properties on each node provide additional information about the entity, and the unique constraints ensure that each entity is represented only once in the graph.\n"
     ]
    }
   ],
   "source": [
    "initial_model = summarizer.create_initial_model()\n",
    "print(initial_model)"
   ]
  },
  {
   "cell_type": "code",
   "execution_count": 9,
   "metadata": {},
   "outputs": [
    {
     "data": {
      "text/plain": [
       "{'Nodes': [{'Label': 'Loan',\n",
       "   'Properties': ['LoanNumber',\n",
       "    'CurrentApprovalAmount',\n",
       "    'JobsReported',\n",
       "    'UTILITIES_PROCEED',\n",
       "    'MORTGAGE_INTEREST_PROCEED',\n",
       "    'RENT_PROCEED',\n",
       "    'REFINANCE_EIDL_PROCEED',\n",
       "    'HEALTH_CARE_PROCEED',\n",
       "    'DEBT_INTEREST_PROCEED'],\n",
       "   'Unique Constraints': ['LoanNumber'],\n",
       "   'Reasoning': \"The 'Loan' node represents each unique loan in the dataset. The properties are all the features related to the loan itself. The 'LoanNumber' is a unique identifier for each loan, so it is used as a unique constraint.\"},\n",
       "  {'Label': 'Borrower',\n",
       "   'Properties': ['BorrowerName', 'BusinessType'],\n",
       "   'Unique Constraints': ['BorrowerName'],\n",
       "   'Reasoning': \"The 'Borrower' node represents each unique borrower in the dataset. The properties are all the features related to the borrower. The 'BorrowerName' is a unique identifier for each borrower, so it is used as a unique constraint.\"},\n",
       "  {'Label': 'Lender',\n",
       "   'Properties': ['OriginatingLender'],\n",
       "   'Unique Constraints': ['OriginatingLender'],\n",
       "   'Reasoning': \"The 'Lender' node represents each unique lender in the dataset. The 'OriginatingLender' is a unique identifier for each lender, so it is used as a unique constraint.\"},\n",
       "  {'Label': 'Project',\n",
       "   'Properties': ['ProjectState'],\n",
       "   'Unique Constraints': [],\n",
       "   'Reasoning': \"The 'Project' node represents the state where the project is located. There are no unique constraints as multiple loans can be associated with the same project state.\"}],\n",
       " 'Relationships': [{'Type': 'BORROWED',\n",
       "   'Properties': [],\n",
       "   'Unique Constraints': [],\n",
       "   'From': 'Borrower',\n",
       "   'To': 'Loan',\n",
       "   'Reasoning': \"The 'BORROWED' relationship represents the action of a borrower taking out a loan. There are no properties or unique constraints on this relationship.\"},\n",
       "  {'Type': 'LENT',\n",
       "   'Properties': [],\n",
       "   'Unique Constraints': [],\n",
       "   'From': 'Lender',\n",
       "   'To': 'Loan',\n",
       "   'Reasoning': \"The 'LENT' relationship represents the action of a lender providing a loan. There are no properties or unique constraints on this relationship.\"},\n",
       "  {'Type': 'LOCATED_IN',\n",
       "   'Properties': [],\n",
       "   'Unique Constraints': [],\n",
       "   'From': 'Loan',\n",
       "   'To': 'Project',\n",
       "   'Reasoning': \"The 'LOCATED_IN' relationship represents the location of the project associated with a loan. There are no properties or unique constraints on this relationship.\"}]}"
      ]
     },
     "execution_count": 9,
     "metadata": {},
     "output_type": "execute_result"
    }
   ],
   "source": [
    "summarizer.current_model"
   ]
  },
  {
   "cell_type": "code",
   "execution_count": 10,
   "metadata": {},
   "outputs": [
    {
     "name": "stdout",
     "output_type": "stream",
     "text": [
      "Validating response...\n"
     ]
    },
    {
     "data": {
      "text/plain": [
       "'```json\\n{\\n    \"Nodes\": [\\n        {\\n            \"Label\": \"Loan\",\\n            \"Properties\": [\"LoanNumber\", \"CurrentApprovalAmount\", \"JobsReported\", \"UTILITIES_PROCEED\", \"MORTGAGE_INTEREST_PROCEED\", \"RENT_PROCEED\", \"REFINANCE_EIDL_PROCEED\", \"HEALTH_CARE_PROCEED\", \"DEBT_INTEREST_PROCEED\"],\\n            \"Unique Constraints\": [\"LoanNumber\"],\\n            \"Reasoning\": \"The \\'Loan\\' node represents each unique loan in the dataset. The properties are all the features related to the loan itself. The \\'LoanNumber\\' is a unique identifier for each loan, so it is used as a unique constraint.\"\\n        },\\n        {\\n            \"Label\": \"Borrower\",\\n            \"Properties\": [\"BorrowerName\", \"BusinessType\"],\\n            \"Unique Constraints\": [\"BorrowerName\"],\\n            \"Reasoning\": \"The \\'Borrower\\' node represents each unique borrower in the dataset. The properties are all the features related to the borrower. The \\'BorrowerName\\' is a unique identifier for each borrower, so it is used as a unique constraint.\"\\n        },\\n        {\\n            \"Label\": \"Lender\",\\n            \"Properties\": [\"OriginatingLender\"],\\n            \"Unique Constraints\": [\"OriginatingLender\"],\\n            \"Reasoning\": \"The \\'Lender\\' node represents each unique lender in the dataset. The \\'OriginatingLender\\' is a unique identifier for each lender, so it is used as a unique constraint.\"\\n        },\\n        {\\n            \"Label\": \"Project\",\\n            \"Properties\": [\"ProjectState\"],\\n            \"Unique Constraints\": [],\\n            \"Reasoning\": \"The \\'Project\\' node represents the state where the project is located. There are no unique constraints as multiple loans can be associated with the same project state.\"\\n        },\\n        {\\n            \"Label\": \"Proceed\",\\n            \"Properties\": [\"UTILITIES_PROCEED\", \"MORTGAGE_INTEREST_PROCEED\", \"RENT_PROCEED\", \"REFINANCE_EIDL_PROCEED\", \"HEALTH_CARE_PROCEED\", \"DEBT_INTEREST_PROCEED\"],\\n            \"Unique Constraints\": [],\\n            \"Reasoning\": \"The \\'Proceed\\' node represents the different types of proceeds that a loan can have. These are not unique to a loan, so there are no unique constraints. This node is separated from the \\'Loan\\' node to avoid overloading the \\'Loan\\' node with properties and to allow for more flexible queries about the types of proceeds.\"\\n        }\\n    ],\\n    \"Relationships\": [\\n        {\\n            \"Type\": \"BORROWED\",\\n            \"Properties\": [],\\n            \"Unique Constraints\": [],\\n            \"From\": \"Borrower\",\\n            \"To\": \"Loan\",\\n            \"Reasoning\": \"The \\'BORROWED\\' relationship represents the action of a borrower taking out a loan. There are no properties or unique constraints on this relationship.\"\\n        },\\n        {\\n            \"Type\": \"LENT\",\\n            \"Properties\": [],\\n            \"Unique Constraints\": [],\\n            \"From\": \"Lender\",\\n            \"To\": \"Loan\",\\n            \"Reasoning\": \"The \\'LENT\\' relationship represents the action of a lender providing a loan. There are no properties or unique constraints on this relationship.\"\\n        },\\n        {\\n            \"Type\": \"LOCATED_IN\",\\n            \"Properties\": [],\\n            \"Unique Constraints\": [],\\n            \"From\": \"Loan\",\\n            \"To\": \"Project\",\\n            \"Reasoning\": \"The \\'LOCATED_IN\\' relationship represents the location of the project associated with a loan. There are no properties or unique constraints on this relationship.\"\\n        },\\n        {\\n            \"Type\": \"HAS_PROCEED\",\\n            \"Properties\": [],\\n            \"Unique Constraints\": [],\\n            \"From\": \"Loan\",\\n            \"To\": \"Proceed\",\\n            \"Reasoning\": \"The \\'HAS_PROCEED\\' relationship represents the association of a loan with its proceeds. There are no properties or unique constraints on this relationship.\"\\n        }\\n    ]\\n}\\n```\\n\\nIn this updated model, I have added a new \\'Proceed\\' node to represent the different types of proceeds that a loan can have. This node is separated from the \\'Loan\\' node to avoid overloading the \\'Loan\\' node with properties and to allow for more flexible queries about the types of proceeds. A new \\'HAS_PROCEED\\' relationship is also added to represent the association of a loan with its proceeds.'"
      ]
     },
     "execution_count": 10,
     "metadata": {},
     "output_type": "execute_result"
    }
   ],
   "source": [
    "summarizer.iterate_model(iterations=1)"
   ]
  },
  {
   "cell_type": "code",
   "execution_count": 11,
   "metadata": {},
   "outputs": [
    {
     "data": {
      "text/plain": [
       "{'Nodes': [{'Label': 'Loan',\n",
       "   'Properties': ['LoanNumber',\n",
       "    'CurrentApprovalAmount',\n",
       "    'JobsReported',\n",
       "    'UTILITIES_PROCEED',\n",
       "    'MORTGAGE_INTEREST_PROCEED',\n",
       "    'RENT_PROCEED',\n",
       "    'REFINANCE_EIDL_PROCEED',\n",
       "    'HEALTH_CARE_PROCEED',\n",
       "    'DEBT_INTEREST_PROCEED'],\n",
       "   'Unique Constraints': ['LoanNumber'],\n",
       "   'Reasoning': \"The 'Loan' node represents each unique loan in the dataset. The properties are all the features related to the loan itself. The 'LoanNumber' is a unique identifier for each loan, so it is used as a unique constraint.\"},\n",
       "  {'Label': 'Borrower',\n",
       "   'Properties': ['BorrowerName', 'BusinessType'],\n",
       "   'Unique Constraints': ['BorrowerName'],\n",
       "   'Reasoning': \"The 'Borrower' node represents each unique borrower in the dataset. The properties are all the features related to the borrower. The 'BorrowerName' is a unique identifier for each borrower, so it is used as a unique constraint.\"},\n",
       "  {'Label': 'Lender',\n",
       "   'Properties': ['OriginatingLender'],\n",
       "   'Unique Constraints': ['OriginatingLender'],\n",
       "   'Reasoning': \"The 'Lender' node represents each unique lender in the dataset. The 'OriginatingLender' is a unique identifier for each lender, so it is used as a unique constraint.\"},\n",
       "  {'Label': 'Project',\n",
       "   'Properties': ['ProjectState'],\n",
       "   'Unique Constraints': [],\n",
       "   'Reasoning': \"The 'Project' node represents the state where the project is located. There are no unique constraints as multiple loans can be associated with the same project state.\"},\n",
       "  {'Label': 'Proceed',\n",
       "   'Properties': ['UTILITIES_PROCEED',\n",
       "    'MORTGAGE_INTEREST_PROCEED',\n",
       "    'RENT_PROCEED',\n",
       "    'REFINANCE_EIDL_PROCEED',\n",
       "    'HEALTH_CARE_PROCEED',\n",
       "    'DEBT_INTEREST_PROCEED'],\n",
       "   'Unique Constraints': [],\n",
       "   'Reasoning': \"The 'Proceed' node represents the different types of proceeds that a loan can have. These are not unique to a loan, so there are no unique constraints. This node is separated from the 'Loan' node to avoid overloading the 'Loan' node with properties and to allow for more flexible queries about the types of proceeds.\"}],\n",
       " 'Relationships': [{'Type': 'BORROWED',\n",
       "   'Properties': [],\n",
       "   'Unique Constraints': [],\n",
       "   'From': 'Borrower',\n",
       "   'To': 'Loan',\n",
       "   'Reasoning': \"The 'BORROWED' relationship represents the action of a borrower taking out a loan. There are no properties or unique constraints on this relationship.\"},\n",
       "  {'Type': 'LENT',\n",
       "   'Properties': [],\n",
       "   'Unique Constraints': [],\n",
       "   'From': 'Lender',\n",
       "   'To': 'Loan',\n",
       "   'Reasoning': \"The 'LENT' relationship represents the action of a lender providing a loan. There are no properties or unique constraints on this relationship.\"},\n",
       "  {'Type': 'LOCATED_IN',\n",
       "   'Properties': [],\n",
       "   'Unique Constraints': [],\n",
       "   'From': 'Loan',\n",
       "   'To': 'Project',\n",
       "   'Reasoning': \"The 'LOCATED_IN' relationship represents the location of the project associated with a loan. There are no properties or unique constraints on this relationship.\"},\n",
       "  {'Type': 'HAS_PROCEED',\n",
       "   'Properties': [],\n",
       "   'Unique Constraints': [],\n",
       "   'From': 'Loan',\n",
       "   'To': 'Proceed',\n",
       "   'Reasoning': \"The 'HAS_PROCEED' relationship represents the association of a loan with its proceeds. There are no properties or unique constraints on this relationship.\"}]}"
      ]
     },
     "execution_count": 11,
     "metadata": {},
     "output_type": "execute_result"
    }
   ],
   "source": [
    "summarizer.current_model"
   ]
  },
  {
   "cell_type": "code",
   "execution_count": null,
   "metadata": {},
   "outputs": [],
   "source": []
  }
 ],
 "metadata": {
  "kernelspec": {
   "display_name": "venv",
   "language": "python",
   "name": "python3"
  },
  "language_info": {
   "codemirror_mode": {
    "name": "ipython",
    "version": 3
   },
   "file_extension": ".py",
   "mimetype": "text/x-python",
   "name": "python",
   "nbconvert_exporter": "python",
   "pygments_lexer": "ipython3",
   "version": "3.11.3"
  }
 },
 "nbformat": 4,
 "nbformat_minor": 2
}
