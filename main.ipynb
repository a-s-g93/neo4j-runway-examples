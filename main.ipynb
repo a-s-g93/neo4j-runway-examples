{
 "cells": [
  {
   "cell_type": "markdown",
   "metadata": {},
   "source": [
    "# Runway Notebook"
   ]
  },
  {
   "cell_type": "markdown",
   "metadata": {},
   "source": [
    "This application takes a CSV file and some optional data descriptions as input and produces the following:\n",
    "- Discovery on your data\n",
    "- Graph data model in json format\n",
    "- Ingestion code in the following formats: \n",
    "  - PyIngest yaml file\n",
    "  - load_csv cypher file\n",
    "  - constraints cypher file\n",
    "- Database size estimation\n",
    "- Automatic data loading service if Neo4j credentials are provided\n",
    "\n",
    "A free Neo4j Aura database can be created here: https://console.neo4j.io/"
   ]
  },
  {
   "cell_type": "code",
   "execution_count": 1,
   "metadata": {},
   "outputs": [],
   "source": [
    "import os\n",
    "\n",
    "import json\n",
    "import pandas as pd\n",
    "import regex as re\n",
    "\n",
    "from summarizer.summarizer import Summarizer\n",
    "from llm.llm import LLM\n",
    "from ingestion.generate_ingest import IngestionGenerator\n",
    "from pyingest.pyingest import PyIngest"
   ]
  },
  {
   "cell_type": "markdown",
   "metadata": {},
   "source": [
    "## Gather CSV Information"
   ]
  },
  {
   "cell_type": "code",
   "execution_count": 2,
   "metadata": {},
   "outputs": [],
   "source": [
    "file_name = \"ppp_loan_data_demo.csv\"\n",
    "csv_file_dir = \"data/csv/\"\n",
    "data = pd.read_csv(csv_file_dir+file_name)"
   ]
  },
  {
   "cell_type": "markdown",
   "metadata": {},
   "source": [
    "Here are the column options"
   ]
  },
  {
   "cell_type": "code",
   "execution_count": 3,
   "metadata": {},
   "outputs": [
    {
     "name": "stdout",
     "output_type": "stream",
     "text": [
      "'Unnamed: 0.1', 'Unnamed: 0', 'LoanNumber', 'DateApproved'\n",
      "'SBAOfficeCode', 'ProcessingMethod', 'BorrowerName', 'BorrowerAddress'\n",
      "'BorrowerCity', 'BorrowerState', 'BorrowerZip', 'LoanStatusDate'\n",
      "'LoanStatus', 'Term', 'SBAGuarantyPercentage', 'InitialApprovalAmount'\n",
      "'CurrentApprovalAmount', 'UndisbursedAmount', 'FranchiseName', 'ServicingLenderLocationID'\n",
      "'ServicingLenderName', 'ServicingLenderAddress', 'ServicingLenderCity', 'ServicingLenderState'\n",
      "'ServicingLenderZip', 'RuralUrbanIndicator', 'HubzoneIndicator', 'LMIIndicator'\n",
      "'BusinessAgeDescription', 'ProjectCity', 'ProjectCountyName', 'ProjectState'\n",
      "'ProjectZip', 'CD', 'JobsReported', 'NAICSCode'\n",
      "'Race', 'Ethnicity', 'UTILITIES_PROCEED', 'PAYROLL_PROCEED'\n",
      "'MORTGAGE_INTEREST_PROCEED', 'RENT_PROCEED', 'REFINANCE_EIDL_PROCEED', 'HEALTH_CARE_PROCEED'\n",
      "'DEBT_INTEREST_PROCEED', 'BusinessType', 'OriginatingLenderLocationID', 'OriginatingLender'\n",
      "'OriginatingLenderCity', 'OriginatingLenderState', 'Gender', 'Veteran'\n",
      "'NonProfit', 'ForgivenessAmount', 'ForgivenessDate'\n"
     ]
    }
   ],
   "source": [
    "columns = list(data.columns)\n",
    "for i in range(0, len(columns), 4):\n",
    "    print(str(columns[i:i+4])[1:-1])"
   ]
  },
  {
   "cell_type": "markdown",
   "metadata": {},
   "source": [
    "The application requires desired columns from the user. The user may optionally include a description of each desired column as well as a general description of the data. If no description is provided, then the value must be an empty string.\n",
    "\n",
    "Column names must be an exact match to what is present in the csv file."
   ]
  },
  {
   "cell_type": "code",
   "execution_count": 4,
   "metadata": {},
   "outputs": [],
   "source": [
    "general_description = 'The data in my .csv file contains information about financial loans made to businesses.'\n",
    "\n",
    "USER_GENERATED_INPUT = {\n",
    "    'General Description': general_description,\n",
    "    'BorrowerName': 'BorrowerName contains the name of the Business that applied for the loan.',\n",
    "    'BusinessType': 'BusinessType contains the type of business (i.e., Corp, Partnership, LLC, etc.)',\n",
    "    'LoanNumber': 'LoanNumber contains the unique identifier for the loan.',\n",
    "    'CurrentApprovalAmount': 'CurrentApprovalAmount contains the financial amount of the loan.',\n",
    "    'JobsReported': 'JobsReported contains the number of jobs the loan supports.',\n",
    "    'ProjectState': 'ProjectState contains the state where the funds will be used.',\n",
    "    'OriginatingLender': 'OriginatingLender contains the lender that originated the loan.',\n",
    "    'UTILITIES_PROCEED': 'UTILITIES_PROCEED contains the amount of the loan the borrower said they will use to pay utilities.',\n",
    "    'PAYROLL_PROCEED': 'PAYROLL_PROCEED contains the amount of the loan the borrower said they will use for payroll.',\n",
    "    'MORTGAGE_INTEREST_PROCEED': 'MORTGAGE_INTEREST_PROCEED contains the amount of the loan the borrower said they will use to pay mortgage interest.',\n",
    "    'RENT_PROCEED': 'RENT_PROCEED contains the amount of the loan the borrower said they will use to pay rent.',\n",
    "    'REFINANCE_EIDL_PROCEED': 'REFINANCE_EIDL_PROCEED contains the amount of the loan the borrower said they will use to refinance an existing loan.',\n",
    "    'HEALTH_CARE_PROCEED': 'HEALTH_CARE_PROCEED contains the amount of the loan the borrower said they will use to pay employee health care.',\n",
    "    'DEBT_INTEREST_PROCEED': 'DEBT_INTEREST_PROCEED contains the amount of the loan the borrower said they will use to pay debt interest.'\n",
    "}"
   ]
  },
  {
   "cell_type": "markdown",
   "metadata": {},
   "source": [
    "## Initialize LLM & Summarizer"
   ]
  },
  {
   "cell_type": "markdown",
   "metadata": {},
   "source": [
    "Provide your own OpenAI key here or alternatively set it to the environment variable OPENAI_API_KEY."
   ]
  },
  {
   "cell_type": "code",
   "execution_count": 5,
   "metadata": {},
   "outputs": [],
   "source": [
    "llm = LLM(open_ai_key=None)"
   ]
  },
  {
   "cell_type": "code",
   "execution_count": 6,
   "metadata": {},
   "outputs": [],
   "source": [
    "summarizer = Summarizer(llm=llm, user_input=USER_GENERATED_INPUT, data=data)"
   ]
  },
  {
   "cell_type": "markdown",
   "metadata": {},
   "source": [
    "## Discovery"
   ]
  },
  {
   "cell_type": "code",
   "execution_count": 7,
   "metadata": {},
   "outputs": [
    {
     "name": "stdout",
     "output_type": "stream",
     "text": [
      "Based on the provided information about the financial loans data, here are some key points from the preliminary analysis:\n",
      "\n",
      "1. **Data Overview**:\n",
      "   - The dataset contains 100 entries and 14 columns.\n",
      "   - There are missing values in columns like BusinessType, ProjectState, and various PROCEED columns.\n",
      "\n",
      "2. **Important Features**:\n",
      "   - **LoanNumber**: Unique identifier for each loan, providing a key for linking data.\n",
      "   - **CurrentApprovalAmount**: Financial amount of the loan, crucial for understanding the loan sizes.\n",
      "   - **JobsReported**: Number of jobs supported by each loan, indicating the impact of the loans.\n",
      "   - **BusinessType**: Categorization of businesses, which can provide insights into the types of borrowers.\n",
      "   - **ProjectState**: Information about the location where the funds will be used.\n",
      "   - **OriginatingLender**: Lender information, which could be important for analyzing lending patterns.\n",
      "\n",
      "3. **Data Distributions**:\n",
      "   - **LoanNumber** ranges from 1.198817e+09 to 9.794578e+09.\n",
      "   - **CurrentApprovalAmount** varies from 1.550100e+05 to 9.538531e+06.\n",
      "   - **JobsReported** range from 10 to 500 jobs supported by each loan.\n",
      "   - **UTILITIES_PROCEED** and **PAYROLL_PROCEED** have varying distributions, indicating different loan usage patterns.\n",
      "   - **BusinessType** and **ProjectState** have limited unique values, suggesting some level of categorization.\n",
      "\n",
      "4. **Missing Values**:\n",
      "   - Columns like **UTILITIES_PROCEED**, **RENT_PROCEED**, **REFINANCE_EIDL_PROCEED**, **HEALTH_CARE_PROCEED**, and **DEBT_INTEREST_PROCEED** have a significant number of missing values, which might need to be addressed during data preprocessing.\n",
      "\n",
      "5. **Potential Insights**:\n",
      "   - Understanding the relationship between loan amounts, business types, and job creation.\n",
      "   - Analyzing the distribution of loans across different states and lenders.\n",
      "   - Investigating the utilization of loan proceeds for different purposes.\n",
      "\n",
      "Overall, the dataset provides valuable information about financial loans to businesses, with key features like loan details, borrower information, and intended use of funds. Further analysis and modeling can uncover more insights into lending patterns and business support.\n"
     ]
    }
   ],
   "source": [
    "discovery = summarizer.run_discovery()\n",
    "print(discovery)"
   ]
  },
  {
   "cell_type": "markdown",
   "metadata": {},
   "source": [
    "## Generate the Initial Model"
   ]
  },
  {
   "cell_type": "markdown",
   "metadata": {},
   "source": [
    "We make two calls to the LLM to generate the initial model. The first call returns a model, though this first model can almost always be improved upon. We therefor call again to receive a - hopefully - better model."
   ]
  },
  {
   "cell_type": "code",
   "execution_count": 8,
   "metadata": {},
   "outputs": [
    {
     "name": "stdout",
     "output_type": "stream",
     "text": [
      "retry message: \n",
      " \n",
      "                    Fix the errors in following data model and return a corrected version. Do not return the same data model.\n",
      "                    Data Model:\n",
      "                    {'nodes': [{'label': 'Borrower', 'properties': ['BorrowerName'], 'unique_constraints': ['BorrowerName']}, {'label': 'Business', 'properties': ['BusinessType'], 'unique_constraints': ['BusinessType']}, {'label': 'Loan', 'properties': ['LoanNumber', 'CurrentApprovalAmount', 'JobsReported'], 'unique_constraints': []}, {'label': 'State', 'properties': ['ProjectState'], 'unique_constraints': ['ProjectState']}, {'label': 'Lender', 'properties': ['OriginatingLender'], 'unique_constraints': ['OriginatingLender']}, {'label': 'LoanProceed', 'properties': ['UTILITIES_PROCEED', 'PAYROLL_PROCEED', 'MORTGAGE_INTEREST_PROCEED', 'RENT_PROCEED', 'REFINANCE_EIDL_PROCEED', 'HEALTH_CARE_PROCEED', 'DEBT_INTEREST_PROCEED'], 'unique_constraints': []}], 'relationships': [{'type': 'HAS_LOAN', 'properties': [], 'unique_constraints': [], 'source': 'Borrower', 'target': 'Loan'}, {'type': 'BELONGS_TO', 'properties': [], 'unique_constraints': [], 'source': 'Borrower', 'target': 'Business'}, {'type': 'LOCATED_IN', 'properties': [], 'unique_constraints': [], 'source': 'Borrower', 'target': 'State'}, {'type': 'ORIGINATED_BY', 'properties': [], 'unique_constraints': [], 'source': 'Loan', 'target': 'Lender'}, {'type': 'SUPPORTS', 'properties': [], 'unique_constraints': [], 'source': 'Loan', 'target': 'JobsReported'}, {'type': 'USES_PROCEED', 'properties': [], 'unique_constraints': [], 'source': 'Loan', 'target': 'LoanProceed'}]}\n",
      "                    Errors:\n",
      "                    ['The relationship SUPPORTS has the target JobsReported which does not exist in generated Node labels.']\n",
      "                    Column Options:\n",
      "                    ['BorrowerName', 'BusinessType', 'LoanNumber', 'CurrentApprovalAmount', 'JobsReported', 'ProjectState', 'OriginatingLender', 'UTILITIES_PROCEED', 'PAYROLL_PROCEED', 'MORTGAGE_INTEREST_PROCEED', 'RENT_PROCEED', 'REFINANCE_EIDL_PROCEED', 'HEALTH_CARE_PROCEED', 'DEBT_INTEREST_PROCEED']\n",
      "                    \n",
      "validation failed\n",
      "recieved a valid response\n"
     ]
    },
    {
     "data": {
      "image/svg+xml": [
       "<?xml version=\"1.0\" encoding=\"UTF-8\" standalone=\"no\"?>\n",
       "<!DOCTYPE svg PUBLIC \"-//W3C//DTD SVG 1.1//EN\"\n",
       " \"http://www.w3.org/Graphics/SVG/1.1/DTD/svg11.dtd\">\n",
       "<!-- Generated by graphviz version 10.0.1 (20240210.2158)\n",
       " -->\n",
       "<!-- Pages: 1 -->\n",
       "<svg width=\"658pt\" height=\"612pt\"\n",
       " viewBox=\"0.00 0.00 657.70 611.51\" xmlns=\"http://www.w3.org/2000/svg\" xmlns:xlink=\"http://www.w3.org/1999/xlink\">\n",
       "<g id=\"graph0\" class=\"graph\" transform=\"scale(1 1) rotate(0) translate(4 607.51)\">\n",
       "<polygon fill=\"white\" stroke=\"none\" points=\"-4,4 -4,-607.51 653.7,-607.51 653.7,4 -4,4\"/>\n",
       "<!-- Borrower -->\n",
       "<g id=\"node1\" class=\"node\">\n",
       "<title>Borrower</title>\n",
       "<ellipse fill=\"none\" stroke=\"black\" cx=\"332.06\" cy=\"-551.54\" rx=\"109.42\" ry=\"51.97\"/>\n",
       "<text text-anchor=\"middle\" x=\"332.06\" y=\"-570.99\" font-family=\"Times,serif\" font-size=\"14.00\">Borrower</text>\n",
       "<text text-anchor=\"middle\" x=\"332.06\" y=\"-538.49\" font-family=\"Times,serif\" font-size=\"14.00\">properties:</text>\n",
       "<text text-anchor=\"middle\" x=\"332.06\" y=\"-521.99\" font-family=\"Times,serif\" font-size=\"14.00\">BorrowerName *unique*</text>\n",
       "</g>\n",
       "<!-- Business -->\n",
       "<g id=\"node2\" class=\"node\">\n",
       "<title>Business</title>\n",
       "<ellipse fill=\"none\" stroke=\"black\" cx=\"103.06\" cy=\"-371.76\" rx=\"103.06\" ry=\"51.97\"/>\n",
       "<text text-anchor=\"middle\" x=\"103.06\" y=\"-391.21\" font-family=\"Times,serif\" font-size=\"14.00\">Business</text>\n",
       "<text text-anchor=\"middle\" x=\"103.06\" y=\"-358.71\" font-family=\"Times,serif\" font-size=\"14.00\">properties:</text>\n",
       "<text text-anchor=\"middle\" x=\"103.06\" y=\"-342.21\" font-family=\"Times,serif\" font-size=\"14.00\">BusinessType *unique*</text>\n",
       "</g>\n",
       "<!-- Borrower&#45;&gt;Business -->\n",
       "<g id=\"edge2\" class=\"edge\">\n",
       "<title>Borrower&#45;&gt;Business</title>\n",
       "<path fill=\"none\" stroke=\"black\" d=\"M274.65,-507.29C263.48,-498.8 251.88,-489.93 241.06,-481.57 216.55,-462.62 189.78,-441.59 166.39,-423.1\"/>\n",
       "<polygon fill=\"black\" stroke=\"black\" points=\"168.81,-420.55 158.79,-417.09 164.46,-426.04 168.81,-420.55\"/>\n",
       "<text text-anchor=\"middle\" x=\"284.56\" y=\"-468.27\" font-family=\"Times,serif\" font-size=\"14.00\">BELONGS_TO</text>\n",
       "</g>\n",
       "<!-- Loan -->\n",
       "<g id=\"node3\" class=\"node\">\n",
       "<title>Loan</title>\n",
       "<ellipse fill=\"none\" stroke=\"black\" cx=\"332.06\" cy=\"-371.76\" rx=\"108.36\" ry=\"75.31\"/>\n",
       "<text text-anchor=\"middle\" x=\"332.06\" y=\"-407.71\" font-family=\"Times,serif\" font-size=\"14.00\">Loan</text>\n",
       "<text text-anchor=\"middle\" x=\"332.06\" y=\"-375.21\" font-family=\"Times,serif\" font-size=\"14.00\">properties:</text>\n",
       "<text text-anchor=\"middle\" x=\"332.06\" y=\"-358.71\" font-family=\"Times,serif\" font-size=\"14.00\">LoanNumber</text>\n",
       "<text text-anchor=\"middle\" x=\"332.06\" y=\"-342.21\" font-family=\"Times,serif\" font-size=\"14.00\">CurrentApprovalAmount</text>\n",
       "<text text-anchor=\"middle\" x=\"332.06\" y=\"-325.71\" font-family=\"Times,serif\" font-size=\"14.00\">JobsReported</text>\n",
       "</g>\n",
       "<!-- Borrower&#45;&gt;Loan -->\n",
       "<g id=\"edge1\" class=\"edge\">\n",
       "<title>Borrower&#45;&gt;Loan</title>\n",
       "<path fill=\"none\" stroke=\"black\" d=\"M332.06,-499.12C332.06,-486.54 332.06,-472.74 332.06,-459.02\"/>\n",
       "<polygon fill=\"black\" stroke=\"black\" points=\"335.56,-459.05 332.06,-449.05 328.56,-459.05 335.56,-459.05\"/>\n",
       "<text text-anchor=\"middle\" x=\"367.69\" y=\"-468.27\" font-family=\"Times,serif\" font-size=\"14.00\">HAS_LOAN</text>\n",
       "</g>\n",
       "<!-- State -->\n",
       "<g id=\"node4\" class=\"node\">\n",
       "<title>State</title>\n",
       "<ellipse fill=\"none\" stroke=\"black\" cx=\"554.06\" cy=\"-371.76\" rx=\"95.64\" ry=\"51.97\"/>\n",
       "<text text-anchor=\"middle\" x=\"554.06\" y=\"-391.21\" font-family=\"Times,serif\" font-size=\"14.00\">State</text>\n",
       "<text text-anchor=\"middle\" x=\"554.06\" y=\"-358.71\" font-family=\"Times,serif\" font-size=\"14.00\">properties:</text>\n",
       "<text text-anchor=\"middle\" x=\"554.06\" y=\"-342.21\" font-family=\"Times,serif\" font-size=\"14.00\">ProjectState *unique*</text>\n",
       "</g>\n",
       "<!-- Borrower&#45;&gt;State -->\n",
       "<g id=\"edge3\" class=\"edge\">\n",
       "<title>Borrower&#45;&gt;State</title>\n",
       "<path fill=\"none\" stroke=\"black\" d=\"M387.22,-506.36C419.17,-480.78 459.46,-448.52 492.44,-422.11\"/>\n",
       "<polygon fill=\"black\" stroke=\"black\" points=\"494.3,-425.1 499.91,-416.12 489.92,-419.64 494.3,-425.1\"/>\n",
       "<text text-anchor=\"middle\" x=\"478.31\" y=\"-468.27\" font-family=\"Times,serif\" font-size=\"14.00\">LOCATED_IN</text>\n",
       "</g>\n",
       "<!-- Lender -->\n",
       "<g id=\"node5\" class=\"node\">\n",
       "<title>Lender</title>\n",
       "<ellipse fill=\"none\" stroke=\"black\" cx=\"181.06\" cy=\"-121.98\" rx=\"120.56\" ry=\"51.97\"/>\n",
       "<text text-anchor=\"middle\" x=\"181.06\" y=\"-141.43\" font-family=\"Times,serif\" font-size=\"14.00\">Lender</text>\n",
       "<text text-anchor=\"middle\" x=\"181.06\" y=\"-108.93\" font-family=\"Times,serif\" font-size=\"14.00\">properties:</text>\n",
       "<text text-anchor=\"middle\" x=\"181.06\" y=\"-92.43\" font-family=\"Times,serif\" font-size=\"14.00\">OriginatingLender *unique*</text>\n",
       "</g>\n",
       "<!-- Loan&#45;&gt;Lender -->\n",
       "<g id=\"edge4\" class=\"edge\">\n",
       "<title>Loan&#45;&gt;Lender</title>\n",
       "<path fill=\"none\" stroke=\"black\" d=\"M290.2,-302.07C267.2,-264.33 238.98,-218.01 216.99,-181.93\"/>\n",
       "<polygon fill=\"black\" stroke=\"black\" points=\"220.23,-180.53 212.04,-173.81 214.26,-184.17 220.23,-180.53\"/>\n",
       "<text text-anchor=\"middle\" x=\"328.69\" y=\"-265.15\" font-family=\"Times,serif\" font-size=\"14.00\">ORIGINATED_BY</text>\n",
       "</g>\n",
       "<!-- LoanProceed -->\n",
       "<g id=\"node6\" class=\"node\">\n",
       "<title>LoanProceed</title>\n",
       "<ellipse fill=\"none\" stroke=\"black\" cx=\"484.06\" cy=\"-121.98\" rx=\"164.05\" ry=\"121.98\"/>\n",
       "<text text-anchor=\"middle\" x=\"484.06\" y=\"-190.93\" font-family=\"Times,serif\" font-size=\"14.00\">LoanProceed</text>\n",
       "<text text-anchor=\"middle\" x=\"484.06\" y=\"-158.43\" font-family=\"Times,serif\" font-size=\"14.00\">properties:</text>\n",
       "<text text-anchor=\"middle\" x=\"484.06\" y=\"-141.93\" font-family=\"Times,serif\" font-size=\"14.00\">UTILITIES_PROCEED</text>\n",
       "<text text-anchor=\"middle\" x=\"484.06\" y=\"-125.43\" font-family=\"Times,serif\" font-size=\"14.00\">PAYROLL_PROCEED</text>\n",
       "<text text-anchor=\"middle\" x=\"484.06\" y=\"-108.93\" font-family=\"Times,serif\" font-size=\"14.00\">MORTGAGE_INTEREST_PROCEED</text>\n",
       "<text text-anchor=\"middle\" x=\"484.06\" y=\"-92.43\" font-family=\"Times,serif\" font-size=\"14.00\">RENT_PROCEED</text>\n",
       "<text text-anchor=\"middle\" x=\"484.06\" y=\"-75.93\" font-family=\"Times,serif\" font-size=\"14.00\">REFINANCE_EIDL_PROCEED</text>\n",
       "<text text-anchor=\"middle\" x=\"484.06\" y=\"-59.43\" font-family=\"Times,serif\" font-size=\"14.00\">HEALTH_CARE_PROCEED</text>\n",
       "<text text-anchor=\"middle\" x=\"484.06\" y=\"-42.93\" font-family=\"Times,serif\" font-size=\"14.00\">DEBT_INTEREST_PROCEED</text>\n",
       "</g>\n",
       "<!-- Loan&#45;&gt;LoanProceed -->\n",
       "<g id=\"edge5\" class=\"edge\">\n",
       "<title>Loan&#45;&gt;LoanProceed</title>\n",
       "<path fill=\"none\" stroke=\"black\" d=\"M374.2,-302.07C385.5,-283.64 398.06,-263.17 410.53,-242.85\"/>\n",
       "<polygon fill=\"black\" stroke=\"black\" points=\"413.4,-244.86 415.65,-234.5 407.43,-241.2 413.4,-244.86\"/>\n",
       "<text text-anchor=\"middle\" x=\"445.69\" y=\"-265.15\" font-family=\"Times,serif\" font-size=\"14.00\">USES_PROCEED</text>\n",
       "</g>\n",
       "</g>\n",
       "</svg>\n"
      ],
      "text/plain": [
       "<graphviz.graphs.Digraph at 0x107cd5e90>"
      ]
     },
     "execution_count": 8,
     "metadata": {},
     "output_type": "execute_result"
    }
   ],
   "source": [
    "summarizer.create_initial_model()\n",
    "summarizer.current_model_viz"
   ]
  },
  {
   "cell_type": "code",
   "execution_count": 34,
   "metadata": {},
   "outputs": [
    {
     "name": "stdout",
     "output_type": "stream",
     "text": [
      "recieved a valid response\n",
      "recieved a valid response\n"
     ]
    },
    {
     "data": {
      "image/svg+xml": [
       "<?xml version=\"1.0\" encoding=\"UTF-8\" standalone=\"no\"?>\n",
       "<!DOCTYPE svg PUBLIC \"-//W3C//DTD SVG 1.1//EN\"\n",
       " \"http://www.w3.org/Graphics/SVG/1.1/DTD/svg11.dtd\">\n",
       "<!-- Generated by graphviz version 10.0.1 (20240210.2158)\n",
       " -->\n",
       "<!-- Pages: 1 -->\n",
       "<svg width=\"1974pt\" height=\"455pt\"\n",
       " viewBox=\"0.00 0.00 1974.24 455.07\" xmlns=\"http://www.w3.org/2000/svg\" xmlns:xlink=\"http://www.w3.org/1999/xlink\">\n",
       "<g id=\"graph0\" class=\"graph\" transform=\"scale(1 1) rotate(0) translate(4 451.07)\">\n",
       "<polygon fill=\"white\" stroke=\"none\" points=\"-4,4 -4,-451.07 1970.24,-451.07 1970.24,4 -4,4\"/>\n",
       "<!-- Loan -->\n",
       "<g id=\"node1\" class=\"node\">\n",
       "<title>Loan</title>\n",
       "<ellipse fill=\"none\" stroke=\"black\" cx=\"820.24\" cy=\"-371.76\" rx=\"108.36\" ry=\"75.31\"/>\n",
       "<text text-anchor=\"middle\" x=\"820.24\" y=\"-407.71\" font-family=\"Times,serif\" font-size=\"14.00\">Loan</text>\n",
       "<text text-anchor=\"middle\" x=\"820.24\" y=\"-375.21\" font-family=\"Times,serif\" font-size=\"14.00\">properties:</text>\n",
       "<text text-anchor=\"middle\" x=\"820.24\" y=\"-358.71\" font-family=\"Times,serif\" font-size=\"14.00\">LoanNumber</text>\n",
       "<text text-anchor=\"middle\" x=\"820.24\" y=\"-342.21\" font-family=\"Times,serif\" font-size=\"14.00\">CurrentApprovalAmount</text>\n",
       "<text text-anchor=\"middle\" x=\"820.24\" y=\"-325.71\" font-family=\"Times,serif\" font-size=\"14.00\">JobsReported</text>\n",
       "</g>\n",
       "<!-- Business -->\n",
       "<g id=\"node2\" class=\"node\">\n",
       "<title>Business</title>\n",
       "<ellipse fill=\"none\" stroke=\"black\" cx=\"71.24\" cy=\"-121.98\" rx=\"71.24\" ry=\"63.64\"/>\n",
       "<text text-anchor=\"middle\" x=\"71.24\" y=\"-149.68\" font-family=\"Times,serif\" font-size=\"14.00\">Business</text>\n",
       "<text text-anchor=\"middle\" x=\"71.24\" y=\"-117.18\" font-family=\"Times,serif\" font-size=\"14.00\">properties:</text>\n",
       "<text text-anchor=\"middle\" x=\"71.24\" y=\"-100.68\" font-family=\"Times,serif\" font-size=\"14.00\">BorrowerName</text>\n",
       "<text text-anchor=\"middle\" x=\"71.24\" y=\"-84.18\" font-family=\"Times,serif\" font-size=\"14.00\">BusinessType</text>\n",
       "</g>\n",
       "<!-- Loan&#45;&gt;Business -->\n",
       "<g id=\"edge1\" class=\"edge\">\n",
       "<title>Loan&#45;&gt;Business</title>\n",
       "<path fill=\"none\" stroke=\"black\" d=\"M711.54,-369.94C538.7,-366.46 211.76,-350.25 124.24,-278.45 99.8,-258.4 86.59,-226.57 79.47,-196.91\"/>\n",
       "<polygon fill=\"black\" stroke=\"black\" points=\"82.89,-196.19 77.34,-187.16 76.05,-197.68 82.89,-196.19\"/>\n",
       "<text text-anchor=\"middle\" x=\"193.24\" y=\"-265.15\" font-family=\"Times,serif\" font-size=\"14.00\">HAS_BUSINESS_TYPE</text>\n",
       "</g>\n",
       "<!-- State -->\n",
       "<g id=\"node3\" class=\"node\">\n",
       "<title>State</title>\n",
       "<ellipse fill=\"none\" stroke=\"black\" cx=\"234.24\" cy=\"-121.98\" rx=\"73.87\" ry=\"18\"/>\n",
       "<text text-anchor=\"middle\" x=\"234.24\" y=\"-116.93\" font-family=\"Times,serif\" font-size=\"14.00\">StateProjectState</text>\n",
       "</g>\n",
       "<!-- Loan&#45;&gt;State -->\n",
       "<g id=\"edge2\" class=\"edge\">\n",
       "<title>Loan&#45;&gt;State</title>\n",
       "<path fill=\"none\" stroke=\"black\" d=\"M711.91,-365.52C573.08,-356.61 342.86,-333.76 280.49,-278.45 244.12,-246.19 235.77,-186.73 234.19,-151.43\"/>\n",
       "<polygon fill=\"black\" stroke=\"black\" points=\"237.69,-151.45 233.92,-141.55 230.69,-151.64 237.69,-151.45\"/>\n",
       "<text text-anchor=\"middle\" x=\"346.12\" y=\"-265.15\" font-family=\"Times,serif\" font-size=\"14.00\">LOCATED_IN_STATE</text>\n",
       "</g>\n",
       "<!-- Lender -->\n",
       "<g id=\"node4\" class=\"node\">\n",
       "<title>Lender</title>\n",
       "<ellipse fill=\"none\" stroke=\"black\" cx=\"431.24\" cy=\"-121.98\" rx=\"105.6\" ry=\"18\"/>\n",
       "<text text-anchor=\"middle\" x=\"431.24\" y=\"-116.93\" font-family=\"Times,serif\" font-size=\"14.00\">LenderOriginatingLender</text>\n",
       "</g>\n",
       "<!-- Loan&#45;&gt;Lender -->\n",
       "<g id=\"edge3\" class=\"edge\">\n",
       "<title>Loan&#45;&gt;Lender</title>\n",
       "<path fill=\"none\" stroke=\"black\" d=\"M712.57,-360.71C607.28,-348.39 457.7,-323.39 421.99,-278.45 393.12,-242.13 407.11,-184.64 419.47,-150.68\"/>\n",
       "<polygon fill=\"black\" stroke=\"black\" points=\"422.67,-152.14 423,-141.55 416.13,-149.62 422.67,-152.14\"/>\n",
       "<text text-anchor=\"middle\" x=\"475.87\" y=\"-265.15\" font-family=\"Times,serif\" font-size=\"14.00\">ORIGINATED_BY</text>\n",
       "</g>\n",
       "<!-- LoanProceed -->\n",
       "<g id=\"node5\" class=\"node\">\n",
       "<title>LoanProceed</title>\n",
       "<ellipse fill=\"none\" stroke=\"black\" cx=\"1185.24\" cy=\"-121.98\" rx=\"164.05\" ry=\"121.98\"/>\n",
       "<text text-anchor=\"middle\" x=\"1185.24\" y=\"-190.93\" font-family=\"Times,serif\" font-size=\"14.00\">LoanProceed</text>\n",
       "<text text-anchor=\"middle\" x=\"1185.24\" y=\"-158.43\" font-family=\"Times,serif\" font-size=\"14.00\">properties:</text>\n",
       "<text text-anchor=\"middle\" x=\"1185.24\" y=\"-141.93\" font-family=\"Times,serif\" font-size=\"14.00\">UTILITIES_PROCEED</text>\n",
       "<text text-anchor=\"middle\" x=\"1185.24\" y=\"-125.43\" font-family=\"Times,serif\" font-size=\"14.00\">PAYROLL_PROCEED</text>\n",
       "<text text-anchor=\"middle\" x=\"1185.24\" y=\"-108.93\" font-family=\"Times,serif\" font-size=\"14.00\">MORTGAGE_INTEREST_PROCEED</text>\n",
       "<text text-anchor=\"middle\" x=\"1185.24\" y=\"-92.43\" font-family=\"Times,serif\" font-size=\"14.00\">RENT_PROCEED</text>\n",
       "<text text-anchor=\"middle\" x=\"1185.24\" y=\"-75.93\" font-family=\"Times,serif\" font-size=\"14.00\">REFINANCE_EIDL_PROCEED</text>\n",
       "<text text-anchor=\"middle\" x=\"1185.24\" y=\"-59.43\" font-family=\"Times,serif\" font-size=\"14.00\">HEALTH_CARE_PROCEED</text>\n",
       "<text text-anchor=\"middle\" x=\"1185.24\" y=\"-42.93\" font-family=\"Times,serif\" font-size=\"14.00\">DEBT_INTEREST_PROCEED</text>\n",
       "</g>\n",
       "<!-- Loan&#45;&gt;LoanProceed -->\n",
       "<g id=\"edge4\" class=\"edge\">\n",
       "<title>Loan&#45;&gt;LoanProceed</title>\n",
       "<path fill=\"none\" stroke=\"black\" d=\"M712.32,-364.01C612.61,-353.63 487.33,-327.48 540.24,-261.95 598.39,-189.93 840.2,-153.46 1010.59,-136.35\"/>\n",
       "<polygon fill=\"black\" stroke=\"black\" points=\"1010.85,-139.84 1020.46,-135.38 1010.16,-132.88 1010.85,-139.84\"/>\n",
       "<text text-anchor=\"middle\" x=\"622.74\" y=\"-265.15\" font-family=\"Times,serif\" font-size=\"14.00\">UTILITIES_PROCEED_FOR</text>\n",
       "</g>\n",
       "<!-- Loan&#45;&gt;LoanProceed -->\n",
       "<g id=\"edge5\" class=\"edge\">\n",
       "<title>Loan&#45;&gt;LoanProceed</title>\n",
       "<path fill=\"none\" stroke=\"black\" d=\"M741.78,-319.54C724.04,-301.7 714.15,-281.31 728.49,-261.95 763.48,-214.74 899.84,-177.19 1014.54,-153.08\"/>\n",
       "<polygon fill=\"black\" stroke=\"black\" points=\"1015.01,-156.56 1024.09,-151.1 1013.59,-149.71 1015.01,-156.56\"/>\n",
       "<text text-anchor=\"middle\" x=\"810.62\" y=\"-265.15\" font-family=\"Times,serif\" font-size=\"14.00\">PAYROLL_PROCEED_FOR</text>\n",
       "</g>\n",
       "<!-- Loan&#45;&gt;LoanProceed -->\n",
       "<g id=\"edge6\" class=\"edge\">\n",
       "<title>Loan&#45;&gt;LoanProceed</title>\n",
       "<path fill=\"none\" stroke=\"black\" d=\"M870.17,-304.69C883.47,-289.54 898.54,-274.29 914.24,-261.95 949.98,-233.87 992.27,-208.97 1032.69,-188.29\"/>\n",
       "<polygon fill=\"black\" stroke=\"black\" points=\"1034.22,-191.44 1041.57,-183.81 1031.07,-185.19 1034.22,-191.44\"/>\n",
       "<text text-anchor=\"middle\" x=\"1038.74\" y=\"-265.15\" font-family=\"Times,serif\" font-size=\"14.00\">MORTGAGE_INTEREST_PROCEED_FOR</text>\n",
       "</g>\n",
       "<!-- Loan&#45;&gt;LoanProceed -->\n",
       "<g id=\"edge7\" class=\"edge\">\n",
       "<title>Loan&#45;&gt;LoanProceed</title>\n",
       "<path fill=\"none\" stroke=\"black\" d=\"M926.09,-355.26C1014.81,-340.03 1131.88,-313.9 1163.24,-278.45 1169.47,-271.41 1174.42,-263.45 1178.32,-254.94\"/>\n",
       "<polygon fill=\"black\" stroke=\"black\" points=\"1181.55,-256.3 1182.01,-245.71 1175.05,-253.69 1181.55,-256.3\"/>\n",
       "<text text-anchor=\"middle\" x=\"1241.49\" y=\"-265.15\" font-family=\"Times,serif\" font-size=\"14.00\">RENT_PROCEED_FOR</text>\n",
       "</g>\n",
       "<!-- Loan&#45;&gt;LoanProceed -->\n",
       "<g id=\"edge8\" class=\"edge\">\n",
       "<title>Loan&#45;&gt;LoanProceed</title>\n",
       "<path fill=\"none\" stroke=\"black\" d=\"M928.56,-366.16C1058.88,-358.1 1266.2,-336.3 1314.24,-278.45 1331.4,-257.79 1326.75,-235.59 1311.81,-214.6\"/>\n",
       "<polygon fill=\"black\" stroke=\"black\" points=\"1314.68,-212.58 1305.75,-206.88 1309.17,-216.91 1314.68,-212.58\"/>\n",
       "<text text-anchor=\"middle\" x=\"1428.49\" y=\"-265.15\" font-family=\"Times,serif\" font-size=\"14.00\">REFINANCE_EIDL_PROCEED_FOR</text>\n",
       "</g>\n",
       "<!-- Loan&#45;&gt;LoanProceed -->\n",
       "<g id=\"edge9\" class=\"edge\">\n",
       "<title>Loan&#45;&gt;LoanProceed</title>\n",
       "<path fill=\"none\" stroke=\"black\" d=\"M928.61,-364.64C1119.76,-352.74 1500.51,-323.6 1540.24,-278.45 1605.65,-204.12 1478.56,-163.87 1358.66,-143.08\"/>\n",
       "<polygon fill=\"black\" stroke=\"black\" points=\"1359.4,-139.66 1348.96,-141.44 1358.23,-146.56 1359.4,-139.66\"/>\n",
       "<text text-anchor=\"middle\" x=\"1649.24\" y=\"-265.15\" font-family=\"Times,serif\" font-size=\"14.00\">HEALTH_CARE_PROCEED_FOR</text>\n",
       "</g>\n",
       "<!-- Loan&#45;&gt;LoanProceed -->\n",
       "<g id=\"edge10\" class=\"edge\">\n",
       "<title>Loan&#45;&gt;LoanProceed</title>\n",
       "<path fill=\"none\" stroke=\"black\" d=\"M928.88,-368.02C1162.87,-361.01 1697.83,-338.52 1752.24,-278.45 1809.99,-214.7 1545.89,-167.5 1358.72,-142.69\"/>\n",
       "<polygon fill=\"black\" stroke=\"black\" points=\"1359.23,-139.22 1348.85,-141.39 1358.31,-146.16 1359.23,-139.22\"/>\n",
       "<text text-anchor=\"middle\" x=\"1862.74\" y=\"-265.15\" font-family=\"Times,serif\" font-size=\"14.00\">DEBT_INTEREST_PROCEED_FOR</text>\n",
       "</g>\n",
       "</g>\n",
       "</svg>\n"
      ],
      "text/plain": [
       "<graphviz.graphs.Digraph at 0x168ad9350>"
      ]
     },
     "execution_count": 34,
     "metadata": {},
     "output_type": "execute_result"
    }
   ],
   "source": [
    "summarizer.iterate_model(iterations=1)\n",
    "summarizer.current_model_viz"
   ]
  },
  {
   "cell_type": "markdown",
   "metadata": {},
   "source": [
    "## Iterate on the Data Model"
   ]
  },
  {
   "cell_type": "markdown",
   "metadata": {},
   "source": [
    "If the user has any issues with the data model, they can be addressed here. They may enter corrections with the user_corrections variable, or run the iteration process with an empty string."
   ]
  },
  {
   "cell_type": "code",
   "execution_count": 42,
   "metadata": {},
   "outputs": [
    {
     "name": "stdout",
     "output_type": "stream",
     "text": [
      "recieved a valid response\n"
     ]
    },
    {
     "data": {
      "image/svg+xml": [
       "<?xml version=\"1.0\" encoding=\"UTF-8\" standalone=\"no\"?>\n",
       "<!DOCTYPE svg PUBLIC \"-//W3C//DTD SVG 1.1//EN\"\n",
       " \"http://www.w3.org/Graphics/SVG/1.1/DTD/svg11.dtd\">\n",
       "<!-- Generated by graphviz version 10.0.1 (20240210.2158)\n",
       " -->\n",
       "<!-- Pages: 1 -->\n",
       "<svg width=\"1974pt\" height=\"455pt\"\n",
       " viewBox=\"0.00 0.00 1974.24 455.07\" xmlns=\"http://www.w3.org/2000/svg\" xmlns:xlink=\"http://www.w3.org/1999/xlink\">\n",
       "<g id=\"graph0\" class=\"graph\" transform=\"scale(1 1) rotate(0) translate(4 451.07)\">\n",
       "<polygon fill=\"white\" stroke=\"none\" points=\"-4,4 -4,-451.07 1970.24,-451.07 1970.24,4 -4,4\"/>\n",
       "<!-- Loan -->\n",
       "<g id=\"node1\" class=\"node\">\n",
       "<title>Loan</title>\n",
       "<ellipse fill=\"none\" stroke=\"black\" cx=\"820.24\" cy=\"-371.76\" rx=\"108.36\" ry=\"75.31\"/>\n",
       "<text text-anchor=\"middle\" x=\"820.24\" y=\"-407.71\" font-family=\"Times,serif\" font-size=\"14.00\">Loan</text>\n",
       "<text text-anchor=\"middle\" x=\"820.24\" y=\"-375.21\" font-family=\"Times,serif\" font-size=\"14.00\">properties:</text>\n",
       "<text text-anchor=\"middle\" x=\"820.24\" y=\"-358.71\" font-family=\"Times,serif\" font-size=\"14.00\">LoanNumber *unique*</text>\n",
       "<text text-anchor=\"middle\" x=\"820.24\" y=\"-342.21\" font-family=\"Times,serif\" font-size=\"14.00\">CurrentApprovalAmount</text>\n",
       "<text text-anchor=\"middle\" x=\"820.24\" y=\"-325.71\" font-family=\"Times,serif\" font-size=\"14.00\">JobsReported</text>\n",
       "</g>\n",
       "<!-- Business -->\n",
       "<g id=\"node2\" class=\"node\">\n",
       "<title>Business</title>\n",
       "<ellipse fill=\"none\" stroke=\"black\" cx=\"71.24\" cy=\"-121.98\" rx=\"71.24\" ry=\"63.64\"/>\n",
       "<text text-anchor=\"middle\" x=\"71.24\" y=\"-149.68\" font-family=\"Times,serif\" font-size=\"14.00\">Business</text>\n",
       "<text text-anchor=\"middle\" x=\"71.24\" y=\"-117.18\" font-family=\"Times,serif\" font-size=\"14.00\">properties:</text>\n",
       "<text text-anchor=\"middle\" x=\"71.24\" y=\"-100.68\" font-family=\"Times,serif\" font-size=\"14.00\">BorrowerName</text>\n",
       "<text text-anchor=\"middle\" x=\"71.24\" y=\"-84.18\" font-family=\"Times,serif\" font-size=\"14.00\">BusinessType</text>\n",
       "</g>\n",
       "<!-- Loan&#45;&gt;Business -->\n",
       "<g id=\"edge1\" class=\"edge\">\n",
       "<title>Loan&#45;&gt;Business</title>\n",
       "<path fill=\"none\" stroke=\"black\" d=\"M711.54,-369.94C538.7,-366.46 211.76,-350.25 124.24,-278.45 99.8,-258.4 86.59,-226.57 79.47,-196.91\"/>\n",
       "<polygon fill=\"black\" stroke=\"black\" points=\"82.89,-196.19 77.34,-187.16 76.05,-197.68 82.89,-196.19\"/>\n",
       "<text text-anchor=\"middle\" x=\"193.24\" y=\"-265.15\" font-family=\"Times,serif\" font-size=\"14.00\">HAS_BUSINESS_TYPE</text>\n",
       "</g>\n",
       "<!-- State -->\n",
       "<g id=\"node3\" class=\"node\">\n",
       "<title>State</title>\n",
       "<ellipse fill=\"none\" stroke=\"black\" cx=\"234.24\" cy=\"-121.98\" rx=\"73.87\" ry=\"18\"/>\n",
       "<text text-anchor=\"middle\" x=\"234.24\" y=\"-116.93\" font-family=\"Times,serif\" font-size=\"14.00\">StateProjectState</text>\n",
       "</g>\n",
       "<!-- Loan&#45;&gt;State -->\n",
       "<g id=\"edge2\" class=\"edge\">\n",
       "<title>Loan&#45;&gt;State</title>\n",
       "<path fill=\"none\" stroke=\"black\" d=\"M711.91,-365.52C573.08,-356.61 342.86,-333.76 280.49,-278.45 244.12,-246.19 235.77,-186.73 234.19,-151.43\"/>\n",
       "<polygon fill=\"black\" stroke=\"black\" points=\"237.69,-151.45 233.92,-141.55 230.69,-151.64 237.69,-151.45\"/>\n",
       "<text text-anchor=\"middle\" x=\"346.12\" y=\"-265.15\" font-family=\"Times,serif\" font-size=\"14.00\">LOCATED_IN_STATE</text>\n",
       "</g>\n",
       "<!-- Lender -->\n",
       "<g id=\"node4\" class=\"node\">\n",
       "<title>Lender</title>\n",
       "<ellipse fill=\"none\" stroke=\"black\" cx=\"431.24\" cy=\"-121.98\" rx=\"105.6\" ry=\"18\"/>\n",
       "<text text-anchor=\"middle\" x=\"431.24\" y=\"-116.93\" font-family=\"Times,serif\" font-size=\"14.00\">LenderOriginatingLender</text>\n",
       "</g>\n",
       "<!-- Loan&#45;&gt;Lender -->\n",
       "<g id=\"edge3\" class=\"edge\">\n",
       "<title>Loan&#45;&gt;Lender</title>\n",
       "<path fill=\"none\" stroke=\"black\" d=\"M712.57,-360.71C607.28,-348.39 457.7,-323.39 421.99,-278.45 393.12,-242.13 407.11,-184.64 419.47,-150.68\"/>\n",
       "<polygon fill=\"black\" stroke=\"black\" points=\"422.67,-152.14 423,-141.55 416.13,-149.62 422.67,-152.14\"/>\n",
       "<text text-anchor=\"middle\" x=\"475.87\" y=\"-265.15\" font-family=\"Times,serif\" font-size=\"14.00\">ORIGINATED_BY</text>\n",
       "</g>\n",
       "<!-- LoanProceed -->\n",
       "<g id=\"node5\" class=\"node\">\n",
       "<title>LoanProceed</title>\n",
       "<ellipse fill=\"none\" stroke=\"black\" cx=\"1185.24\" cy=\"-121.98\" rx=\"164.05\" ry=\"121.98\"/>\n",
       "<text text-anchor=\"middle\" x=\"1185.24\" y=\"-190.93\" font-family=\"Times,serif\" font-size=\"14.00\">LoanProceed</text>\n",
       "<text text-anchor=\"middle\" x=\"1185.24\" y=\"-158.43\" font-family=\"Times,serif\" font-size=\"14.00\">properties:</text>\n",
       "<text text-anchor=\"middle\" x=\"1185.24\" y=\"-141.93\" font-family=\"Times,serif\" font-size=\"14.00\">UTILITIES_PROCEED *unique*</text>\n",
       "<text text-anchor=\"middle\" x=\"1185.24\" y=\"-125.43\" font-family=\"Times,serif\" font-size=\"14.00\">PAYROLL_PROCEED</text>\n",
       "<text text-anchor=\"middle\" x=\"1185.24\" y=\"-108.93\" font-family=\"Times,serif\" font-size=\"14.00\">MORTGAGE_INTEREST_PROCEED</text>\n",
       "<text text-anchor=\"middle\" x=\"1185.24\" y=\"-92.43\" font-family=\"Times,serif\" font-size=\"14.00\">RENT_PROCEED</text>\n",
       "<text text-anchor=\"middle\" x=\"1185.24\" y=\"-75.93\" font-family=\"Times,serif\" font-size=\"14.00\">REFINANCE_EIDL_PROCEED</text>\n",
       "<text text-anchor=\"middle\" x=\"1185.24\" y=\"-59.43\" font-family=\"Times,serif\" font-size=\"14.00\">HEALTH_CARE_PROCEED</text>\n",
       "<text text-anchor=\"middle\" x=\"1185.24\" y=\"-42.93\" font-family=\"Times,serif\" font-size=\"14.00\">DEBT_INTEREST_PROCEED</text>\n",
       "</g>\n",
       "<!-- Loan&#45;&gt;LoanProceed -->\n",
       "<g id=\"edge4\" class=\"edge\">\n",
       "<title>Loan&#45;&gt;LoanProceed</title>\n",
       "<path fill=\"none\" stroke=\"black\" d=\"M712.32,-364.01C612.61,-353.63 487.33,-327.48 540.24,-261.95 598.39,-189.93 840.2,-153.46 1010.59,-136.35\"/>\n",
       "<polygon fill=\"black\" stroke=\"black\" points=\"1010.85,-139.84 1020.46,-135.38 1010.16,-132.88 1010.85,-139.84\"/>\n",
       "<text text-anchor=\"middle\" x=\"622.74\" y=\"-265.15\" font-family=\"Times,serif\" font-size=\"14.00\">UTILITIES_PROCEED_FOR</text>\n",
       "</g>\n",
       "<!-- Loan&#45;&gt;LoanProceed -->\n",
       "<g id=\"edge5\" class=\"edge\">\n",
       "<title>Loan&#45;&gt;LoanProceed</title>\n",
       "<path fill=\"none\" stroke=\"black\" d=\"M741.78,-319.54C724.04,-301.7 714.15,-281.31 728.49,-261.95 763.48,-214.74 899.84,-177.19 1014.54,-153.08\"/>\n",
       "<polygon fill=\"black\" stroke=\"black\" points=\"1015.01,-156.56 1024.09,-151.1 1013.59,-149.71 1015.01,-156.56\"/>\n",
       "<text text-anchor=\"middle\" x=\"810.62\" y=\"-265.15\" font-family=\"Times,serif\" font-size=\"14.00\">PAYROLL_PROCEED_FOR</text>\n",
       "</g>\n",
       "<!-- Loan&#45;&gt;LoanProceed -->\n",
       "<g id=\"edge6\" class=\"edge\">\n",
       "<title>Loan&#45;&gt;LoanProceed</title>\n",
       "<path fill=\"none\" stroke=\"black\" d=\"M870.17,-304.69C883.47,-289.54 898.54,-274.29 914.24,-261.95 949.98,-233.87 992.27,-208.97 1032.69,-188.29\"/>\n",
       "<polygon fill=\"black\" stroke=\"black\" points=\"1034.22,-191.44 1041.57,-183.81 1031.07,-185.19 1034.22,-191.44\"/>\n",
       "<text text-anchor=\"middle\" x=\"1038.74\" y=\"-265.15\" font-family=\"Times,serif\" font-size=\"14.00\">MORTGAGE_INTEREST_PROCEED_FOR</text>\n",
       "</g>\n",
       "<!-- Loan&#45;&gt;LoanProceed -->\n",
       "<g id=\"edge7\" class=\"edge\">\n",
       "<title>Loan&#45;&gt;LoanProceed</title>\n",
       "<path fill=\"none\" stroke=\"black\" d=\"M926.09,-355.26C1014.81,-340.03 1131.88,-313.9 1163.24,-278.45 1169.47,-271.41 1174.42,-263.45 1178.32,-254.94\"/>\n",
       "<polygon fill=\"black\" stroke=\"black\" points=\"1181.55,-256.3 1182.01,-245.71 1175.05,-253.69 1181.55,-256.3\"/>\n",
       "<text text-anchor=\"middle\" x=\"1241.49\" y=\"-265.15\" font-family=\"Times,serif\" font-size=\"14.00\">RENT_PROCEED_FOR</text>\n",
       "</g>\n",
       "<!-- Loan&#45;&gt;LoanProceed -->\n",
       "<g id=\"edge8\" class=\"edge\">\n",
       "<title>Loan&#45;&gt;LoanProceed</title>\n",
       "<path fill=\"none\" stroke=\"black\" d=\"M928.56,-366.16C1058.88,-358.1 1266.2,-336.3 1314.24,-278.45 1331.4,-257.79 1326.75,-235.59 1311.81,-214.6\"/>\n",
       "<polygon fill=\"black\" stroke=\"black\" points=\"1314.68,-212.58 1305.75,-206.88 1309.17,-216.91 1314.68,-212.58\"/>\n",
       "<text text-anchor=\"middle\" x=\"1428.49\" y=\"-265.15\" font-family=\"Times,serif\" font-size=\"14.00\">REFINANCE_EIDL_PROCEED_FOR</text>\n",
       "</g>\n",
       "<!-- Loan&#45;&gt;LoanProceed -->\n",
       "<g id=\"edge9\" class=\"edge\">\n",
       "<title>Loan&#45;&gt;LoanProceed</title>\n",
       "<path fill=\"none\" stroke=\"black\" d=\"M928.61,-364.64C1119.76,-352.74 1500.51,-323.6 1540.24,-278.45 1605.65,-204.12 1478.56,-163.87 1358.66,-143.08\"/>\n",
       "<polygon fill=\"black\" stroke=\"black\" points=\"1359.4,-139.66 1348.96,-141.44 1358.23,-146.56 1359.4,-139.66\"/>\n",
       "<text text-anchor=\"middle\" x=\"1649.24\" y=\"-265.15\" font-family=\"Times,serif\" font-size=\"14.00\">HEALTH_CARE_PROCEED_FOR</text>\n",
       "</g>\n",
       "<!-- Loan&#45;&gt;LoanProceed -->\n",
       "<g id=\"edge10\" class=\"edge\">\n",
       "<title>Loan&#45;&gt;LoanProceed</title>\n",
       "<path fill=\"none\" stroke=\"black\" d=\"M928.88,-368.02C1162.87,-361.01 1697.83,-338.52 1752.24,-278.45 1809.99,-214.7 1545.89,-167.5 1358.72,-142.69\"/>\n",
       "<polygon fill=\"black\" stroke=\"black\" points=\"1359.23,-139.22 1348.85,-141.39 1358.31,-146.16 1359.23,-139.22\"/>\n",
       "<text text-anchor=\"middle\" x=\"1862.74\" y=\"-265.15\" font-family=\"Times,serif\" font-size=\"14.00\">DEBT_INTEREST_PROCEED_FOR</text>\n",
       "</g>\n",
       "</g>\n",
       "</svg>\n"
      ],
      "text/plain": [
       "<graphviz.graphs.Digraph at 0x168ec0510>"
      ]
     },
     "execution_count": 42,
     "metadata": {},
     "output_type": "execute_result"
    }
   ],
   "source": [
    "user_corrections = \"Add a unique constraint to a property on the LoanProceed node.\"\n",
    "\n",
    "summarizer.iterate_model(iterations=1, user_corrections=user_corrections)\n",
    "summarizer.current_model_viz"
   ]
  },
  {
   "cell_type": "markdown",
   "metadata": {},
   "source": [
    "## Neo4j Credentials"
   ]
  },
  {
   "cell_type": "code",
   "execution_count": 43,
   "metadata": {},
   "outputs": [],
   "source": [
    "username = \"neo4j\"\n",
    "password = \"password\"\n",
    "database = \"neo4j\"\n",
    "uri = \"bolt://localhost:7687\""
   ]
  },
  {
   "cell_type": "markdown",
   "metadata": {},
   "source": [
    "## Generate Ingestion Code"
   ]
  },
  {
   "cell_type": "code",
   "execution_count": 44,
   "metadata": {},
   "outputs": [
    {
     "name": "stdout",
     "output_type": "stream",
     "text": [
      "Number of model versions:  4\n"
     ]
    }
   ],
   "source": [
    "print(\"Number of model versions: \", len(summarizer.model_history))"
   ]
  },
  {
   "cell_type": "code",
   "execution_count": 45,
   "metadata": {},
   "outputs": [],
   "source": [
    "model_to_use = summarizer.current_model\n",
    "# if a model other than most recent is desired, then uncomment these lines and select the version number appropriately\n",
    "# you can select the initial unshown model with version 0, however it is not recommended.\n",
    "# model_version_to_use = 1\n",
    "# model_to_use = summarizer.model_history[model_version_to_use].dict\n",
    "gen = IngestionGenerator(data_model=summarizer.current_model,\n",
    "                         username=username,\n",
    "                         password=password,\n",
    "                         database=database,\n",
    "                         uri=uri,\n",
    "                         csv_name=file_name,\n",
    "                         csv_dir=csv_file_dir,\n",
    "                         file_output_dir=\"test_output/\")"
   ]
  },
  {
   "cell_type": "code",
   "execution_count": 46,
   "metadata": {},
   "outputs": [],
   "source": [
    "gen.generate_pyingest_yaml_file()\n",
    "gen.generate_load_csv_file()\n",
    "gen.generate_constraints_cypher_file()"
   ]
  },
  {
   "cell_type": "markdown",
   "metadata": {},
   "source": [
    "## Ingest Data into Neo4j Database"
   ]
  },
  {
   "cell_type": "code",
   "execution_count": 47,
   "metadata": {},
   "outputs": [
    {
     "name": "stdout",
     "output_type": "stream",
     "text": [
      "server_uri: bolt://localhost:7687\n",
      "admin_user: neo4j\n",
      "admin_pass: password\n",
      "basepath: file:./\n",
      "\n",
      "pre_ingest:\n",
      "  - CREATE CONSTRAINT loan_loannumber IF NOT EXISTS FOR (n:Loan) REQUIRE n.loannumber IS UNIQUE;\n",
      "  - CREATE CONSTRAINT loanproceed_utilities_proceed IF NOT EXISTS FOR (n:LoanProceed) REQUIRE n.utilities_proceed IS UNIQUE;\n",
      "files:\n",
      "- chunk_size: 100\n",
      "  cql: |-\n",
      "    WITH $dict.rows AS rows\n",
      "    UNWIND rows AS row\n",
      "    MERGE (n:Loan {loannumber: row.LoanNumber})\n",
      "    SET n.currentapprovalamount = row.CurrentApprovalAmount, n.jobsreported = row.JobsReported\n",
      "  url: $BASE/data/csv/ppp_loan_data_demo.csv\n",
      "- chunk_size: 100\n",
      "  cql: |-\n",
      "    WITH $dict.rows AS rows\n",
      "    UNWIND rows AS row\n",
      "    MERGE (n:Business {})\n",
      "    SET n.businesstype = row.BusinessType, n.borrowername = row.BorrowerName\n",
      "  url: $BASE/data/csv/ppp_loan_data_demo.csv\n",
      "- chunk_size: 100\n",
      "  cql: |-\n",
      "    WITH $dict.rows AS rows\n",
      "    UNWIND rows AS row\n",
      "    MERGE (n:State {})\n",
      "    SET n.projectstate = row.ProjectState\n",
      "  url: $BASE/data/csv/ppp_loan_data_demo.csv\n",
      "- chunk_size: 100\n",
      "  cql: |-\n",
      "    WITH $dict.rows AS rows\n",
      "    UNWIND rows AS row\n",
      "    MERGE (n:Lender {})\n",
      "    SET n.originatinglender = row.OriginatingLender\n",
      "  url: $BASE/data/csv/ppp_loan_data_demo.csv\n",
      "- chunk_size: 100\n",
      "  cql: |-\n",
      "    WITH $dict.rows AS rows\n",
      "    UNWIND rows AS row\n",
      "    MERGE (n:LoanProceed {utilities_proceed: row.UTILITIES_PROCEED})\n",
      "    SET n.health_care_proceed = row.HEALTH_CARE_PROCEED, n.debt_interest_proceed = row.DEBT_INTEREST_PROCEED, n.mortgage_interest_proceed = row.MORTGAGE_INTEREST_PROCEED, n.payroll_proceed = row.PAYROLL_PROCEED, n.refinance_eidl_proceed = row.REFINANCE_EIDL_PROCEED, n.rent_proceed = row.RENT_PROCEED\n",
      "  url: $BASE/data/csv/ppp_loan_data_demo.csv\n",
      "- chunk_size: 100\n",
      "  cql: |-\n",
      "    WITH $dict.rows AS rows\n",
      "    UNWIND rows as row\n",
      "    MATCH (source:Loan{loannumber: row.LoanNumber})\n",
      "    MATCH (target:Business{})\n",
      "    MERGE (source)-[:HAS_BUSINESS_TYPE]->(target)\n",
      "  url: $BASE/data/csv/ppp_loan_data_demo.csv\n",
      "- chunk_size: 100\n",
      "  cql: |-\n",
      "    WITH $dict.rows AS rows\n",
      "    UNWIND rows as row\n",
      "    MATCH (source:Loan{loannumber: row.LoanNumber})\n",
      "    MATCH (target:State{})\n",
      "    MERGE (source)-[:LOCATED_IN_STATE]->(target)\n",
      "  url: $BASE/data/csv/ppp_loan_data_demo.csv\n",
      "- chunk_size: 100\n",
      "  cql: |-\n",
      "    WITH $dict.rows AS rows\n",
      "    UNWIND rows as row\n",
      "    MATCH (source:Loan{loannumber: row.LoanNumber})\n",
      "    MATCH (target:Lender{})\n",
      "    MERGE (source)-[:ORIGINATED_BY]->(target)\n",
      "  url: $BASE/data/csv/ppp_loan_data_demo.csv\n",
      "- chunk_size: 100\n",
      "  cql: |-\n",
      "    WITH $dict.rows AS rows\n",
      "    UNWIND rows as row\n",
      "    MATCH (source:Loan{loannumber: row.LoanNumber})\n",
      "    MATCH (target:LoanProceed{utilities_proceed: row.UTILITIES_PROCEED})\n",
      "    MERGE (source)-[:DEBT_INTEREST_PROCEED_FOR]->(target)\n",
      "  url: $BASE/data/csv/ppp_loan_data_demo.csv\n",
      "\n"
     ]
    }
   ],
   "source": [
    "yaml_string = gen.generate_pyingest_yaml_string()\n",
    "print(yaml_string)"
   ]
  },
  {
   "cell_type": "code",
   "execution_count": 48,
   "metadata": {},
   "outputs": [
    {
     "name": "stdout",
     "output_type": "stream",
     "text": [
      "{} : Reading file 2024-03-01 14:34:03.555955\n",
      "File {} file:.//data/csv/ppp_loan_data_demo.csv\n",
      "file:.//data/csv/ppp_loan_data_demo.csv 0 2024-03-01 14:34:03.561584\n",
      "{} : Completed file 2024-03-01 14:34:03.621291\n",
      "{} : Reading file 2024-03-01 14:34:03.622003\n",
      "File {} file:.//data/csv/ppp_loan_data_demo.csv\n",
      "file:.//data/csv/ppp_loan_data_demo.csv 0 2024-03-01 14:34:03.624378\n",
      "{} : Completed file 2024-03-01 14:34:03.665993\n",
      "{} : Reading file 2024-03-01 14:34:03.666362\n",
      "File {} file:.//data/csv/ppp_loan_data_demo.csv\n",
      "file:.//data/csv/ppp_loan_data_demo.csv 0 2024-03-01 14:34:03.668132\n",
      "{} : Completed file 2024-03-01 14:34:03.709837\n",
      "{} : Reading file 2024-03-01 14:34:03.710138\n",
      "File {} file:.//data/csv/ppp_loan_data_demo.csv\n",
      "file:.//data/csv/ppp_loan_data_demo.csv 0 2024-03-01 14:34:03.712878\n",
      "{} : Completed file 2024-03-01 14:34:03.776136\n",
      "{} : Reading file 2024-03-01 14:34:03.776555\n",
      "File {} file:.//data/csv/ppp_loan_data_demo.csv\n",
      "file:.//data/csv/ppp_loan_data_demo.csv 0 2024-03-01 14:34:03.778478\n",
      "{} : Completed file 2024-03-01 14:34:03.826955\n",
      "{} : Reading file 2024-03-01 14:34:03.827211\n",
      "File {} file:.//data/csv/ppp_loan_data_demo.csv\n",
      "file:.//data/csv/ppp_loan_data_demo.csv 0 2024-03-01 14:34:03.829156\n",
      "{} : Completed file 2024-03-01 14:34:03.877306\n",
      "{} : Reading file 2024-03-01 14:34:03.877890\n",
      "File {} file:.//data/csv/ppp_loan_data_demo.csv\n",
      "file:.//data/csv/ppp_loan_data_demo.csv 0 2024-03-01 14:34:03.879712\n",
      "{} : Completed file 2024-03-01 14:34:03.929766\n",
      "{} : Reading file 2024-03-01 14:34:03.930074\n",
      "File {} file:.//data/csv/ppp_loan_data_demo.csv\n",
      "file:.//data/csv/ppp_loan_data_demo.csv 0 2024-03-01 14:34:03.931851\n",
      "{} : Completed file 2024-03-01 14:34:03.978722\n",
      "{} : Reading file 2024-03-01 14:34:03.979289\n",
      "File {} file:.//data/csv/ppp_loan_data_demo.csv\n",
      "file:.//data/csv/ppp_loan_data_demo.csv 0 2024-03-01 14:34:03.981185\n",
      "{} : Completed file 2024-03-01 14:34:04.062337\n"
     ]
    }
   ],
   "source": [
    "PyIngest(yaml_string=gen.generate_pyingest_yaml_string())"
   ]
  },
  {
   "cell_type": "code",
   "execution_count": null,
   "metadata": {},
   "outputs": [],
   "source": []
  }
 ],
 "metadata": {
  "kernelspec": {
   "display_name": "venv",
   "language": "python",
   "name": "python3"
  },
  "language_info": {
   "codemirror_mode": {
    "name": "ipython",
    "version": 3
   },
   "file_extension": ".py",
   "mimetype": "text/x-python",
   "name": "python",
   "nbconvert_exporter": "python",
   "pygments_lexer": "ipython3",
   "version": "3.11.3"
  }
 },
 "nbformat": 4,
 "nbformat_minor": 2
}
